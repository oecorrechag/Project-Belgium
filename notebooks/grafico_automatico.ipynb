{
 "cells": [
  {
   "cell_type": "code",
   "execution_count": 1,
   "id": "db8edf43",
   "metadata": {},
   "outputs": [],
   "source": [
    "import pandas as pd\n",
    "import numpy as np\n",
    "import matplotlib.pyplot as plt\n",
    "import seaborn as sns\n",
    "import plotly.express as px\n",
    "from sklearn.decomposition import PCA\n",
    "from sklearn.manifold import TSNE\n",
    "from sklearn.metrics.pairwise import euclidean_distances\n",
    "import textwrap\n",
    "from mypackage import dir"
   ]
  },
  {
   "cell_type": "code",
   "execution_count": 2,
   "id": "a48c7e37",
   "metadata": {},
   "outputs": [],
   "source": [
    "# Environment variables\n",
    "project = 'belgium'\n",
    "data = dir.make_dir(project) \n",
    "processed = data('processed')\n",
    "outputs = data('outputs')"
   ]
  },
  {
   "cell_type": "code",
   "execution_count": 3,
   "id": "32c73788",
   "metadata": {},
   "outputs": [],
   "source": [
    "def stratified_sample(df):\n",
    "    if df.name == 0:  # Si la categoría es 0, toma 30%\n",
    "        return df.sample(frac=0.3, random_state=42)\n",
    "    else:  # Para categorías 1 y 2, toma 10%\n",
    "        return df.sample(frac=0.1, random_state=42) \n",
    "\n",
    "def agregar_saltos_linea(texto, ancho=50):\n",
    "    \"\"\"\n",
    "    Versión usando el módulo textwrap de Python para un control más preciso.\n",
    "    \n",
    "    Parámetros:\n",
    "    - texto: str - Texto original\n",
    "    - ancho: int - Ancho máximo de caracteres por línea\n",
    "    \n",
    "    Retorna:\n",
    "    - str - Texto con saltos de línea HTML\n",
    "    \"\"\"\n",
    "    texto = ' '.join(str(texto).split())  # Normalizar espacios\n",
    "    return '<br>'.join(textwrap.wrap(texto, width=ancho))\n",
    "\n",
    "def filter_centroide(df):\n",
    "    df1 = df.copy()\n",
    "    df1 = df1[df1['label'] == 0]\n",
    "    df1 = df1[df1['distancia_al_centroide']<0.70]\n",
    "\n",
    "    df2 = df.copy()\n",
    "    df2 = df2[df2['label'] == 2]\n",
    "    df2 = df2[df2['distancia_al_centroide']<0.60]\n",
    "\n",
    "    df = pd.concat([df1,df2], ignore_index=True)\n",
    "\n",
    "    return df\n",
    "\n",
    "def plot_embeddings(df: pd.DataFrame, title: str, save: bool = False):\n",
    "    \"\"\"\n",
    "    Genera y muestra un grafico 100 palabras\n",
    "\n",
    "    Args:\n",
    "        df (pd.DataFrame): Dataframe limpio.\n",
    "        titulo (str): Título para el gráfico.\n",
    "        save: Whether to save the visualization to an HTML file\n",
    "    \"\"\"\n",
    "    fig = px.scatter(df, x=\"x\", y=\"y\", \n",
    "                     size='importancia',\n",
    "                     color=\"id_topic\", \n",
    "                     symbol='label',\n",
    "                     hover_data=['texto'],\n",
    "                     labels=labels,\n",
    "                     )\n",
    "\n",
    "    # Customize text positioning (consider clarity and visual balance)\n",
    "    fig.update_traces(textposition='top center')  # or 'top center' based on preference\n",
    "\n",
    "    fig.update_layout(template = \"plotly_dark\")\n",
    "\n",
    "    # Informative layout with custom title\n",
    "    fig.update_layout(\n",
    "        title_text=f'Cloud <br><sup> {title} </sup>',  # Title\n",
    "        title_x=0.5,  # Centered title\n",
    "        xaxis_title=' ',  # Add meaningful axis labels\n",
    "        yaxis_title=' ',\n",
    "        font=dict(family=\"Arial\", size=12),  # Consistent font style and size\n",
    "        # plot_bgcolor='white',  # Clean background color\n",
    "        xaxis_tickformat='.2f',  # Format x-axis ticks for readability (adjust as needed)\n",
    "        yaxis_tickformat='.2f',  # Format y-axis ticks for readability (adjust as needed)\n",
    "\n",
    "        xaxis=dict(\n",
    "            ticks='',\n",
    "            showticklabels=False\n",
    "        ),\n",
    "        yaxis=dict(\n",
    "            ticks='',\n",
    "            showticklabels=False\n",
    "        )\n",
    "\n",
    "    )\n",
    "\n",
    "    # Interactive elements (optional)\n",
    "    fig.update_layout(hovermode='closest')  # Hover over a point for details\n",
    "    fig.update_traces(opacity=0.8)  # Adjust marker opacity for better visibility\n",
    "\n",
    "    # Advanced styling (optional)\n",
    "    fig.update_xaxes(showline=False, linewidth=2, linecolor='gray')  # X-axis formatting\n",
    "    fig.update_yaxes(showline=False, linewidth=2, linecolor='gray')  # Y-axis formatting\n",
    "\n",
    "    if save:\n",
    "        fig.write_html(outputs / f'{title}.html'.format('cloud'))\n",
    "\n",
    "    \n",
    "    # Display the enhanced plot\n",
    "    fig.show()\n",
    "\n",
    "labels={'words':'Word',\n",
    "        'group':'Group',\n",
    "        'id_topic':'Topic',\n",
    "        'label': 'Label',\n",
    "        'importancia':'Importancia',\n",
    "        'texto':'Comentario original',\n",
    "        'x':'Dim 1',\n",
    "        'y':'Dim 2',\n",
    "    }"
   ]
  },
  {
   "cell_type": "code",
   "execution_count": 4,
   "id": "85fd8ee4",
   "metadata": {},
   "outputs": [
    {
     "data": {
      "text/html": [
       "<div>\n",
       "<style scoped>\n",
       "    .dataframe tbody tr th:only-of-type {\n",
       "        vertical-align: middle;\n",
       "    }\n",
       "\n",
       "    .dataframe tbody tr th {\n",
       "        vertical-align: top;\n",
       "    }\n",
       "\n",
       "    .dataframe thead th {\n",
       "        text-align: right;\n",
       "    }\n",
       "</style>\n",
       "<table border=\"1\" class=\"dataframe\">\n",
       "  <thead>\n",
       "    <tr style=\"text-align: right;\">\n",
       "      <th></th>\n",
       "      <th>id</th>\n",
       "      <th>texto</th>\n",
       "      <th>label</th>\n",
       "      <th>importancia_tfidf</th>\n",
       "    </tr>\n",
       "  </thead>\n",
       "  <tbody>\n",
       "    <tr>\n",
       "      <th>0</th>\n",
       "      <td>1</td>\n",
       "      <td>el mejor lugar para comer sushi. excelente lug...</td>\n",
       "      <td>2</td>\n",
       "      <td>3.833645</td>\n",
       "    </tr>\n",
       "    <tr>\n",
       "      <th>1</th>\n",
       "      <td>2</td>\n",
       "      <td>vista hermosa!. me sorprendió la maravillosa v...</td>\n",
       "      <td>2</td>\n",
       "      <td>4.635010</td>\n",
       "    </tr>\n",
       "    <tr>\n",
       "      <th>2</th>\n",
       "      <td>3</td>\n",
       "      <td>desastroso. buenas noches,  ante todo explicar...</td>\n",
       "      <td>0</td>\n",
       "      <td>7.507874</td>\n",
       "    </tr>\n",
       "    <tr>\n",
       "      <th>3</th>\n",
       "      <td>4</td>\n",
       "      <td>todo bien excepto que se niegan a dar vasos de...</td>\n",
       "      <td>1</td>\n",
       "      <td>3.936999</td>\n",
       "    </tr>\n",
       "    <tr>\n",
       "      <th>4</th>\n",
       "      <td>5</td>\n",
       "      <td>el mejor zoologico de méxico. el ambiente es m...</td>\n",
       "      <td>2</td>\n",
       "      <td>3.567779</td>\n",
       "    </tr>\n",
       "  </tbody>\n",
       "</table>\n",
       "</div>"
      ],
      "text/plain": [
       "   id                                              texto  label  \\\n",
       "0   1  el mejor lugar para comer sushi. excelente lug...      2   \n",
       "1   2  vista hermosa!. me sorprendió la maravillosa v...      2   \n",
       "2   3  desastroso. buenas noches,  ante todo explicar...      0   \n",
       "3   4  todo bien excepto que se niegan a dar vasos de...      1   \n",
       "4   5  el mejor zoologico de méxico. el ambiente es m...      2   \n",
       "\n",
       "   importancia_tfidf  \n",
       "0           3.833645  \n",
       "1           4.635010  \n",
       "2           7.507874  \n",
       "3           3.936999  \n",
       "4           3.567779  "
      ]
     },
     "execution_count": 4,
     "metadata": {},
     "output_type": "execute_result"
    }
   ],
   "source": [
    "## Cargar el dataset con los textos originales\n",
    "df = pd.read_parquet(processed/'df_hotel_transformados.parquet.gzip')\n",
    "df = df.loc[:,['id', 'texto', 'label', 'importancia_tfidf']]\n",
    "df.head()"
   ]
  },
  {
   "cell_type": "code",
   "execution_count": 5,
   "id": "15c19612",
   "metadata": {},
   "outputs": [
    {
     "name": "stderr",
     "output_type": "stream",
     "text": [
      "C:\\Users\\Administrator\\AppData\\Local\\Temp\\ipykernel_18548\\1168096066.py:6: FutureWarning: DataFrameGroupBy.apply operated on the grouping columns. This behavior is deprecated, and in a future version of pandas the grouping columns will be excluded from the operation. Either pass `include_groups=False` to exclude the groupings or explicitly select the grouping columns after groupby to silence this warning.\n",
      "  df_embeddings = df_embeddings.groupby('label', group_keys=False).apply(stratified_sample).reset_index(drop=True)\n"
     ]
    },
    {
     "data": {
      "text/html": [
       "<div>\n",
       "<style scoped>\n",
       "    .dataframe tbody tr th:only-of-type {\n",
       "        vertical-align: middle;\n",
       "    }\n",
       "\n",
       "    .dataframe tbody tr th {\n",
       "        vertical-align: top;\n",
       "    }\n",
       "\n",
       "    .dataframe thead th {\n",
       "        text-align: right;\n",
       "    }\n",
       "</style>\n",
       "<table border=\"1\" class=\"dataframe\">\n",
       "  <thead>\n",
       "    <tr style=\"text-align: right;\">\n",
       "      <th></th>\n",
       "      <th>id</th>\n",
       "      <th>embeddings</th>\n",
       "      <th>texto</th>\n",
       "      <th>label</th>\n",
       "      <th>importancia_tfidf</th>\n",
       "    </tr>\n",
       "  </thead>\n",
       "  <tbody>\n",
       "    <tr>\n",
       "      <th>0</th>\n",
       "      <td>73061</td>\n",
       "      <td>[0.003810586640611291, 0.02859099768102169, -0...</td>\n",
       "      <td>pura imagen! calidad deficiente.. es un restau...</td>\n",
       "      <td>0</td>\n",
       "      <td>4.576803</td>\n",
       "    </tr>\n",
       "    <tr>\n",
       "      <th>1</th>\n",
       "      <td>113854</td>\n",
       "      <td>[0.01165767665952444, -0.04814380034804344, -0...</td>\n",
       "      <td>pésimo servicio. no tienen disposición ni tact...</td>\n",
       "      <td>0</td>\n",
       "      <td>4.906597</td>\n",
       "    </tr>\n",
       "    <tr>\n",
       "      <th>2</th>\n",
       "      <td>131548</td>\n",
       "      <td>[0.0002807415439747274, 0.04143811762332916, -...</td>\n",
       "      <td>bajo restauration. siento decir que no pudimos...</td>\n",
       "      <td>0</td>\n",
       "      <td>3.189304</td>\n",
       "    </tr>\n",
       "    <tr>\n",
       "      <th>3</th>\n",
       "      <td>73584</td>\n",
       "      <td>[-0.0033760960213840008, -0.055160701274871826...</td>\n",
       "      <td>no lo recomiendo. no recomiendo este hotel, el...</td>\n",
       "      <td>0</td>\n",
       "      <td>3.503693</td>\n",
       "    </tr>\n",
       "    <tr>\n",
       "      <th>4</th>\n",
       "      <td>5054</td>\n",
       "      <td>[-0.0008811472216621041, -0.05881946161389351,...</td>\n",
       "      <td>pesimo servicio. muy lento el servicio y los m...</td>\n",
       "      <td>0</td>\n",
       "      <td>4.210060</td>\n",
       "    </tr>\n",
       "  </tbody>\n",
       "</table>\n",
       "</div>"
      ],
      "text/plain": [
       "       id                                         embeddings  \\\n",
       "0   73061  [0.003810586640611291, 0.02859099768102169, -0...   \n",
       "1  113854  [0.01165767665952444, -0.04814380034804344, -0...   \n",
       "2  131548  [0.0002807415439747274, 0.04143811762332916, -...   \n",
       "3   73584  [-0.0033760960213840008, -0.055160701274871826...   \n",
       "4    5054  [-0.0008811472216621041, -0.05881946161389351,...   \n",
       "\n",
       "                                               texto  label  importancia_tfidf  \n",
       "0  pura imagen! calidad deficiente.. es un restau...      0           4.576803  \n",
       "1  pésimo servicio. no tienen disposición ni tact...      0           4.906597  \n",
       "2  bajo restauration. siento decir que no pudimos...      0           3.189304  \n",
       "3  no lo recomiendo. no recomiendo este hotel, el...      0           3.503693  \n",
       "4  pesimo servicio. muy lento el servicio y los m...      0           4.210060  "
      ]
     },
     "execution_count": 5,
     "metadata": {},
     "output_type": "execute_result"
    }
   ],
   "source": [
    "## Cargar los embeddings y hacer un muestreo\n",
    "df_embeddings = pd.read_parquet(processed/'df_embeddings.parquet.gzip')\n",
    "df_embeddings = pd.merge(df_embeddings, df, how='left', on=['id']) \n",
    "df_embeddings = df_embeddings.dropna(subset=['importancia_tfidf'])\n",
    "# df_embeddings = df_embeddings.groupby('label').apply(lambda x: x.sample(frac=0.15)).reset_index(drop=True)\n",
    "df_embeddings = df_embeddings.groupby('label', group_keys=False).apply(stratified_sample).reset_index(drop=True)\n",
    "df_embeddings.head()"
   ]
  },
  {
   "cell_type": "code",
   "execution_count": 6,
   "id": "a8937654",
   "metadata": {},
   "outputs": [
    {
     "data": {
      "text/html": [
       "<div>\n",
       "<style scoped>\n",
       "    .dataframe tbody tr th:only-of-type {\n",
       "        vertical-align: middle;\n",
       "    }\n",
       "\n",
       "    .dataframe tbody tr th {\n",
       "        vertical-align: top;\n",
       "    }\n",
       "\n",
       "    .dataframe thead th {\n",
       "        text-align: right;\n",
       "    }\n",
       "</style>\n",
       "<table border=\"1\" class=\"dataframe\">\n",
       "  <thead>\n",
       "    <tr style=\"text-align: right;\">\n",
       "      <th></th>\n",
       "      <th>id</th>\n",
       "      <th>embeddings</th>\n",
       "      <th>texto</th>\n",
       "      <th>label</th>\n",
       "      <th>importancia_tfidf</th>\n",
       "      <th>topico_1</th>\n",
       "      <th>topico_2</th>\n",
       "      <th>topico_3</th>\n",
       "    </tr>\n",
       "  </thead>\n",
       "  <tbody>\n",
       "    <tr>\n",
       "      <th>0</th>\n",
       "      <td>73061</td>\n",
       "      <td>[0.003810586640611291, 0.02859099768102169, -0...</td>\n",
       "      <td>pura imagen! calidad deficiente.. es un restau...</td>\n",
       "      <td>0</td>\n",
       "      <td>4.576803</td>\n",
       "      <td>2.0</td>\n",
       "      <td>4.0</td>\n",
       "      <td>0.0</td>\n",
       "    </tr>\n",
       "    <tr>\n",
       "      <th>1</th>\n",
       "      <td>113854</td>\n",
       "      <td>[0.01165767665952444, -0.04814380034804344, -0...</td>\n",
       "      <td>pésimo servicio. no tienen disposición ni tact...</td>\n",
       "      <td>0</td>\n",
       "      <td>4.906597</td>\n",
       "      <td>2.0</td>\n",
       "      <td>4.0</td>\n",
       "      <td>6.0</td>\n",
       "    </tr>\n",
       "    <tr>\n",
       "      <th>2</th>\n",
       "      <td>131548</td>\n",
       "      <td>[0.0002807415439747274, 0.04143811762332916, -...</td>\n",
       "      <td>bajo restauration. siento decir que no pudimos...</td>\n",
       "      <td>0</td>\n",
       "      <td>3.189304</td>\n",
       "      <td>5.0</td>\n",
       "      <td>4.0</td>\n",
       "      <td>0.0</td>\n",
       "    </tr>\n",
       "    <tr>\n",
       "      <th>3</th>\n",
       "      <td>73584</td>\n",
       "      <td>[-0.0033760960213840008, -0.055160701274871826...</td>\n",
       "      <td>no lo recomiendo. no recomiendo este hotel, el...</td>\n",
       "      <td>0</td>\n",
       "      <td>3.503693</td>\n",
       "      <td>5.0</td>\n",
       "      <td>6.0</td>\n",
       "      <td>7.0</td>\n",
       "    </tr>\n",
       "    <tr>\n",
       "      <th>4</th>\n",
       "      <td>5054</td>\n",
       "      <td>[-0.0008811472216621041, -0.05881946161389351,...</td>\n",
       "      <td>pesimo servicio. muy lento el servicio y los m...</td>\n",
       "      <td>0</td>\n",
       "      <td>4.210060</td>\n",
       "      <td>6.0</td>\n",
       "      <td>2.0</td>\n",
       "      <td>7.0</td>\n",
       "    </tr>\n",
       "  </tbody>\n",
       "</table>\n",
       "</div>"
      ],
      "text/plain": [
       "       id                                         embeddings  \\\n",
       "0   73061  [0.003810586640611291, 0.02859099768102169, -0...   \n",
       "1  113854  [0.01165767665952444, -0.04814380034804344, -0...   \n",
       "2  131548  [0.0002807415439747274, 0.04143811762332916, -...   \n",
       "3   73584  [-0.0033760960213840008, -0.055160701274871826...   \n",
       "4    5054  [-0.0008811472216621041, -0.05881946161389351,...   \n",
       "\n",
       "                                               texto  label  \\\n",
       "0  pura imagen! calidad deficiente.. es un restau...      0   \n",
       "1  pésimo servicio. no tienen disposición ni tact...      0   \n",
       "2  bajo restauration. siento decir que no pudimos...      0   \n",
       "3  no lo recomiendo. no recomiendo este hotel, el...      0   \n",
       "4  pesimo servicio. muy lento el servicio y los m...      0   \n",
       "\n",
       "   importancia_tfidf  topico_1  topico_2  topico_3  \n",
       "0           4.576803       2.0       4.0       0.0  \n",
       "1           4.906597       2.0       4.0       6.0  \n",
       "2           3.189304       5.0       4.0       0.0  \n",
       "3           3.503693       5.0       6.0       7.0  \n",
       "4           4.210060       6.0       2.0       7.0  "
      ]
     },
     "execution_count": 6,
     "metadata": {},
     "output_type": "execute_result"
    }
   ],
   "source": [
    "df_topicos_automaticos = pd.read_parquet(processed/'df_topicos_automaticos.parquet.gzip')\n",
    "df_topicos_automaticos = df_topicos_automaticos.loc[:,['id', 'topico_1', 'topico_2', 'topico_3']]\n",
    "df_topicos_automaticos = pd.merge(df_embeddings, df_topicos_automaticos, how='left', on=['id']) \n",
    "df_topicos_automaticos = df_topicos_automaticos.dropna(subset=['topico_1'])\n",
    "df_topicos_automaticos.head()"
   ]
  },
  {
   "cell_type": "code",
   "execution_count": 7,
   "id": "ad2da1ed",
   "metadata": {},
   "outputs": [
    {
     "data": {
      "text/plain": [
       "(label\n",
       " 2    2231\n",
       " 1     276\n",
       " 0     156\n",
       " Name: count, dtype: int64,\n",
       " label\n",
       " 2    2231\n",
       " 0     156\n",
       " Name: count, dtype: int64)"
      ]
     },
     "execution_count": 7,
     "metadata": {},
     "output_type": "execute_result"
    }
   ],
   "source": [
    "df_embeddings['label'].value_counts(), df_topicos_automaticos['label'].value_counts()"
   ]
  },
  {
   "cell_type": "code",
   "execution_count": 8,
   "id": "04c6f125",
   "metadata": {},
   "outputs": [
    {
     "data": {
      "text/plain": [
       "((2663, 5), (2387, 8))"
      ]
     },
     "execution_count": 8,
     "metadata": {},
     "output_type": "execute_result"
    }
   ],
   "source": [
    "df_embeddings.shape, df_topicos_automaticos.shape"
   ]
  },
  {
   "cell_type": "code",
   "execution_count": 9,
   "id": "98a0a02e",
   "metadata": {},
   "outputs": [
    {
     "data": {
      "text/html": [
       "<div>\n",
       "<style scoped>\n",
       "    .dataframe tbody tr th:only-of-type {\n",
       "        vertical-align: middle;\n",
       "    }\n",
       "\n",
       "    .dataframe tbody tr th {\n",
       "        vertical-align: top;\n",
       "    }\n",
       "\n",
       "    .dataframe thead th {\n",
       "        text-align: right;\n",
       "    }\n",
       "</style>\n",
       "<table border=\"1\" class=\"dataframe\">\n",
       "  <thead>\n",
       "    <tr style=\"text-align: right;\">\n",
       "      <th></th>\n",
       "      <th>id</th>\n",
       "      <th>embeddings</th>\n",
       "      <th>texto</th>\n",
       "      <th>label</th>\n",
       "      <th>importancia_tfidf</th>\n",
       "      <th>topico_1</th>\n",
       "      <th>topico_2</th>\n",
       "      <th>topico_3</th>\n",
       "      <th>distancia_al_centroide</th>\n",
       "    </tr>\n",
       "  </thead>\n",
       "  <tbody>\n",
       "    <tr>\n",
       "      <th>0</th>\n",
       "      <td>73061</td>\n",
       "      <td>[0.003810586640611291, 0.02859099768102169, -0...</td>\n",
       "      <td>pura imagen! calidad deficiente.. es un restau...</td>\n",
       "      <td>0</td>\n",
       "      <td>4.576803</td>\n",
       "      <td>2.0</td>\n",
       "      <td>4.0</td>\n",
       "      <td>0.0</td>\n",
       "      <td>0.761277</td>\n",
       "    </tr>\n",
       "    <tr>\n",
       "      <th>1</th>\n",
       "      <td>113854</td>\n",
       "      <td>[0.01165767665952444, -0.04814380034804344, -0...</td>\n",
       "      <td>pésimo servicio. no tienen disposición ni tact...</td>\n",
       "      <td>0</td>\n",
       "      <td>4.906597</td>\n",
       "      <td>2.0</td>\n",
       "      <td>4.0</td>\n",
       "      <td>6.0</td>\n",
       "      <td>0.675302</td>\n",
       "    </tr>\n",
       "    <tr>\n",
       "      <th>2</th>\n",
       "      <td>131548</td>\n",
       "      <td>[0.0002807415439747274, 0.04143811762332916, -...</td>\n",
       "      <td>bajo restauration. siento decir que no pudimos...</td>\n",
       "      <td>0</td>\n",
       "      <td>3.189304</td>\n",
       "      <td>5.0</td>\n",
       "      <td>4.0</td>\n",
       "      <td>0.0</td>\n",
       "      <td>0.717394</td>\n",
       "    </tr>\n",
       "    <tr>\n",
       "      <th>3</th>\n",
       "      <td>73584</td>\n",
       "      <td>[-0.0033760960213840008, -0.055160701274871826...</td>\n",
       "      <td>no lo recomiendo. no recomiendo este hotel, el...</td>\n",
       "      <td>0</td>\n",
       "      <td>3.503693</td>\n",
       "      <td>5.0</td>\n",
       "      <td>6.0</td>\n",
       "      <td>7.0</td>\n",
       "      <td>0.638598</td>\n",
       "    </tr>\n",
       "    <tr>\n",
       "      <th>4</th>\n",
       "      <td>5054</td>\n",
       "      <td>[-0.0008811472216621041, -0.05881946161389351,...</td>\n",
       "      <td>pesimo servicio. muy lento el servicio y los m...</td>\n",
       "      <td>0</td>\n",
       "      <td>4.210060</td>\n",
       "      <td>6.0</td>\n",
       "      <td>2.0</td>\n",
       "      <td>7.0</td>\n",
       "      <td>0.758233</td>\n",
       "    </tr>\n",
       "  </tbody>\n",
       "</table>\n",
       "</div>"
      ],
      "text/plain": [
       "       id                                         embeddings  \\\n",
       "0   73061  [0.003810586640611291, 0.02859099768102169, -0...   \n",
       "1  113854  [0.01165767665952444, -0.04814380034804344, -0...   \n",
       "2  131548  [0.0002807415439747274, 0.04143811762332916, -...   \n",
       "3   73584  [-0.0033760960213840008, -0.055160701274871826...   \n",
       "4    5054  [-0.0008811472216621041, -0.05881946161389351,...   \n",
       "\n",
       "                                               texto  label  \\\n",
       "0  pura imagen! calidad deficiente.. es un restau...      0   \n",
       "1  pésimo servicio. no tienen disposición ni tact...      0   \n",
       "2  bajo restauration. siento decir que no pudimos...      0   \n",
       "3  no lo recomiendo. no recomiendo este hotel, el...      0   \n",
       "4  pesimo servicio. muy lento el servicio y los m...      0   \n",
       "\n",
       "   importancia_tfidf  topico_1  topico_2  topico_3  distancia_al_centroide  \n",
       "0           4.576803       2.0       4.0       0.0                0.761277  \n",
       "1           4.906597       2.0       4.0       6.0                0.675302  \n",
       "2           3.189304       5.0       4.0       0.0                0.717394  \n",
       "3           3.503693       5.0       6.0       7.0                0.638598  \n",
       "4           4.210060       6.0       2.0       7.0                0.758233  "
      ]
     },
     "execution_count": 9,
     "metadata": {},
     "output_type": "execute_result"
    }
   ],
   "source": [
    "embeddings = np.vstack(df_topicos_automaticos[\"embeddings\"].values)  # Convertir en array\n",
    "centroides = df_topicos_automaticos.groupby(\"topico_1\")[\"embeddings\"].apply(\n",
    "    lambda x: np.mean(np.vstack(x.values), axis=0)\n",
    ").to_dict()                                                          # Sacar el promedio de los embeddings por cada topico\n",
    "\n",
    "# Sacar la distancia de todos los puntos al centroide\n",
    "distancias = []\n",
    "for idx, row in df_topicos_automaticos.iterrows():\n",
    "    emb = row[\"embeddings\"]\n",
    "    topico = row[\"topico_1\"]\n",
    "    centroide = centroides[topico]\n",
    "    distancia = euclidean_distances([emb], [centroide])[0][0]\n",
    "    distancias.append(distancia)\n",
    "\n",
    "# Agregar las distancias al dataframe\n",
    "df_topicos_automaticos[\"distancia_al_centroide\"] = distancias\n",
    "df_topicos_automaticos.head()"
   ]
  },
  {
   "cell_type": "markdown",
   "id": "357c157e",
   "metadata": {},
   "source": [
    "## Graficar los centroides"
   ]
  },
  {
   "cell_type": "code",
   "execution_count": 10,
   "id": "ce229046",
   "metadata": {},
   "outputs": [
    {
     "data": {
      "text/html": [
       "<div>\n",
       "<style scoped>\n",
       "    .dataframe tbody tr th:only-of-type {\n",
       "        vertical-align: middle;\n",
       "    }\n",
       "\n",
       "    .dataframe tbody tr th {\n",
       "        vertical-align: top;\n",
       "    }\n",
       "\n",
       "    .dataframe thead th {\n",
       "        text-align: right;\n",
       "    }\n",
       "</style>\n",
       "<table border=\"1\" class=\"dataframe\">\n",
       "  <thead>\n",
       "    <tr style=\"text-align: right;\">\n",
       "      <th></th>\n",
       "      <th>x</th>\n",
       "      <th>y</th>\n",
       "      <th>topico</th>\n",
       "    </tr>\n",
       "  </thead>\n",
       "  <tbody>\n",
       "    <tr>\n",
       "      <th>0</th>\n",
       "      <td>105.282700</td>\n",
       "      <td>47.614620</td>\n",
       "      <td>0</td>\n",
       "    </tr>\n",
       "    <tr>\n",
       "      <th>1</th>\n",
       "      <td>30.101830</td>\n",
       "      <td>-23.367968</td>\n",
       "      <td>1</td>\n",
       "    </tr>\n",
       "    <tr>\n",
       "      <th>2</th>\n",
       "      <td>-5.807813</td>\n",
       "      <td>-83.895340</td>\n",
       "      <td>2</td>\n",
       "    </tr>\n",
       "    <tr>\n",
       "      <th>3</th>\n",
       "      <td>114.684418</td>\n",
       "      <td>-2.096126</td>\n",
       "      <td>3</td>\n",
       "    </tr>\n",
       "    <tr>\n",
       "      <th>4</th>\n",
       "      <td>66.577835</td>\n",
       "      <td>26.904018</td>\n",
       "      <td>4</td>\n",
       "    </tr>\n",
       "  </tbody>\n",
       "</table>\n",
       "</div>"
      ],
      "text/plain": [
       "            x          y topico\n",
       "0  105.282700  47.614620      0\n",
       "1   30.101830 -23.367968      1\n",
       "2   -5.807813 -83.895340      2\n",
       "3  114.684418  -2.096126      3\n",
       "4   66.577835  26.904018      4"
      ]
     },
     "execution_count": 10,
     "metadata": {},
     "output_type": "execute_result"
    }
   ],
   "source": [
    "# Tomar los centroides (promedio de los embeddings)\n",
    "centroides_array = np.array(list(centroides.values()))\n",
    "\n",
    "# Convertir en TSNE\n",
    "tsne = TSNE(n_components=2, perplexity=5, max_iter=1000, random_state=42)\n",
    "fm_c = pd.DataFrame(tsne.fit_transform(centroides_array), columns=['x','y'])\n",
    "fm_c['topico'] = [0,1,2,3,4,5,6,7]\n",
    "fm_c['topico'] = fm_c['topico'].astype(str)\n",
    "fm_c.head()"
   ]
  },
  {
   "cell_type": "code",
   "execution_count": 11,
   "id": "2bc18881",
   "metadata": {},
   "outputs": [
    {
     "name": "stderr",
     "output_type": "stream",
     "text": [
      "C:\\Users\\Administrator\\AppData\\Roaming\\Python\\Python312\\site-packages\\plotly\\express\\_core.py:2065: FutureWarning: When grouping with a length-1 list-like, you will need to pass a length-1 tuple to get_group in a future version of pandas. Pass `(name,)` instead of `name` to silence this warning.\n",
      "  sf: grouped.get_group(s if len(s) > 1 else s[0])\n"
     ]
    },
    {
     "data": {
      "application/vnd.plotly.v1+json": {
       "config": {
        "plotlyServerURL": "https://plot.ly"
       },
       "data": [
        {
         "hovertemplate": "topico=%{text}<br>x=%{x}<br>y=%{y}<extra></extra>",
         "legendgroup": "0",
         "marker": {
          "color": "#636efa",
          "symbol": "circle"
         },
         "mode": "markers+text",
         "name": "0",
         "opacity": 0.8,
         "orientation": "v",
         "showlegend": true,
         "text": [
          "0"
         ],
         "textposition": "top center",
         "type": "scatter",
         "x": [
          105.2827
         ],
         "xaxis": "x",
         "y": [
          47.61462
         ],
         "yaxis": "y"
        },
        {
         "hovertemplate": "topico=%{text}<br>x=%{x}<br>y=%{y}<extra></extra>",
         "legendgroup": "1",
         "marker": {
          "color": "#EF553B",
          "symbol": "circle"
         },
         "mode": "markers+text",
         "name": "1",
         "opacity": 0.8,
         "orientation": "v",
         "showlegend": true,
         "text": [
          "1"
         ],
         "textposition": "top center",
         "type": "scatter",
         "x": [
          30.10183
         ],
         "xaxis": "x",
         "y": [
          -23.367968
         ],
         "yaxis": "y"
        },
        {
         "hovertemplate": "topico=%{text}<br>x=%{x}<br>y=%{y}<extra></extra>",
         "legendgroup": "2",
         "marker": {
          "color": "#00cc96",
          "symbol": "circle"
         },
         "mode": "markers+text",
         "name": "2",
         "opacity": 0.8,
         "orientation": "v",
         "showlegend": true,
         "text": [
          "2"
         ],
         "textposition": "top center",
         "type": "scatter",
         "x": [
          -5.807813
         ],
         "xaxis": "x",
         "y": [
          -83.89534
         ],
         "yaxis": "y"
        },
        {
         "hovertemplate": "topico=%{text}<br>x=%{x}<br>y=%{y}<extra></extra>",
         "legendgroup": "3",
         "marker": {
          "color": "#ab63fa",
          "symbol": "circle"
         },
         "mode": "markers+text",
         "name": "3",
         "opacity": 0.8,
         "orientation": "v",
         "showlegend": true,
         "text": [
          "3"
         ],
         "textposition": "top center",
         "type": "scatter",
         "x": [
          114.68442
         ],
         "xaxis": "x",
         "y": [
          -2.0961258
         ],
         "yaxis": "y"
        },
        {
         "hovertemplate": "topico=%{text}<br>x=%{x}<br>y=%{y}<extra></extra>",
         "legendgroup": "4",
         "marker": {
          "color": "#FFA15A",
          "symbol": "circle"
         },
         "mode": "markers+text",
         "name": "4",
         "opacity": 0.8,
         "orientation": "v",
         "showlegend": true,
         "text": [
          "4"
         ],
         "textposition": "top center",
         "type": "scatter",
         "x": [
          66.577835
         ],
         "xaxis": "x",
         "y": [
          26.904018
         ],
         "yaxis": "y"
        },
        {
         "hovertemplate": "topico=%{text}<br>x=%{x}<br>y=%{y}<extra></extra>",
         "legendgroup": "5",
         "marker": {
          "color": "#19d3f3",
          "symbol": "circle"
         },
         "mode": "markers+text",
         "name": "5",
         "opacity": 0.8,
         "orientation": "v",
         "showlegend": true,
         "text": [
          "5"
         ],
         "textposition": "top center",
         "type": "scatter",
         "x": [
          -53.04103
         ],
         "xaxis": "x",
         "y": [
          -59.56135
         ],
         "yaxis": "y"
        },
        {
         "hovertemplate": "topico=%{text}<br>x=%{x}<br>y=%{y}<extra></extra>",
         "legendgroup": "6",
         "marker": {
          "color": "#FF6692",
          "symbol": "circle"
         },
         "mode": "markers+text",
         "name": "6",
         "opacity": 0.8,
         "orientation": "v",
         "showlegend": true,
         "text": [
          "6"
         ],
         "textposition": "top center",
         "type": "scatter",
         "x": [
          -54.42475
         ],
         "xaxis": "x",
         "y": [
          -0.9752687
         ],
         "yaxis": "y"
        },
        {
         "hovertemplate": "topico=%{text}<br>x=%{x}<br>y=%{y}<extra></extra>",
         "legendgroup": "7",
         "marker": {
          "color": "#B6E880",
          "symbol": "circle"
         },
         "mode": "markers+text",
         "name": "7",
         "opacity": 0.8,
         "orientation": "v",
         "showlegend": true,
         "text": [
          "7"
         ],
         "textposition": "top center",
         "type": "scatter",
         "x": [
          -13.082265
         ],
         "xaxis": "x",
         "y": [
          -31.910982
         ],
         "yaxis": "y"
        }
       ],
       "layout": {
        "font": {
         "family": "Arial",
         "size": 12
        },
        "hovermode": "closest",
        "legend": {
         "title": {
          "text": "topico"
         },
         "tracegroupgap": 0
        },
        "margin": {
         "t": 60
        },
        "template": {
         "data": {
          "bar": [
           {
            "error_x": {
             "color": "#f2f5fa"
            },
            "error_y": {
             "color": "#f2f5fa"
            },
            "marker": {
             "line": {
              "color": "rgb(17,17,17)",
              "width": 0.5
             },
             "pattern": {
              "fillmode": "overlay",
              "size": 10,
              "solidity": 0.2
             }
            },
            "type": "bar"
           }
          ],
          "barpolar": [
           {
            "marker": {
             "line": {
              "color": "rgb(17,17,17)",
              "width": 0.5
             },
             "pattern": {
              "fillmode": "overlay",
              "size": 10,
              "solidity": 0.2
             }
            },
            "type": "barpolar"
           }
          ],
          "carpet": [
           {
            "aaxis": {
             "endlinecolor": "#A2B1C6",
             "gridcolor": "#506784",
             "linecolor": "#506784",
             "minorgridcolor": "#506784",
             "startlinecolor": "#A2B1C6"
            },
            "baxis": {
             "endlinecolor": "#A2B1C6",
             "gridcolor": "#506784",
             "linecolor": "#506784",
             "minorgridcolor": "#506784",
             "startlinecolor": "#A2B1C6"
            },
            "type": "carpet"
           }
          ],
          "choropleth": [
           {
            "colorbar": {
             "outlinewidth": 0,
             "ticks": ""
            },
            "type": "choropleth"
           }
          ],
          "contour": [
           {
            "colorbar": {
             "outlinewidth": 0,
             "ticks": ""
            },
            "colorscale": [
             [
              0,
              "#0d0887"
             ],
             [
              0.1111111111111111,
              "#46039f"
             ],
             [
              0.2222222222222222,
              "#7201a8"
             ],
             [
              0.3333333333333333,
              "#9c179e"
             ],
             [
              0.4444444444444444,
              "#bd3786"
             ],
             [
              0.5555555555555556,
              "#d8576b"
             ],
             [
              0.6666666666666666,
              "#ed7953"
             ],
             [
              0.7777777777777778,
              "#fb9f3a"
             ],
             [
              0.8888888888888888,
              "#fdca26"
             ],
             [
              1,
              "#f0f921"
             ]
            ],
            "type": "contour"
           }
          ],
          "contourcarpet": [
           {
            "colorbar": {
             "outlinewidth": 0,
             "ticks": ""
            },
            "type": "contourcarpet"
           }
          ],
          "heatmap": [
           {
            "colorbar": {
             "outlinewidth": 0,
             "ticks": ""
            },
            "colorscale": [
             [
              0,
              "#0d0887"
             ],
             [
              0.1111111111111111,
              "#46039f"
             ],
             [
              0.2222222222222222,
              "#7201a8"
             ],
             [
              0.3333333333333333,
              "#9c179e"
             ],
             [
              0.4444444444444444,
              "#bd3786"
             ],
             [
              0.5555555555555556,
              "#d8576b"
             ],
             [
              0.6666666666666666,
              "#ed7953"
             ],
             [
              0.7777777777777778,
              "#fb9f3a"
             ],
             [
              0.8888888888888888,
              "#fdca26"
             ],
             [
              1,
              "#f0f921"
             ]
            ],
            "type": "heatmap"
           }
          ],
          "heatmapgl": [
           {
            "colorbar": {
             "outlinewidth": 0,
             "ticks": ""
            },
            "colorscale": [
             [
              0,
              "#0d0887"
             ],
             [
              0.1111111111111111,
              "#46039f"
             ],
             [
              0.2222222222222222,
              "#7201a8"
             ],
             [
              0.3333333333333333,
              "#9c179e"
             ],
             [
              0.4444444444444444,
              "#bd3786"
             ],
             [
              0.5555555555555556,
              "#d8576b"
             ],
             [
              0.6666666666666666,
              "#ed7953"
             ],
             [
              0.7777777777777778,
              "#fb9f3a"
             ],
             [
              0.8888888888888888,
              "#fdca26"
             ],
             [
              1,
              "#f0f921"
             ]
            ],
            "type": "heatmapgl"
           }
          ],
          "histogram": [
           {
            "marker": {
             "pattern": {
              "fillmode": "overlay",
              "size": 10,
              "solidity": 0.2
             }
            },
            "type": "histogram"
           }
          ],
          "histogram2d": [
           {
            "colorbar": {
             "outlinewidth": 0,
             "ticks": ""
            },
            "colorscale": [
             [
              0,
              "#0d0887"
             ],
             [
              0.1111111111111111,
              "#46039f"
             ],
             [
              0.2222222222222222,
              "#7201a8"
             ],
             [
              0.3333333333333333,
              "#9c179e"
             ],
             [
              0.4444444444444444,
              "#bd3786"
             ],
             [
              0.5555555555555556,
              "#d8576b"
             ],
             [
              0.6666666666666666,
              "#ed7953"
             ],
             [
              0.7777777777777778,
              "#fb9f3a"
             ],
             [
              0.8888888888888888,
              "#fdca26"
             ],
             [
              1,
              "#f0f921"
             ]
            ],
            "type": "histogram2d"
           }
          ],
          "histogram2dcontour": [
           {
            "colorbar": {
             "outlinewidth": 0,
             "ticks": ""
            },
            "colorscale": [
             [
              0,
              "#0d0887"
             ],
             [
              0.1111111111111111,
              "#46039f"
             ],
             [
              0.2222222222222222,
              "#7201a8"
             ],
             [
              0.3333333333333333,
              "#9c179e"
             ],
             [
              0.4444444444444444,
              "#bd3786"
             ],
             [
              0.5555555555555556,
              "#d8576b"
             ],
             [
              0.6666666666666666,
              "#ed7953"
             ],
             [
              0.7777777777777778,
              "#fb9f3a"
             ],
             [
              0.8888888888888888,
              "#fdca26"
             ],
             [
              1,
              "#f0f921"
             ]
            ],
            "type": "histogram2dcontour"
           }
          ],
          "mesh3d": [
           {
            "colorbar": {
             "outlinewidth": 0,
             "ticks": ""
            },
            "type": "mesh3d"
           }
          ],
          "parcoords": [
           {
            "line": {
             "colorbar": {
              "outlinewidth": 0,
              "ticks": ""
             }
            },
            "type": "parcoords"
           }
          ],
          "pie": [
           {
            "automargin": true,
            "type": "pie"
           }
          ],
          "scatter": [
           {
            "marker": {
             "line": {
              "color": "#283442"
             }
            },
            "type": "scatter"
           }
          ],
          "scatter3d": [
           {
            "line": {
             "colorbar": {
              "outlinewidth": 0,
              "ticks": ""
             }
            },
            "marker": {
             "colorbar": {
              "outlinewidth": 0,
              "ticks": ""
             }
            },
            "type": "scatter3d"
           }
          ],
          "scattercarpet": [
           {
            "marker": {
             "colorbar": {
              "outlinewidth": 0,
              "ticks": ""
             }
            },
            "type": "scattercarpet"
           }
          ],
          "scattergeo": [
           {
            "marker": {
             "colorbar": {
              "outlinewidth": 0,
              "ticks": ""
             }
            },
            "type": "scattergeo"
           }
          ],
          "scattergl": [
           {
            "marker": {
             "line": {
              "color": "#283442"
             }
            },
            "type": "scattergl"
           }
          ],
          "scattermapbox": [
           {
            "marker": {
             "colorbar": {
              "outlinewidth": 0,
              "ticks": ""
             }
            },
            "type": "scattermapbox"
           }
          ],
          "scatterpolar": [
           {
            "marker": {
             "colorbar": {
              "outlinewidth": 0,
              "ticks": ""
             }
            },
            "type": "scatterpolar"
           }
          ],
          "scatterpolargl": [
           {
            "marker": {
             "colorbar": {
              "outlinewidth": 0,
              "ticks": ""
             }
            },
            "type": "scatterpolargl"
           }
          ],
          "scatterternary": [
           {
            "marker": {
             "colorbar": {
              "outlinewidth": 0,
              "ticks": ""
             }
            },
            "type": "scatterternary"
           }
          ],
          "surface": [
           {
            "colorbar": {
             "outlinewidth": 0,
             "ticks": ""
            },
            "colorscale": [
             [
              0,
              "#0d0887"
             ],
             [
              0.1111111111111111,
              "#46039f"
             ],
             [
              0.2222222222222222,
              "#7201a8"
             ],
             [
              0.3333333333333333,
              "#9c179e"
             ],
             [
              0.4444444444444444,
              "#bd3786"
             ],
             [
              0.5555555555555556,
              "#d8576b"
             ],
             [
              0.6666666666666666,
              "#ed7953"
             ],
             [
              0.7777777777777778,
              "#fb9f3a"
             ],
             [
              0.8888888888888888,
              "#fdca26"
             ],
             [
              1,
              "#f0f921"
             ]
            ],
            "type": "surface"
           }
          ],
          "table": [
           {
            "cells": {
             "fill": {
              "color": "#506784"
             },
             "line": {
              "color": "rgb(17,17,17)"
             }
            },
            "header": {
             "fill": {
              "color": "#2a3f5f"
             },
             "line": {
              "color": "rgb(17,17,17)"
             }
            },
            "type": "table"
           }
          ]
         },
         "layout": {
          "annotationdefaults": {
           "arrowcolor": "#f2f5fa",
           "arrowhead": 0,
           "arrowwidth": 1
          },
          "autotypenumbers": "strict",
          "coloraxis": {
           "colorbar": {
            "outlinewidth": 0,
            "ticks": ""
           }
          },
          "colorscale": {
           "diverging": [
            [
             0,
             "#8e0152"
            ],
            [
             0.1,
             "#c51b7d"
            ],
            [
             0.2,
             "#de77ae"
            ],
            [
             0.3,
             "#f1b6da"
            ],
            [
             0.4,
             "#fde0ef"
            ],
            [
             0.5,
             "#f7f7f7"
            ],
            [
             0.6,
             "#e6f5d0"
            ],
            [
             0.7,
             "#b8e186"
            ],
            [
             0.8,
             "#7fbc41"
            ],
            [
             0.9,
             "#4d9221"
            ],
            [
             1,
             "#276419"
            ]
           ],
           "sequential": [
            [
             0,
             "#0d0887"
            ],
            [
             0.1111111111111111,
             "#46039f"
            ],
            [
             0.2222222222222222,
             "#7201a8"
            ],
            [
             0.3333333333333333,
             "#9c179e"
            ],
            [
             0.4444444444444444,
             "#bd3786"
            ],
            [
             0.5555555555555556,
             "#d8576b"
            ],
            [
             0.6666666666666666,
             "#ed7953"
            ],
            [
             0.7777777777777778,
             "#fb9f3a"
            ],
            [
             0.8888888888888888,
             "#fdca26"
            ],
            [
             1,
             "#f0f921"
            ]
           ],
           "sequentialminus": [
            [
             0,
             "#0d0887"
            ],
            [
             0.1111111111111111,
             "#46039f"
            ],
            [
             0.2222222222222222,
             "#7201a8"
            ],
            [
             0.3333333333333333,
             "#9c179e"
            ],
            [
             0.4444444444444444,
             "#bd3786"
            ],
            [
             0.5555555555555556,
             "#d8576b"
            ],
            [
             0.6666666666666666,
             "#ed7953"
            ],
            [
             0.7777777777777778,
             "#fb9f3a"
            ],
            [
             0.8888888888888888,
             "#fdca26"
            ],
            [
             1,
             "#f0f921"
            ]
           ]
          },
          "colorway": [
           "#636efa",
           "#EF553B",
           "#00cc96",
           "#ab63fa",
           "#FFA15A",
           "#19d3f3",
           "#FF6692",
           "#B6E880",
           "#FF97FF",
           "#FECB52"
          ],
          "font": {
           "color": "#f2f5fa"
          },
          "geo": {
           "bgcolor": "rgb(17,17,17)",
           "lakecolor": "rgb(17,17,17)",
           "landcolor": "rgb(17,17,17)",
           "showlakes": true,
           "showland": true,
           "subunitcolor": "#506784"
          },
          "hoverlabel": {
           "align": "left"
          },
          "hovermode": "closest",
          "mapbox": {
           "style": "dark"
          },
          "paper_bgcolor": "rgb(17,17,17)",
          "plot_bgcolor": "rgb(17,17,17)",
          "polar": {
           "angularaxis": {
            "gridcolor": "#506784",
            "linecolor": "#506784",
            "ticks": ""
           },
           "bgcolor": "rgb(17,17,17)",
           "radialaxis": {
            "gridcolor": "#506784",
            "linecolor": "#506784",
            "ticks": ""
           }
          },
          "scene": {
           "xaxis": {
            "backgroundcolor": "rgb(17,17,17)",
            "gridcolor": "#506784",
            "gridwidth": 2,
            "linecolor": "#506784",
            "showbackground": true,
            "ticks": "",
            "zerolinecolor": "#C8D4E3"
           },
           "yaxis": {
            "backgroundcolor": "rgb(17,17,17)",
            "gridcolor": "#506784",
            "gridwidth": 2,
            "linecolor": "#506784",
            "showbackground": true,
            "ticks": "",
            "zerolinecolor": "#C8D4E3"
           },
           "zaxis": {
            "backgroundcolor": "rgb(17,17,17)",
            "gridcolor": "#506784",
            "gridwidth": 2,
            "linecolor": "#506784",
            "showbackground": true,
            "ticks": "",
            "zerolinecolor": "#C8D4E3"
           }
          },
          "shapedefaults": {
           "line": {
            "color": "#f2f5fa"
           }
          },
          "sliderdefaults": {
           "bgcolor": "#C8D4E3",
           "bordercolor": "rgb(17,17,17)",
           "borderwidth": 1,
           "tickwidth": 0
          },
          "ternary": {
           "aaxis": {
            "gridcolor": "#506784",
            "linecolor": "#506784",
            "ticks": ""
           },
           "baxis": {
            "gridcolor": "#506784",
            "linecolor": "#506784",
            "ticks": ""
           },
           "bgcolor": "rgb(17,17,17)",
           "caxis": {
            "gridcolor": "#506784",
            "linecolor": "#506784",
            "ticks": ""
           }
          },
          "title": {
           "x": 0.05
          },
          "updatemenudefaults": {
           "bgcolor": "#506784",
           "borderwidth": 0
          },
          "xaxis": {
           "automargin": true,
           "gridcolor": "#283442",
           "linecolor": "#506784",
           "ticks": "",
           "title": {
            "standoff": 15
           },
           "zerolinecolor": "#283442",
           "zerolinewidth": 2
          },
          "yaxis": {
           "automargin": true,
           "gridcolor": "#283442",
           "linecolor": "#506784",
           "ticks": "",
           "title": {
            "standoff": 15
           },
           "zerolinecolor": "#283442",
           "zerolinewidth": 2
          }
         }
        },
        "title": {
         "text": "Cloud <br><sup> Embeddings </sup>",
         "x": 0.5
        },
        "xaxis": {
         "anchor": "y",
         "domain": [
          0,
          1
         ],
         "linecolor": "gray",
         "linewidth": 2,
         "showline": false,
         "showticklabels": false,
         "tickformat": ".2f",
         "ticks": "",
         "title": {
          "text": " "
         }
        },
        "yaxis": {
         "anchor": "x",
         "domain": [
          0,
          1
         ],
         "linecolor": "gray",
         "linewidth": 2,
         "showline": false,
         "showticklabels": false,
         "tickformat": ".2f",
         "ticks": "",
         "title": {
          "text": " "
         }
        }
       }
      }
     },
     "metadata": {},
     "output_type": "display_data"
    }
   ],
   "source": [
    "fig = px.scatter(fm_c, x=\"x\", y=\"y\", text=\"topico\",\n",
    "                #  size_max='importancia',\n",
    "                 color=\"topico\", \n",
    "                 )\n",
    "\n",
    "# Customize text positioning (consider clarity and visual balance)\n",
    "fig.update_traces(textposition='top center')  # or 'top center' based on preference\n",
    "\n",
    "fig.update_layout(template = \"plotly_dark\")\n",
    "\n",
    "# Informative layout with custom title\n",
    "fig.update_layout(\n",
    "    title_text='Cloud <br><sup> Embeddings </sup>',  # Title\n",
    "    title_x=0.5,  # Centered title\n",
    "    xaxis_title=' ',  # Add meaningful axis labels\n",
    "    yaxis_title=' ',\n",
    "    font=dict(family=\"Arial\", size=12),  # Consistent font style and size\n",
    "    # plot_bgcolor='white',  # Clean background color\n",
    "    xaxis_tickformat='.2f',  # Format x-axis ticks for readability (adjust as needed)\n",
    "    yaxis_tickformat='.2f',  # Format y-axis ticks for readability (adjust as needed)\n",
    "\n",
    "    xaxis=dict(\n",
    "        ticks='',\n",
    "        showticklabels=False\n",
    "    ),\n",
    "    yaxis=dict(\n",
    "        ticks='',\n",
    "        showticklabels=False\n",
    "    )\n",
    "\n",
    ")\n",
    "\n",
    "# Interactive elements (optional)\n",
    "fig.update_layout(hovermode='closest')  # Hover over a point for details\n",
    "fig.update_traces(opacity=0.8)  # Adjust marker opacity for better visibility\n",
    "\n",
    "# Advanced styling (optional)\n",
    "fig.update_xaxes(showline=False, linewidth=2, linecolor='gray')  # X-axis formatting\n",
    "fig.update_yaxes(showline=False, linewidth=2, linecolor='gray')  # Y-axis formatting\n",
    "\n",
    "fig.show()"
   ]
  },
  {
   "cell_type": "markdown",
   "id": "438c520e",
   "metadata": {},
   "source": [
    "## Grafico de embbedings"
   ]
  },
  {
   "cell_type": "code",
   "execution_count": 12,
   "id": "3f369be7",
   "metadata": {},
   "outputs": [
    {
     "data": {
      "text/html": [
       "<div>\n",
       "<style scoped>\n",
       "    .dataframe tbody tr th:only-of-type {\n",
       "        vertical-align: middle;\n",
       "    }\n",
       "\n",
       "    .dataframe tbody tr th {\n",
       "        vertical-align: top;\n",
       "    }\n",
       "\n",
       "    .dataframe thead th {\n",
       "        text-align: right;\n",
       "    }\n",
       "</style>\n",
       "<table border=\"1\" class=\"dataframe\">\n",
       "  <thead>\n",
       "    <tr style=\"text-align: right;\">\n",
       "      <th></th>\n",
       "      <th>count</th>\n",
       "      <th>mean</th>\n",
       "      <th>std</th>\n",
       "      <th>min</th>\n",
       "      <th>25%</th>\n",
       "      <th>50%</th>\n",
       "      <th>75%</th>\n",
       "      <th>max</th>\n",
       "    </tr>\n",
       "    <tr>\n",
       "      <th>topico_1</th>\n",
       "      <th></th>\n",
       "      <th></th>\n",
       "      <th></th>\n",
       "      <th></th>\n",
       "      <th></th>\n",
       "      <th></th>\n",
       "      <th></th>\n",
       "      <th></th>\n",
       "    </tr>\n",
       "  </thead>\n",
       "  <tbody>\n",
       "    <tr>\n",
       "      <th>0.0</th>\n",
       "      <td>208.0</td>\n",
       "      <td>0.713972</td>\n",
       "      <td>0.074609</td>\n",
       "      <td>0.580604</td>\n",
       "      <td>0.659925</td>\n",
       "      <td>0.704796</td>\n",
       "      <td>0.769973</td>\n",
       "      <td>0.930126</td>\n",
       "    </tr>\n",
       "    <tr>\n",
       "      <th>1.0</th>\n",
       "      <td>271.0</td>\n",
       "      <td>0.726591</td>\n",
       "      <td>0.070433</td>\n",
       "      <td>0.531216</td>\n",
       "      <td>0.677786</td>\n",
       "      <td>0.722513</td>\n",
       "      <td>0.774650</td>\n",
       "      <td>0.957636</td>\n",
       "    </tr>\n",
       "    <tr>\n",
       "      <th>2.0</th>\n",
       "      <td>272.0</td>\n",
       "      <td>0.673068</td>\n",
       "      <td>0.105658</td>\n",
       "      <td>0.469126</td>\n",
       "      <td>0.591158</td>\n",
       "      <td>0.657033</td>\n",
       "      <td>0.753279</td>\n",
       "      <td>0.974313</td>\n",
       "    </tr>\n",
       "    <tr>\n",
       "      <th>3.0</th>\n",
       "      <td>375.0</td>\n",
       "      <td>0.709632</td>\n",
       "      <td>0.071640</td>\n",
       "      <td>0.550573</td>\n",
       "      <td>0.657828</td>\n",
       "      <td>0.700083</td>\n",
       "      <td>0.758129</td>\n",
       "      <td>0.931529</td>\n",
       "    </tr>\n",
       "    <tr>\n",
       "      <th>4.0</th>\n",
       "      <td>352.0</td>\n",
       "      <td>0.722625</td>\n",
       "      <td>0.067570</td>\n",
       "      <td>0.586749</td>\n",
       "      <td>0.673146</td>\n",
       "      <td>0.715670</td>\n",
       "      <td>0.760800</td>\n",
       "      <td>0.968509</td>\n",
       "    </tr>\n",
       "    <tr>\n",
       "      <th>5.0</th>\n",
       "      <td>327.0</td>\n",
       "      <td>0.710744</td>\n",
       "      <td>0.082417</td>\n",
       "      <td>0.515719</td>\n",
       "      <td>0.653498</td>\n",
       "      <td>0.701897</td>\n",
       "      <td>0.762078</td>\n",
       "      <td>0.990636</td>\n",
       "    </tr>\n",
       "    <tr>\n",
       "      <th>6.0</th>\n",
       "      <td>295.0</td>\n",
       "      <td>0.680512</td>\n",
       "      <td>0.109352</td>\n",
       "      <td>0.487477</td>\n",
       "      <td>0.588464</td>\n",
       "      <td>0.666307</td>\n",
       "      <td>0.768742</td>\n",
       "      <td>0.960055</td>\n",
       "    </tr>\n",
       "    <tr>\n",
       "      <th>7.0</th>\n",
       "      <td>287.0</td>\n",
       "      <td>0.712188</td>\n",
       "      <td>0.080794</td>\n",
       "      <td>0.536591</td>\n",
       "      <td>0.652865</td>\n",
       "      <td>0.710770</td>\n",
       "      <td>0.760296</td>\n",
       "      <td>1.025965</td>\n",
       "    </tr>\n",
       "  </tbody>\n",
       "</table>\n",
       "</div>"
      ],
      "text/plain": [
       "          count      mean       std       min       25%       50%       75%  \\\n",
       "topico_1                                                                      \n",
       "0.0       208.0  0.713972  0.074609  0.580604  0.659925  0.704796  0.769973   \n",
       "1.0       271.0  0.726591  0.070433  0.531216  0.677786  0.722513  0.774650   \n",
       "2.0       272.0  0.673068  0.105658  0.469126  0.591158  0.657033  0.753279   \n",
       "3.0       375.0  0.709632  0.071640  0.550573  0.657828  0.700083  0.758129   \n",
       "4.0       352.0  0.722625  0.067570  0.586749  0.673146  0.715670  0.760800   \n",
       "5.0       327.0  0.710744  0.082417  0.515719  0.653498  0.701897  0.762078   \n",
       "6.0       295.0  0.680512  0.109352  0.487477  0.588464  0.666307  0.768742   \n",
       "7.0       287.0  0.712188  0.080794  0.536591  0.652865  0.710770  0.760296   \n",
       "\n",
       "               max  \n",
       "topico_1            \n",
       "0.0       0.930126  \n",
       "1.0       0.957636  \n",
       "2.0       0.974313  \n",
       "3.0       0.931529  \n",
       "4.0       0.968509  \n",
       "5.0       0.990636  \n",
       "6.0       0.960055  \n",
       "7.0       1.025965  "
      ]
     },
     "execution_count": 12,
     "metadata": {},
     "output_type": "execute_result"
    }
   ],
   "source": [
    "descripcion_distancias = df_topicos_automaticos.groupby(\"topico_1\")[\"distancia_al_centroide\"].describe()\n",
    "descripcion_distancias"
   ]
  },
  {
   "cell_type": "code",
   "execution_count": 13,
   "id": "480ff410",
   "metadata": {},
   "outputs": [
    {
     "name": "stderr",
     "output_type": "stream",
     "text": [
      "C:\\Users\\Administrator\\AppData\\Roaming\\Python\\Python312\\site-packages\\seaborn\\_base.py:948: FutureWarning:\n",
      "\n",
      "When grouping with a length-1 list-like, you will need to pass a length-1 tuple to get_group in a future version of pandas. Pass `(name,)` instead of `name` to silence this warning.\n",
      "\n",
      "C:\\Users\\Administrator\\AppData\\Roaming\\Python\\Python312\\site-packages\\seaborn\\categorical.py:632: FutureWarning:\n",
      "\n",
      "SeriesGroupBy.grouper is deprecated and will be removed in a future version of pandas.\n",
      "\n",
      "C:\\Users\\Administrator\\AppData\\Roaming\\Python\\Python312\\site-packages\\seaborn\\_base.py:948: FutureWarning:\n",
      "\n",
      "When grouping with a length-1 list-like, you will need to pass a length-1 tuple to get_group in a future version of pandas. Pass `(name,)` instead of `name` to silence this warning.\n",
      "\n",
      "C:\\Users\\Administrator\\AppData\\Roaming\\Python\\Python312\\site-packages\\seaborn\\categorical.py:632: FutureWarning:\n",
      "\n",
      "SeriesGroupBy.grouper is deprecated and will be removed in a future version of pandas.\n",
      "\n",
      "C:\\Users\\Administrator\\AppData\\Roaming\\Python\\Python312\\site-packages\\seaborn\\_base.py:948: FutureWarning:\n",
      "\n",
      "When grouping with a length-1 list-like, you will need to pass a length-1 tuple to get_group in a future version of pandas. Pass `(name,)` instead of `name` to silence this warning.\n",
      "\n",
      "C:\\Users\\Administrator\\AppData\\Roaming\\Python\\Python312\\site-packages\\seaborn\\categorical.py:632: FutureWarning:\n",
      "\n",
      "SeriesGroupBy.grouper is deprecated and will be removed in a future version of pandas.\n",
      "\n",
      "C:\\Users\\Administrator\\AppData\\Roaming\\Python\\Python312\\site-packages\\seaborn\\_base.py:948: FutureWarning:\n",
      "\n",
      "When grouping with a length-1 list-like, you will need to pass a length-1 tuple to get_group in a future version of pandas. Pass `(name,)` instead of `name` to silence this warning.\n",
      "\n",
      "C:\\Users\\Administrator\\AppData\\Roaming\\Python\\Python312\\site-packages\\seaborn\\categorical.py:632: FutureWarning:\n",
      "\n",
      "SeriesGroupBy.grouper is deprecated and will be removed in a future version of pandas.\n",
      "\n",
      "C:\\Users\\Administrator\\AppData\\Roaming\\Python\\Python312\\site-packages\\seaborn\\_base.py:948: FutureWarning:\n",
      "\n",
      "When grouping with a length-1 list-like, you will need to pass a length-1 tuple to get_group in a future version of pandas. Pass `(name,)` instead of `name` to silence this warning.\n",
      "\n",
      "C:\\Users\\Administrator\\AppData\\Roaming\\Python\\Python312\\site-packages\\seaborn\\categorical.py:632: FutureWarning:\n",
      "\n",
      "SeriesGroupBy.grouper is deprecated and will be removed in a future version of pandas.\n",
      "\n",
      "C:\\Users\\Administrator\\AppData\\Roaming\\Python\\Python312\\site-packages\\seaborn\\_base.py:948: FutureWarning:\n",
      "\n",
      "When grouping with a length-1 list-like, you will need to pass a length-1 tuple to get_group in a future version of pandas. Pass `(name,)` instead of `name` to silence this warning.\n",
      "\n",
      "C:\\Users\\Administrator\\AppData\\Roaming\\Python\\Python312\\site-packages\\seaborn\\categorical.py:632: FutureWarning:\n",
      "\n",
      "SeriesGroupBy.grouper is deprecated and will be removed in a future version of pandas.\n",
      "\n",
      "C:\\Users\\Administrator\\AppData\\Roaming\\Python\\Python312\\site-packages\\seaborn\\_base.py:948: FutureWarning:\n",
      "\n",
      "When grouping with a length-1 list-like, you will need to pass a length-1 tuple to get_group in a future version of pandas. Pass `(name,)` instead of `name` to silence this warning.\n",
      "\n",
      "C:\\Users\\Administrator\\AppData\\Roaming\\Python\\Python312\\site-packages\\seaborn\\categorical.py:632: FutureWarning:\n",
      "\n",
      "SeriesGroupBy.grouper is deprecated and will be removed in a future version of pandas.\n",
      "\n",
      "C:\\Users\\Administrator\\AppData\\Roaming\\Python\\Python312\\site-packages\\seaborn\\_base.py:948: FutureWarning:\n",
      "\n",
      "When grouping with a length-1 list-like, you will need to pass a length-1 tuple to get_group in a future version of pandas. Pass `(name,)` instead of `name` to silence this warning.\n",
      "\n",
      "C:\\Users\\Administrator\\AppData\\Roaming\\Python\\Python312\\site-packages\\seaborn\\categorical.py:632: FutureWarning:\n",
      "\n",
      "SeriesGroupBy.grouper is deprecated and will be removed in a future version of pandas.\n",
      "\n"
     ]
    },
    {
     "data": {
      "image/png": "[encoded data removed]",
      "text/plain": [
       "<Figure size 1200x600 with 1 Axes>"
      ]
     },
     "metadata": {},
     "output_type": "display_data"
    }
   ],
   "source": [
    "plt.figure(figsize=(12, 6))\n",
    "sns.boxplot(data=df_topicos_automaticos, x='topico_1', y='distancia_al_centroide', hue='topico_1',\n",
    "            palette='Set2', showfliers=False)\n",
    "\n",
    "plt.title('Distribución de Longitud por Categoría', fontsize=14)\n",
    "plt.xlabel('Categoría', fontsize=12)\n",
    "plt.ylabel('Número de Caracteres', fontsize=12)\n",
    "\n",
    "sns.despine()\n",
    "plt.tight_layout()\n",
    "plt.show()"
   ]
  },
  {
   "cell_type": "code",
   "execution_count": 14,
   "id": "7e89dfc4",
   "metadata": {},
   "outputs": [
    {
     "data": {
      "image/png": "[encoded data removed]",
      "text/plain": [
       "<Figure size 1200x600 with 1 Axes>"
      ]
     },
     "metadata": {},
     "output_type": "display_data"
    }
   ],
   "source": [
    "plt.figure(figsize=(12, 6))\n",
    "sns.violinplot(data=df_topicos_automaticos, x='distancia_al_centroide', hue='topico_1',\n",
    "               palette='Set2', \n",
    "               inner='quartile', color='skyblue')\n",
    "\n",
    "plt.title('Distribución de Longitud - Gráfico de Violín', fontsize=14)\n",
    "plt.xlabel('Número de Caracteres', fontsize=12)\n",
    "\n",
    "sns.despine(left=True)\n",
    "plt.tight_layout()\n",
    "plt.show()"
   ]
  },
  {
   "cell_type": "code",
   "execution_count": 15,
   "id": "f1381c0c",
   "metadata": {},
   "outputs": [],
   "source": [
    "centroides = df_topicos_automaticos.groupby(\"topico_1\")[\"embeddings\"].apply(\n",
    "    lambda x: np.mean(np.vstack(x.values), axis=0)\n",
    ").to_dict()"
   ]
  },
  {
   "cell_type": "code",
   "execution_count": 16,
   "id": "f0b5c5b4",
   "metadata": {},
   "outputs": [
    {
     "data": {
      "text/plain": [
       "label\n",
       "2    2231\n",
       "0     156\n",
       "Name: count, dtype: int64"
      ]
     },
     "execution_count": 16,
     "metadata": {},
     "output_type": "execute_result"
    }
   ],
   "source": [
    "df_topicos_automaticos['label'].value_counts()"
   ]
  },
  {
   "cell_type": "code",
   "execution_count": 17,
   "id": "b9a17e9e",
   "metadata": {},
   "outputs": [],
   "source": [
    "# df_topicos_automaticos = df_topicos_automaticos[df_topicos_automaticos['distancia_al_centroide']<0.6]\n",
    "# df_topicos_automaticos2 = df_topicos_automaticos[df_topicos_automaticos['distancia_al_centroide']<0.62]\n",
    "# df_topicos_automaticos2.shape"
   ]
  },
  {
   "cell_type": "code",
   "execution_count": 18,
   "id": "1c378d49",
   "metadata": {},
   "outputs": [
    {
     "data": {
      "text/html": [
       "<div>\n",
       "<style scoped>\n",
       "    .dataframe tbody tr th:only-of-type {\n",
       "        vertical-align: middle;\n",
       "    }\n",
       "\n",
       "    .dataframe tbody tr th {\n",
       "        vertical-align: top;\n",
       "    }\n",
       "\n",
       "    .dataframe thead th {\n",
       "        text-align: right;\n",
       "    }\n",
       "</style>\n",
       "<table border=\"1\" class=\"dataframe\">\n",
       "  <thead>\n",
       "    <tr style=\"text-align: right;\">\n",
       "      <th></th>\n",
       "      <th>id</th>\n",
       "      <th>embeddings</th>\n",
       "      <th>texto</th>\n",
       "      <th>label</th>\n",
       "      <th>importancia_tfidf</th>\n",
       "      <th>topico_1</th>\n",
       "      <th>topico_2</th>\n",
       "      <th>topico_3</th>\n",
       "      <th>distancia_al_centroide</th>\n",
       "    </tr>\n",
       "  </thead>\n",
       "  <tbody>\n",
       "    <tr>\n",
       "      <th>0</th>\n",
       "      <td>113854</td>\n",
       "      <td>[0.01165767665952444, -0.04814380034804344, -0...</td>\n",
       "      <td>pésimo servicio. no tienen disposición ni tact...</td>\n",
       "      <td>0</td>\n",
       "      <td>4.906597</td>\n",
       "      <td>2.0</td>\n",
       "      <td>4.0</td>\n",
       "      <td>6.0</td>\n",
       "      <td>0.675302</td>\n",
       "    </tr>\n",
       "    <tr>\n",
       "      <th>1</th>\n",
       "      <td>73584</td>\n",
       "      <td>[-0.0033760960213840008, -0.055160701274871826...</td>\n",
       "      <td>no lo recomiendo. no recomiendo este hotel, el...</td>\n",
       "      <td>0</td>\n",
       "      <td>3.503693</td>\n",
       "      <td>5.0</td>\n",
       "      <td>6.0</td>\n",
       "      <td>7.0</td>\n",
       "      <td>0.638598</td>\n",
       "    </tr>\n",
       "    <tr>\n",
       "      <th>2</th>\n",
       "      <td>16828</td>\n",
       "      <td>[-0.032337117940187454, -0.0011940974509343505...</td>\n",
       "      <td>este hotel no tienen acceso a discapacitados. ...</td>\n",
       "      <td>0</td>\n",
       "      <td>4.248525</td>\n",
       "      <td>1.0</td>\n",
       "      <td>3.0</td>\n",
       "      <td>4.0</td>\n",
       "      <td>0.645210</td>\n",
       "    </tr>\n",
       "    <tr>\n",
       "      <th>3</th>\n",
       "      <td>67013</td>\n",
       "      <td>[-0.01615498773753643, 0.02060611918568611, -0...</td>\n",
       "      <td>pésima experiencia  en el restaurante. pésimo ...</td>\n",
       "      <td>0</td>\n",
       "      <td>3.772403</td>\n",
       "      <td>2.0</td>\n",
       "      <td>4.0</td>\n",
       "      <td>6.0</td>\n",
       "      <td>0.658180</td>\n",
       "    </tr>\n",
       "    <tr>\n",
       "      <th>4</th>\n",
       "      <td>17955</td>\n",
       "      <td>[0.009223244152963161, 0.016772812232375145, -...</td>\n",
       "      <td>mala comida y muy cara. fuimos un grupo de 11 ...</td>\n",
       "      <td>0</td>\n",
       "      <td>3.612414</td>\n",
       "      <td>6.0</td>\n",
       "      <td>1.0</td>\n",
       "      <td>7.0</td>\n",
       "      <td>0.614390</td>\n",
       "    </tr>\n",
       "  </tbody>\n",
       "</table>\n",
       "</div>"
      ],
      "text/plain": [
       "       id                                         embeddings  \\\n",
       "0  113854  [0.01165767665952444, -0.04814380034804344, -0...   \n",
       "1   73584  [-0.0033760960213840008, -0.055160701274871826...   \n",
       "2   16828  [-0.032337117940187454, -0.0011940974509343505...   \n",
       "3   67013  [-0.01615498773753643, 0.02060611918568611, -0...   \n",
       "4   17955  [0.009223244152963161, 0.016772812232375145, -...   \n",
       "\n",
       "                                               texto  label  \\\n",
       "0  pésimo servicio. no tienen disposición ni tact...      0   \n",
       "1  no lo recomiendo. no recomiendo este hotel, el...      0   \n",
       "2  este hotel no tienen acceso a discapacitados. ...      0   \n",
       "3  pésima experiencia  en el restaurante. pésimo ...      0   \n",
       "4  mala comida y muy cara. fuimos un grupo de 11 ...      0   \n",
       "\n",
       "   importancia_tfidf  topico_1  topico_2  topico_3  distancia_al_centroide  \n",
       "0           4.906597       2.0       4.0       6.0                0.675302  \n",
       "1           3.503693       5.0       6.0       7.0                0.638598  \n",
       "2           4.248525       1.0       3.0       4.0                0.645210  \n",
       "3           3.772403       2.0       4.0       6.0                0.658180  \n",
       "4           3.612414       6.0       1.0       7.0                0.614390  "
      ]
     },
     "execution_count": 18,
     "metadata": {},
     "output_type": "execute_result"
    }
   ],
   "source": [
    "# Retirar los embeddigs alejados\n",
    "df_topicos_automaticos = filter_centroide(df_topicos_automaticos)\n",
    "df_topicos_automaticos.head()"
   ]
  },
  {
   "cell_type": "code",
   "execution_count": 19,
   "id": "f5e0d0bd",
   "metadata": {},
   "outputs": [
    {
     "data": {
      "text/plain": [
       "label\n",
       "2    234\n",
       "0     66\n",
       "Name: count, dtype: int64"
      ]
     },
     "execution_count": 19,
     "metadata": {},
     "output_type": "execute_result"
    }
   ],
   "source": [
    "df_topicos_automaticos['label'].value_counts()"
   ]
  },
  {
   "cell_type": "code",
   "execution_count": 20,
   "id": "961d70c8",
   "metadata": {},
   "outputs": [],
   "source": [
    "embedding_matrix = np.vstack(df_topicos_automaticos['embeddings'].values)\n",
    "\n",
    "# # Topicos automaticos\n",
    "id = df_topicos_automaticos['id'].values.tolist()\n",
    "id_topic = df_topicos_automaticos['topico_1'].values.tolist()\n",
    "id_importancia = df_topicos_automaticos['importancia_tfidf'].values.tolist()\n",
    "id_label = df_topicos_automaticos['label'].values.tolist()\n",
    "id_texto = df_topicos_automaticos['texto'].values.tolist()"
   ]
  },
  {
   "cell_type": "code",
   "execution_count": 21,
   "id": "6caad410",
   "metadata": {},
   "outputs": [
    {
     "data": {
      "text/html": [
       "<div>\n",
       "<style scoped>\n",
       "    .dataframe tbody tr th:only-of-type {\n",
       "        vertical-align: middle;\n",
       "    }\n",
       "\n",
       "    .dataframe tbody tr th {\n",
       "        vertical-align: top;\n",
       "    }\n",
       "\n",
       "    .dataframe thead th {\n",
       "        text-align: right;\n",
       "    }\n",
       "</style>\n",
       "<table border=\"1\" class=\"dataframe\">\n",
       "  <thead>\n",
       "    <tr style=\"text-align: right;\">\n",
       "      <th></th>\n",
       "      <th>x</th>\n",
       "      <th>y</th>\n",
       "      <th>id</th>\n",
       "      <th>id_topic</th>\n",
       "      <th>importancia</th>\n",
       "      <th>label</th>\n",
       "      <th>texto</th>\n",
       "    </tr>\n",
       "  </thead>\n",
       "  <tbody>\n",
       "    <tr>\n",
       "      <th>0</th>\n",
       "      <td>0.199473</td>\n",
       "      <td>-0.405403</td>\n",
       "      <td>113854</td>\n",
       "      <td>2</td>\n",
       "      <td>270.357255</td>\n",
       "      <td>Negative</td>\n",
       "      <td>Pésimo servicio. no tienen disposición ni tact...</td>\n",
       "    </tr>\n",
       "    <tr>\n",
       "      <th>1</th>\n",
       "      <td>-0.228141</td>\n",
       "      <td>0.020155</td>\n",
       "      <td>73584</td>\n",
       "      <td>5</td>\n",
       "      <td>66.475950</td>\n",
       "      <td>Negative</td>\n",
       "      <td>No lo recomiendo. no recomiendo este hotel, el...</td>\n",
       "    </tr>\n",
       "    <tr>\n",
       "      <th>2</th>\n",
       "      <td>-0.045530</td>\n",
       "      <td>-0.048362</td>\n",
       "      <td>16828</td>\n",
       "      <td>1</td>\n",
       "      <td>140.004175</td>\n",
       "      <td>Negative</td>\n",
       "      <td>Este hotel no tienen acceso a discapacitados. ...</td>\n",
       "    </tr>\n",
       "    <tr>\n",
       "      <th>3</th>\n",
       "      <td>0.220312</td>\n",
       "      <td>-0.284410</td>\n",
       "      <td>67013</td>\n",
       "      <td>2</td>\n",
       "      <td>86.968835</td>\n",
       "      <td>Negative</td>\n",
       "      <td>Pésima experiencia en el restaurante. pésimo s...</td>\n",
       "    </tr>\n",
       "    <tr>\n",
       "      <th>4</th>\n",
       "      <td>0.130816</td>\n",
       "      <td>0.029050</td>\n",
       "      <td>17955</td>\n",
       "      <td>2</td>\n",
       "      <td>74.110781</td>\n",
       "      <td>Negative</td>\n",
       "      <td>Mala comida y muy cara. fuimos un grupo de 11 ...</td>\n",
       "    </tr>\n",
       "  </tbody>\n",
       "</table>\n",
       "</div>"
      ],
      "text/plain": [
       "          x         y      id id_topic  importancia     label  \\\n",
       "0  0.199473 -0.405403  113854        2   270.357255  Negative   \n",
       "1 -0.228141  0.020155   73584        5    66.475950  Negative   \n",
       "2 -0.045530 -0.048362   16828        1   140.004175  Negative   \n",
       "3  0.220312 -0.284410   67013        2    86.968835  Negative   \n",
       "4  0.130816  0.029050   17955        2    74.110781  Negative   \n",
       "\n",
       "                                               texto  \n",
       "0  Pésimo servicio. no tienen disposición ni tact...  \n",
       "1  No lo recomiendo. no recomiendo este hotel, el...  \n",
       "2  Este hotel no tienen acceso a discapacitados. ...  \n",
       "3  Pésima experiencia en el restaurante. pésimo s...  \n",
       "4  Mala comida y muy cara. fuimos un grupo de 11 ...  "
      ]
     },
     "execution_count": 21,
     "metadata": {},
     "output_type": "execute_result"
    }
   ],
   "source": [
    "pca = PCA(n_components=2)\n",
    "fm = pd.DataFrame(pca.fit_transform(embedding_matrix), columns=['x','y'])\n",
    "\n",
    "fm['id'] = id\n",
    "fm['id_topic'] = id_topic\n",
    "fm['importancia'] = id_importancia\n",
    "fm['label'] = id_label\n",
    "fm['texto'] = id_texto\n",
    "\n",
    "fm['id_topic'] = np.where(fm['id_topic'] == 7, 1, fm['id_topic'])\n",
    "fm['id_topic'] = np.where(fm['id_topic'] == 6, 2, fm['id_topic'])\n",
    "fm['id_topic'] = np.where(fm['id_topic'] == 4, 0, fm['id_topic'])\n",
    "fm['id_topic'] = fm['id_topic'].astype(int).astype(str)\n",
    "\n",
    "# Aplicar la función a la columna de texto\n",
    "fm['texto'] = fm['texto'].str.capitalize().apply(lambda x: agregar_saltos_linea(x, ancho=60))\n",
    "\n",
    "# Modificar la importancia para los negativos\n",
    "fm[\"importancia\"] = np.exp(fm[\"importancia\"])\n",
    "fm['importancia'] = np.where(fm['label'] == 0, fm['importancia']*2, fm['importancia'])\n",
    "\n",
    "fm['label'] = np.where(fm['label'] == 0, 'Negative', 'Positive')\n",
    "\n",
    "fm.head()"
   ]
  },
  {
   "cell_type": "code",
   "execution_count": 22,
   "id": "305d0e20",
   "metadata": {},
   "outputs": [
    {
     "data": {
      "application/vnd.plotly.v1+json": {
       "config": {
        "plotlyServerURL": "https://plot.ly"
       },
       "data": [
        {
         "customdata": [
          [
           "Pésimo servicio. no tienen disposición ni tacto para atender<br>al cliente. llegamos al restaurante y no quisieron<br>atendernos a pesar de que tenian muchas mesas disponibles."
          ],
          [
           "Pésima experiencia en el restaurante. pésimo servicio del<br>capitán. los meseros no se aparecían. la comida de pésima<br>calidad. una pena de lugar. pura fama, no vale la pena ni<br>poquito. además carísimo, no lo vale."
          ],
          [
           "Mala comida y muy cara. fuimos un grupo de 11 amigos a comer<br>con un guia que nos encontramos en la puerta del hotel.<br>queriamos comer ropa vieja y no había. comimos vaca frita<br>con arroz cubano y a parte un \"platito \"pequeño de lechuga<br>con láminas transparentes de tomate...a compartir para 3-4<br>personas. cerveza para todos y pagamos 34€ por persona<br>invitanto al guia a comer. una tomadura de pelo. mucho mejor<br>restaurante habana 61 y restaurante elizalde por 12 € por<br>persona.más"
          ],
          [
           "Parece un motel en vez de un hotel de 4 estrellas. estaba en<br>reemodelacion, tienen un año con la reemodelacion segun<br>ellos. no hay restaurante, ni amenidades. baños estas<br>viejisimos, en la web ponen fotos que no corresponden a la<br>realidad. teniamos que tomar un taxi a nivel de calle. y<br>saltar piedras para entrar a la recepcion"
          ],
          [
           "Muy deteriorado. estuve hospedada en el hotel hace 6 años y<br>me pareció hermoso en instalaciones y en atención, lo<br>recomendé para regresar el puente del 1 de noviembre con<br>unos amigos y q decepción, las instalaciones, sobre todo las<br>habitaciones súper deterioradas, cortineros malos, toallas<br>manchadas, bata de baño viejísima, llave de lavamanos mala<br>goteando todo el tiempo, el ruido del aire acondicionado no<br>deja dormir y para rematar el domingo no arreglaron la<br>habitación. no lo recomiendo."
          ],
          [
           "Busque en otro lugar.. como un 5 estrellas todo incluido,<br>este es más como un hotel promedio que se cargan. cucarachas<br>en la habitación, personal grosero, construcción fuera, la<br>seguridad parece ser no para proteger a los huéspedes, pero<br>sospechar de ellos. prometo que se puede hacer mejor, que<br>nunca volvería."
          ],
          [
           "El hotel de las apariencias. un hotel con un buen lobby que<br>te hace esperar que el resto del establecimiento sea igual,<br>pero todo queda aquí. cuando te acercas a los ascensores y<br>logras subir en ellos es como si te introdujeras en las<br>\"crónicas de narnia\". nada que ver con lo anterior: pasillos<br>malolientes, alfombras sucias, muy sucias, techos que<br>parecen que se van caer sobre tu cabeza y por fin la<br>habitación. abres la puerta y el olor continúa. es grande y<br>con buenas vistas pero la limpieza deja mucho que desear.<br>las cortinas y colchas mejor no tocarlas porque parece que<br>no se han lavado desde que se colocaron cuando inauguraron<br>el hotel, baño sin ningún mantenimiento, peor que el que<br>puedas encontrar en una pensión, toallas que al ir a secarte<br>con ellas de lo raídas que están aparecen cinco agujeros de…"
          ],
          [
           "Eviten este hotel. reservamos con solways el riviera,<br>sabiendo que tiene problemas de mantenimiento en una gran<br>instalación de los 50. pero sorpresivamente solways nos<br>avisa q no había habitación disponible a pesar de haberla<br>pagado, y nos trasladan a este hotel. si bien está a dos<br>cuadras de la rampa de vedado, la cuadra es mala. mucho<br>mejor nivel hay hacia el oeste de la calle 23 q al este. el<br>hotel con inst. mal conservadas, poca calidad de limpieza,<br>polvo en los muebles, pasillos lúgubres, bajo nivel. si bien<br>solways me devolvió la diferencia, tuvimos que aguantarnos<br>en la habana este mal hotel! evítenlo si pueden!"
          ],
          [
           "Trago mal preparado, y bartender con mala actitud. tuve una<br>pesima experiencia acá. primero nos pidieron como favor<br>movernos a la barra ya que un grupo había hecho reservación<br>y se les había olvidado. no nos molestó cambiarnos. luego<br>pedimos tragos, y el mio estaba muy mal preparado (además en<br>la carta decia...más"
          ],
          [
           "Muy mal servicio. te dejan esperando para ver si hay mesa<br>disponible cuando se encuentra vacio. el mesero nos dejó los<br>alimentos y hasta que me molesté pidiendo cubiertos y pan,<br>lo trajo, la comida está rica pero el servicio que dan de<br>malas y como haciéndote el...más"
          ],
          [
           "Qué hotel tan malo en la vida. nunca me imaginé que<br>existieran hoteles tan malos a ese precio. señores: cierto<br>es que la habana es muy divertida y que la experiencia es<br>única, pero pagar más de €300 por noche por quedarse en una<br>pocilga de hotel que tiene los muebles rotos y el baño y la<br>cama como los dejaron antes de la revolución es un robo"
          ],
          [
           "Habitaciones sucias. me he hospedado por 3 días en este<br>hotel en la habitación 209 y para mí sorpresa al entrar a la<br>habitación a mi llegada decido tomar una ducha y he notado<br>que el wc no ha sido lavado por dentro y por fuera... las<br>sábanas de la cama tenían cabellos (4 para ser exacta)<br>seguido de ello una enorme mancha de sangre. cabellos en el<br>baño ... he ido directamente a recepción a dar mi queja y no<br>han dado solución alguna más que cambiarme de habitación la<br>213. la cual también nuevamente tenía cabello en la cama y<br>en el baño. una de las recepcionistas me dijo que ya habían<br>revisado la otra habitación y que no habían detalles. pues<br>volví a sorprenderme de la clase de \"limpieza e higiene de<br>este hotel\". también he tenido que llamar en repetidas a<br>recepción para pedir almohadas, toallas y…"
          ],
          [
           "Hotel decadente sucio y personal maleducado.. nunca jamas<br>volveré a ese hotel!!,me robaron de la caja de seguridad<br>1000 euros. nunca subio nadie a la habitación excepto yo y<br>el servicio.por lo tanto el que tenia la llave maestra de la<br>caja de seguridad fue el ladron. lo denuncie a la policía<br>pero ya vi que le prestaron poca atención y por supuesto no<br>resolvieron nada. mi primera mala experiencia en los 10 años<br>que voy a cuba."
          ],
          [
           "No recomendable. lo único bueno de este hotel es la<br>ubicación. estuvimos dos noches, la primera en el piso 9, en<br>las que nos tocó una habitación que tenía una fuga de aire<br>en la ventana, y el ruido no nos dejó dormir bien. alegamos<br>y nos cambiaron al piso 23, en el que se notaba que la pieza<br>estaba muchísimo mejor mantenida y limpia. eso si el día<br>siguiente no salió agua, por lo que no nos pudimos duchar.<br>llamamos y dijeron que iban a mandar a un técnico que no<br>llegó nunca. las señoritas de la recepción con muy mala<br>actitud. además hacía mucho frío en las piezas y no se podía<br>regular la temperatura y en la entrada del hotel habian tres<br>prostitutas. el desayuno bastante bueno y variado, aunque<br>notese que los platos estaban mal lavados y sucios! sin<br>comentarios."
          ],
          [
           "Inaceptable en un 5 estrellas.. pase una noche en este<br>hotel, en una suite, es decir una habitación que tenia 2<br>baños, por suerte! llegue al hotel aprox 8 pm y tenia que<br>salir a la brevedad a un show. cuando intento utilizar el<br>baño, el inodoro , que tenia la cinta dando garantia de<br>esterilizado, estaba sucio, literalmente: la tabla del<br>inodoro esta toda orinada. por suerte la habitación tenia<br>otro baño que pude utilizar. baje a la recepcion, les avise<br>que salia y que por favor limpiaran el baño, cuando regrese<br>a la 1 am, el baño seguia en el mismo estado!!! llamo por<br>teléfono y no sabian nada, me dicen que \"iban a ubicar a la<br>camarera\" les cuento que para el día siguiente a las 12<br>cuando hice el check out el baño seguia igual...... como me<br>queje al retirarme, me reglaron una cajita de<br>bombones....... alguien…"
          ],
          [
           "Mal hotel. pesimo hotel. de hyatt no tiene nada. mala<br>ubicacion , muy costoso para lo que ofrece mal servicio a la<br>habitación frutas malas y alto costo olvido en atreglar mi<br>habitación costoso en todo mucho calor en la habitacion"
          ],
          [
           "¡no te alojes aquí!. este hotel es horrible, la habitación<br>era horrible, las paredes estaban manchadas, lleno de moho,<br>aterrado por si no volvíamos horrible. la cama parecía que<br>faltaba el colchón y tenía algún plástico que debajo de la<br>sábana, yo no pude dormir bien. el personal era amable en<br>general appart desde el chico que me dio esta habitación<br>horrible. nunca me alojaré aquí de nuevo, ni gratis! gracias<br>a dios que fue sólo una noche."
          ],
          [
           "Absolutamente a evitar. huele mal, vieja y sucia, lo demás.<br>. simplemente horrible! renovación de las necesidades en<br>cada parte, desde el vestíbulo, restaurante a a las<br>habitaciones. las habitaciones olían mal, sucios, en piezas.<br>. . . sábanas sucias. . . wc rota.. . : evite. estaría más<br>cómodo en una carpa en el medio de un jardín que en tal<br>habitación. . . y el precio que pagar por una pesadilla es<br>simplemente un robo! usted debe ser pagado para dormir en<br>sus camas!"
          ],
          [
           "Pesimo. al llegar al hotel, me asignaron una habitación que<br>olia fatal, me cambiaron al dia siguiente a otra habitación<br>y no estaba lista, la mucama no hizo el aseo un dia, en<br>general muy mal servicio los meseros del área de desayuno no<br>tienen nigun tipo de atención. no vuelvo a hospedarme en ese<br>hotel."
          ],
          [
           "Pésimo y puede mejorar. aunque es un hotel cómodo tiene<br>muchos detalles en control de plagas, amenidades en el baño,<br>las llaves de las habitaciones se desactivan y hay que<br>activarlas en recepción diariamente y lo peor es la atención<br>del \"gerente\" nocturno."
          ],
          [
           "Un autentico desastre,sucio,mala calidad y servicio fatal.<br>hotel antiguo,baño da asco,el personal desagradable,cuando<br>llueve cae agua hasta por el ascensor,en las llamasas de<br>telefono te roban descaradamente ,en resumen no vuelvo por<br>60 euros en oferta,este hotela no vale ni 20 euros"
          ]
         ],
         "hovertemplate": "Topic=2<br>Label=Negative<br>Dim 1=%{x}<br>Dim 2=%{y}<br>Importancia=%{marker.size}<br>Comentario original=%{customdata[0]}<extra></extra>",
         "legendgroup": "2, Negative",
         "marker": {
          "color": "#636efa",
          "size": [
           270.3572551064813,
           86.96883527170583,
           74.11078053175564,
           122.83648832297534,
           313.4910634130761,
           205.73140951013286,
           151.60684881155194,
           58.00560083147583,
           761.5334630134794,
           166.1757999818845,
           1321.059579958834,
           135.50825192656905,
           143.87368397215937,
           49.55550531938587,
           105.40018558696099,
           95.9555231829661,
           325.3799668482069,
           144.09368371743855,
           461.42603420769814,
           82.75746177784742,
           228.7296676817084
          ],
          "sizemode": "area",
          "sizeref": 12.289861556866619,
          "symbol": "circle"
         },
         "mode": "markers",
         "name": "2, Negative",
         "opacity": 0.8,
         "orientation": "v",
         "showlegend": true,
         "textposition": "top center",
         "type": "scatter",
         "x": [
          0.19947261288429025,
          0.22031234591318913,
          0.13081626815751762,
          -0.050952665148301976,
          -0.35712679485027526,
          -0.27746128448589624,
          -0.10439648542985475,
          -0.26767475757731307,
          0.24466030880285827,
          0.23039269053505013,
          -0.15395338035067907,
          -0.29525784148770634,
          -0.0818061326195265,
          -0.1981243833896491,
          -0.10531295259643232,
          -0.23461813555666325,
          -0.17393133876731953,
          -0.021771416400422853,
          -0.2004520048040239,
          -0.2749017338134548,
          -0.13696521139544
         ],
         "xaxis": "x",
         "y": [
          -0.40540277129963587,
          -0.28440964082896436,
          0.029050493327586878,
          -0.048479294449828444,
          0.047003977549635576,
          0.04641946979652285,
          0.03692955744449334,
          0.02181734060117437,
          -0.10766294350570318,
          -0.03530330029870359,
          0.071725315391728,
          0.1395435278596755,
          0.09412406465572057,
          0.012060426788342132,
          0.008356052210756632,
          0.031791046043921134,
          0.11603458916290427,
          0.04946516338356916,
          0.11602788121444396,
          0.03235653401020486,
          -0.0650783971981397
         ],
         "yaxis": "y"
        },
        {
         "customdata": [
          [
           "Excelente !!. hotel 5*.-inmejorable ubicación.-muy<br>confortable,espacioso,instalaciones de alto nivel.-cuatro<br>restorantes muy buenos.-barra bar en el loby principal muy<br>de acuerdo a la jerarquia del hotel.-piscina y restorant en<br>la terraza(presencie la sinfonica de cuba en vivo mientras<br>cenaba).-habitacion muy comoda y limpia.--personal muy<br>atento y solicito.-todas las noches en el loby musica en<br>vivo.--me aloje del 03-09 al 09-09-16 con mi mujer.--<br>recomendable!!"
          ],
          [
           "Excelente hotel ejecutivo. muy buen servicio, las<br>instalaciones son muy comodas, las habitaciones son bonitas,<br>todo esta en orden, todos en el hotel son muy amables y<br>atentos, la comida es de muy buena calidad, el servicio en<br>el restaurante es de los mejor."
          ],
          [
           "Estancia cómoda. la habitación era muy cómoda y tranquila.<br>lo más importante es que estaba limpia y fresca. el personal<br>era cortés y servicial. sin duda me alojaría allí de nuevo<br>si fuera necesario. era el más conveniente para fácil acceso<br>al centro comercial y otros restaurantes cerca. el buffet de<br>desayuno era excepcional."
          ],
          [
           "Genial. desde que llegamos la atención fue muy buena y el<br>personal muy amable. la fachada del hotel es muy antigua (en<br>el buen sentido), solía ser un convento. las habitaciones<br>son amplias y muy cómodas con todas las amenidades. nosotros<br>llegamos porque reservamos por hoteles.com, y tenía un<br>descuento y nos cobraron la mitad."
          ],
          [
           "Lugar histórico. decidimos quedarnos en este hotel para<br>hacer un recuerdo de lo que la habana fue en sus días de<br>gloria. para disfrutar realmente de su estancia, usted debe<br>hacer usted mismo esta idea y hacer un esfuerzo para tratar<br>de colocar atrás en el tiempo. ahora que lo habéis hecho...!<br>tiene una muy buena ubicación, a 15 minutos del casco<br>antiguo de la habana. tiene dos bares al aire libre situado<br>en un maravilloso jardín con vista a la bahía. este es un<br>lugar muy agradable para relajarse en la tarde y tienen un<br>mojito mientras disfruta de la vista. la piscina estaba<br>recibiendo mantenimiento, así que no tuvimos la oportunidad<br>de bucear. las habitaciones y el baño son espaciosas y muy<br>limpias. la cama era muy cómoda. sirven un desayuno buffet<br>que está bien. no esperes que sea tan variada…"
          ],
          [
           "Siempre gran servicio. siempre trato de hospedarme en<br>hoteles de la cadena ya que siempre nos han ofrecido un gran<br>servicio por parte del personal y sobre todo limpieza,<br>comodidad y gran descanso. las instalaciones siempre de<br>primera al igual que el servicio del personal."
          ],
          [
           "Una muy buena opción de estancia. el hotel está muy bien<br>ubicado para diversas actividades que quiera o necesite uno<br>realizar además es un hotel que cuenta con todas las<br>comodidades necesarias para tener una estancia placentera<br>bueno para toda la familia"
          ],
          [
           "Linda estancia. excelente servicios de los<br>restaurantes,habitaciones limpias y buen confort,la piscina<br>deliciosa asi como tambien el hotel muy bonito,decoracioned<br>excelentes,hambiente muy de familia y acogedor,gracias al<br>departamento de rrpp y su lider johnny la pasamos<br>genial,cubanos simpaticos"
          ],
          [
           "Lugar perfecto para personas mayores como nosotros. nos<br>gusta sea garden por su ubicación en la playa y una gran<br>piscina caliente justo en la puerta. personal de actividades<br>encabezado por ab sabe cómo implicar a ancianos y jóvenes<br>por igual. las suites están limpias y el servicio dos veces<br>al día. el restaurante es una operación de calidad y otras<br>opciones cerca. autobuses y camionetas para cualquier<br>dirección están también a pocos pasos, así como las dos<br>tiendas de conveniencia. preparamos la mayoría de nuestra<br>propia comida, pero también hay habitaciones estudio pero<br>sin servicio de café."
          ],
          [
           "Excelente. muy buenas instalaciones, picinas y restaurantes,<br>la playa semiprivada muy buena por amplia y limpia, les<br>falta en los show nocturnos, muy pobres. los precios de las<br>comidas y bebidas en los restaurantes son costosas, es mejor<br>contratarlos incluidos. en si el hotel es bueno y lo<br>recomiendo para unas vacaciones en familia."
          ],
          [
           "Excelente atención , puede mejorar las instalaciones. los<br>servicios del hotel son realmente muy buenos la atención de<br>la gente es espectacular playa relativamente tranquila y con<br>buena infraestructura ubicado a 45 minutos en taxi del<br>centro de puerto vallarta, del malecón particularmente y a<br>30 minutos del aeropuerto habitaciones amplias,los colchones<br>podrían mejorar el restaurant zen es muy bueno,aunque el<br>vino de la casa no pasa la prueba buen gimnasio recomendable"
          ],
          [
           "Restaurante insu. el hotel bueno pero deberían de cuidar mas<br>el mantenimiento tanto en la habitacion como en las<br>albercas; he de resaltar la atención muy bien del joven<br>sergio martinez en el restaurante insu; la verdad un<br>excelente servicio y los platillos que pedimos de primera<br>calidad, lo recomiendo ampliamente, felicitaciones"
          ],
          [
           "Meliá habana - excelente!. nos alojamos en el meliá habana<br>después del primer aterrizaje, durante dos días para<br>explorar la habana. el hotel era precioso, con un gran<br>vestíbulo y la zona de bar. la comida era muy buena.<br>llegamos tarde en la noche, y fuimos a la cafetería las 24<br>horas (abajo). nuestra habitación era una suite de esquina -<br>absolutamente fabuloso, con un gran balcón. realmente<br>precioso; nos sentimos totalmente nulas. proporcionan un<br>servicio de autobús hacia la habana para libre, así que<br>hicieron uso de este para explorar la habana. mientras que<br>la habana fue un poco decepcionante, el hotel en sí era<br>excelente y el servicio de primera categoría. meliá habana<br>gracias."
          ],
          [
           "Una bonita estancia en familia como siempre una atención muy<br>cálida, recomendable y buenos precios. un excelente hotel,<br>limpio, agradable, tranquilo, cómodas camas, buena alberca,<br>buen restaurante y lo que más me gusta de todo es la<br>atención, nunca nos decepcionan, de verdad su trato es muy<br>cálido desde el área de reservaciones, la recepción, los<br>valet, su directora américa sabe cómo hacer que su personal<br>ofrezcan un servicio de primera, realmente tienen muy buenos<br>precios. es de mis favoritos para viajar con la familia al<br>puerto de veracruz. lo recomiendo completamente."
          ],
          [
           "Mi mejor opción. excelente ubicación, excelente servicio,<br>todo el personal siempre amable y atento a cualquier<br>necesidad que tenia y muy buenas sus instalaciones, sin duda<br>alguna mi mejor opción por sobre muchos hoteles de la misma<br>zona"
          ],
          [
           "Muy buen hotel. llegando a la habana nos hospedamos en este<br>hotel, sus instalaciones son muy amplias pero a la vez<br>acogedoras, está ubicado frente al malecón donde los<br>atardeceres son preciosos, frente a un centro comercial que<br>para estar en la habana es muy completo además tiene<br>espectaculos, un buen y surtido bar, muy buena atención de<br>su personal. la habitación escogida fue de nustro total<br>agrado, muy amplia, con tina de hidromasajes. tal vez el<br>único detalle es que la ducha no tiene soporte por lo que es<br>un poco difícil esa maniobra y además el tema del gimnasio<br>(hay que pagarlo aparte) . la piscina es muy amplia y<br>relajante. en general muy buen hotel 100% recomendable. si<br>se quiere visitar la habana vieja está en taxi a 10 minutos,<br>6 cuc de viaje."
          ],
          [
           "Muy buen hotel. nos alojamos un par de noches en el hotel y<br>lo disfrutamos. la habitación estaba bastante bien y estaba<br>limpia, con camas cómodas. estábamos en la 8ª planta y tenía<br>una gran vista de la habana y el mar. el desayuno era bueno.<br>hay una preciosa zona para tomar una copa o comer. comimos<br>una vez allí y la comida era genial. los precios de las<br>bebidas eran acceptible. no probamos la piscina. la<br>desventaja es que el hotel está bastante lejos del centro de<br>la ciudad, se puede caminar o 6-7-10 cuc en un taxi. la<br>ducha no estaba al nivel que uno esperaría que fue un poco<br>decepcionante. no hay acceso a internet."
          ],
          [
           "Muy buen hotel con excelente ubicacion. el hotel es muy<br>bueno como todo iberostar, tiene un desayuno excelente y<br>varios restaurantes a la carta que para lo que es la<br>atención en cuba son excelentes al margen de ser muy buen<br>hotel, tiene una vista maravillosa desde su terraza y<br>piscina y la ubicación del mismo es inmejorable, en plena<br>habana vieja y a 4 cuadras del malecón"
          ],
          [
           "Excelente alternativa de hospedaje en santa marta. excelente<br>ubicación, instalaciones impecables, atención profesional<br>por parte de todo el staff del hotel. el diseño de los<br>espacios (lobby, comedor, habitación y terraza ) de<br>excelente buen gusto, en general, un opción muy recomendable"
          ],
          [
           "Janeth osorio. el hotel tiene muy bien todas sus<br>instalaciones ,el costo de se me hizo adecuado para la zona<br>en la que está ubicado , el personal muy atento , la<br>habitación cumplió mis expectativas todo muy limpio la cama<br>muy cómoda y el restaurant la comida deliciosa , esta serca<br>de los centros comerciales así que puedes salir en las<br>tardes. todo el personal siempre dispuesto a ayudar , todos<br>muy atentos , en realidad fue una muy buena experiencia ,<br>definitivamente regresaríamos ."
          ],
          [
           "Excelente hotel. estuve del 14 al 19 de febrero de 2012, en<br>el nuevo edificio torre del mar, excelente sitio, muy buen<br>servicio, comida muy buena, todo perfecto, para repetir"
          ],
          [
           "Cómodo y práctico. bien, nuevo hotel conectado al aeropuerto<br>de monterrey hizo que mi breve estancia bastante agradable!<br>mi habitación estaba muy limpia y nueva, el personal del<br>hotel era muy agradable y hablaba inglés, y yo disfrutamos<br>del gimnasio. excelente ubicación cerca de la mayoría de las<br>empresas u. s.. la mejor parte es que no puedes oír los<br>aviones!"
          ],
          [
           "Excelente hotel. esta muy bien ubicado, limpio, nuevo.estuve<br>3 dias y me parecio muy agradable, hay muchos resurantes y<br>bares cerca para despues del trabajo, incluso con centro<br>comercial para regalos en esta fechas navidenas"
          ],
          [
           "Excelente hotel. excelente hotel. deberían tener una<br>cafetera en la habitación para preparar café. falta una<br>pequeña cafetería para comidas rápidas. el personal es muy<br>amable y siempre está preocupado por la calidad y la<br>atención del servicio."
          ],
          [
           "Muy bueno. el hotel cumplia con las expectativas q<br>llevabamos... teniendo en cuenta el pais donde esta<br>ubicado.habitaciones limpias...lobby enorme y comodo,buffet<br>desayuno bueno,lo unico q no me parecio correcto es cobrar<br>entrada para la discoteca del hotel,se entiende q es un<br>servicio q ya estas pagando."
          ],
          [
           "Excelente hotel. hotel hermoso, centrico, las habitaciones<br>muy espaciosas hasta con hamaca y sala de tv, muy hermoso y<br>amplio, me gusto el hotel estube 3 noches y me atendieron de<br>maravilla, el servicio de restaurante muy sabroso, rapido y<br>te atienden de lo mejor, lo recomiendo muy muy ampliamente,<br>es economico y muy limpio y agradable."
          ],
          [
           "Muy recomendable. si vas a mérida excelente opcion para tu<br>estancia, bonito hotel, habitaciones cómodas y confortables,<br>buen servicio y amabilidad en el trato, la comida variada y<br>de buena calidad, impecable funcionamiento de aire<br>acondicionado"
          ],
          [
           "Más de lo que esperaba. en mi primer viaje a mérida fui en<br>busca del hotel que en esta página ponen como el número<br>uno... solo diré que un hotel que se diga estar en el número<br>uno de una lista no puede ofrecerte una habitación con un<br>baño fuera de la misma. así fue como di con el castellano<br>por pura casualidad y la verdad fue muy sorpresa muy grata.<br>el check in fue muy rápido, inmediatamente me llevaron a la<br>habitación, ubicada en el piso 9, y mi segunda sorpresa fue<br>la vista que tiene, la cual por la noche es sin dudas<br>insuperable, directamente a la catedral. la habitación<br>contaba con todo lo necesario: tv, caja de seguridad, dvd,<br>un escritorio, así mismo el baño estaba bastante limpio y<br>con todo a la mano. a la cama sin dudas le doy un 9 de 10<br>muy cómoda... tomé el desayuno buffet del hotel, la…"
          ],
          [
           "Un oasis de tipo. sabíamos que la habana hubiera comida<br>diferente de lo que estábamos acostumbrados a y estábamos<br>preparados para aceptar esta idea. la experiencia de<br>preparación de los alimentos en la ciudad es que la calidad<br>y el sabor son muy variables. estábamos intentando encontrar<br>un restaurante...con un nivel uniforme de calidad. este<br>restaurante ofrece ese nivel coherente. los precios también<br>son fantásticas y el servicio es fantástico. si te sientas<br>arriba en el balcón, tienes una vista del malecón. esto vale<br>la pena visitar si quieres comida bien preparada.más"
          ],
          [
           "¡qué maravilloso resort. acabo de pasar una semana<br>maravillosa en el complejo con muchos de mis compañeros de<br>trabajo. nos ascendieron a una increíble cuatro dormitorios,<br>4 suite baño gratis y era increíble. la comida era muy buena<br>y el servicio era increíble. me encantó este resort y espero<br>volver en el futuro. y sobre las camas, me encantó el<br>colchón firme. he oído tantas personas se queja de lo<br>difícil las camas eran pero tengo que discrepar, fueron muy<br>cómodas."
          ],
          [
           "Excelente lugar. excelente hotel, con una muy buena<br>ubicación a unas cuantas cuadras del centro, la atención del<br>personal es excelente son muy amables, la comida muy rica y<br>un excelente desayuno bufete. lo recomiendo ampliamente"
          ],
          [
           "Viaje familiar. nosotros viajamos el primer fin de semana de<br>septiembre, era la primera vez que visitabamos merida y fue<br>una experiencia de lo mas linda. los cuatro dias que nos<br>hospedamos en el hotel mision panamericana fueron muy<br>agradables. josue y pablo con la disponibilidad para<br>ayudarnos ya sea para la renta del carro ó los servicios<br>para contratar un tour. la camarista isabel siempre mantuvo<br>nuestra habitacion en orden. luis el mesero muy cordial muy<br>buena atencion para mis hijas. carlos, wendy y joel nos<br>ofrecieron muy buen servicio."
          ],
          [
           "Muy bien ubicado, buenas instalaciones, con problemas que<br>solo ocurren en la habana vieja. llegamos a este hotel<br>derivados desde el hotel telégrafo. nos dieron una buena<br>habitación, silenciosa, en el 4to piso. el desayuno es<br>correcto. la ubicación, espectacular. tiene una terraza para<br>desayunar con una vista excelente, y como la mayor parte de<br>las veces el ascensor no funciona, se puede descubrir que en<br>el penultimo piso está la habitación que frecuentaba<br>heminway... como la habana vieja tiene problemas de<br>suministro de agua, hay que bañarse cuando logran que les<br>llenen de agua las cisternas."
          ],
          [
           "Unas vacaciones geniales en recuerdos miramar. estuve con mi<br>novio en el hotel durante 4 días. el hotel es fantástico y<br>sirven una excelente comida. la gente que trabaja allí son<br>serviciales. nos lo pasamos de maravilla! la piscina es<br>enorme y : -)))))))"
          ],
          [
           "Buen lugar. me apreció un lugar con una excelente ubicacion<br>sus instalaciones no son las mejores pero aun asi mi<br>estancia no se vio opacada por esto, en el restaurante la<br>comida estuvo muy rica y de excelente calidad, en cuanto a<br>recepcion las señoritas miriam y xochitl fueron muy atentas<br>y amables lo cual me parecio una increible bienvenida por<br>parte de ellas , viajé para la cuidad de monterrey por un<br>evento familiar y repito por la buena ubicación mis<br>familiares no tuvieron problemas en reconocer este hotel."
          ],
          [
           "Excelente descanso. este hotel es excelente para descansar,<br>las habitaciones son muy cómodas, la limpieza es excelente.<br>tiene más de 3 restaurantes para elegir diferentes platos y<br>los precios son muy buenos en relación con la calidad. el<br>buffet es la mejor elección por la gran variedad. si llegas<br>más temprano o entregas la habitación tienes el hospitality<br>room, donde se puede disfrutar del hotel. el transporte del<br>hotel-aeropuerto y vs, se debe programar un día antes."
          ],
          [
           "Un hotel muy tranquilo. habitaciones cómodas, buena<br>ubicación, ya que se encuentra cerca del centro y malecón de<br>la ciudad, en lo personal, no me gusto mucho el restaurante,<br>pero cerca del hotel hay muchas opciones para comer."
          ],
          [
           "Vacaciones de invierno hotel cartagena. fantástico hotel;<br>cumple con todo lo que se necesita para disfrutar unas<br>exquisitas vacaciones; puede ser en pareja; solo o en<br>familia..hay mucha recreación tiene el bar abierto si es all<br>inclusive; de lo contrario pagas sólo un valor bajísimo al<br>lado del centro comercial bocagrande; taxis fuera del hotel;<br>a minutos de la ciudad amurallada y frente a la playa ideal<br>y fantástico"
          ],
          [
           "Expectacular!!!!. estuvimos en este restaurant de la habana,<br>y nos imprecionó todo, el servicio impecable , todos muy<br>profesional, y con alta calidad.el lugar es hermoso, vale la<br>pena cenar en este sitio y deleitarse con su acojedora vista<br>de la cuidad...."
          ],
          [
           "Excelente estancia. me gusto mucho el hotel, muy bonito y<br>acogedor, el desayuno bufete esta muy bueno. las vistas que<br>tiene el hotel refleja perfectamente la esencia de la<br>ciudad, dando excelentes vistas de los atardeceres y de las<br>bonitas mañanas que refleja las ventanas."
          ],
          [
           "Vacaciones cortas. el servicio en el hotel es lento pero eso<br>se compensa con la amabilidad de la mayoría de su personal.<br>es normal encontrar una sonrisa o un buenos días de parte de<br>los empleados. la comida es de buena calidad sin llegar a<br>ser grandes creaciones del chef del hotel."
          ],
          [
           "Buen restaurante. en las cercanias de la plaza de la<br>catedral, en un callejón lleno de gente y restaurantes, al<br>fondo, se encuentra este establecimiento recomendable.<br>obligatoriamente hay que reservar."
          ],
          [
           "El restaurante gourmet por excelencia. antes que nada aclaro<br>que no quería ir a este lugar, pero fue el reclamo de 3<br>amigas españolas pedían cenar aquí no hacerme caso a mi<br>preludio de que era una los sitios más caros para comer en<br>la habana. hay que reservar siempre...más"
          ],
          [
           "Renovando las instalaciones. nueva visita al comodoro, y<br>tengo que discrepar de algunas opiniones, en principio estan<br>renovando la mitad del hotel y eso ocasiona algunas<br>molestias, pero el resto estan muy bien, ahora en estos dias<br>han remodelado los accesos con una especie de boulevard en<br>la calle central del centro comercial que finaliza en la<br>puerta del hotel, y en la parte del alborada, impecable las<br>mejoras realizadas, con camas balinesas y comodidad de 10,<br>enhorabuena a su director omar milian y a jaslen directora<br>comercial, por el trabajo que estan realizando, que no es<br>poco y todavia queda mucho por hacer, desde españa un<br>afectuoso saludo"
          ],
          [
           "Una ubicación fantástica. el hotel tiene una ubicación<br>fantástica en la habana vieja y es una base estupenda para<br>explorar la arquitectura local, bares y restaurantes. tiene<br>una zona bastante grandioso apariencia en el exterior y la<br>zona del vestíbulo es bastante impresionante también, pero<br>las habitaciones no son nada especial, la nuestra olían a<br>humedad y la vista desde nuestra ventana era de las unidades<br>de aire acondicionado en el techo. sin embargo, si sólo<br>quieres una base para explorar la habana para un par de<br>días, entonces, éste podría ser fácilmente el lugar para ti."
          ],
          [
           "Muy agradable. me encanta este hotel, muy buena categoría y<br>precios muy accesibles, ademas esta enfrente de plaza<br>angelópolis, y se puede llegar rápido al centro. la alberca<br>techada aunque es pequeña, le encanta a mis hijos."
          ],
          [
           "Vacaciones familiares. buena atención de todo el personal<br>,en especial las personas que atienden el desayuno,<br>excelente los masajes y servicio de spa,ideal el servicio de<br>acceso a playa privada y pública.instalaciones siempre<br>limpias y acogedora,personal muy amable.daniela pajaros<br>buena forma de abordar solicitud de encuesta de<br>opinión.piscinas muy buenas y hay que destacar el servicio<br>de toallas no visto en otros servicios hoteleros. destaco<br>también la arquitectura colonial del hotel y la precencial<br>de flora y fauna."
          ],
          [
           "Restaurante de 10!recomendadísimo!. hemos pasado unos días<br>de vacaciones en la habana y uno de ellos comimos<br>casualmente en casa mia (¡bendita casualidad!)la comida<br>estaba muy rica, platos elaborados y bastante bien de<br>precio. el local limpio, decorado con muy buen gusto y el<br>servicio amable desde el...más"
          ],
          [
           "Muy bueno en relación al precio. el hotel me sorprendió<br>gratamente, muy buena atención del personal, siempre<br>dispuestos a resolver cualquier inconveniente y con la mejor<br>sonrisa. las habitaciones muy cómodas y amplias. fui solo<br>con desayuno y también si no tenes ganas de salir del hotel<br>tenes la opcion de cenar en el buffet o restaurant a la<br>carta y cargar los gastos a la habitación. ( ese sistema<br>está muy bien controlado y es agil) lo recomiendo por su<br>relación precio y servicio, además de su buena ubicación."
          ],
          [
           "Excelente restaurant. muy buena atención por parte del<br>camarero irvin, además de ser un lugar encantador para una<br>cena en familia. mi primera vez... espero volver pronto.<br>saludos"
          ],
          [
           "Restaurante cool en un edificio loco. vi las recomendaciones<br>para este restaurante antes de dejar el reino unido, así que<br>reservé una mesa en línea con antelación. ubicado en un<br>edificio de extraordinaria putrefacción. excelente servicio<br>y buena comida. una visión de la ultra moderna cocina era<br>muy tranquilizador. los servicios...unisex también están<br>bien merece una visita. después de cenar nos subimos la<br>escalera hasta el bar de la azotea con una vista increíble<br>de la ciudad. gran ambiente. reservar con antelación.más"
          ],
          [
           "Agradable sorpresa en el centro del vedado. café laurent me<br>sorprendió desde mi llegada, nos lo habían recomendado como<br>uno de los sitios de moda en la ciudad, además de por su<br>buena cocina. una entrada luminosa, con acompañamiento hasta<br>el ascensor, que nos lleva al penthouse, fue el preludio de<br>lo...más"
          ],
          [
           "Muy bonito acogedor. cerca del aeropuerto , hermoso cómodo,<br>limpio y con buena cocina. me hospede en torre del mar . el<br>centro de convenciones esta cerca, y hay pasadizos para<br>evitar riesgo con el trafico de autos. es un poco caro, y no<br>hay sistema all inclusive, que da lejos de restaurantes<br>aparte por lo que tienes que movilizarte en taxis, la<br>alimentacion es in poco cara , el cambio de dolar a peso no<br>te conviene, alli . eso se evita pagando todo con tu<br>tarjeta. puedes comer en varios restaurantes alli y en casa<br>de playa, varias piscinas y bares ademas de show. voveria a<br>ir a pesar de el precio."
          ],
          [
           "Hotel fantástico. maravilloso hotel, el mejor ubicado en<br>toda la habana. servicio excelente y su director alfredo<br>lachos muy profesional, y siendo miembro de club de habanos<br>se pueden degustar buenos puros.el ambiente es muy bueno y<br>caluroso. bravo al equipo. felicidades"
          ],
          [
           "Buen hotel ...... este es uno de los buenos hoteles en la<br>habana , se encuentra alejado del casco antiguo de la ciudad<br>, pero cuenta con un bus gratuito para el traslado al centro<br>, en varios horarios durante el día , lo que lo hace<br>bastante cómodo . esta ubicado a la orilla del mar y cuenta<br>con habitaciones con grandes terrazas con vista al océano y<br>a la enorme piscina . las habitaciones son amplias , pero un<br>poco anticuadas en su decoración , igualmente ocurre con los<br>baños . el desayuno buffet , es muy bueno , con mucha<br>variedad y excelente calidad de los productos ."
          ],
          [
           "El mejor en la habana, en frente de la playa (malecón).. el<br>mejor hotel que puedes conseguir en la habana, ubicación. es<br>genial en frente de la playa (malecón), un poco caro para lo<br>que te dan. . . el personal del hotel estupendo servicio, e<br>gi el buffet de desayuno es muy bueno! ! zona de la piscina<br>es sobrina. . . gran bar, con vista increíble! ! casi me<br>olvido, hay un bar de cigarros, donde se puede fumar en el<br>interior. . . maravilloso! ! !"
          ],
          [
           "Ubicación - descanso y lujo. un hotel nuevo con todos los<br>servicios que un ejecutivo necesita ., además la cocina es<br>muy buena recomendable el desayuno bufett súper completo<br>además son muy serviciales . desde que llegas están muy<br>atentos excelentes instalaciones es mi hotel preferido en<br>puebla."
          ],
          [
           "Muy buen hotel, recomendable . recomiendo ampliamente este<br>hotel con buena ubicación cerca del aeropuerto, excelente<br>atención del personal desde tu llegada, habitaciones<br>limpias, cómodas y cuentan con lo necesario para tu<br>descanso, en general todo bien"
          ],
          [
           "Comida abundante y sabrosa. en este restaurante ubicado<br>frente al capitolio, en el corazón de la habana vieja, hay<br>que hacer cola en la calle para poder entrar. entre 30 y 45<br>minutos de espera a las 20.30 hs. el salón es amplio,<br>decorado muy singularmente y con las...más"
          ],
          [
           "Grandioso. excelente servicio rapidez y amabilidad del<br>personal, bien ubicado y buenas instalaciones. comida<br>sabrosa y amable servicio de los meseros y demás personal.<br>limpieza muy bien cuidada en todas las áreas del hotel y en<br>la habitación. muy comodo"
          ],
          [
           "Excelente hotel de época.. excelente hotel! nos atendieron<br>super bien. la ubicación perfecta, frente al parque central,<br>pegado a la habana vieja. es un hotel antiguo pero<br>conservado de manera excelente. muy vistoso. se puede<br>visitar incluso sin hospedarse allí y acceder a la terraza,<br>donde hay un bar de muy buena calidad y mucho ambiente. las<br>habitaciones son muy lindas, mantienen el espíritu antiguo<br>del hotel, pero todo funciona perfecto. el desayuno<br>excelente, muy variado y bien preparado. impecable."
          ],
          [
           "Lo mejor de la habana. pasan los años y sigue siendo el<br>mejor hotel de la habana, el personal como siempre servicial<br>la limpieza siempre limpio, les pido que por favor sigan así<br>y sigan mejorando. los demás hoteles deben trabajar para<br>alcanzarlos"
          ],
          [
           "Excelente!!. hotel muy bien ubicado a 5 minutos en taxi de<br>la ciudad amurallada o 20 caminando por el malecón.<br>instalaciones muy bonitas, es un hotel muy moderno, cuenta<br>con 4 piscinas con vistas espectaculares al mar y a la<br>ciudad. la habitación muy cómoda y espaciosa. personal super<br>amable , siempre atento. volvería y lo recomiendo. ya me he<br>quedado en varios hyatt y siempre excelentes experiencias."
          ],
          [
           "Tranquilo y nuevo.. este hotel es bueno. tiene una fachada<br>de una casona antigua que restauraron y remodelaron para<br>servir de recepción y restaurante del mismo. los cuartos,<br>hasta donde entendí, sí son una parte de construcción<br>reciente. las camas muy cómodas, el baño muy limpio. los<br>cuadros de los cuartos no nos gustaron a ninguno de los 6<br>que fuimos pero pues no tiene ningún efecto en cómo<br>descansas. el aire acondicionado funciona perfecto y esto es<br>muy bueno porque en mérida puede hacer muchísimo calor. está<br>relativamente cerca de paseo del montejo y del centro<br>histórico pero sí hace calorcito para irse a pie desde el<br>hotel. el servicio... una mezcla de excelente y por un<br>detalle pésimo: * al llegar te dan unas galletas deliciosas<br>recién horneadas. * los dos señores que nos dieron servicio<br>de…"
          ],
          [
           "El mejor hotel en puebla, sin duda !!. excelente hotel<br>boutique, localizado en frente de plaza paseo san francisco,<br>a minutos de la catedral. con un excelente servicio de todo<br>el personal , tanto del hotel como del restaurant.<br>habitaciones amplias, cómodas y con detalles que las hacen<br>especiales. definitivamente es la mejor opción en puebla de<br>los ángeles."
          ],
          [
           "Súper hotel muy recomendable. la atención y la comida son<br>excelentes, el hotel muy cuidado, el personal toma muchas<br>precauciones para la seguridad de los clientes, te sientes<br>muy tranquilo. muy recomendable para ir de vacaciones en<br>familia o en pareja"
          ],
          [
           "Sin duda un acierto. un precioso hotel en pleno centro de la<br>habana vieja. te puedes desplazar caminando a muchos sitios<br>y delante del hotel tienes todo tipo de taxis. el personal<br>muy agradable y servicial. a nosotros nos dieron una suite y<br>la verdad que preciosa, cómoda, limpia y con unas vistas<br>increibles tanto al parque central como al paseo del prado.<br>el desayuno muy bueno y completo y la comida también muy<br>bien. nos encantó la piscina y su entorno. sin duda un lugar<br>para recomendar y para repetir."
          ],
          [
           "Hotel de siempre. no obstante a que merece una remodelación<br>capital (ya se aprecia con la instalación de nuevos<br>ascensores) el hotel habana libre sigue teniendo la magia de<br>siempre. la habitación muy buena y la atención excelente.<br>felicidades!!"
          ],
          [
           "Excelente hotel y excelente ubicacio. tienes muchas cosas<br>que nos agardaron primero su ubicacion tiene todo muy cercas<br>oficinas de gobierno,consulado americano,plazas comerciales<br>paseos centros financieros univercidades y sos habotaciones<br>son muy amblias muy limpias y confortables y el personal muy<br>atento"
          ],
          [
           "Mis mejores 15 díaz en cuba. excelente hotel, muy buen<br>servicio la comida exquisita las habitaciones lindisima, la<br>piscina grande los bares con todo tipo de bebidas, el<br>restaurante muy lindo con dependientes muy rápidos y atentos<br>me encanto el hotel espero volver pronto"
          ],
          [
           "Muy bueno. estuvimos 3 días en este hotel en la habana y nos<br>quedamos muy a gusto. las instalaciones son muy buenas a<br>pesar de estar en cuba. buena ubicación aunque no esta en el<br>centro de la ciudad. limpieza y desayunos correctos."
          ],
          [
           "Excelentes instalaciones. el personal es muy amable y<br>servicial las habitaciones súper cómodas desayunando<br>delicioso, lindo restaurante. el hotel otorga una vista<br>increíble, alberca y gimnasio 100% recomendable, perfecto<br>para visitar puebla"
          ],
          [
           "Muy recomendable. un hotel de estilo clásico, muy bien<br>conservado. limpieza exquisita. recepción con mas respuestas<br>que preguntas. pequeños detalles que hacen agradable la<br>estancia. cerca de todo, aunque no es el centro. buena<br>relación calidad precio"
          ],
          [
           "Place to be. me dedico al medio hotelero y el hotel esta<br>cómodo, en el centro tiene lo necesario para estar, sin mas<br>ni menos. la gente es amable, sin embargo puede dar el extra<br>que la industria pide. marlene realizo el ci muy linda quien<br>me dio un upgrade de habitación. tengo una segunda<br>reservación del día 8 al 11 de marzo, sin duda la<br>localización de este lugar ayuda mucho."
          ],
          [
           "Mejorar los elementos auxiliares del baño. excelente hotel,<br>aunque el valor para poder hacer uso mas seguido es costoso<br>a las habitaciones les falta mas decoración moderna pues es<br>muy tradicional. el jabón de la ducha es muy áspero y poco<br>cremoso"
          ],
          [
           "Hotel súper lujo. es un auténtico placer el quedarse en este<br>hotel, instalaciones nuevas, servicio maravilloso, desayuno<br>espectacular, terraza y piscina de ensueño. este hotel<br>recoge en un lugar estratégico en el paseo del prado un<br>hotel espectacular al que sin duda volveré sin dudarlo si<br>vuelvo a la habana."
          ],
          [
           "Grande y lindo. es un ambiente muy entretenido, en la<br>piscina y en el bar, la gente amable, el hotel limpio y de<br>buena calidad, el desayuno muy rico y las habitaciones muy<br>tranquilas, amplias y con todas las comodidades necesarias."
          ],
          [
           "Excelete hotel y vista. el hotel es espectacular. está muy<br>bien ubicado, a 5 min en taxi de la ciudad amurallada. está<br>al costado de un centro comercial, es parte del hotel, todo<br>unido. desde las piscinas que están en el piso 12, 13 y 14<br>se ve el mar con vista panorámica. súper lindo! hay<br>habitaciones con vista al mar y vista a la bahía (que es<br>súper lindo también y está por la espalda del hotel). yo<br>escogí habitación con vista al mar, creo q es una de las<br>mejores vistas de todo bocagrande dónde está todo el sector<br>hotelero. las habitaciones muy completas y cómodas. tuve un<br>problema en mi habitación y es que en las noches se<br>escuchaba muy fuerte el agua por las tuberías. luego lo<br>solucionaron. jessica, de atención al huésped fue muy amable<br>e inclusive tuvo la delicadeza de dejarme unos chocolates en<br>mi…"
          ],
          [
           "Buena experiencia. para estar en la habana y con todas las<br>restricciones que existen me pareció un buen hotel. el<br>personal es muy amable, te saludan en la recepción,<br>ascensores, también los maestros que estaban pintando en el<br>piso que nos alojamos. es un hotel con mucha historia,<br>ubicado muy cerca del malecón, a pasos de la heladería<br>coppelia. todas las noches en el último piso había música en<br>vivo y baile. me encantó bailé mucha salsa. adentro del<br>hotel puedes cambiar dinero, comprar habanos, comprar<br>recuerditos, tomarte un buen mojito, disfrutar de un rico<br>desayuno y buffet en la cena. al que me pregunte, yo lo<br>recomiendo."
          ],
          [
           "Excelente hotel. excelentes instalaciones, buen servicio, y<br>calidad en los alimentos, fue es una experiencia muy<br>agradable y me volvería a alojar sin dudarlo, la ubicación<br>es en la mejor zona, el personal muy atento en todo momento<br>y el proceso de facturación fue muy eficiente"
          ],
          [
           "Hotel muy agradable. a 20 minutos del aeropuerto. también se<br>tomó un largo tiempo, no sólo para mí, sino para todos. la<br>habitación era de un buen tamaño aunque no eran suficientes<br>y los pocos enchufes en la habitación no estaban<br>convenientemente ubicado. la cama un poco dura pero<br>manejable. buena ducha y artículos de tocador. la conexión<br>wifi era rápida y fiable. buen personal. el desayuno era<br>inmenso y de buena calidad. los ascensores eran lentos una<br>noche pero bien el resto del tiempo. sin duda me alojaría<br>aquí de nuevo."
          ],
          [
           "Una estancia decente en uno de los mejores hoteles en la<br>habana. con respecto a los hoteles en otras ciudades del<br>mundo, son hoteles en la habana todos sub-la norma. el melia<br>cohiba es uno de los mejores hoteles en la habana y está<br>perfectamente bien. pero está muy por debajo de los mejores<br>hoteles de otras ciudades. la habitación era amplia y estaba<br>limpia. colchón era un poco demasiado firme para mí. nuestra<br>habitación tenía una hermosa vista del agua pero las<br>ventanas estaban tan sucia la vista era obstruida. el<br>servicio del hotel es muy buena. el desayuno buffet es muy<br>grande pero la comida no es muy buena. el cigar bar en la 2ª<br>planta (club habana?) es increíble!"
          ],
          [
           "Excelente lugar en la habana. con una ubicación excelente, a<br>tan solo 100 mts de la universidad de la habana y a 400mts<br>del malecón. un nutrido desayuno. en su interior se<br>encuentra una casa especializada en habanos con precios un<br>40% mayores a los que se podrán negociar en varadero. en la<br>esquina del hotel hay una tienda de bebidas con excelentes<br>precios."
          ],
          [
           "Un buen lugar. muy bueno, tanto el servicio como la comida.<br>una terraza sensacional aunque los salones interiores<br>también son muy acogedores. la comida buena y de calidad. de<br>los restaurante de la habana top. la ubicación lo peor del<br>restaurante."
          ],
          [
           "Super recomendable. tuve la oportunidad de hospedarme con<br>mis hijos y quedamos fascinados, excelentes instalaciones,<br>la limpieza de la habitación, ubicación perfecta cerca de<br>cholula, del centro de puebla y de la plaza mas conocida,<br>angelopolis. pero lo mas destacable es el servicio, mi<br>reconocimiento a julio del front desk excelente servicio y<br>actitud, desde que llegamos siempre nos atendió de la mejor<br>y mas atenta manera. les recomiendo mucho el hotel, para<br>cualquier ocasión."
          ],
          [
           "Felicitacion. felicidades por la gran atención, las<br>habitaciones muy cómodas, amplias y con buena ubicación de<br>cada cosa, me fascino tener café disponible las 24 horas y<br>servicio de te, el restauran es muy como, solo debe mejorar<br>un poco mas el menu"
          ],
          [
           "Gran estancia. nos alojamos por dos noches en 16 th 2012<br>julio en la nueva parte que habíamos solicitado, la<br>habitación era muy moderna, y muy limpio.es un hotel<br>precioso, con un personal amable, ubicación estupenda ... no<br>tengo quejas se lo recomendaría a mis amigos y volvería de<br>nuevo ..."
          ],
          [
           "La quinta es un hotel muy agradable!!!. es la segunda vez<br>que me hospedo en este hotel, es moderno, con toques<br>minimalistas, con buenas instalaciones y con una esmerada<br>atención de su personal. está muy bien ubicadísimo, en la<br>zona comercial y residencial de angelópolis en puebla."
          ],
          [
           "Hotel para descansar. el hotel en si es bonito y bien<br>cuidado, posee dos piscina y tiene acceso a la playa. un 5<br>estrellas no es, y le falta bastante para serlo, los<br>restorantes a la carta se deben reservar cada día (1<br>disponible por dia) y el buffet abierto siempre (almuerzo -<br>cena). la comida en general es buena, pero falta variedad<br>entre los días (siempre lo mismo). las habitaciones cómodas<br>y amplias, todas con terrazas con vista a la piscina y otras<br>al mar. por ultimo todo se acaba a la 01:00 am a si que si<br>piensas ir a divertirte a este hotel, comienza a buscar<br>otro, porque es un hotel muy tranquilo y fuera de cartagena<br>(centro). agradecimientos a jorge del buffet por su<br>amabilidad, haciendo lo posible por hacer nuestra estadía<br>mas placentera."
          ],
          [
           "Excelente. un excelente hotel, el perdonal muy amable, muy<br>céntrico con 2 centros comerciales justo en frente, los<br>cuartos espacios esta muy bien distribuido vale la pena un<br>servicio unico...y su restaurantes sin palabras. 100%<br>recomendable"
          ],
          [
           "Excelente hotel con muy buena ubicación. las instalaciones<br>del hotel son muy buenas, el hotel cuenta con varios<br>restaurantes todos muy cómodos y buena variedad de comidas.<br>las habitaciones de casa de playa son muy bonitas y cómodas<br>pero algunos detalles son un poquito anticuados porqué es la<br>torre antigua del hotel pero igualmente son recomendables.<br>el hotel cuentas con muy buenos servicios, la piscina del<br>piso 10 de la torre del mar tiene una excelente vista del<br>mar de cartagena, que no es el más bonito pero la vista del<br>mar siempre es imponente. el hotel está muy bien ubicado a<br>solo 5 minutos del aeropuerto."
          ],
          [
           "Estancia agradable. el hotel se encuentra bien ubicado<br>próximo al malecon. el servicio es fantástico al igual que<br>la restauración con estupendos desayunos. las habitaciones<br>son amplias y confortables, con buenas vistas hacia el mar."
          ],
          [
           "Buen hotel. es un excelente hotel. la atención del personal<br>y los servicios del hotel ofrecidos en el plan \"todo<br>incluido\" cumplió con mis expectativas: las alcobas con<br>cómodas, el baño esta bien dotado, la alimentación ofrecida<br>tipo \"bufet\" es excelente. la ubicación facilita el acceso a<br>diferentes puntos de interés de la ciudad: centro histórico,<br>centros comerciales, comercio, restaurantes. y por supuesto<br>la playa y acceso al mar. la piscina es muy pequeña<br>comparado con el aforo de personas que tienen derecho a su<br>uso y està ubicada en el piso 18 lo cual incomoda y<br>dificulta en ciertos momentos su acceso ya que se demoran el<br>uso del ascensor"
          ],
          [
           "¡me encanto!. el hotel se ve mas bonito en persona que en<br>las fotos que aparecen en internet. habia leído malos<br>comentarios aquí, que comenzaba a arrepentirme, pero<br>llegando al hotel, la atención de la recepcionista fue<br>excelente, el bell boy también fue muy atento y cuando<br>llegue a mi habitación, ¡me encanto! muy amplia y limpia, me<br>gusto mucho el hotel lo recomiendo mucho. instalaciones<br>limpias y personal muy atento. cabe mencionar que la<br>ubicación es excelente cruzando el puente se llega a parque<br>fundidora."
          ],
          [
           "Un nuevo concepto en lujo y confort. me encontré con algo<br>más que un hotel, habitaciones amplias, cómodas y con una<br>decoración muy fina, ubicados en la mejor zona de nuevo<br>vallarta, servicio en todas las zonas del hotel de primera<br>clase, concepto all inclusive que no tiene límites,<br>restaurantes con cartas bastas y exquisitas, mi hija la pasó<br>de lo mejor en la alberca del hotel y en la alberca privada<br>de nuestra habitación, sin duda volveré!"
          ],
          [
           "Bonito y limpio. servicio cortés. me alojé en una torre con<br>mis padres en el noveno piso. raúl y el otro tanto de<br>conserjería se desvivieron para hacer nuestra estancia<br>agradable. mis padres y yo nos quedamos dos meses y les<br>visitamos por un poco menos de dos semanas. los jardines<br>estaban impecablemente, el servicio era amable y inmediata y<br>la comida era de buena calidad. yo puedo recomendar este<br>hotel."
          ],
          [
           "Muy recomendable, bien situado.. excelente ubicacion en<br>plena habana vieja, lo forman dos hoteles unidos, el viejo y<br>el nuevo, estuvimos en la zona nueva.pero la zona del hall<br>vieja es preciosa donde puedes tomar una copa y puedes<br>fumar,algo q te sorprende ya q no estamos<br>acostumbrados,buena seguridad en el hotel y en sus entradas,<br>aunque no hay peligro,nos sentimos muy seguros en la habana,<br>en la azotea hay piscina donde se esta muy bien con vista<br>muy bonitas de la ciudad viéndose el capitolio, habitación<br>confortable, se puede cambiar divisa en el hotel con muy<br>buen cambio, mejor q en otros hoteles.de los mejores hoteles<br>de la habana sino el mejor."
          ],
          [
           "Bien conservado. este hotel lucha por mantenerse competitivo<br>en una alta competencia hotelera que existe actualmente en<br>cartagena. lo logra gracias a que el hotel está bien<br>mantenido y el servicio es bueno en todas sus áreas. muy<br>limpio y personal servicial. la zona semi privada de playa<br>es la mejor de bocagrande lo cual es un plus importante para<br>el hotel. algunos defectos en baños de habitaciones y otros<br>detalles lo alejan de ser un real 5 estrellas. otro detalle<br>que el hotel podría considerar es el costo de su menú. me<br>pareció muy caro lo cual hace que uno no dude en salir a<br>almorzar o comer por fuera. desayuno buffett decente y<br>suficiente aunque me hubiera gustado algo más de comida<br>típica como algunos fritos, suero costeño, etc."
          ],
          [
           "Fantastico. un hotel con instalaciones hermosisimas,<br>limpieza y cuidado al máximo, y el persona fenomenal, me<br>sentí bienvenido desde el primer momento, muy recomendado<br>espero poder volver muy pronto para alojarme mas tiempo"
          ],
          [
           "Excelente descanso. un hotel con instalaciones agradables,<br>una hermosa piscinas y comodas habitaciones que invoitan al<br>descanso y disfrute, la comida muy variada y buena calidad<br>un hotel como pocos se puede encontrar en cartagena."
          ],
          [
           "Buena atención. buena atención y excelente lugar, un lugar<br>cerca de donde iba a hacer compras, comer y disfrutar de la<br>ciudad. el desayuno muy bien y rico, todos los servicios son<br>excelentes. volvería a reservar en el mismo hotel la próxima<br>vez que visite la ciudad, quede muy satisfecho."
          ],
          [
           "Muy bueno. excelentes instalaciones, muy recomendado y<br>bonito. si personal muy atento y siempre dispuesto a<br>ayudarte. me gustaron muchos todos los espacios del hotel,<br>las piscinas, restaurantes, atención en la playa y demás."
          ],
          [
           "Un lugar acogedor. es restahurant hotel hermoso te atienden<br>muy bien el lugar es acogedor limpió la comida deliciosa<br>tienes si decoración muy bonita es amplio los baños están<br>limpios tienen valet parking, ahora con la pandemia tienes<br>que reservar primero para que puedas disfrutar de variedad<br>de platillos y los postres deliciosos te lo recomiendo has<br>tu reservación"
          ],
          [
           "Alejado del centro. el hotel está a unos 12 km de la habana<br>vieja. no es muy cómodo para moverse. es un hotel hermoso,<br>antiguo y con mucha historia, pero está muy descuidado. el<br>personal es muy amable. tiene varias piscinas y las<br>habitaciones son muy cómodas. el desayuno está muy bien,<br>variado y abundante, con vista al mar y con música en vivo.<br>es muy tranquilo."
          ],
          [
           "Muy buen hotel. bien ubicado, con varias plazas y<br>franquicias alrededor. la zona es un poco ruidosa pero me<br>consiguieron una habitación bastante silenciosa. las<br>habitaciones con muy limpias y confortables.el desayuno de<br>cortesía es muy bueno y variado."
          ],
          [
           "Ideal para recorrer la historia de la habana. el hotel en si<br>tiene una gran historia, ya que fue el lugar donde se<br>hospedaron y desde donde comandaron la revolución fidel, el<br>che y camilo una vez que entraron a la habana y asumieron el<br>poder. el lobby, restaurant y espacios de uso común son<br>hermosos, amplios, iluminados y muy concurridos, el bar es<br>muy bueno y ofrecen tragos de mucha calidad. las<br>habitaciones si bien están un poco venidas a menos, son muy<br>amplias y ofrecen tremendas vistas de la ciudad. estan<br>trabajando en la restauración de pasillos y habitaciones. la<br>ubicación del hotel es muy buena, cerca de todo y en una<br>zona de muchos restaurantes tipicos y paladares cubanos. el<br>desayuno es excelente."
          ],
          [
           "Muy bueno. el servicio que recibí en recepción, en el<br>restaurante, en las habitaciones confortables, en la<br>discoteca rezak, en la playa y la recreación fue muy buena y<br>divertida, también el servicio de bar en la piscina"
          ],
          [
           "El mejor restaurante en el paradise village hotel. la cocina<br>es italiana con una selección de características de<br>mariscos. hemos comido en il pescatore varias veces y nos<br>dieron una buena comida y un buen servicio. hay una completa<br>selección de vinos (tienen un malbec que está bien).<br>mientras usted puede sentarse fuera y dan a la marina,<br>elegimos para sentarse en el interior desde que visitamos en<br>julio."
          ],
          [
           "Experiencia muy linda y buena. hace una semana estuvimos mi<br>novio y yo en este hotel y nos sentimos muy a gusto. fueron<br>2 noches. el personal es excelente y muy profesional. cuando<br>llegamos el check in fue rápido y las chicas con una sonrisa<br>nos dieron toda la información al instante. la habitación<br>era estandar con cama matrimonial muy cómoda. la camarera<br>muy atenta con sus detalles en el servicio y el cuarto<br>siempre limpio. el desayuno espectacular variado el<br>restaurante abierto desde temprano. todo el personal es muy<br>amigable y son profesionales en lo que hacen. en las noches<br>hay show para bailar a lo cubano y se pasa súper bien. la<br>seguridad en el hotel es muy buena. esta bien ubicado en el<br>centro y se pueden visitar todos los lugares caminando.<br>nuestra experiencia fue muy buena y nos encanto visitar…"
          ],
          [
           "Bueno. muy bueno solo no habia secadora de cabello y las<br>almohadas estan aguadas. de ahi en fuera el servicio es<br>bueno. como sugerencia,, agregar cafe en las habitaciones<br>puede ser un plus para la calidad de atencio del hotel"
          ],
          [
           "Hermoso hotel colonial. muy buen hotel situado enfrente a la<br>playa, en un entorno muy lindo, y cerca de una de las calles<br>más importantes de la ciudad. el personal del hotel es<br>sumamente amable. las habitaciones son muy espaciosas y las<br>camas muy cómodas. el desayuno y la cena en el restaurante<br>pedro de heredia son muy buenos."
          ],
          [
           "Podría ser muy bueno!. este hotel tiene todo el encanto de<br>una muy buena corta o larga estancia. las habitaciones son<br>un poco anticuadas (ejecutiva) pero están limpias y el<br>personal para la decoración apenas fuera de moda. yo soy un<br>experimentado viajero de negocios y me alojaré aquí de nuevo<br>en 2 semanas, ya que yo bastante de la ubicación. diría que<br>el alto puntos son el personal (dorian en la zona del bar<br>recordaba a colegas nombre después de 2 meses!!) y los<br>servicios (piscinas, gimnasio, 3 restaurantes). como ya se<br>ha mencionado, que podría ser clasificado como excelente si<br>iban a relanzar la decoración."
          ],
          [
           "Todo excelente. la verdad el hotel esta muy bueno! en una<br>ubicacion perfecta para salir a correr en la mañana,<br>disfrutar de la vista, pasear en el parque o en el centro<br>comercial a un lado del hotel y para disfrutar de una<br>paseada en la rueda de puebla que esta justo en frente... la<br>verdad excelente hotel."
          ],
          [
           "Fantástico hotel. nos propio 2 semanas de multipropiedad<br>aquí en una suite de dos habitaciones. nuestra vacaciones<br>este julio era maravilloso, además la cantidad de rainfall<br>que estaba ocurriendo si en el tiempo. disfrutamos de unos<br>comidas en la piscina, pero por la mayor parte pasamos<br>nuestro tiempo bebiendo y hacer excursiones con aventuras<br>vallarta (¡increíble por cierto). nuestros amigos que venía<br>con nosotros nos comprometimos y nos lo pasamos de<br>maravilla. la piscina es fantástica, hemos divertido hacer<br>cardio en la piscina. los patios son bien para relajarse de<br>noche disfrutando de la puesta de sol."
          ],
          [
           "Desayuno. excelente servicio por parte del restaurante y del<br>sur guillermo, muy profesional y ameno los baños super<br>limpios, aunque la puerta de un baño está rotita y no cierra<br>bien. fuera de eso todo muy bien y la comida riquísima"
          ],
          [
           "Una buena experiencia. este hotel es muy bonito. limpio,<br>agradable, con preciosas vistas del océano atlántico. el<br>buffet de desayuno era delicioso. muchas opciones! se<br>necesita una mejor manera de mantener el - de la comida<br>caliente como la tostada francesa, huevos, etc."
          ],
          [
           "Desayuno. el hotel está en buena ubicación, la vista desde<br>las habitaciones es muy bonita, el hotel es muy cómodo,<br>manejan desayuno tipo bufete y está muy rico, la atención<br>del personal es muy eficiente!! excelente hotel!"
          ],
          [
           "Excelente ubicación. lo mejor del hotel sin duda es la<br>ubicacion , dado que esta en pleno centro de la habana vieja<br>junto a los mejores lugares para comer y tomar algo a la<br>tardecita. se encuentra cerca del capitolio, del malecon de<br>la peatonal obispo y plaza vieja etc el hotel es muy lindo,<br>habitaciones amplias y confortables. estuvimos dos noches en<br>la parte original y 1 noche en la parte moderna ambas son<br>buenas cuenta con dos piscinas , una en cada terraza del<br>hotel"
          ],
          [
           "Super recomendable, muy buen hotel. llegamos a la habana<br>después de pasar por varadero y cayo guillermo ,luego de ver<br>como viven ese pueblo entrar en hotel era como ingresar al<br>túnel del tiempo y avanzar 50 años, el hotel tiene<br>jerarquía, muy buen servicio, wi fi , si increíble el único<br>hotel que encontramos con wifi , a 8 dólares la hora pero te<br>sentís comunicado, recomiendo la piscina que tiene en la<br>terraza con una vista de la habana increíble! , variedad de<br>restaurante ,lo demás se los dejo a ustedes, cada uno tiene<br>su experiencia, no volvería a la habana porque lo que vi nos<br>lleno de tristeza a todos los que fuimos, recomiendo el<br>hotel por todo, servicio ubicación."
          ],
          [
           "Vacaciones impresionante. en el spa me fue muy bien, tiene<br>diferentes tarifas y servicios. les recomiendo que vayan a<br>este hotel. ofrecen un servicio de calidad. la comida es muy<br>buena. resaltó la atención erika y maría camila. muchísimas<br>por su hospitalidad."
          ],
          [
           "Excelente atención. nuestro mesero fue marcelo. fue<br>demasiado atento, me sentí a gusto y muy cómoda. este<br>restaurante tuvo una vista muy bonita, una ambiente<br>acogedor, y excelente empleados. volveré. gracias !"
          ],
          [
           "Muy buen servicio.. la ubicación y la atención del personal<br>es buena; solo considero que falta un poco mas de<br>señalamientos de la ubicación del hotel ya que esta un poco<br>escondido y pues es una zona donde hay mucho trafico."
          ],
          [
           "Excelente. su ubicación es muy buena ya que se puede ir de<br>compras al centro comercial, el hotel es muy bueno, su<br>comida muy rica, el servicio de todas las personas es muy<br>amable, el valet parkies muy bueno y el personal muy atento"
          ],
          [
           "Servicio y amabilidad. buen servicio al momento de<br>registrase en el hotel, rapidez y amabilidad de parte de las<br>señoritas, habitaciones comidas y limpias, el buffet en el<br>desayuno es bueno, falta tener variedad de platillos."
          ],
          [
           "Hotel con historia. es uno de los hoteles más antiguos de la<br>habana. la atención del personal es buena; destacándose la<br>calidad del desayuno. este tiene una importante variedad de<br>tanto de dulces como salados. la habitación que nos toco es<br>muy pequeña; lo ideal sería tratar de buscar habitaciones<br>con balcón. tiene restaurante, bar, y en la terraza se puede<br>escuchar música y cenar. cabe destacar la atención de vivian<br>(directora comercial), quien nos comento sobre las<br>características del hotel."
          ],
          [
           "Hotel maravilloso. fue un placer haber estado alojada en<br>este maravilloso hotel. su historia, sus ambientes, lobby,<br>bares todo es hermoso. las habitaciones son enormes y tienen<br>todo lo que podes llegar a necesitar, sus desayunos son es-<br>pec-ta-cu-la-res!!!!gracias por la amabilidad con que fuimos<br>atendidos, a todos los empleados del hotel.sin duda<br>volveria."
          ],
          [
           "Gran lugar!. buena comida, buen ambiente y un gran servicio.<br>asegúrate de que entras en el lugar adecuado. hay tres<br>restaurantes en el mismo lugar y los cubanos tienden a<br>llevar a donde quieren ... no era lo que habíamos pedido ..."
          ],
          [
           "Excelente hotel para tu estancia en mty. estuve hospedado<br>por dos noches, el hotel es limpio, el personal muy atento y<br>servicial, me encantó el colchón y las almohadas descansé y<br>dormí como un bebé. el desyuno buffet recomendable de la<br>mejor calidad y variedad. lo recomiendo. un detalle en el<br>cargo en la tarjeta pero con toda la actitud de resolver el<br>problema. los felicito."
          ],
          [
           "Me gusta el cohiba un gran hotel. me gusta la cadena melia.<br>mi estancia en el cohiba ha sido excelente mi habitacion es<br>con vistas al mar todo muy limpio y en condiciones. el<br>buffet extraordinario. la amabilidad del personal exquisita.<br>recomiendo el hotel"
          ],
          [
           "Muy buen lugar para descansar en el centro de merida.... bue<br>hotel con bonita habitación, amplio, limpio, camas cómodas,<br>buena ubicación para poder caminar por el centro de mérida<br>sin ocupar tu vehículo. alberca de buen tamaño para pasarla<br>agradable en compañía de tu familia. lo que mas me gusto fue<br>la atención del personal del hotel, especialmente de pablo<br>(maletero del hotel), persona muy amable que nos describió<br>parte de la historia de mérida y nos sugirió o nos recomendó<br>los lugares mas bonitos para visitar. algo que deben mejorar<br>es el servicio de wifi, la habitación que me toco se perdía<br>mucho la señal (2da planta)."
          ],
          [
           "Buen hotel. un hotel bastante bueno con hermosas<br>habitaciones y la nuestra con una preciosa vista del<br>malecón. los espacios del hotel son bonitos y agradables<br>para estar en ellos.. me gustaba estar en la zona de la<br>piscina tomando una cerveza en incluso comiendo, el desayuno<br>estaba bien y completo. si bien el hotel esta alejado de la<br>habana vieja, cuenta con transporte gratuito, a determinadas<br>horas, para ir hasta allí y volver. las personas de<br>recepción y las camareras son muy amables. tienen una<br>pequeña oficina para el cambio de moneda y es importante ir<br>a cambiar con la moneda propia pues si se va con tarjeta uno<br>se expone a no poder realizar el cambio por \"caída de la<br>red\"."
          ],
          [
           "Una estancia muy placentera. es un hotel pequeno y muy<br>comodo, nada es perfecto en el mundo pero aun asi fue una<br>estancia muy placentera y la pasamos muy bien, no dudaria en<br>quedarme ahi de nuevo. la del bellboy fue la sonrisa mas<br>sincera del lugar, gracias."
          ],
          [
           "Altamente recomendado. es un hotel céntrico, a unas cuantas<br>cuadras del centro. muy tranquilo ideal para descansar. han<br>mantenido la arquitectura de la casona de época,está muy<br>bien decorado, cómodo, y con detalles de buen gusto, y<br>además tiene buen precio"
          ],
          [
           "Excelente hotel. excelente hotel, habitaciones confortables,<br>muy buena la atención. espectacular la piscina y bar del<br>piso diez. muy buena área de playa y piscinas.desayuno muy<br>variado y buena calidad de la comida.restaurante erre muy<br>agradable y acogedor con muy buenas pociones de comida y<br>licores."
          ],
          [
           "Nh puebla. en general me agrado el hotel las cosas que<br>crítico es el excesivo cobro en el los productos de su<br>servibar (en contraesquina hay una tienda es mejor comprar<br>ahí) y que la tarjeta no leía bien la cerradura del cuarto"
          ],
          [
           "Excelente, pero con pequeños detalles.... el hotel, la<br>atención, el personal en general todo fue excelente! pero<br>encontramos pequeños detalles como: el cereal era del mas<br>económico, algunos detalles en una de sus piscinas y lo mas<br>importante, permiten el ingreso al hotel a cualquier persona<br>ajena a los huéspedes. por lo demás, todo excelente, es una<br>experiencia para vivir nuevamente en este fabuloso hotel,<br>quedamos encantados."
          ],
          [
           "Limpio, agradable. un hotel limpio y agradable, llena de<br>luz. con buen acceso, cerca de un excelente centro comercial<br>mundo e, buen restaurante en casa. no utilizar el gimnasio y<br>spa, pero se ve muy bien por lo que pude ver. volveré de<br>nuevo en mi próximo viaje."
          ],
          [
           "Bar del lobyy del hotel. muy buen bar ,la atención prestada<br>fue muy profesional la animación estaba muy buena ,la<br>cerveza bien fría y rápido el servicio prestado,un buen<br>lugar para pasar un rato en pareja,el lugar muy limpio y muy<br>acogedor."
          ],
          [
           "Convención claro 2021. en general el hotel es excelente , la<br>comida muy rica, la playa muy tranquila. muy buena<br>seguridad, tuve un percance con mi celular q se perdió<br>durante el evento de mi empresa, me acomparon en el proceso<br>hasta q lo recupere. muy buen servicio. carlos berltran<br>excelente trabajo."
          ],
          [
           "Excelente. excelente hotel, la pieza muy bien,pa espacios<br>comunes muy agradables. personal muy atento. esta un poco<br>distanciado del centro, pero el hotel tiene buses que te<br>llevan gratis (con buena frecuencia), de lo contrario un<br>taxi por 15 euros te lleva al centro, y por 20 euros un taxi<br>antiguo (año 58) te deja en el centro también. hotel muy<br>bien mantenido, mi pieza tenía excelente vista al mar"
          ],
          [
           "Elegantemente clasico. es un hotel que es muy clasico y<br>elegante en su arquitectura...bien cuidado para los años que<br>tiene, las habitaciones comodas...muy bueno el desayuno<br>bufete..pero asegurate que lo incluya en la reserva porque<br>es caro pagarlo directamente en el hotel..muy amable su<br>personal del front desk.. muy bonito el bar. la decoración<br>me encanto sus pinturas pero tienen una area de<br>oportunidad...en la atención, en las botanas..las bebidas y<br>en los precios...$$ muy bien ubicado...lo recomiendo."
          ],
          [
           "Muy buena ubicación!. pasamos 4 días en mérida, y este hotel<br>te ofrece la ubicación exacta para caminar por el centro,<br>visitar paseo montejo, conocer la gastronomía y relajarte.<br>gracias a aracely en el restaurante, muy amable, ya que<br>llevábamos una bebe, y siempre estuvo dispuesta a ayudarnos,<br>y de recepción muy amables carlos y jonathan. además la<br>arquitectura del lugar es increíble junto con su historia."
          ],
          [
           "Fantástico hotel!!. aunque nuestra entrada en el hotel fue<br>muy tarde nos atendieron muy bien.... el hotel nos ha<br>encantado, habitación amplia, limpia, completa y con unas<br>vistas excepcionales!!! el personal también muy<br>bien.....aunque con una pega, el chico que está en la<br>puerta, julio cesar, debería estar más tranquilo, más<br>paciencia, somos turistas y esa actitud tan prepotente no<br>ayuda, en mi caso fue un borde ante una pregunta que le<br>hice. es muy probable que yo entienda mejor las cosas que<br>el, no es necesario que me riñan, el problema residía en el<br>bus que nos llevaba al centro y este no llegaba, 45 minutos<br>esperando y ahí no se preocupó nadie de explicarnos alguna<br>alternativa...teniendo reservado los asientos ....cuando<br>piden puntualidad😂😂😂😂 no sé yo!!!!y otro detallito, para<br>llamar a los…"
          ],
          [
           "Bonito falta spa. estuve en el hotel me parecio bonito<br>ascensores viejos el desayuno es muy rico 😋, me gusto mucho<br>la ubicación y la atención de los empleados los guardas y<br>las camareras muy bien , la piscina en la terraza muy bien<br>pero no hay zona para fumadores , recomiendo en un hotel tan<br>grande y no tiene spa ni peluqueria dentro del hotel y en<br>las zonas de las sombrillas en la playa llegan las nativas<br>cobrando 200 mil pesos por un masaje de 10 minutos , la sala<br>de la recepción es moderna y bonita ."
          ],
          [
           "Navidad feliz. me gustaria compartir con la gente que pueda<br>y recomendar este magnifico hotel todos son muy amables y<br>liendo meseros de playa .. tambien quiero agradecer ala<br>señorita perla de seguridad por su atencion con nosotros y<br>la amabilidad desde que uno ingresa hasta que se retira<br>sienpre con una grata y hermosa sonrisa ..donde quiera que<br>la encontramos es un honor para mi dejar mi recomendacion<br>para el equipo de prevencion por la buena labor que hacen<br>dia con dia con lo del covid19 bendicciones nos vemos pronto<br>por marzo regresaremos ..,❤"
          ],
          [
           "Gran fiesta blanca. estuve del 28 de julio hasta el 4 de<br>agosto en la fiesta blanca y me encanto. un gran ambiente.<br>recomiendo ir a toda persona que este pensando ir. el<br>servicio del hotel fue buenisimo y no tengo ninguna queja de<br>nada."
          ],
          [
           "Excelente. el hotel me pareció excelente, es sumamente<br>lujoso, los cuartos son muy amplios y muy modernos, los<br>amenities están muy bien, lo mejor es el sexto piso, donde<br>está la alberca es un lugar extraordinario para comer, tomar<br>una copa y fumarte un buen habano, lo malo que tiene el<br>hotel creo que viene adjunto al país, el internet está<br>fatal, y la atención deja mucho que desear"
          ],
          [
           "Céntrico pero ruidoso. el hotel está perfectamente ubicado<br>en el centro de la ciudad, a 2 minutos andando del zócalo,<br>la catedral, el barrio del artista, la calle de los sapos<br>etc. las habitaciones son cómodas y algunas están reformadas<br>(estaban en proceso). la piscina, aunque pequeña, es<br>funcional. el restaurante ofrece variedad y aceptable<br>calidad, aunque el room service es muy lento, el desayuno es<br>tipo buffet y es muy completo. sería un increíble hotel si<br>no fuera (debido a que está en el centro) a que el fin de<br>semana es muy ruidoso, hay mucha gente en el hotel y en<br>consecuencia se oyen portazos, gritos de los niños etc. (no<br>es culpa del hotel, pero hay que mencionarlo), todo esto sin<br>mencionar el ruido constante del tráfico, acordeones y<br>cilindros que se escucha proveniente de la calle."
          ],
          [
           "Vacaciones familiares. en nuestra estadía en el hotel caribe<br>la hemos pasado muy bien, la habitación, desayunos, servicio<br>de spa, piscinas excelente.... y tb la atención de srta.<br>daniela pajaro. en general la atención del hotel fue de muy<br>grata!! (el contacto con la naturaleza me lleno mi corazón)"
          ],
          [
           "Muy buena ubicación, buen hotel. el hotel está muy bien<br>situado, no podría ser mejor. la habitación era grande, pero<br>un poco húmedas, pero que parece pobre para el golf en el<br>caribe. el personal era amable. intercambio de dinero era<br>fácil. la piscina de la azotea era muy agradable aunque<br>lucha para conseguir una tumbona. sin embargo siempre<br>encontrar un lugar. no comimos en el hotel en general,<br>recomendaría este hotel para la habana debido a la ubicación<br>y la habitación."
          ],
          [
           "Desayuno. esperaba mas del desayuno, algo más típico de la<br>región, además por el costo de la noche. pero en general el<br>hotel es muy bueno y cómodo, lo recomiendo para descansar,<br>la atención de sus empleados es excelente."
          ],
          [
           "Hotel comodo y centrico. es un buen hotel cuyo mayor<br>atractivo es su ubicación. las intalaciones son limpias y<br>cómodas. solo hubo un inconveniente. la tapa de la tina no<br>funcionaba correctamente y el personal de mantenimiento<br>tardo algo en ir a arrelgarlo."
          ],
          [
           "Excelente hotel !!. el mejor servicio, la amabilidad del<br>personal en general, los alimentos y las bebidas<br>deliciosos!! los shows son muy buenos, siempre me sorprenden<br>con algo diferente, muy recomendable, las habitaciones del<br>hotel son muy cómodas y tienen una excelente vista."
          ],
          [
           "Excelente a pesar del mal clima. excelente atención, ni el<br>mal clima hizo mella. la llegada a las instalaciones estuvo<br>muy bien, me imprecionó en forma positiva la buena actitud<br>de todos y cada uno de los empleados del hotel… hubo<br>situaciones importantes como un temporal que excedió las<br>predicciones en el clima, llovió durante dos noches<br>seguidas, a pesar que hubo algo de inundación en el<br>restaurante, rápidamente solucionaron la situación<br>trasladando el buffet al primer piso, como fue difícil las<br>actividades afuera por el temporal, dispusieron más tiempo<br>el horario del buffet y juegos de mesa. la tuvieron difícil,<br>pero trataron de subsanar cada impase que se les presentó y<br>lograron que todo fuera agradable para los huéspedes. muchas<br>gracias por todo.."
          ],
          [
           "Excelente. muy buena estancia, me gustó mucho estar ahí, fue<br>un viaje lleno de alegrías y buenos momentos, me gusto el<br>hotel porque es cómodo, tienen muy limpio, bien decorad, el<br>servicio es muy rápido y de calidad, los alimentos son muy<br>buenos."
          ],
          [
           "Mi servicio en el hotel caribe. la señorita daniela parajo<br>está muy pendiente de los huéspedes y se encarga de atender<br>todas las necesidades. todo el personal es muy amable y está<br>siempre dispuesto a apoyar a todas las personas. las<br>instalaciones del hotel se encuentra siempre limpias y<br>dispuestas para su uso."
          ],
          [
           "Buen servicio. el hotel está bien ubicado, limpio y las<br>habitaciones son cómodas. el personal es servicial y<br>diligente en la recepción pero lo que debe mejorar es el<br>servicio del restorán que es muy lento, los meseros tardan<br>mucho, hasta una hora en servir los alimentos aún cuando hay<br>pocos clientes."
          ],
          [
           "Excelente hotel. es es un hotel perfecto para visitar en<br>pareja o familia, tiene todo lo que se necesita para unas<br>buenas vacaciones. muy buena y variada la comida, es todo<br>incluido, bar abierto de buena calidad, playa privada con<br>todo lo necesario, excelentes instalaciones y habitaciones<br>muy cómodas. es a 30 minutos de cartagena, pero el hotel<br>tiene transporte permanente. muy recomendado,"
          ],
          [
           "La opción para negocios. el hotel esta bien ubicado, la<br>atención es buena y la tarifa incluye desayuno por lo que si<br>vas a realizar un viaje de negocios y tu estancia en el<br>hotel sera solo para descansar.. es una excelente opción,<br>cerca encontraras varios restaurantes que también son muy<br>recomendables, si vas hacer uso de taxis trata de hacerlo<br>con mucha anticipación ya que escasean un poco. en general<br>el hotel es recomendable y las tarifas muy accesibles!"
          ]
         ],
         "hovertemplate": "Topic=2<br>Label=Positive<br>Dim 1=%{x}<br>Dim 2=%{y}<br>Importancia=%{marker.size}<br>Comentario original=%{customdata[0]}<extra></extra>",
         "legendgroup": "2, Positive",
         "marker": {
          "color": "#636efa",
          "size": [
           135.56424925726432,
           15.481586607382399,
           99.05599151558147,
           71.50752562858773,
           100.85934315644488,
           63.10425329856052,
           750.0946117240261,
           29.14613868793669,
           87.60766191086168,
           78.7853068433011,
           486.543748554636,
           1081.7432478646692,
           34.103437681930764,
           55.14765329052777,
           77.13635287766776,
           346.30428127657046,
           47.847482606190376,
           67.00724083483429,
           23.138065672359524,
           58.851997928524725,
           434.3569754912734,
           283.00622959892917,
           86.9656691708215,
           552.044714630689,
           35.82851427000563,
           27.849447148715868,
           358.2180879535107,
           50.033214982185186,
           66.89695436900986,
           42.525389770081176,
           56.0449295854812,
           583.5703647626119,
           108.84800656880245,
           239.607484188057,
           262.84015639945727,
           37.88839455792431,
           57.110712516126725,
           81.37625375129242,
           49.52017409671674,
           126.58438913319225,
           75.22673981102966,
           91.61254314709556,
           57.43224817546359,
           24.629932182676992,
           24.183989400527366,
           106.57352125901792,
           70.91125754381864,
           34.752436134168434,
           128.6952146892996,
           120.1360798047752,
           165.6006249505525,
           70.44479738665513,
           51.47943903996995,
           112.7083700924213,
           171.9751559078477,
           437.44153792732646,
           81.01631462325372,
           54.19719327542489,
           45.54299302700856,
           105.69969492283431,
           95.88931136617211,
           74.5260521075012,
           1262.1806702116721,
           34.254914398564814,
           42.23212841829734,
           86.4651607443544,
           34.010239554693726,
           251.70919466379493,
           115.17908888084642,
           261.0625741858438,
           221.92624580202204,
           30.18188599718466,
           32.893510982090795,
           47.76776723539864,
           59.13339465762385,
           306.3697220092437,
           29.698133449418535,
           52.035872425263115,
           50.152348329131854,
           52.71089417863744,
           295.9794177192506,
           54.38988779970318,
           458.1449055615774,
           44.04509723711037,
           43.407941058030424,
           69.03966332390219,
           76.89318514924985,
           227.74964480488626,
           65.5573688168787,
           93.77483278773866,
           124.16031988386516,
           601.0414700544952,
           60.537083832445965,
           377.4881794898653,
           132.03129131527012,
           178.21739031052297,
           399.16560485144856,
           43.97179202165816,
           33.084184002324754,
           81.12875051548693,
           41.56716799730713,
           39.69530658090112,
           96.53580709690637,
           105.1168511667016,
           51.59763889214147,
           677.6247028536981,
           234.08849615575755,
           43.753753845723,
           125.8101856993691,
           228.79734191821572,
           37.044272956153264,
           170.3555791760044,
           456.0512344660742,
           565.1572248506185,
           105.74779121634809,
           172.08547667910247,
           61.34361024713184,
           106.56373133070531,
           163.09236211168394,
           61.72154545675588,
           80.87744578228174,
           339.2574376070256,
           39.7773231750427,
           83.70412129930112,
           131.18304095991684,
           63.07130143847094,
           38.07783742234878,
           244.55299760166022,
           117.72883904491098,
           102.35318915559671,
           38.13068883302857,
           1097.499380708102,
           104.39214720181224,
           47.38435961635347,
           37.422421467369006,
           202.99655759746142,
           151.188333630049,
           20.340707243633975,
           222.10660261615539,
           54.1089562619591,
           109.86613574386769,
           335.179725919892,
           65.62333535546092,
           313.07642778547347,
           67.83770017645956,
           47.68605035377088,
           66.0280124725367,
           13.264860380239426,
           35.790728452857046,
           40.01715877426647,
           114.05866967197879,
           138.9667184748396,
           41.755627241712936,
           66.7970080088373,
           81.19062732815462,
           182.78708789912466,
           181.85418819812108,
           61.01879977901426,
           715.7663799866793
          ],
          "sizemode": "area",
          "sizeref": 12.289861556866619,
          "symbol": "diamond"
         },
         "mode": "markers",
         "name": "2, Positive",
         "opacity": 0.8,
         "orientation": "v",
         "showlegend": true,
         "textposition": "top center",
         "type": "scatter",
         "x": [
          -0.11518636440712726,
          -0.1516861251133028,
          0.12455187149676708,
          -0.15441082378872575,
          -0.09128349962621836,
          -0.1741293145866052,
          -0.24878966987629186,
          0.1400131679151916,
          0.08345053226892399,
          0.07043442137355241,
          -0.04372616886452391,
          0.05240750880768046,
          0.03552393978464154,
          0.033140523147901293,
          -0.1383731841516151,
          -0.08435365554923946,
          -0.1960277738093829,
          0.03290828173547932,
          -0.2507006772010433,
          -0.10697818496983175,
          -0.09030291423626557,
          -0.2375801395288363,
          -0.11044112477952356,
          0.005884222356347533,
          -0.2141969289678959,
          -0.051943730905197966,
          -0.23932321874549936,
          -0.1448581423063381,
          0.13611053645847465,
          -0.13074283032140085,
          -0.0021015405898731415,
          0.0743716085005693,
          -0.14248608030926851,
          -0.0691566842974042,
          0.0004419276216057315,
          -0.16235296115028977,
          -0.09042565391705391,
          -0.013539622724051206,
          0.23066515100608675,
          -0.08780112903423948,
          -0.05081852181616492,
          0.17985695868228543,
          0.3399980070043411,
          -0.14184509723145694,
          -0.020530482053742815,
          -0.07437911147106537,
          -0.08277754477030674,
          0.20820792517708003,
          -0.21557512964953734,
          0.23195575895077541,
          0.18162171839748784,
          0.07887534993414579,
          0.0902020838520852,
          0.007532432376080114,
          -0.1404770331435444,
          0.01892920279982149,
          -0.20923682645685016,
          -0.2549383001531161,
          0.19995354902020607,
          -0.1227249275409756,
          -0.14132947128293522,
          -0.08452214071970217,
          -0.1398619175773802,
          -0.03065364142302003,
          -0.021920557616162177,
          -0.240801090855881,
          -0.06905457343783959,
          -0.17774767950560844,
          -0.02847988829653378,
          -0.053191262414501166,
          -0.04464858342291217,
          0.009054217747001136,
          -0.17235760170795306,
          -0.11153724569290145,
          -0.19792672533860112,
          -0.1350803195042207,
          -0.07194596481706683,
          -0.05317726099323598,
          0.005143217471455779,
          -0.21477609219158983,
          -0.17731539314580705,
          -0.04689511204131751,
          -0.022033467843684373,
          0.13326186327135106,
          -0.14491142792270142,
          0.16008918773528238,
          -0.18386181779712482,
          -0.10529670264370425,
          -0.07183693082280004,
          0.02634788747332484,
          -0.08087045010874079,
          -0.09018746218930215,
          -0.07756433046727682,
          -0.12518041016365816,
          -0.15658658725976152,
          -0.011978096724328525,
          -0.10514402721635716,
          -0.1363566812283788,
          -0.16566845995209384,
          -0.2294548993897254,
          -0.0055988818363878305,
          0.0340596146405786,
          -0.032933345379209146,
          -0.06966276247612123,
          -0.1592915539518474,
          0.13104742076859383,
          0.1638937673128075,
          0.24633858437821995,
          -0.004564741533257116,
          0.04685285571705486,
          -0.08351234387741058,
          -0.12300235665149288,
          -0.027495274696681202,
          -0.07064865276300697,
          0.2955037607670859,
          -0.0468732081027322,
          -0.1949121885474493,
          -0.10098174217112925,
          -0.04095726942298088,
          -0.1300125864089314,
          0.27891262596279753,
          -0.19880599330314933,
          0.00026876500793853586,
          -0.23841945033475068,
          -0.011402608865483393,
          -0.22605984486797964,
          0.29404879808721845,
          -0.3355206848471275,
          -0.15321445562048402,
          -0.09744558273178912,
          -0.17339187775195294,
          -0.07120307889248197,
          -0.15277348830093582,
          0.04073758964352328,
          -0.004420545709652401,
          -0.010905254484486215,
          0.060401334696346905,
          0.05533556598341906,
          -0.12099752952976547,
          -0.029535854125760534,
          -0.18390250211455553,
          0.18469624306343352,
          -0.18231512061045943,
          -0.05498268932690089,
          -0.12625847312942898,
          0.08919746621049579,
          -0.101354266251724,
          -0.07183362554357403,
          -0.10385981269292872,
          -0.16125706786215624,
          -0.102761030647127,
          -0.17471112869989566,
          -0.2217732090891339,
          -0.08257371478253131,
          -0.06605227605961861,
          -0.18749009000064032,
          -0.21528252859874783,
          -0.1126803329746844,
          -0.11020063750006964
         ],
         "xaxis": "x",
         "y": [
          0.045333382661419556,
          -0.29034416644234945,
          -0.08889664751185171,
          0.07471974612855654,
          0.2586684200194965,
          -0.16209992276478152,
          -0.08419339311555171,
          -0.016360644040021133,
          -0.08635922199143425,
          -0.12483643210145981,
          -0.053723078883649335,
          -0.1852922375240418,
          0.0871172945528789,
          -0.11259667004457821,
          -0.1564252999641636,
          0.14511483254019464,
          0.05563919743508066,
          0.0009297159784777926,
          0.07992021667003764,
          -0.029112311312565607,
          -0.08014900240087283,
          -0.02724402119515327,
          -0.05917384128154936,
          -0.24231196162311944,
          -0.01723100062560187,
          -0.08853670154249271,
          -0.022849448975878237,
          0.06873335856362779,
          -0.07936830933566295,
          0.0549545895341754,
          -0.013994234609226943,
          0.14471893946785372,
          0.10051914261906723,
          0.04066525660542212,
          -0.1551956624754477,
          -0.17607682587516196,
          -0.0038753904000537187,
          0.07220053980824746,
          -0.3350629730145692,
          0.007753151625392401,
          -0.24707778627498792,
          -0.2336451357421756,
          -0.20682086317627285,
          0.1224056990075408,
          0.1431193393263651,
          -0.021468790985029587,
          -0.044635638101895574,
          -0.09631658693518161,
          -0.140635407392311,
          -0.20587014138021406,
          -0.1440600140588653,
          -0.026924215851994497,
          -0.0576944544983214,
          0.10983014760575965,
          0.1311346015123354,
          0.0842424099868478,
          -0.16644548265811696,
          0.010750802459883626,
          -0.08135587169099456,
          -0.18504036536918675,
          0.07578590285600466,
          0.05983321240886702,
          -0.03632971008434992,
          -0.05061823182830329,
          -0.07560714627815866,
          -0.1478335639127292,
          0.10681528841999599,
          0.012975367673022733,
          0.021011853386331773,
          0.015759243009633436,
          0.1794167892837086,
          -0.13373021836991672,
          0.055794649970617005,
          0.03476297242355117,
          0.006111738711180538,
          0.08845713313124808,
          0.07251761003914665,
          -0.029757791448526413,
          -0.015462747758516974,
          -0.23829217525988974,
          0.0037252756914049234,
          0.1644895824902755,
          0.02240145184510035,
          -0.17931876671603042,
          -0.041147357015920503,
          -0.2083435409988679,
          0.005572665819289286,
          -0.01565952747672405,
          0.1126032009109745,
          -0.1651727921012717,
          0.011946266543914582,
          -0.11253480741816246,
          -0.13532902680790976,
          0.01566972038265955,
          -0.10659544367055532,
          0.001282053595424822,
          0.1888038180929281,
          -0.09010978826745092,
          -0.0022704980051073903,
          -0.06166630054974288,
          0.10714791441769982,
          -0.1756068232115064,
          -0.09761963614382307,
          0.17698523538446295,
          0.10102030304218197,
          0.2261080094896134,
          -0.23178359611595933,
          -0.11388233000188185,
          0.09680041765603206,
          -0.07609665538662577,
          0.08070555716022343,
          -0.05344051008476498,
          0.02084500046167417,
          0.08179310918111331,
          -0.2594003804368597,
          0.09855202730851516,
          0.00010343466362317312,
          0.27918953117546796,
          0.0001031435929017432,
          -0.05427270129664927,
          -0.22138760751291123,
          -0.12264147284707365,
          -0.02834560922765626,
          -0.1430953441599526,
          0.04753985111973957,
          0.10966990727505728,
          -0.0461556127680141,
          -0.16071045626032932,
          0.02788556188291086,
          0.09653661390175361,
          0.03339217807732839,
          0.006397702057438193,
          0.03421236777086737,
          -0.04550744830923617,
          -0.07258198888490039,
          -0.13123486033655465,
          0.01056599586756738,
          -0.14178038148752084,
          -0.06223486307505948,
          -0.024569545066131383,
          -0.058320146522804484,
          -0.06023132411518667,
          0.031013814980692247,
          0.05244484587670052,
          0.05888113975163616,
          -0.0009537574508053123,
          0.012480947802848964,
          -0.04330894269635427,
          0.0116463715047739,
          0.007391193300061331,
          -0.04606602190305179,
          -0.02638603577259255,
          -0.12921084811560485,
          -0.15223900932156448,
          -0.07157033557282008,
          -0.10830440658888316,
          -0.20566863994968745,
          -0.03836235890573092,
          -0.156317162537447
         ],
         "yaxis": "y"
        },
        {
         "customdata": [
          [
           "No lo recomiendo. no recomiendo este hotel, el mantenimiento<br>es pésimo y la limpieza escasa. estábamos en el piso 22 y no<br>llegaba el agua caliente para pegarnos una ducha. la<br>habitación muy amplia y buenas vistas, pero el baño estaban<br>las racholas levantadas y no había para colgar toallas y<br>toda la habitación hacia olor a humedad. él buffet es escaso<br>y el personal de recepción pocas ganas de trabajar y de<br>resolver dudas. luego por una 1h de internet te cobran 5<br>cuc, cuando en los hoteles del alrededor les cobran 2 cuc.<br>lo único bueno que tiene es la ubicación!!!"
          ],
          [
           "Nuevos baños de ala. el nuevo edificio del ala bastante<br>agradable y moderno. sin embargo, la ducha en la habitación<br>es mal diseñadas con cero pensamos que a la seguridad<br>personal (riesgo de bajada) es imposible tomar una ducha en<br>el baño sin inundar toda la planta baño, baño y entrada. es<br>muy evidente que no se ha probado la funcionalidad de estas<br>duchas. la gente no debe permanecer en esta ala hasta un<br>adecuado cortina de ducha o agua apretada barrera instalada.<br>este es un peligro de seguridad y es cuestión de tiempo<br>antes de que se amarraderos gueat y otoño debido a las<br>plantas del hotel managenent corregir esto ahora!"
          ],
          [
           "Los desastres!. no vale la pena una estrella. las<br>habitaciones están sucias, necesita urgentemente una mano de<br>pintura. el desayuno es comestible, tuvimos que ir a otro<br>hotel para el desayuno todas las mañanas. pedimos toallas un<br>chico comenzaron a gritar a la camarera era de 3 pisos más<br>abajo. desastre total. estancia lejos!"
          ],
          [
           "Cena. los nardos es actualmente a la fama. mi familia y yo<br>visitamos en abril de 2017 y las opciones del menú eran<br>limitadas y la comida no estaba caliente, apropiadamente la<br>larga espera y servicio mediocre. trampa para turistas."
          ],
          [
           "Nadar en el océano.. la comida era más allá salado como el<br>agua de mar. buena presentación, pero la calidad de la<br>comida era horrible. casi no tocado nuestra comida, nos<br>dijeron que nuestro mesero, él se encogió sus hombros, no<br>dejaron que su director o supervisor saber y sin embargo,<br>pagamos por toda la comida. un día antes de que nos<br>fuéramos, la recepción me ayudaron a conseguir el reembolso<br>de la cuenta."
          ],
          [
           "Ojo!!!. ¡ten cuidado! las habitaciones reek de moho moho/.<br>había moho en el tratamiento de ventana y en silla en la<br>habitación. óxido en la pila. no había agua caliente en la<br>ducha. la comida era terrible. no hay agua filtrada. el 90%<br>de la población era local."
          ],
          [
           "Deprimente hotel y descuidsdo. el hotel se encuentra<br>descuidado , la habitación literal sólo tenía un par de<br>lamparas funcionales, el aire acondicionado solo era<br>ventilación , la cama súper incómoda y el servicio de<br>limpieza solo lo dan hasta las 11am por que a su son sus<br>políticas, lo que te obliga a tener que despertar temprano y<br>salirte si es que quieres aseo en la habitación. no lo<br>recomiendo"
          ],
          [
           "Mal, en casi todo.. se necesita poner más atención a los<br>detalles que realmente importan, no se si sea o no hotel o<br>empresa sustentable, para el.agua caliente, me dijeron: deje<br>el agua abierta 15 min para que le salga caliente. las<br>habitaciones no tienen cajoneras, al menos la que me tocó.<br>el sistema de cable bien, amenidades tolerable, sin embargo,<br>se ve cansado el hotel, ya viejo y agrietado. debut y<br>despedida, gracias por los \"servicios\" otorgados. en fin..."
          ]
         ],
         "hovertemplate": "Topic=5<br>Label=Negative<br>Dim 1=%{x}<br>Dim 2=%{y}<br>Importancia=%{marker.size}<br>Comentario original=%{customdata[0]}<extra></extra>",
         "legendgroup": "5, Negative",
         "marker": {
          "color": "#EF553B",
          "size": [
           66.47594994324874,
           1069.6130647064176,
           151.82636375281328,
           188.40855227868005,
           128.23375490622053,
           67.60567328232605,
           733.3974595757716,
           122.83146915887836
          ],
          "sizemode": "area",
          "sizeref": 12.289861556866619,
          "symbol": "circle"
         },
         "mode": "markers",
         "name": "5, Negative",
         "opacity": 0.8,
         "orientation": "v",
         "showlegend": true,
         "textposition": "top center",
         "type": "scatter",
         "x": [
          -0.22814139658642899,
          -0.09351477880191046,
          -0.18449152637064997,
          0.2054967856372023,
          0.29088811079044186,
          0.022344448994675536,
          -0.2822774769283319,
          -0.20565230507260412
         ],
         "xaxis": "x",
         "y": [
          0.02015484838354867,
          -0.0029821457666940007,
          0.08314509553078352,
          -0.12057668695026338,
          0.020815478711454664,
          0.15260333305183907,
          0.07407574293675592,
          -0.06959078736960848
         ],
         "yaxis": "y"
        },
        {
         "customdata": [
          [
           "Excelente lugar para deleitar el paladar.. es un restaurant<br>con comida tradicional, en donde no se le intenta pegar al<br>artista, pero todo lo que pruebes está excelentemente hecho,<br>desde unos tacos de barbacoa (pero de costilla de short rib<br>ahumada por muchísimas horas, con su respectiva salsa del<br>tío guillo,...más"
          ],
          [
           "Un gran hotel, lo mejor sin duda la calidad en el servicio..<br>me hospedé hace un par de semanas por trabajo, el hotel es<br>muy nuevo, tiene muy buenas vistas, los cuartos muy cómodos<br>y todo esta excelente. pero sin duda lo que pone a este<br>hotel como mi mejor opción en todo el norte de méxico, es la<br>calidez y atención que tuvo todo el personal que me atendió,<br>en especial el área de alimentos y bebidas y el restaurante<br>del piso 18. además de que el sabor y la preparación de los<br>alimentos es de primera, todo el personal de cocina es<br>sumamente atento y siempre están preocupados en atenderte<br>con lo que necesitas. yo tengo que llevar una dieta<br>especial, y siempre me apoyaron en tenerme mis comidas<br>listas y como las solicité. muchas gracias y felicitaciones<br>al chef ejecutivo, jorge muñoz y a todo su equipo de<br>trabajo, son excelentes en lo_x0085_"
          ],
          [
           "Encantador restaurante justo al lado de la catedral. esta<br>pequeña joya es un poco difícil de encontrar pero vale la<br>pena la búsqueda. en nuestra visita tuvimos el marisco kabob<br>y un pollo asado - que eran bastante buenos. el ambiente<br>también es muy agradable. las reservas eran un debe cuando<br>estuvimos allí."
          ],
          [
           "Excelente lugar para hospedarse. un lugar excelente si te<br>encuentras de visita por trabajo ya que la ubicación está<br>excelente, habitaciones limpias y execelente servicio en<br>cuanto al costó se me hace un poco elevado el del desayuno<br>buffet ya que no existe gran variedad para el precio en el<br>cual en hotel te lo deja"
          ],
          [
           "Excelente!. un restaurante muy bueno, en particular para la<br>barbacoa. puedes ver gente cocinando en la parrilla. la<br>comida es muy buena y el ambiente es agradable. altamente<br>recomendable."
          ],
          [
           "Excelente. en un lugar muy agradable en la habana, este<br>pequeño restaurante tiene una muy buena selección de comida<br>fresca y sabrosa a precios muy razonables. el ambiente es<br>especial y éste era en todos los sentidos la mejor comida de<br>todas las vacaciones en cubamás"
          ],
          [
           "Fabuloso!. tuvimos una gran comida en este pequeño<br>restaurante (también dispone de un subiendo por las<br>escaleras) que fue recomendado por nuestro representante de<br>la visita. muy cubano las mejores judías pintas jamás!<br>pruebe los aperitivos yam y batatas croquetas con miel o<br>pescado croquetas con...salsa tomate. el cordero lonchas<br>main con salsa roja y especias también era muy bueno.<br>excelente relación calidad-precio, a £35 cuc es para dos<br>personas que tuvimos, dos entrantes, dos segundos platos,<br>botella de red, dos g&t y agua, personal, reserva<br>recomienda. tel +53 78611332más"
          ],
          [
           "Simplemente el mejor. la atención, la comida ,el ambiente<br>hacen de la nacional el mejor restaurante de monterrey el<br>ribye a la sal o al piquen son excelentes, el cortadillo<br>delicioso, los tacos de chicharrón, el aun con mango, los<br>postres en fin todo es de primer nivel....más"
          ],
          [
           "Excelente comida y servicio. nos hubiera gustado haber<br>encontrado este restaurante la primera noche que estuvimos<br>en la habana. es un restaurante pequeño y acogedor, con<br>excelente comida y servicio. todo era de primera clase y un<br>servicio increíble. precios muy buenos. cada plato era entre<br>$7 - 14....teníamos pulpo, carne, escatiman y ropa vieja.<br>todo delicioso. no te pierdas el mousse de chocolate! . como<br>el restaurante es pequeño necesitas una reserva. sin<br>embargo, usted no será decepcionado con la calidad de la<br>comida y el servicio. la dirección es calle habana #61<br>(bajos) la habana vieja teléfono (53) 801 - 6433 7más"
          ],
          [
           "La elegancia en un bocado. me encanto todo se portaron<br>extraordinario con nosotros nos trataron muy bien los<br>platillos deliciosos y el servirlo extraordinario. todos se<br>portaron de maravilla. confieso que es uno de mis<br>restaurante favoritos porque son elegante y tienen un<br>magnífico servicio y calidad en su atención...más"
          ],
          [
           "Excelente hotel. magnífica gastronomía. buenos precios. buen<br>trato e higiene. en el restaurante bufete, almuerzo en el<br>barracón. recomendamos el jugo de frutas de estación y el<br>daiquiri con gengibre. el pollo a la guajira es una<br>excelente opción, no dudes en pedir las recetas."
          ],
          [
           "Cara pero estupenda comida y servicio. cruzando la calle<br>desde el malecón, un bonito restaurante con excelentes<br>platos y el servicio. nos sentamos en la segunda planta con<br>vistas al agua con unas preciosas vistas. 16 en nuestro<br>grupo y todos elogiaron su selección."
          ],
          [
           "Visita de trabajo. fue una vista muy confortable en especial<br>los alimentos el menu y la comida fue algu muy notorio ya<br>que estaba muy rica quiero felicitar al personal de comida<br>en especial al chef alondra valli que hace muy bien su<br>trabajo y cocina muy delicioso sin duda volveria a comer y a<br>vistiar este lugar."
          ],
          [
           "Lo mejor de la habana. difícil de encontrar en cualquier<br>ciudad un restaurante con la calidad y servicio del san<br>cristobal de la habana. carlos, el gran chef, jamás<br>decepcionará. si sólo tiene 1 día en esta maravillosa ciudad<br>no lo dude, este es el paladar! felicidades a los<br>propietarios...más"
          ],
          [
           "Un excelente hotel. excelente servicio, confortable cama,<br>las almohadas no tan comidas, su personal muy amable, su<br>ubicación de primera, esperamos utilizar el restaurante en<br>la siguiente ocasión, muy recomendable !!! gracias"
          ],
          [
           "Muy buena comida, una opción sólida. muy buen restaurante,<br>la carne siempre en el término solicitada. la oferta de<br>bebidas es buena. las entradas, como los tacos de langosta,<br>son muy buenas. corazón de filete, en su punto."
          ],
          [
           "Excelente atención y servicio. encontramos todo lo que<br>necesitamos para un buen fin de semana. calidad extra en<br>alimentos. habitación. zonas sociales. restaurantes así como<br>la atención del personal. pasamos un tiempo de relax y<br>tranquilidad"
          ],
          [
           "Tercer año consecutivo. cada año que nos hemos quedado en el<br>hotel samba vallarta ha sido mejor que el año anterior.<br>estuvimos allí desde finales de febrero hasta mediados de<br>marzo. el personal es muy amable, cortés y servicial desde<br>cuando llegamos a cuando tuvimos que irnos. en particular<br>genaro y carlos en el restaurante principal hizo que nuestro<br>viaje de nuevo este año extraordinario. tenemos muchas ganas<br>de volver de nuevo el próximo año y quedarnos más tiempo.<br>llegamos a ver tortugas haciendo su camino hacia el agua,<br>golpeando su cola de una ballena en el agua y los delfines<br>saltando fuera del agua mientras estar en nuestra tumbonas<br>de playa. estábamos tristes cuando ya era hora de volver a<br>casa."
          ],
          [
           "Excelente restaurante. fuimos con mi novia tres veces a<br>comer a este lugar y la verdad que increíble. la atención es<br>muy buena y la calidad de los platos es estupenda. el que<br>viaje a la habana y sobre todo a la vieja que pase y<br>pruebe...más"
          ],
          [
           "Interesante dar alimentos.... yo no era tan entusiasmado con<br>este restaurante como en el pasado. el servicio era genial<br>por josé nuestro camarero y otros. el ambiente es inmutable.<br>tuvimos una pizza de queso, que era bueno. luego dividimos<br>un pollo parmesano entre nosotros dos, que sirvieran de dos<br>placas que era agradable. fue servido con patatas y<br>verduras. el pollo estaba sabrosa y tierna pero era lo más<br>diferente de pollo parmesano que he visto, con la salsa a un<br>lado y bastante soso. en resumen bebidas estaban bien, buen<br>ambiente, muy limpio, buen servicio y comida normalita.<br>tienen servicio de aparcacoches un toque agradable."
          ],
          [
           "Comer aquí!. un lugar agradable lejos del complejo maya<br>resort! preparan pescado y gambas muy bien - es un<br>restaurante más pequeño con asientos al aire libre - el<br>personal es amable y el servicio es bastante rápido. la<br>factura en ambas ocasiones fue correcto y la comida está<br>bien de precio."
          ],
          [
           "Domingo familiar. el gaucho es mi restaurante preferido de<br>comida argentina, todo es delicioso, la ensalada, empanadas,<br>los cortes y los postres!!! los domingos hay muy pocos<br>espacios para hacer reservación, di quieres evitarte la<br>espera lo mejor es llegar antes de la 13:30 hrs. el<br>servicio...más"
          ]
         ],
         "hovertemplate": "Topic=5<br>Label=Positive<br>Dim 1=%{x}<br>Dim 2=%{y}<br>Importancia=%{marker.size}<br>Comentario original=%{customdata[0]}<extra></extra>",
         "legendgroup": "5, Positive",
         "marker": {
          "color": "#EF553B",
          "size": [
           72.82015638008048,
           119.6168717019151,
           245.02487681164007,
           191.43552305142833,
           87.69297289628322,
           33.17624424221899,
           205.57334835654328,
           190.35756572442716,
           39.3130101518675,
           27.4951912594975,
           29.292841521253223,
           37.00052391090945,
           54.67725120386334,
           332.1345215800217,
           130.6498641956684,
           87.70657193123948,
           26.057859607100927,
           214.69051699948935,
           126.23870905346877,
           23.671681535729903,
           142.93639813691297,
           150.5249077424581
          ],
          "sizemode": "area",
          "sizeref": 12.289861556866619,
          "symbol": "diamond"
         },
         "mode": "markers",
         "name": "5, Positive",
         "opacity": 0.8,
         "orientation": "v",
         "showlegend": true,
         "textposition": "top center",
         "type": "scatter",
         "x": [
          0.38254347826806634,
          0.044757039270683224,
          0.23268202959423825,
          -0.0828341899232458,
          0.26234844118097533,
          0.2240552529660771,
          0.3413919134108776,
          0.3393735228012284,
          0.3161601291076507,
          0.2280684389621083,
          0.1723231628906662,
          0.30631914020608103,
          0.33804307337309375,
          0.29743404913777954,
          -0.04576348274680251,
          0.32901028703804275,
          0.13193170417919522,
          0.026158151561091712,
          0.2898628594739807,
          0.23698299626168995,
          0.05963484360322686,
          0.34114177417250163
         ],
         "xaxis": "x",
         "y": [
          -0.21540700761426923,
          -0.16890094473142708,
          -0.09314159395663563,
          0.00806398265159306,
          -0.2183580809853778,
          -0.09118929997592101,
          -0.08966714550972821,
          -0.14169571494721725,
          -0.1723325109766939,
          -0.046491302050104384,
          -0.16401664348062614,
          -0.2715912559228058,
          -0.12851630621045426,
          0.012189045239402426,
          -0.2301555506608392,
          -0.27815802495454195,
          -0.28287230822401827,
          0.015697787512862924,
          -0.20577337224626255,
          -0.28702482604633484,
          -0.08996517317170608,
          -0.21431669403335735
         ],
         "yaxis": "y"
        },
        {
         "customdata": [
          [
           "Este hotel no tienen acceso a discapacitados. todo parece<br>bien, pero cuando fuimos al restaurante, nos dimos cuenta de<br>que no hay rampa para discapacitados. este no es un hotel<br>acogedor para discapacitados. puede tomar una persona para<br>discapacitados al vestíbulo y sala. no puede ir a ningún<br>otro sitio porque no hay rampa ni siquiera en la puerta."
          ],
          [
           "Mala atención!!!. sorprendente que un hotel de esta cadena<br>tenga tan mala atención. desde que llegue el front desk fue<br>desastroso. posteriormente me toco salir de urgencia un día<br>antes y a pesar de conocer la emergencia que tenia me<br>cobraron una noche adicional. las habitaciones bonitas pero<br>la atención hace que la experiencia sea desagradable."
          ],
          [
           "Lástima!!!. caramba!!! probablemente otras personas se<br>expresen bien pero aunque el hotel se ve bien nunca pude<br>entrar a pesar de tener ya la reservación de un laboratorio<br>de confianza por la incapacidad y la nula comunicación con<br>quien hace o guarda las reservaciones. una lástima que la<br>calidad que intentan dar se pierda con su personal. suerte a<br>otros!!!"
          ],
          [
           "Lo peor de mi vida. menudo fraude, ha sido una estancia<br>horrible. empezarė a decir que las sábanas de la cama no<br>estaban muy limpias, la habitacion era horrible y el baño<br>solo tenías una pastilla de jabón para poder ducharte por no<br>hablar de que se me atascó el water y no vinieron a<br>arregrarlo.bo fui la única del hotel que tenía problemas con<br>el váter. a parte del ruido que hacia por las noches de la<br>maquinaria que hay fuera del hotel que hacia mucho ruido. a<br>lo que se refiere a la piscina parecía que había habido una<br>guerra. no había nadie bañándose, nadie se atrevía. la forma<br>que tenían para limpiarla era meterse el propio trabajador.<br>otra de las tantas cosas fue que la atención de los<br>trabajadores fue pésima, la falta de interés por atenderte y<br>aunque le dijeras las cosas parecían no…"
          ],
          [
           "Como para no volver. me encanta la habana. amo cuba y sus<br>gentes. y he ido ya 27 veces en 20 años. pero he tenido la<br>mala fortuna de reservar en esta ocasión (primeros de<br>septiembre) en el hotel nacional (¡cinco estrellas!), que<br>siempre visitaba para disfrutar de su coctelería en tan<br>agradables jardines con vistas al caribe pero en el que<br>nunca me había hospedado. de pena. hermoso lugar que merece<br>ser disfrutado como un museo, pero nunca como un lugar para<br>el descanso y la comodidad. las habitaciones “se limpian” a<br>las seis o siete de la tarde (con suerte), le pueden cobrar<br>consumiciones no realizadas en el minibar, hay visitas<br>inesperadas en el baño (cucarachas) de madrugada, cuando<br>alguien se va el que llega se encuentra con averías en la<br>habitación, como el aire acondicionado; el desayuno consta…"
          ],
          [
           "Se perdió el viejo esplendor. estuve durante 6 días en el<br>hotel y la verdad es que de no haber tenido ya la estadía<br>pagada me hubiese ido al segundo día. el hotel que en el<br>pasado se caracterizó por recibir a las grandes<br>personalidades en cuba hoy está que se cae a pedazos. su<br>estructura está completamente deteriorada, las habitaciones<br>con muebles rotos, puertas que no funcionan bien en los<br>closets, espejos quebrados, hasta una gotera en el techo del<br>baño que demoraron dos días en arreglar. si nos referimos al<br>servicio, también deja mucho que desear, las camareras con<br>suerte estiraban la cama y cambiaban las toallas, la<br>suciedad en el resto de la habitación se acumuló durante los<br>días que estuve. por si fuera poco incluso algunos bichos<br>salieron desde los muebles ya tan deteriorados. los<br>ascensores, son otro…"
          ],
          [
           "No recomendable ya que el hotel es malo malo malo. viaje en<br>el mes de junio 2017 y tuve la mala fortuna de llevar a mi<br>familia al peor hotel que he conocido en mi vida. el hotel<br>cuenta con varios pisos sin funcionar, los elevadores no<br>funcionan, la alberca es pésima, la comida esta<br>descompuesta. lo malo es que las agencias de viajes siguen<br>mandando a turistas sin importar las características y<br>funcionamiento de este hotel. amigos les recomiendo el<br>iberostar."
          ],
          [
           "Evitar a toda costa. este es el antiguo hotel hilton. la<br>estructura física aún está bien, pero el mantenimiento y<br>servicios son terribles a la existencia no paró. no había<br>agua caliente y la comida para la cena era normalito tirando<br>a malo sólo había un ascensor que trabajaban en el piso 16."
          ],
          [
           "Pésimo servicio. desde el primer día les pedí me mandaran la<br>confirmación de la reservación a mi correo, a la persona<br>encargada al parecer poco le intereso mi petición... no me<br>lo mandó. cuando llegue me hicieron quedarme una noche y<br>luego volver a bajar para hacer válida mi reservación,<br>molestias a quien se hospeda por sus cuestiones<br>administrativas, cuando les avise que ya estaba ahí y podía<br>pagar mi reservación. (llegue un día antes, pague una noche<br>y les dije que tenía reservación para el otro día, la<br>respuesta fue, baje mañana, en lugar de anoto lo que me está<br>señalando no se moleste...ya estaba ahí) las comidas, el<br>buffet de la mañana bien, pero las comidas que se pagaron<br>por rentar el salón, bastante frugales, poco bien servidas y<br>hubo una que tuve que esperar más de una hora a que<br>la_x0085_"
          ],
          [
           "El hotel es un asco antes de ir si ya tienes reserva cancela<br>si estas a tiempo es un prostibulo horrible y apestoso. el<br>servicio es pesimo, el hotel esta lleno de prostitutas fuera<br>y dentro ya que no hay seguridad, no lavan las toallas, ni<br>siquiera te las cambian, no cambian las sabanas, las<br>prostitutas suben y bajan como si estuvieran en sus casas,<br>el primer día me llene de ronchas es algo asqueroso, la<br>comida tenía animalitos, es realmente un asco si estas a<br>tiempo de cancelar hazlo, solo es apto para quien va a<br>buscar prostitución lo peor que jamás me hubiera pasado en<br>algún viaje"
          ],
          [
           "Buscando un buen fuera, pero la habitación es asqueroso y<br>horrible servicio. nos alojamos 2 noches en dic total nos<br>ascendieron a una habitación con vistas al océano en nuestra<br>segunda noche, lo cual es de agradecer. es una impresionante<br>vista al mar. el hotel tiene un montón de historias y parece<br>muy bonito por fuera con vistas espléndidas al mar, pero la<br>habitación estaba sucia, mucha humedad y olía mal. no hay<br>necesidad de mencionar la comida, horrible horrible<br>horrible. todo sobre el dinero incluso mantener el equipaje.<br>el jardín es hermoso con un buen ambiente y buena música,<br>pero te puedes alojar en otros lugares, y venga a visitar si<br>estás interesado. no te alojes aquí y no vale la pena el<br>dinero."
          ],
          [
           "Le falta mucho para ser un resort.. todo mal en este hotel,<br>llegamos al hotel en donde primero supuestamente nos daban<br>un cóctel de bienvenida, nada, demorados, mala cara todo el<br>rato como si les debiéramos algo, pésima información<br>respecto a todo, los horarios para las comidas, por ejemplo<br>en donde se come porque un día en donde normalmente se come<br>está cerrado, y otro día en otro lado y así, horarios de<br>piscina, etc. las habitaciones desgastadas, mucho espacio<br>desperdiciado, se supone que saben los planes que escoge la<br>gente, entonces para que nos ponen en una habitación en<br>donde hay cocina si uno elige el plan de todas las comidas<br>incluidas, en ningún momento se informó que en una de las<br>piscinas no podían entrar menores de edad, camas incómodas,<br>no había agua caliente, la mala cara todo el rato del<br>personal,…"
          ],
          [
           "Caro para lo que ofrece. es un hotel que parece nuevo. pero<br>es muy caro al check in no tienen las habitaciones listas.<br>te ofrecen pagar tarifa adicional para que te la entreguen<br>como una mejor habitación. pagas un valor adicional a la<br>tarifa para tomar la habitación por que algunas veces el<br>viaje es de noche y es cansado llegar y no este lista. y si<br>está lista suena muy mal que no te la puedan dar solo para<br>venderte una habitación más cara. durante la tarde pedí si<br>podíamos salir a las 3 de la tarde y recepción te dice que<br>debes pagar un valor adicional de no se cuánto. ósea por<br>usar la hab. antes te quieren cobrar y por entregarla 2 o 3<br>horas después también en total la habitación sale más cara<br>que intercontinental u otro hotel que tiene mejores<br>instalaciones y mejor tarifa. y que sin cobrarte te…"
          ],
          [
           "No hacer la presentación de ventas. no hacer la presentación<br>de ventas. se tarda 5,5 horas. si dices que no dicen, bueno,<br>no hay problema y pase a otra persona para empujar la venta<br>más. nos pasaron a 6 personas diferentes. me mintieron y<br>dijeron que nos llevaría a la persona que nos darán nuestros<br>incentivos y luego nos llevó a otro edificio donde más gente<br>nos precionen. después de todo eso, me dijeron que eran<br>incentivos nuestro en nuestro hotel en el sistema<br>informático. no vale la pena. una experiencia terrible que<br>me molesta por el resto del día."
          ],
          [
           "Muy viejo. era solo para pasar la noche. amigos no se los<br>recomiendo, el hotel está de terror en las fotos se ve<br>diferente y créanme no es como lo ves en la vida real. la<br>piscina toda deteriorada, estaba en mi habitación y de<br>repente se abrió la puerta eras unos huéspedes, y tuve que<br>dormir con una sillas y mis maletas atrabancadas para que no<br>volviera entrar nadie mas. esta alejado de la habana<br>antigua. en cuanto al restaurante el buffet muy pobre , lo<br>único bueno fueron los jugos y merengues. positivo: buena<br>limpieza en las habitaciones, no te falta nada, bueno el<br>músico que toca por la mañana en el buffet. solo les puedo<br>decir que no es buena opción."
          ],
          [
           "Mala atención en recepción. falta de empatía y compromiso<br>para ayudar a un turista. sabemos que hay alta demanda pero<br>no por eso, ante el primer inconveniente lo invitan a salir.<br>se me quedó en otro lugar de estadía el registro de<br>migración y no hubo la más mínima intención de ayudar, para<br>que mis hijos y esposo esperaran mientras íbamos a buscarlo.<br>es penoso observar tanta arrogancia en un hotel que presume<br>más de 2 estrellas. me hicieron un favor en todo caso porque<br>las instalaciones del hotel donde finalmente nos quedamos<br>son mejores y la atención ante la misma situación fue<br>totalmente diferente. falta buena voluntad y empatía."
          ],
          [
           "¡¡¡¡¡¡vergonzoso!!!!!!. estuve hospedada desde el día 14<br>hasta el día 22 de enero de 2018. no volvería a quedarme en<br>ese\" antro\" ni harta de vino. tuvimos que cambiar de<br>habitación por la suciedad y por el olor a humedad. la<br>habitación nueva que nos dieron, era un poco más grande pero<br>igual de sucia e insalubre. hoteles de estas características<br>deberían descatalogarlos...o darles otro nombre. los<br>empleados del hotel....que decir....., en nigún momento nos<br>regalaron una sonrisa a cambio de nada, y pesimos algunos de<br>los \"guardas de seguridad de la puerta\", rozando la mala<br>educación. lo único \"bien\" el bufet del desayuno...que no<br>estaba mal, variado y extenso...aunque la tortilla te la<br>preraba un tipo que te perdonaba la vida con la entrega del<br>plato...!!! en fin, un desastre de sitio, lo único bueno la…"
          ],
          [
           "Horrible instalaciones y buen personal. las instalaciones<br>del hotel son horribles, algunas cucarachas en las escaleras<br>y alguna habitación, el servicio de limpieza por lo menos es<br>aceptable, también el ascensor solo hay 1, y hay 21 pisos..<br>lo utilizan todos, la limpieza con los carros también. e<br>hotel es muy barato eso sí, para una noche rápida te puede<br>valer, sabiendo donde te metes. la piscina se cerro por<br>quedarse marrón, no digo más. eso sí, el personal muy amable<br>y te ayudaban en lo que podían. necesita una reforma total."
          ],
          [
           "Hay mejores opciones de hoteles en esa área. la agencia best<br>day escogió el hotel por nosotros, de otra manera<br>seguramente no hubiese estado en nuestras opciones jamás.<br>poco rescatable de éste hotel a excepción de los maleteros<br>pedro y oscar y nuestra recamarera isabel el resto bastante<br>impersonal,apático con una pésima actitud de servicio y las<br>chicas del comedor a la hora del desayuno sin ganas de<br>atender y menos de solucionar, pedí un sobre de té...un<br>sobre de tééé!!y me dijeron no hay y ya. fué el chef el que<br>además de servir andaba resolviendo los problemas y en el<br>restaurante caribeño me sentí timada ya que compré dos<br>sandwichs de jamón y queso y me dieron unos panes casi solos<br>sin jamón y nada de queso.bastante caros. tiene cuatro<br>ascensores y sólo funciona uno y dice que anda en el piso 45<br>y solo hay 22 pisos. la…"
          ],
          [
           "Malo, malo, malo. estuve tan sólo 2 horas en dicho hotel ya<br>que despues de más de dos horas no tenían preparadas las<br>habitaciones, tuvieron que derivar a otros turistas a otros<br>hoteles, fui a parar al nacional afortunadamente, el hotel<br>viejo, las habitaciones sucias, la desorganización, un caos,<br>no entiendo como melia puede permitir esto."
          ],
          [
           "Engañosa camarero. nos quedamos muy decepcionados con el<br>trato que recibimos en el restaurante la cantina. cuando<br>pedimos margaritas, el camarero nos aseguró que él lo<br>producen las mejores margaritas para nosotros. naturalmente,<br>pensamos que era simplemente estar atento y con un poco.<br>cuando la hora llegó y nos dimos cuenta de que nos habían<br>cobrado para margaritas hechos con tequila patrón a un costo<br>que la bebida normal, no estábamos contentos. ni había agua<br>embotellada cuando se abrió y antes de que alguien nos dimos<br>cuenta de que nadie había pedido. rastrillo en mayo vidanta<br>más dinero a través de estas prácticas engañosas pero es<br>asegurar la desaparición de su base de clientes."
          ],
          [
           "El peor hotel de la habana. llegue a las 3 de la mañana mi<br>madre y yo .el maletero sin carrito tuvimos que cargar el<br>equipaje nosotras con un amigo que nos acompaño. nos dieron<br>un bungalow cobrado a mas de 100.00 dolares por agencia en<br>miami. sin aire con un mal olor horrible.sucio.al otro dia<br>tuvimos que estar hasta las 12 del dia porque al maletero se<br>le olvido buscarnos para que nos cambuaran a las<br>habitaciones del hotel que tienen aire pero no tienen agua<br>caliente.estuvimos sin luz en la puerta de entrada todo el<br>tiempo habiendola reportado. mi consejo no se hospeden en<br>ese lugar.no se guíen por las fotos del sitio es una pena<br>porque podria ser un hermoso hotel.mi pregunta que hace la<br>gerencia al respecto?"
          ],
          [
           "Comida deliciosa, servicio grosero, caro!. la comida es muy<br>buena, seguimos regresando. pero esta vez, la anfitriona y<br>camarero tenía esta actitud como si nos estuvieran haciendo<br>un favor dejándonos comer su comida, tan grosero! el<br>restaurante hubiera sido completamente vacía si no hubiera<br>sido por nosotros, y el camarero nos llevó mucho tiempo para<br>volver, casi nos íbamos antes de comer. una pena!"
          ],
          [
           "No te resuelven ningún problema, me cobraron de más, la<br>central de reservas de equívoco y tuve que pagar más al<br>llegar. se equivocaron en la central de reservas y al llegar<br>al hotel me cobraron más para poder alojarme una habitación<br>con 3 recamaras y me pusieron solo un huésped 🤦🏽‍♂️ no<br>tienen sentido común, acabe pagando por las otras 5. o sea<br>me engañaron 😡"
          ],
          [
           "Muy feo lugar para una ciudad con mucha oferta hotelera de<br>categoria. me mandaron allí de la aerolínea porque el vuelo<br>estaba sobrevendido. estuve 10 días en cuba, entre la habana<br>y cayo santa maría, hospedandome en una casa de familia y en<br>un hotel 5 estrellas, se puede decir que probé dos extremos<br>de alojamiento previo a este y la única palabra que me cabe<br>es desastre! en la casa de familia donde me alojé, nos<br>trataron de maravillas, todo extremadamente limpio y<br>prolijo. en el hotel 5 estrellas podría decir que estuvo muy<br>bien. ahora el neptuno, por dios, horrible!. la habitación,<br>el baño, la cama, no se que estaba peor. y el ascensor<br>funcionaba cuando quería por lo tanto mas de una vez tuve<br>que subir y bajar 10 pisos por escalera. era eso o perder 30<br>minutos del preciado tiempo de un turista. no lo recomiendo."
          ],
          [
           "Touristtrap de sobrevalorado. no hay mucho más que decir que<br>un gran conocedor utilizada para beber mojoitos aquí. hay<br>tan muchmore cosas interesantes para hacer en la habana<br>vieja."
          ],
          [
           "Puede haber algo peor?. por favor no vayan!!. no ocurrió una<br>tragedia en ese hotel todavía de milagro!!. parece<br>abandonado!. no salgan al balcón. deficiencia en barandas y<br>en estructura!. si estan en el piso 18 suban por las<br>escaleras. el ascensor está súper exigido!. que una agencia<br>de viaje reserve este hotel es para cancelarlo el viaje.<br>desastroso!. como positivo es que van a vivir una<br>experiencia única que no se van a olvidar más ja!"
          ],
          [
           "El peor hotel en el que me he alojado en. folletos sobre<br>este hotel iberostar son totalmente engañosas. no hay nada<br>de lujo de este hotel. pintura pelando el techo, la comida<br>es terrible, terriblemente caro (pagamos 2 libras, 200 por 4<br>noches para una habitación básica y desayuno), el personal<br>fue maleducado y había obras en toda la noche en la azotea<br>del hotel, amplificados por la atrio, que todas las<br>habitaciones llevan a. y esta fue durante las vacaciones de<br>año nuevo. podría seguir. nos hicieron esperar hasta las<br>6:00 p.m. para el ingreso y a las 21:00h que queríamos<br>irnos, pero nuestro agente de viajes dijo que no hay<br>reembolsos, trailfinders después nos costó 55 dólares en<br>llamadas de vuelta a inglaterra. que pena por ti @ iberostar<br>y pena por ti trailfinders."
          ],
          [
           "Pésimo servicio. hotel qué se ve bastante viejo en cuanto a<br>instalaciones y mobiliario, las habitaciones son amplias<br>pero caras y de baja calidad en comparación con otros<br>hoteles de precio inferior, para colmo están en remodelacion<br>y me dan la habitación más próxima al área donde están<br>trabajando, horas y horas de oir martillazos y taladros, en<br>la recepción se excusan diciendo que en la página de<br>reservacion hay un mensaje avisando de lo mismo... en<br>resumen pésimo servicio..."
          ],
          [
           "En muy mal estado las sillas. están todas rotas y<br>desgastadas. el mobiliario parece de otro tipo de<br>restaurante.. después de vivir la experiencia y servicio de<br>sus sucursales en ciudad de méxico; esta en monterrey es<br>pésima. las sillas están rotas! adicional a qué tienen<br>muchos meseros pero ninguno sabe que ofrecerte ni conoce las<br>opciones.más"
          ],
          [
           "No se queden aquí. no renten habitaciones en el tritón.<br>entendemos la situación general de la habana y el hotel no<br>dista mucho del desmoronamiento de la ciudad pero la<br>limpieza... había enormes y abundantes cucarachas en la tina<br>del baño!!!! sólo funciona uno de cuatro ascensores y da<br>miedo entrar en ellos. la comida carísima para lo que sirven<br>y en estado totalmente insalubre. el personal de la<br>recepción muy amable eso sí pero da lástima no sólo la<br>decadencia del hotel sino en general la de la ciudad. si<br>pueden pagar unos pesos extras, ¡por ningún motivo se<br>hospeden en el neptuno tritón!"
          ]
         ],
         "hovertemplate": "Topic=1<br>Label=Negative<br>Dim 1=%{x}<br>Dim 2=%{y}<br>Importancia=%{marker.size}<br>Comentario original=%{customdata[0]}<extra></extra>",
         "legendgroup": "1, Negative",
         "marker": {
          "color": "#00cc96",
          "size": [
           140.00417469059886,
           639.7723353927212,
           33.19959240798152,
           103.5974551418187,
           1324.0700553404286,
           63.82392653164295,
           131.88311156282407,
           333.70601840446835,
           94.73574100778043,
           310.56815246976174,
           184.06630543460204,
           4915.944622746648,
           1919.274470801334,
           1351.0124698436452,
           169.13299661975395,
           699.3991328457631,
           95.93475109059308,
           221.44263442407905,
           129.57544831134874,
           838.7708569142846,
           253.50748778922863,
           69.19155363195492,
           204.0147010480323,
           1034.1047478799296,
           418.7781725324026,
           291.88297784925066,
           2573.2202225198043,
           189.62228401105514,
           53.91299142762249,
           250.9456317749414,
           152.38738181838912
          ],
          "sizemode": "area",
          "sizeref": 12.289861556866619,
          "symbol": "circle"
         },
         "mode": "markers",
         "name": "1, Negative",
         "opacity": 0.8,
         "orientation": "v",
         "showlegend": true,
         "textposition": "top center",
         "type": "scatter",
         "x": [
          -0.04553008012674161,
          -0.20588184297500686,
          -0.11928010713839064,
          -0.00008152491686598151,
          -0.049194617451566815,
          -0.159801478952508,
          -0.13655379326969855,
          -0.2101312865544796,
          0.023279603730680897,
          -0.15390635316973517,
          0.004498070126469459,
          -0.12667335289579404,
          -0.23953987951839734,
          -0.102900089778167,
          -0.05385841983778399,
          -0.187903197751653,
          -0.08625710396225494,
          -0.13221053046934367,
          0.024023781675105806,
          -0.3007873746646191,
          0.2552621758314841,
          -0.1318156233927754,
          0.28197757311334387,
          -0.03968588593622573,
          -0.22516008308022145,
          0.11289920966009684,
          -0.16447671129454317,
          -0.12438674501050552,
          -0.26741748916780517,
          0.2424641252647963,
          -0.17064213010403656
         ],
         "xaxis": "x",
         "y": [
          -0.04836178629236078,
          -0.05133586733498997,
          -0.019697384364253872,
          0.02714305508443142,
          0.30275332108875386,
          0.15047730499343312,
          0.04719625213787927,
          -0.011337565312144965,
          -0.03474557172385482,
          -0.042963752991175844,
          0.13776218163084317,
          0.06152430225631021,
          0.07213305372882722,
          0.05412970612696011,
          0.11075084217317273,
          -0.09502842180040699,
          0.1327116124015162,
          0.002452223024595252,
          -0.12027678951104953,
          0.035398745095325014,
          -0.17111162858182533,
          0.16773119262178385,
          -0.26192364767383464,
          0.03223288064727636,
          0.1731265499832012,
          0.2991589773046095,
          0.09556657173579418,
          0.04178804559589652,
          -0.07841837901489258,
          -0.24271108487236076,
          0.10812178690413793
         ],
         "yaxis": "y"
        },
        {
         "customdata": [
          [
           "Cumpleaños. que buen restaurante, la comida estuvo muy rica<br>y bastante generosa, además tuvimos la mejor vista de<br>bogota! john mario, la persona encargada del servicio fue el<br>más eficiente y atento, súper recomendado!"
          ],
          [
           "Cenita y drinks. es un hotel boutique muy lindo, para ir al<br>el restaurant de preferencia hay que hacer reservación,<br>fuimos a cenar dos veces y la vdd esta delicioso, el<br>servicio tambien fue excelente y arriba en la terraza tienen<br>un lugar muy agradable tambien para ir...más"
          ],
          [
           "El paraíso!. servicio maravilloso! cerca de todo, con un<br>montón de cosas para hacer. la comida es excelente, las<br>bebidas son un poco caras. el viernes y sábado tienen buena<br>música. la piscina y las instalaciones generales del hotel<br>son super. manténgase lejos de la playa! la gente de ventas<br>que se te enloquecen. tienes muchas opciones de transporte<br>desde el hotel hasta la ciudad vieja \" la cuidad<br>amurrallada\". mi hijo y me encantó. pd: no abandonar la<br>ciudad sin visitar \"fidel\" divertido ambiente, antigua<br>música salsa y las bebidas son de lo mejor. y no se preocupe<br>la ciudad es seguro! ten cuidado ( como en cualquier otro<br>lugar ) y disfruta!"
          ],
          [
           "El mejor cierre de cumpleaños!. desde que llegas te hacen<br>sentir que estás en las vacaciones de tus sueños. la buena<br>atención y servicio lo tienes desde el que te recibe en el<br>hotel, la recepcionista, en el área de la piscina también!<br>el sr. canario nos atendió súper bien, luis igualmente!! los<br>restaurantes tienen comida deliciosa, en ciao, gilberto nos<br>atendió de 10 ptos! los animadores son súper divertidos, el<br>zamurai definitivamente nos alegró muchísimo! en el rock<br>spa, fadi te explica detalladamente todos los servicios que<br>tienen de forma muy amable. las manos de vero y victoria te<br>dejan relajados y sin ningún tipo de estrés! definitivamente<br>volvería! gracias por ayudarme a cerrar mi cumpleaños de<br>forma especial!"
          ],
          [
           "El mejor hotel todo incluido.. mil gracias a todo el staff<br>que hace que tu viaje sea inolvidable, gracias totales a<br>carlos marquez, gustavo díaz y geraldine zaragoza por estar<br>al pendiente de cada detalle, para que tu estancia sea<br>placentera,"
          ],
          [
           "Excelente. una de las mejores vistas desde el restaurante.<br>hemos visto cada parte de la ciudad de la habana. antes de<br>la cena tuvimos unos mojitos. uno de los mejores de la<br>habana. el servicio era excelente, gracias por el jefe de<br>alejandro y su tripulación."
          ],
          [
           "Ultima comida en la habana. restaurante fantástico en el que<br>estuvimos hace dos días ya de vuelta de ruta por cuba dos<br>familias. nos ubicaron en un apartado para 8 con aire<br>acondicionado y la comida fue un auténtico placer. carta muy<br>variada y a precios muy asequibles.. la presentación...más"
          ],
          [
           "Excelente hotel y atención maravilloda. el hotel es lindo<br>com vistas espectaculares. lo mejor es la atención de los<br>que allí trabajan, desde el guardia de la puerta hasta<br>quienes limpian las habitaciones. recomiendo incluir el<br>desayuno en la habitación y pagar por habitaciones con vista<br>al mar. vale la pena! justo al lado hay un buen supermercado<br>para el que quiera comprar frutas y agua (las habitaciones<br>tienen neveras). para utilizar taxis confiables pídalo en la<br>puerta de entrada al guardia. ayuda con gusto y ofrece<br>consejos."
          ],
          [
           "Excelente atencion hotel cartagena plaza. excelente atención<br>muy especializada gracias por su recibimiento señor óscar<br>rodríguez de todos los hoteles que he visitado ha sido el<br>único que se preocupó por nuestro bienestar e higiene.<br>volvería mil veces inolvidables vacaciones con mis amigos,<br>ya todos estamos de acuerdo para regresar."
          ],
          [
           "El mejor servicio y la mejor experiencia hotel-playa. me<br>encuentro muy satisfecha y feliz con el servicio en la<br>playa. por parte de jorge yepes, jorge castillo y milton<br>cruz, nos hicieron sentir como en casa. es importante<br>reconocer positivamente su excelente labor. nos<br>recomendaron, nos asesoraron, nos pusieron muy comodos en<br>nuestra sombrilla y nos cuidaron en todo momento. personal<br>comprometido con el mejor servicio a los huéspedes,<br>enalteciendo el nombre de hotel las americas. gracias<br>siempre."
          ],
          [
           "Spectacular vamos a regresar. nos hospedamos en este hotel 2<br>noches y la calidad del servicio como la comida y el<br>ambiente de este hotel esta de de primera. el grill en la<br>terraza con la vista espectacular a la cuidad con su piscina<br>y un ambiente muy agradable por la tarde, y los restaurantes<br>por la noche como el mediterráneo con un servicio<br>extraordinario de comida y después sentado en el lobby bar<br>con música al vivo y longdrinks servido con un tabaco<br>cubano. más que recomendable para su vista en cuba y<br>principalmente en habana. los habitaciones muy limpios y<br>ordenados. no podemos esperar la próxima visita a habana y<br>al parque centaral."
          ],
          [
           "Luna de miel. estuvimos muy poquito tiempo en el hotel, solo<br>una noche. todo estuvo bien satisfactorio. tuvimos la<br>oportunidad de cenar en el restaurante, muy rico y buenos<br>precios. habitacion muy bien, con una vista lindisima. todo<br>el personal muy atento. gracias especiales a rosana.<br>volveremos!"
          ],
          [
           "Excelente!!!. excelente hotel desde que llegas te atienden<br>perfecto! rafael (botenes) es el mejor, alegre, carismático,<br>con los mejores consejos para conocer la ciudad, en fin<br>lejos el mejor! el hotel es muy confortable, habitaciones<br>espaciosas, cómodas, limpias, con el infaltable aire<br>acondicionado funcionando perfecto, tv plasma (aunque no lo<br>crean), tv cable funcionando bien, con agua en el frigobar,<br>todo funcionando bien, ( hago la aclaración porque leí que<br>en otros hoteles en la habana no hay nada de esto). se<br>realizan shows en la noche, en el bar preparan tragos muy<br>ricos y unos sándwiches que se mueren!!! en general nuestra<br>estadía fue muy cortita, solo 2 días porque partíamos a<br>varadero, pero desde que entramos hasta que nos fuimos para<br>nosotras la estadía fue perfecta..! y rafael…"
          ],
          [
           "Hotel las americas cuando viajas con ninńos. lo mejor cerca<br>a la playa en la ciudad de cartagena. la atencion al detalle<br>del servicio al cliente es evidente desde que entras por el<br>lobby hasta que caminas a la playa. las habitaciones siempre<br>impecable, y sobre todo lo mas importante cuando viajas con<br>ninos, la seguridad impecable."
          ],
          [
           "Excelentes vacaciones en cartagena. realmente es un hotel<br>especial. la zona húmeda es perfecta para relajarse y pasar<br>un día de desconexión. la atención del personal es<br>excelente, están pendientes del usuario de forma permanente.<br>recomendado !!!"
          ],
          [
           "Mi lugar favorito de nuevo vallarta!!!. hace ya varios años<br>que no visitaba vallarta y fue una agradable regresar a este<br>restaurante. sigue con sus alimentos exquisitos!!! el lugar<br>muy fresco y el servicio muy atento. pedí los camarones<br>tinos y estan deliciosos!! todos en la familia quedamos<br>contentos con la experiencia. los niños felices en los<br>juegos y alimentando a las tortugas ( el alimento lo venden<br>en el area de caja) solo sugiero que el área de niños este<br>cercada, más variedad de postres, y estaría muy bien algún<br>menú infantil."
          ],
          [
           "Maravilloso lugar de encuentro!. pasamos mucho tiempo<br>relajante con bebidas en varios restaurantes de la plaza.<br>los lugareños y visitantes disfrutar de esta hermosa plaza a<br>todas horas del día y la noche. muy seguro."
          ],
          [
           "Excelente experiencia. buen servicio la comida de primera<br>excelente atencion en el plan todo incluido recomendado<br>muchas gracias a oscar ramos por el acompañamiento de<br>principio a fin sin lugar a duda volveremos a visitar este<br>hotel"
          ],
          [
           "Atención única. el café de olla tiene un sabor especial y el<br>pan de platano es muy rico y saludable. me encantó el<br>servicio. de recomendar."
          ],
          [
           "Relajante cerca de la ciudad!. mi esposa y yo, así como otra<br>pareja visitamos el occidental grand cartagena de 23 ene rd<br>hasta los 30â° en un avión/hotel dineral reservamos con<br>nolitours. el check-in fue rápido y eficiente. la habitación<br>olía un poco de humedad y estaba un poco sucio a su llegada,<br>pero la limpieza era perfecta, desde entonces. no toma mucho<br>tiempo para conocer su camino en el complejo ya que es una<br>pequeña. no es una mala cosa para mí, ya que es muy fácil de<br>rendez-vous sin tener que ser precisos y donde reunirse con<br>los amigos. el sol y el calor te hace sentir<br>instantáneamente un ambiente caribeño y todo lo que quieres<br>hacer es relajarse, sin ver! estábamos buscando formard de<br>utilizar el gimnasio, pero había un terrible olor cerca el<br>día que llegamos. a partir del día siguiente, todo…"
          ],
          [
           "Hotel muy agradable. este es un encantador hotel<br>habitaciones grandes y limpias, no se puede fumar en ningún<br>sitio dentro incluso en un balcón muy grande. el desayuno no<br>importa cuando vas, abundante variedad y aún de excelente<br>calidad, el personal servicial, como cabe esperar en este<br>acogedor hotel. un hermoso vestíbulo con entretenimiento<br>espaciosa, uno de los cuales es armonia viva un grupo joven<br>prodigio cubanoamericana con un pianista que podría gracia a<br>cualquier concierto. cruce la carretera y comprar tus<br>bebidas tercio del precio."
          ],
          [
           "Es cuba !!! dejate llevar y disfruta !!!. estuvimos hace<br>unos días en este hotel de la habana. su personal muy amable<br>y atento. un hotelo de estilo cubano, lo cual significa que<br>no vas a encontrar las comodidades de un hotel de sus misma<br>categoria en españa. necesita una buena reforma, al igual<br>que el resto de la ciudad, pero,... entonces dejaría de ser<br>la habana. el encanto de esta ciudad, de este país y de este<br>hotel es su ambiente trasnochado, viejo,... no dejeis de<br>visitarlo antes de que casmbie. estuvimos en dos<br>habitaciones diferentes, al principio de nuestro viaje en<br>una del tercer piso (el personal de limpieza era encantador)<br>y al final de nuestro periplo por cuba en otra del piso<br>octabo. las vistas espectaculares!!! el desayuno muy<br>correcto, me sorprendio y gustó mucho.el restaurante del<br>piso bajo está bien,…"
          ],
          [
           "Excelente estadia. los felicito porque se enfocan en que los<br>niños la pasen bien. en algunas pisicinas no hay facilidad<br>de adquirir algo de tomar, deben haber meseros recoriendo si<br>algo provoca para ir a traerlo. de resto un excelente hotel."
          ],
          [
           "Vacaciones. muy buen servicio y atención de todos los<br>colaboradores del hotel. la comida e instalaciones<br>maravillosas. bastantes zonas para loa niños y una playa<br>para disfrutar..varias piscinas para adultos y niños y menú<br>varido"
          ],
          [
           "Todo delicioso. la comida muy buena, sabores diferentes y<br>excelente atención de aldemar, el mesero que nos atendió,<br>nos hizo muy buenas recomendaciones pues es la primera vez<br>que visitamos el restaurante."
          ]
         ],
         "hovertemplate": "Topic=1<br>Label=Positive<br>Dim 1=%{x}<br>Dim 2=%{y}<br>Importancia=%{marker.size}<br>Comentario original=%{customdata[0]}<extra></extra>",
         "legendgroup": "1, Positive",
         "marker": {
          "color": "#00cc96",
          "size": [
           90.07989786179553,
           85.07547466327583,
           163.16424574663796,
           250.24582438109607,
           75.43826402682843,
           116.99337120795623,
           130.65467405717968,
           1830.1707598422865,
           2909.831055394719,
           54.83307713320423,
           171.1146829163814,
           25.601509632524298,
           52.27212465312422,
           41.57917018420044,
           32.19500909517267,
           152.0164232215278,
           270.5847998832907,
           50.803413566939454,
           24.83387615365256,
           121.65816693067924,
           137.70044570523888,
           29.530283427460212,
           57.100913710532666,
           65.21052754397799,
           99.42834737200494
          ],
          "sizemode": "area",
          "sizeref": 12.289861556866619,
          "symbol": "diamond"
         },
         "mode": "markers",
         "name": "1, Positive",
         "opacity": 0.8,
         "orientation": "v",
         "showlegend": true,
         "textposition": "top center",
         "type": "scatter",
         "x": [
          0.3329567955802335,
          0.1520218597325375,
          0.05189496974356949,
          -0.0721097009936996,
          -0.06727744007793858,
          0.3340777963755075,
          0.2284317730533039,
          -0.15792159060271957,
          -0.050631972795227326,
          -0.07452126307692901,
          0.1331397739956811,
          0.0869150612205443,
          -0.05891182859298118,
          -0.0881864317271493,
          -0.13608007313899842,
          0.32131331074142794,
          0.1724342237462251,
          -0.06095519868294189,
          0.18314769046767337,
          0.13841755375173564,
          -0.0643215578407076,
          0.029280780540119573,
          -0.047175510308520525,
          -0.04076748349834189,
          0.30716898610866594
         ],
         "xaxis": "x",
         "y": [
          -0.13260552517837246,
          -0.0865929797517598,
          0.12911791902254702,
          -0.08864511765079817,
          -0.00456744716808298,
          -0.06575036282616066,
          0.046157619335924445,
          0.045752403943473345,
          -0.06581777504784381,
          -0.15668125987429987,
          0.10545473966129884,
          0.016639464501921667,
          0.058938247361575415,
          0.055429978961386496,
          -0.02606344667012532,
          -0.11107274975758545,
          -0.020656391640448038,
          -0.19289918468464745,
          -0.13643281932971293,
          0.18768611815762493,
          0.02448325077559487,
          0.1765903526049549,
          -0.09691685318063813,
          -0.08342925228606758,
          -0.2259254924612472
         ],
         "yaxis": "y"
        },
        {
         "customdata": [
          [
           "Insoportable. no merece la pena ir... antes de llegar ya te<br>sientes acosada y una vez alli te increpan de una manera<br>bastante desagradable. así que lo único que quieres es salir<br>de allí para seguir visitando el resto de la ciudad. no se<br>lo recomendaría a nadie"
          ],
          [
           "La gran estafa. 5 cuc por el peor mojito que me he tomado en<br>todas mis vacaciones. juegan con el nombre que tiene, y con<br>la historia que les acompaña. pero.....un trato pésimo. hay<br>que visitarlo porque hay que visitarlo, pero....nada mas"
          ],
          [
           "Una de las pocas trampas turísticas. la plaza podría ser una<br>de las pocas trampas para turistas en la habana. el<br>restaurante plaza principal (en realidad podría ser una)<br>está llena de turistas y la calidad es mala (aunque los<br>precios son bastante altos)."
          ],
          [
           "Hay mejores. prefiero el gran pastor el cabrito esta mucho<br>mejor, mejor cocinado y mas tierno. no me gusta la<br>decoracion recargada de este restaurante, es mas la<br>publicidad que lo que en realidad se ofrece, se ve ambiente<br>naco"
          ]
         ],
         "hovertemplate": "Topic=3<br>Label=Negative<br>Dim 1=%{x}<br>Dim 2=%{y}<br>Importancia=%{marker.size}<br>Comentario original=%{customdata[0]}<extra></extra>",
         "legendgroup": "3, Negative",
         "marker": {
          "color": "#ab63fa",
          "size": [
           73.49727523767383,
           166.24530035311162,
           68.84784008671504,
           784.5317849716735
          ],
          "sizemode": "area",
          "sizeref": 12.289861556866619,
          "symbol": "circle"
         },
         "mode": "markers",
         "name": "3, Negative",
         "opacity": 0.8,
         "orientation": "v",
         "showlegend": true,
         "textposition": "top center",
         "type": "scatter",
         "x": [
          0.11535857187001561,
          0.28387074296674997,
          0.12783563423699154,
          0.24618666522517166
         ],
         "xaxis": "x",
         "y": [
          0.1539131552021749,
          0.2587161053917527,
          -0.029094425849759346,
          -0.15721457008118372
         ],
         "yaxis": "y"
        },
        {
         "customdata": [
          [
           "Mirando hacia el puerto de la habana. la plaza de san<br>francisco de asís esta totalmente restaurada y de ella<br>destaca su adoquinado irregular; la fuente de los leones la<br>de mayor simbolismo de la habana, la terminal sierra<br>maestra, desde donde parten barcos repletos de turistas; la<br>lonja del comercio, cubierta por una cúpula excelente, el<br>caballero de parís, una estatua famosa y especial, situada<br>ceerca de la iglesia. esta plaza colonial alberga la iglesia<br>y convento de san francisco de asís, que hoy alberga el<br>museo de arte religioso."
          ],
          [
           "Un bonito lugar para visitar. la plaza principal de mérida.<br>catedral histórica, restaurantes y tiendas cerca. excursión<br>por la ciudad de carruajes a precios razonables. el mercado<br>principal está cerca para probar la diversión de la vida<br>local."
          ],
          [
           "Excelente. la verdad es que me encanta la obra de ese genial<br>artista paisa, en medellín, vi su plaza llena de sus<br>esculturas, y ahora ver el resto de sus obras, incluidas<br>pinturas, me encanto"
          ],
          [
           "Satisfechas. hemos estado en el hotel una amiga y yo del<br>09/09/12 al 13/09/12, nuestra estancia ha sido muy<br>agradable. *** situacion: muy buena, estás al lado del museo<br>de la revolución (si te interesa la historia de cuba es muy<br>recomendable), el memorial granma y el museo de bellas<br>artes. al lado de prado que es una avenida que va a dar al<br>malecón y por ella puedes llegar al parque central, el<br>ballet nacional y el capitolio (entre 5 y 10 minutos<br>caminando del hotel). *** habitacion: nos tocó una<br>habitación que hacía esquina (creo que la 704) en la 7ª<br>planta, es más amplia que las que están en zona de pasillo.<br>nuestra habitación tenía vistas al capitolio, muy limpia y<br>el baño también, pequeñito y muy importante!!!!!! sin<br>cortinas en la bañera!!!!!, provista de mampara de cristal.<br>***…"
          ],
          [
           "Visita obligada en la habana. el cementerio de colon es uno<br>de los cementerios del mundo con un gran patrimonio<br>arquitectónico y escultorico dentro del mismo están ubicados<br>panteones de familias de gran renombre así como los<br>descendientes de muchas familias españolas que se asentaron<br>en la habana colonial a día de hoy es una agradable visita<br>en nuestro paso por la habana .la entrada para los turistas<br>es muy barata creo recordar que son 2,00 cuc que vienen a<br>ser casi 1,80 € te dan un mapa con los panteones más<br>visitados y de gran importancia hasta la familia real<br>española tiene allí un panteón de algún borbón que falleció<br>en la isla."
          ],
          [
           "Viejo y nuevo. lo que un interesante museo. había<br>antigüedades de la región y arte contemporáneo fue una<br>verdadera sorpresa. es un pequeño museo manejable. tienen un<br>fantástico techo café de jardín con asientos en el interior<br>y el exterior. el café es de cristal en todos los lados, así<br>que tienes una gran vista si el tiempo requiere sentarse<br>dentro. tienda del museo era genial, con muy bien hecho<br>objetos: joyas, tejidos, carteras, vidrio, cerámica, libros,<br>etc. bien merece la pena entrar para el recuerdo de puebla."
          ],
          [
           "Arte al aire libre. yo les recomiendo visitarlo realmente<br>las esculturas que verán son bellísimas, de mármol<br>.........no dejen de visitar la tumba de \"la milagrosa\", es<br>la única que está llena de flores, emociona ver a la gente<br>que se acerca a la misma ........lo que realmente no me<br>gustó es la atención de las personas de la entrada; no se<br>les ocurra ir a los baños.la entrada al cementerio es de 5<br>cuc...pero vale la pena."
          ],
          [
           "Buena colección. vale la pena visitarlo, es una buena<br>oportunidad para apreciar buena parte de la obra de botero,<br>las pinturas y esculturas que se observan en el museo, te<br>dan una idea de la obra de este artista."
          ],
          [
           "Vale la pena visitar en cartagena. la ciudad amurallada está<br>situado en el casco antiguo de la ciudad. encontrará muchos<br>lugares para comprar bienes y algunos restaurantes.hay<br>muchas iglesias antiguas."
          ],
          [
           "Un museo. estuve solo una noche en este hotel es realmente<br>increíble desde la entrada hasta el ultimo piso ,uno se cree<br>que esta alojado en un museo muy conservado y impecable<br>limpieza si buscas confort este no es un hotel para ti pero<br>estar en la vieja habana alojarte aquí es como sentirla el<br>restaurante del ultimo piso tiene una vista maravillosa y un<br>servio excelente realmente lo recomiendo"
          ],
          [
           "Muy completo y organizado. este museo vale la pena visitarlo<br>con guía. no pudimos recorrerlo entero pues son muchos pisos<br>y esta organizado por región. la pieza más importante es la<br>balsa de la leyenda de el dorado, pero en total hay<br>aproximadamente 34,000 piezas."
          ],
          [
           "Parada obligatoria. hermosa plaza. la única con árboles. nos<br>decía la guia que las plazas allí son como las españolas que<br>no tienen vegetación. llena de historia, por todos lados,<br>adoquines, edificios, hermoso, muy. parada obligatoria.<br>recomiendo con énfasis ir con un buen tour para conocer<br>donde esta todo y saber de la historia de la habana. luego<br>seguir yendo a pie, por nuestra cuenta,."
          ],
          [
           "Preciosa plaza de la catedral. esta impresionante catedral<br>de san cristóbal de la habana vieja se merece una visita. la<br>plaza de la catedral es un gran lugar para ver la<br>arquitectura barroca cubana. es una plaza muy animada y un<br>buen lugar para observar a la gente."
          ],
          [
           "Una fascinante y hermosa ciudad colonial. hace calor,<br>humedad y a veces estaba llena de gente. las tiendas,<br>restaurantes y museos están equipadas con aire<br>acondicionado, para la mayor parte y la gente es muy amable.<br>caminando por la pared, temprano en la mañana o tarde en la<br>noche es una delicia."
          ],
          [
           "Paseo a la antigua. paseo en calesa o a pié es estupendo por<br>la vista de las casas enormes y lujosas. se remonta a la<br>historia con la vista de la avenida y sus edificaciones,<br>algunas son museos o negocios importantes."
          ],
          [
           "¡único!. al recorrer toda la explanada del zócalo hace darte<br>cuenta que no necesitas viajar a europa para admirar una<br>impresionante arquitectura barroca llena de historia, es un<br>lugar muy placentero para asistir solo, con pareja, amigos o<br>con la familia, recomiendo comprar un helado o un café y<br>sentarse en una de sus bancas y admirar cada rincón de este<br>espacio, su fuente, la catedral, sus áreas verdes o los<br>diferentes artistas callejeros que sin duda harán de tu<br>estadía muy amena."
          ],
          [
           "Hermosa estadía en la ciudad amurallada. hermoso lugar, cada<br>cuadra es un paisaje atractivo. muchos lugares para visitar,<br>recorrer las murallas, sentarse a tomar un café, un trago,<br>contemplar la puesta del sol, sentirse atraído por los<br>productos típicos, etc."
          ],
          [
           "Un lugar para visitar en bogota,las obras de botero son<br>magnificas. por su ubicacion podran ademas visitar el barrio<br>de la candelaria, un lugar en donde se conserva la<br>arquitectura colonial ,alli encontraran cafes tipicos,y<br>restaurantes,luego el paso obligado sera el museo del oro a<br>unas 10 cuadras a pie ,donde podran apreciar la mayor<br>cantidad de objetos de oro que elaboraban los indigenas de<br>este pais,sera una experiencia dificil de olvidar."
          ]
         ],
         "hovertemplate": "Topic=3<br>Label=Positive<br>Dim 1=%{x}<br>Dim 2=%{y}<br>Importancia=%{marker.size}<br>Comentario original=%{customdata[0]}<extra></extra>",
         "legendgroup": "3, Positive",
         "marker": {
          "color": "#ab63fa",
          "size": [
           106.00331531995165,
           82.67597061371116,
           37.191288024515885,
           149.1594792857659,
           270.8973450395492,
           532.9894318688741,
           74.24376973300235,
           45.61871454202638,
           97.60120232833104,
           77.55558822503927,
           68.59595306737371,
           81.07183503388929,
           566.5040909777975,
           115.28978407057562,
           550.9567202101108,
           57.767856703961165,
           122.24999955495787,
           12.843461846958437
          ],
          "sizemode": "area",
          "sizeref": 12.289861556866619,
          "symbol": "diamond"
         },
         "mode": "markers",
         "name": "3, Positive",
         "opacity": 0.8,
         "orientation": "v",
         "showlegend": true,
         "textposition": "top center",
         "type": "scatter",
         "x": [
          0.1518680388613294,
          0.2359815912682915,
          0.3136727195149557,
          0.07095174311828284,
          0.23298654799004453,
          0.3652280440924726,
          0.09693545060031254,
          0.3420626726370816,
          0.273573055927371,
          0.025334564040414558,
          0.34251345190144994,
          0.2247592928785245,
          0.20374674594982906,
          0.18781801278408952,
          0.22617457871096042,
          0.24662880884602767,
          0.22529263213745546,
          0.28397904313181255
         ],
         "xaxis": "x",
         "y": [
          0.29324733862537333,
          0.18196146198641155,
          0.22370915952234383,
          0.3147581583313636,
          0.4133119145716622,
          0.23685145486785464,
          0.2783102273834792,
          0.3142183538297548,
          0.19999445493674628,
          0.08880650318736386,
          0.2726077048512459,
          0.2556882448560105,
          0.2941595722174296,
          0.12814729375003192,
          0.37415323116103566,
          0.12397480291340125,
          0.16127380868328878,
          0.27466440900574507
         ],
         "yaxis": "y"
        },
        {
         "customdata": [
          [
           "No te alojes aquí por favor.... emocionado por venir a cuba<br>son rápidamente extinguida a su llegada por el hotel<br>diciéndonos que no hay agua. . y eso fue sólo el principio.<br>las habitaciones, las camas, cuarto de baño viejo y sucio<br>muy triste. cuba tiene un largo camino para llegar a ser el<br>lugar de destino para nosotros. no pide mucho, sólo algo de<br>agua para ducha, ir al baño y de vez en cuando limpias las<br>sábanas y toallas en la habitación. salir a la terraza para<br>el desayuno también era interesante, la comida no era buena,<br>y había moscas y aves comiendo en la comida. llegamos a hora<br>de cuba en la \"lista de cubo\" pero eso es todo. . me<br>encontré preguntando muchas preguntas en su mayoría\" ¿por<br>qué? \"es que este mal? es muy triste que un país y el<br>gobierno ha permitido que personas, edificios y ciudades a…"
          ],
          [
           "Innecesario. no me voy a explayar mucho en este bar porque<br>no lo merece. desde que planificamos nuestro viaje, la<br>mayoría de los viajeros de aquí nos indicaba este lugar como<br>imprescindible de cuba. cuando llegamos al bar, vimos a un<br>grupo de gente agolpada en...más"
          ]
         ],
         "hovertemplate": "Topic=0<br>Label=Negative<br>Dim 1=%{x}<br>Dim 2=%{y}<br>Importancia=%{marker.size}<br>Comentario original=%{customdata[0]}<extra></extra>",
         "legendgroup": "0, Negative",
         "marker": {
          "color": "#FFA15A",
          "size": [
           369.0208082046057,
           1717.9450111917438
          ],
          "sizemode": "area",
          "sizeref": 12.289861556866619,
          "symbol": "circle"
         },
         "mode": "markers",
         "name": "0, Negative",
         "opacity": 0.8,
         "orientation": "v",
         "showlegend": true,
         "textposition": "top center",
         "type": "scatter",
         "x": [
          -0.0011862570796417214,
          0.21818518406761248
         ],
         "xaxis": "x",
         "y": [
          0.27232590732233103,
          0.2367415046956656
         ],
         "yaxis": "y"
        },
        {
         "customdata": [
          [
           "Interesante visita. un lugar muy recomendado para ir y ver<br>las diferentes esculturas echas en sal también se puede<br>conocer un poco de la historia de la mina de sus inicios y<br>pues entrar dentro de una montaña y ver como a sido la<br>excavación que a tenido a lo largo de los años"
          ],
          [
           "Magnifico paseo. para pasar un día tranquilo, sin salir de<br>la ciudad, monserrate es un sitio donde ir a pasar el día.<br>subir y bajar por el teleférico o el funicular, buenos<br>restaurantes donde desayunar y almorzar, la iglesia del<br>señor caido. desde su mirador puedes observar una buena<br>vista de toda la ciudad, de oriente a occidente.se<br>recomienda ir bien abrigado y ojalá no este lloviendo el día<br>que vaya para disfrutar mucho mejor esta maravilla de<br>colombia."
          ],
          [
           "Visita obligada. si vienen a bogota, es un paso obligado ya<br>que tiene una colección muy interesante de piezas<br>arqueológicas y a su alrededor hay mucho turismo cultural<br>por realizar. el único punto malo es que hay mejorar un poco<br>mas el tema de la seguridad."
          ],
          [
           "Simplemente bello !!!. por el simple hecho de sentarse en<br>una banca y admirar sus pinturas y arquitectura se siente<br>uno relajado. y que decir de capilla considerada una<br>maravilla del mundo! un lugar que debemos visitar tanto los<br>residentes como todo turista."
          ],
          [
           "Cafetería y tienda.. tome el hotel transporte gratuito a la<br>ciudad vieja y las tiendas son en abundancia. no te olvides<br>de regatear! el old fort es una visita obligada para ver y<br>es un gran lugar para disfrutar de la puesta de sol."
          ],
          [
           "Fantásticas vistas de la ciudad. sin duda merece la pena la<br>cola para el teleférico. la bonita vista de la ciudad y de<br>la iglesia en la cima fue una visita agradable también."
          ],
          [
           "Maravilla arquitectónica. es imprescindible visitar la nueva<br>maravilla del mundo. la verdad es que impresiona y eso que<br>ya no se puede subir como antes. es importante ir con un<br>buen guía que te cuente los innumerables detalles que tiene.<br>nada está puesto al azar allí y es muy interesante saber<br>cómo determinaban los cambios de estación solo con los<br>efectos de la luz sobre la pirámide. también se puede<br>visitar el juego de pelota que es el más grande de todos los<br>de por allí y más edificios ya que era una ciudad muy<br>importante en su momento. dato importante: hay muchísimos<br>comerciantes a los que comprar pero cuidado que te ponen<br>unos precios que dan miedo, hay que regatear todo lo que se<br>pueda y se consiguen cosas a muy buen precio"
          ],
          [
           "Visita obligada. muy bonito paseo todo muy ordenado y<br>tranquilo y mucha colaboración para aclarar dudas. si tomas<br>un tour guiado son muy bien documentados y los guías con muy<br>buenos aportes y créanlo con buena objetividad y no evitan<br>temas es un paseo de mucha historia y paseas por muchos<br>lados y vez historia por lado y lado"
          ],
          [
           "Subir tarde-noche. la vista de bogotá desde este cerro es<br>impelable al igual que la visita a su iglesia. a monserrate<br>subes en teleférico y podrás visitar la iglesia y los<br>restaurantes del lugar donde se come delicioso."
          ],
          [
           "Hermosa vista!!. sin lugar a dudas, el mejor lugar para<br>visualizar la ciudad de bogotá, colombia. muy linda también<br>la iglesia de la cima!!"
          ]
         ],
         "hovertemplate": "Topic=0<br>Label=Positive<br>Dim 1=%{x}<br>Dim 2=%{y}<br>Importancia=%{marker.size}<br>Comentario original=%{customdata[0]}<extra></extra>",
         "legendgroup": "0, Positive",
         "marker": {
          "color": "#FFA15A",
          "size": [
           1119.6497224971063,
           50.71470046114834,
           2475.726723065765,
           682.0686376246261,
           34.892808520974334,
           18.947628705102446,
           136.38397130046633,
           245.43584668484323,
           212.8564913618927,
           381.02880734949144
          ],
          "sizemode": "area",
          "sizeref": 12.289861556866619,
          "symbol": "diamond"
         },
         "mode": "markers",
         "name": "0, Positive",
         "opacity": 0.8,
         "orientation": "v",
         "showlegend": true,
         "textposition": "top center",
         "type": "scatter",
         "x": [
          0.29061072948458266,
          0.29318353220448096,
          0.36562567374933264,
          0.07676133592998496,
          0.1644656709522729,
          0.2776288392481927,
          0.1755849773167839,
          0.25484362640440233,
          0.37769697065864777,
          0.37190717282000574
         ],
         "xaxis": "x",
         "y": [
          0.3660184272105815,
          0.21625140399913442,
          0.3122943556679934,
          0.22091154184891743,
          0.10309643610639396,
          0.26025262847025293,
          0.3928869210106085,
          0.24878683770763976,
          0.24120282030335888,
          0.3869893080444678
         ],
         "yaxis": "y"
        }
       ],
       "layout": {
        "font": {
         "family": "Arial",
         "size": 12
        },
        "hovermode": "closest",
        "legend": {
         "itemsizing": "constant",
         "title": {
          "text": "Topic, Label"
         },
         "tracegroupgap": 0
        },
        "margin": {
         "t": 60
        },
        "template": {
         "data": {
          "bar": [
           {
            "error_x": {
             "color": "#f2f5fa"
            },
            "error_y": {
             "color": "#f2f5fa"
            },
            "marker": {
             "line": {
              "color": "rgb(17,17,17)",
              "width": 0.5
             },
             "pattern": {
              "fillmode": "overlay",
              "size": 10,
              "solidity": 0.2
             }
            },
            "type": "bar"
           }
          ],
          "barpolar": [
           {
            "marker": {
             "line": {
              "color": "rgb(17,17,17)",
              "width": 0.5
             },
             "pattern": {
              "fillmode": "overlay",
              "size": 10,
              "solidity": 0.2
             }
            },
            "type": "barpolar"
           }
          ],
          "carpet": [
           {
            "aaxis": {
             "endlinecolor": "#A2B1C6",
             "gridcolor": "#506784",
             "linecolor": "#506784",
             "minorgridcolor": "#506784",
             "startlinecolor": "#A2B1C6"
            },
            "baxis": {
             "endlinecolor": "#A2B1C6",
             "gridcolor": "#506784",
             "linecolor": "#506784",
             "minorgridcolor": "#506784",
             "startlinecolor": "#A2B1C6"
            },
            "type": "carpet"
           }
          ],
          "choropleth": [
           {
            "colorbar": {
             "outlinewidth": 0,
             "ticks": ""
            },
            "type": "choropleth"
           }
          ],
          "contour": [
           {
            "colorbar": {
             "outlinewidth": 0,
             "ticks": ""
            },
            "colorscale": [
             [
              0,
              "#0d0887"
             ],
             [
              0.1111111111111111,
              "#46039f"
             ],
             [
              0.2222222222222222,
              "#7201a8"
             ],
             [
              0.3333333333333333,
              "#9c179e"
             ],
             [
              0.4444444444444444,
              "#bd3786"
             ],
             [
              0.5555555555555556,
              "#d8576b"
             ],
             [
              0.6666666666666666,
              "#ed7953"
             ],
             [
              0.7777777777777778,
              "#fb9f3a"
             ],
             [
              0.8888888888888888,
              "#fdca26"
             ],
             [
              1,
              "#f0f921"
             ]
            ],
            "type": "contour"
           }
          ],
          "contourcarpet": [
           {
            "colorbar": {
             "outlinewidth": 0,
             "ticks": ""
            },
            "type": "contourcarpet"
           }
          ],
          "heatmap": [
           {
            "colorbar": {
             "outlinewidth": 0,
             "ticks": ""
            },
            "colorscale": [
             [
              0,
              "#0d0887"
             ],
             [
              0.1111111111111111,
              "#46039f"
             ],
             [
              0.2222222222222222,
              "#7201a8"
             ],
             [
              0.3333333333333333,
              "#9c179e"
             ],
             [
              0.4444444444444444,
              "#bd3786"
             ],
             [
              0.5555555555555556,
              "#d8576b"
             ],
             [
              0.6666666666666666,
              "#ed7953"
             ],
             [
              0.7777777777777778,
              "#fb9f3a"
             ],
             [
              0.8888888888888888,
              "#fdca26"
             ],
             [
              1,
              "#f0f921"
             ]
            ],
            "type": "heatmap"
           }
          ],
          "heatmapgl": [
           {
            "colorbar": {
             "outlinewidth": 0,
             "ticks": ""
            },
            "colorscale": [
             [
              0,
              "#0d0887"
             ],
             [
              0.1111111111111111,
              "#46039f"
             ],
             [
              0.2222222222222222,
              "#7201a8"
             ],
             [
              0.3333333333333333,
              "#9c179e"
             ],
             [
              0.4444444444444444,
              "#bd3786"
             ],
             [
              0.5555555555555556,
              "#d8576b"
             ],
             [
              0.6666666666666666,
              "#ed7953"
             ],
             [
              0.7777777777777778,
              "#fb9f3a"
             ],
             [
              0.8888888888888888,
              "#fdca26"
             ],
             [
              1,
              "#f0f921"
             ]
            ],
            "type": "heatmapgl"
           }
          ],
          "histogram": [
           {
            "marker": {
             "pattern": {
              "fillmode": "overlay",
              "size": 10,
              "solidity": 0.2
             }
            },
            "type": "histogram"
           }
          ],
          "histogram2d": [
           {
            "colorbar": {
             "outlinewidth": 0,
             "ticks": ""
            },
            "colorscale": [
             [
              0,
              "#0d0887"
             ],
             [
              0.1111111111111111,
              "#46039f"
             ],
             [
              0.2222222222222222,
              "#7201a8"
             ],
             [
              0.3333333333333333,
              "#9c179e"
             ],
             [
              0.4444444444444444,
              "#bd3786"
             ],
             [
              0.5555555555555556,
              "#d8576b"
             ],
             [
              0.6666666666666666,
              "#ed7953"
             ],
             [
              0.7777777777777778,
              "#fb9f3a"
             ],
             [
              0.8888888888888888,
              "#fdca26"
             ],
             [
              1,
              "#f0f921"
             ]
            ],
            "type": "histogram2d"
           }
          ],
          "histogram2dcontour": [
           {
            "colorbar": {
             "outlinewidth": 0,
             "ticks": ""
            },
            "colorscale": [
             [
              0,
              "#0d0887"
             ],
             [
              0.1111111111111111,
              "#46039f"
             ],
             [
              0.2222222222222222,
              "#7201a8"
             ],
             [
              0.3333333333333333,
              "#9c179e"
             ],
             [
              0.4444444444444444,
              "#bd3786"
             ],
             [
              0.5555555555555556,
              "#d8576b"
             ],
             [
              0.6666666666666666,
              "#ed7953"
             ],
             [
              0.7777777777777778,
              "#fb9f3a"
             ],
             [
              0.8888888888888888,
              "#fdca26"
             ],
             [
              1,
              "#f0f921"
             ]
            ],
            "type": "histogram2dcontour"
           }
          ],
          "mesh3d": [
           {
            "colorbar": {
             "outlinewidth": 0,
             "ticks": ""
            },
            "type": "mesh3d"
           }
          ],
          "parcoords": [
           {
            "line": {
             "colorbar": {
              "outlinewidth": 0,
              "ticks": ""
             }
            },
            "type": "parcoords"
           }
          ],
          "pie": [
           {
            "automargin": true,
            "type": "pie"
           }
          ],
          "scatter": [
           {
            "marker": {
             "line": {
              "color": "#283442"
             }
            },
            "type": "scatter"
           }
          ],
          "scatter3d": [
           {
            "line": {
             "colorbar": {
              "outlinewidth": 0,
              "ticks": ""
             }
            },
            "marker": {
             "colorbar": {
              "outlinewidth": 0,
              "ticks": ""
             }
            },
            "type": "scatter3d"
           }
          ],
          "scattercarpet": [
           {
            "marker": {
             "colorbar": {
              "outlinewidth": 0,
              "ticks": ""
             }
            },
            "type": "scattercarpet"
           }
          ],
          "scattergeo": [
           {
            "marker": {
             "colorbar": {
              "outlinewidth": 0,
              "ticks": ""
             }
            },
            "type": "scattergeo"
           }
          ],
          "scattergl": [
           {
            "marker": {
             "line": {
              "color": "#283442"
             }
            },
            "type": "scattergl"
           }
          ],
          "scattermapbox": [
           {
            "marker": {
             "colorbar": {
              "outlinewidth": 0,
              "ticks": ""
             }
            },
            "type": "scattermapbox"
           }
          ],
          "scatterpolar": [
           {
            "marker": {
             "colorbar": {
              "outlinewidth": 0,
              "ticks": ""
             }
            },
            "type": "scatterpolar"
           }
          ],
          "scatterpolargl": [
           {
            "marker": {
             "colorbar": {
              "outlinewidth": 0,
              "ticks": ""
             }
            },
            "type": "scatterpolargl"
           }
          ],
          "scatterternary": [
           {
            "marker": {
             "colorbar": {
              "outlinewidth": 0,
              "ticks": ""
             }
            },
            "type": "scatterternary"
           }
          ],
          "surface": [
           {
            "colorbar": {
             "outlinewidth": 0,
             "ticks": ""
            },
            "colorscale": [
             [
              0,
              "#0d0887"
             ],
             [
              0.1111111111111111,
              "#46039f"
             ],
             [
              0.2222222222222222,
              "#7201a8"
             ],
             [
              0.3333333333333333,
              "#9c179e"
             ],
             [
              0.4444444444444444,
              "#bd3786"
             ],
             [
              0.5555555555555556,
              "#d8576b"
             ],
             [
              0.6666666666666666,
              "#ed7953"
             ],
             [
              0.7777777777777778,
              "#fb9f3a"
             ],
             [
              0.8888888888888888,
              "#fdca26"
             ],
             [
              1,
              "#f0f921"
             ]
            ],
            "type": "surface"
           }
          ],
          "table": [
           {
            "cells": {
             "fill": {
              "color": "#506784"
             },
             "line": {
              "color": "rgb(17,17,17)"
             }
            },
            "header": {
             "fill": {
              "color": "#2a3f5f"
             },
             "line": {
              "color": "rgb(17,17,17)"
             }
            },
            "type": "table"
           }
          ]
         },
         "layout": {
          "annotationdefaults": {
           "arrowcolor": "#f2f5fa",
           "arrowhead": 0,
           "arrowwidth": 1
          },
          "autotypenumbers": "strict",
          "coloraxis": {
           "colorbar": {
            "outlinewidth": 0,
            "ticks": ""
           }
          },
          "colorscale": {
           "diverging": [
            [
             0,
             "#8e0152"
            ],
            [
             0.1,
             "#c51b7d"
            ],
            [
             0.2,
             "#de77ae"
            ],
            [
             0.3,
             "#f1b6da"
            ],
            [
             0.4,
             "#fde0ef"
            ],
            [
             0.5,
             "#f7f7f7"
            ],
            [
             0.6,
             "#e6f5d0"
            ],
            [
             0.7,
             "#b8e186"
            ],
            [
             0.8,
             "#7fbc41"
            ],
            [
             0.9,
             "#4d9221"
            ],
            [
             1,
             "#276419"
            ]
           ],
           "sequential": [
            [
             0,
             "#0d0887"
            ],
            [
             0.1111111111111111,
             "#46039f"
            ],
            [
             0.2222222222222222,
             "#7201a8"
            ],
            [
             0.3333333333333333,
             "#9c179e"
            ],
            [
             0.4444444444444444,
             "#bd3786"
            ],
            [
             0.5555555555555556,
             "#d8576b"
            ],
            [
             0.6666666666666666,
             "#ed7953"
            ],
            [
             0.7777777777777778,
             "#fb9f3a"
            ],
            [
             0.8888888888888888,
             "#fdca26"
            ],
            [
             1,
             "#f0f921"
            ]
           ],
           "sequentialminus": [
            [
             0,
             "#0d0887"
            ],
            [
             0.1111111111111111,
             "#46039f"
            ],
            [
             0.2222222222222222,
             "#7201a8"
            ],
            [
             0.3333333333333333,
             "#9c179e"
            ],
            [
             0.4444444444444444,
             "#bd3786"
            ],
            [
             0.5555555555555556,
             "#d8576b"
            ],
            [
             0.6666666666666666,
             "#ed7953"
            ],
            [
             0.7777777777777778,
             "#fb9f3a"
            ],
            [
             0.8888888888888888,
             "#fdca26"
            ],
            [
             1,
             "#f0f921"
            ]
           ]
          },
          "colorway": [
           "#636efa",
           "#EF553B",
           "#00cc96",
           "#ab63fa",
           "#FFA15A",
           "#19d3f3",
           "#FF6692",
           "#B6E880",
           "#FF97FF",
           "#FECB52"
          ],
          "font": {
           "color": "#f2f5fa"
          },
          "geo": {
           "bgcolor": "rgb(17,17,17)",
           "lakecolor": "rgb(17,17,17)",
           "landcolor": "rgb(17,17,17)",
           "showlakes": true,
           "showland": true,
           "subunitcolor": "#506784"
          },
          "hoverlabel": {
           "align": "left"
          },
          "hovermode": "closest",
          "mapbox": {
           "style": "dark"
          },
          "paper_bgcolor": "rgb(17,17,17)",
          "plot_bgcolor": "rgb(17,17,17)",
          "polar": {
           "angularaxis": {
            "gridcolor": "#506784",
            "linecolor": "#506784",
            "ticks": ""
           },
           "bgcolor": "rgb(17,17,17)",
           "radialaxis": {
            "gridcolor": "#506784",
            "linecolor": "#506784",
            "ticks": ""
           }
          },
          "scene": {
           "xaxis": {
            "backgroundcolor": "rgb(17,17,17)",
            "gridcolor": "#506784",
            "gridwidth": 2,
            "linecolor": "#506784",
            "showbackground": true,
            "ticks": "",
            "zerolinecolor": "#C8D4E3"
           },
           "yaxis": {
            "backgroundcolor": "rgb(17,17,17)",
            "gridcolor": "#506784",
            "gridwidth": 2,
            "linecolor": "#506784",
            "showbackground": true,
            "ticks": "",
            "zerolinecolor": "#C8D4E3"
           },
           "zaxis": {
            "backgroundcolor": "rgb(17,17,17)",
            "gridcolor": "#506784",
            "gridwidth": 2,
            "linecolor": "#506784",
            "showbackground": true,
            "ticks": "",
            "zerolinecolor": "#C8D4E3"
           }
          },
          "shapedefaults": {
           "line": {
            "color": "#f2f5fa"
           }
          },
          "sliderdefaults": {
           "bgcolor": "#C8D4E3",
           "bordercolor": "rgb(17,17,17)",
           "borderwidth": 1,
           "tickwidth": 0
          },
          "ternary": {
           "aaxis": {
            "gridcolor": "#506784",
            "linecolor": "#506784",
            "ticks": ""
           },
           "baxis": {
            "gridcolor": "#506784",
            "linecolor": "#506784",
            "ticks": ""
           },
           "bgcolor": "rgb(17,17,17)",
           "caxis": {
            "gridcolor": "#506784",
            "linecolor": "#506784",
            "ticks": ""
           }
          },
          "title": {
           "x": 0.05
          },
          "updatemenudefaults": {
           "bgcolor": "#506784",
           "borderwidth": 0
          },
          "xaxis": {
           "automargin": true,
           "gridcolor": "#283442",
           "linecolor": "#506784",
           "ticks": "",
           "title": {
            "standoff": 15
           },
           "zerolinecolor": "#283442",
           "zerolinewidth": 2
          },
          "yaxis": {
           "automargin": true,
           "gridcolor": "#283442",
           "linecolor": "#506784",
           "ticks": "",
           "title": {
            "standoff": 15
           },
           "zerolinecolor": "#283442",
           "zerolinewidth": 2
          }
         }
        },
        "title": {
         "text": "Cloud <br><sup> Embeddings Visualization and Topic Clustering </sup>",
         "x": 0.5
        },
        "xaxis": {
         "anchor": "y",
         "domain": [
          0,
          1
         ],
         "linecolor": "gray",
         "linewidth": 2,
         "showline": false,
         "showticklabels": false,
         "tickformat": ".2f",
         "ticks": "",
         "title": {
          "text": " "
         }
        },
        "yaxis": {
         "anchor": "x",
         "domain": [
          0,
          1
         ],
         "linecolor": "gray",
         "linewidth": 2,
         "showline": false,
         "showticklabels": false,
         "tickformat": ".2f",
         "ticks": "",
         "title": {
          "text": " "
         }
        }
       }
      }
     },
     "metadata": {},
     "output_type": "display_data"
    }
   ],
   "source": [
    "plot_embeddings(fm, title='Embeddings Visualization and Topic Clustering', save=True)"
   ]
  },
  {
   "cell_type": "code",
   "execution_count": 23,
   "id": "6ecc61b0",
   "metadata": {},
   "outputs": [
    {
     "data": {
      "text/html": [
       "<div>\n",
       "<style scoped>\n",
       "    .dataframe tbody tr th:only-of-type {\n",
       "        vertical-align: middle;\n",
       "    }\n",
       "\n",
       "    .dataframe tbody tr th {\n",
       "        vertical-align: top;\n",
       "    }\n",
       "\n",
       "    .dataframe thead th {\n",
       "        text-align: right;\n",
       "    }\n",
       "</style>\n",
       "<table border=\"1\" class=\"dataframe\">\n",
       "  <thead>\n",
       "    <tr style=\"text-align: right;\">\n",
       "      <th></th>\n",
       "      <th>id</th>\n",
       "      <th>eval_pos</th>\n",
       "      <th>eval_neg</th>\n",
       "    </tr>\n",
       "  </thead>\n",
       "  <tbody>\n",
       "    <tr>\n",
       "      <th>0</th>\n",
       "      <td>1</td>\n",
       "      <td>1</td>\n",
       "      <td>0</td>\n",
       "    </tr>\n",
       "    <tr>\n",
       "      <th>1</th>\n",
       "      <td>2</td>\n",
       "      <td>1</td>\n",
       "      <td>0</td>\n",
       "    </tr>\n",
       "    <tr>\n",
       "      <th>4</th>\n",
       "      <td>5</td>\n",
       "      <td>1</td>\n",
       "      <td>0</td>\n",
       "    </tr>\n",
       "    <tr>\n",
       "      <th>5</th>\n",
       "      <td>6</td>\n",
       "      <td>1</td>\n",
       "      <td>0</td>\n",
       "    </tr>\n",
       "    <tr>\n",
       "      <th>7</th>\n",
       "      <td>8</td>\n",
       "      <td>1</td>\n",
       "      <td>0</td>\n",
       "    </tr>\n",
       "  </tbody>\n",
       "</table>\n",
       "</div>"
      ],
      "text/plain": [
       "   id  eval_pos  eval_neg\n",
       "0   1         1         0\n",
       "1   2         1         0\n",
       "4   5         1         0\n",
       "5   6         1         0\n",
       "7   8         1         0"
      ]
     },
     "execution_count": 23,
     "metadata": {},
     "output_type": "execute_result"
    }
   ],
   "source": [
    "df_topicos_manual = pd.read_parquet(processed/'df_topicos_manual.parquet.gzip')\n",
    "df_topicos_manual = df_topicos_manual.loc[:,['id', 'eval_pos', 'eval_neg']]\n",
    "df_topicos_manual['conteo'] = df_topicos_manual[['eval_pos', 'eval_neg']].sum(axis=1)\n",
    "df_topicos_manual = df_topicos_manual[df_topicos_manual['conteo'] == 1]\n",
    "df_topicos_manual.drop(['conteo'], axis=1, inplace=True)\n",
    "df_topicos_manual.head()"
   ]
  },
  {
   "cell_type": "code",
   "execution_count": 24,
   "id": "ab4838a0",
   "metadata": {},
   "outputs": [
    {
     "data": {
      "text/plain": [
       "((118778, 3), (215, 9))"
      ]
     },
     "execution_count": 24,
     "metadata": {},
     "output_type": "execute_result"
    }
   ],
   "source": [
    "fm = pd.merge(fm, df_topicos_manual, how='left', on=['id']) \n",
    "fm = fm.dropna(subset=['eval_pos'])\n",
    "df_topicos_manual.shape, fm.shape"
   ]
  },
  {
   "cell_type": "code",
   "execution_count": 25,
   "id": "bddf34ae",
   "metadata": {},
   "outputs": [
    {
     "data": {
      "application/vnd.plotly.v1+json": {
       "config": {
        "plotlyServerURL": "https://plot.ly"
       },
       "data": [
        {
         "customdata": [
          [
           "Pésimo servicio. no tienen disposición ni tacto para atender<br>al cliente. llegamos al restaurante y no quisieron<br>atendernos a pesar de que tenian muchas mesas disponibles."
          ],
          [
           "Mala comida y muy cara. fuimos un grupo de 11 amigos a comer<br>con un guia que nos encontramos en la puerta del hotel.<br>queriamos comer ropa vieja y no había. comimos vaca frita<br>con arroz cubano y a parte un \"platito \"pequeño de lechuga<br>con láminas transparentes de tomate...a compartir para 3-4<br>personas. cerveza para todos y pagamos 34€ por persona<br>invitanto al guia a comer. una tomadura de pelo. mucho mejor<br>restaurante habana 61 y restaurante elizalde por 12 € por<br>persona.más"
          ],
          [
           "Muy mal servicio. te dejan esperando para ver si hay mesa<br>disponible cuando se encuentra vacio. el mesero nos dejó los<br>alimentos y hasta que me molesté pidiendo cubiertos y pan,<br>lo trajo, la comida está rica pero el servicio que dan de<br>malas y como haciéndote el...más"
          ],
          [
           "Qué hotel tan malo en la vida. nunca me imaginé que<br>existieran hoteles tan malos a ese precio. señores: cierto<br>es que la habana es muy divertida y que la experiencia es<br>única, pero pagar más de €300 por noche por quedarse en una<br>pocilga de hotel que tiene los muebles rotos y el baño y la<br>cama como los dejaron antes de la revolución es un robo"
          ],
          [
           "Habitaciones sucias. me he hospedado por 3 días en este<br>hotel en la habitación 209 y para mí sorpresa al entrar a la<br>habitación a mi llegada decido tomar una ducha y he notado<br>que el wc no ha sido lavado por dentro y por fuera... las<br>sábanas de la cama tenían cabellos (4 para ser exacta)<br>seguido de ello una enorme mancha de sangre. cabellos en el<br>baño ... he ido directamente a recepción a dar mi queja y no<br>han dado solución alguna más que cambiarme de habitación la<br>213. la cual también nuevamente tenía cabello en la cama y<br>en el baño. una de las recepcionistas me dijo que ya habían<br>revisado la otra habitación y que no habían detalles. pues<br>volví a sorprenderme de la clase de \"limpieza e higiene de<br>este hotel\". también he tenido que llamar en repetidas a<br>recepción para pedir almohadas, toallas y…"
          ],
          [
           "Mal hotel. pesimo hotel. de hyatt no tiene nada. mala<br>ubicacion , muy costoso para lo que ofrece mal servicio a la<br>habitación frutas malas y alto costo olvido en atreglar mi<br>habitación costoso en todo mucho calor en la habitacion"
          ],
          [
           "Pesimo. al llegar al hotel, me asignaron una habitación que<br>olia fatal, me cambiaron al dia siguiente a otra habitación<br>y no estaba lista, la mucama no hizo el aseo un dia, en<br>general muy mal servicio los meseros del área de desayuno no<br>tienen nigun tipo de atención. no vuelvo a hospedarme en ese<br>hotel."
          ]
         ],
         "hovertemplate": "Topic=2<br>Label=Negative<br>Dim 1=%{x}<br>Dim 2=%{y}<br>Importancia=%{marker.size}<br>Comentario original=%{customdata[0]}<extra></extra>",
         "legendgroup": "2, Negative",
         "marker": {
          "color": "#636efa",
          "size": [
           270.3572551064813,
           74.11078053175564,
           166.1757999818845,
           1321.059579958834,
           135.50825192656905,
           95.9555231829661,
           461.42603420769814
          ],
          "sizemode": "area",
          "sizeref": 12.289861556866619,
          "symbol": "circle"
         },
         "mode": "markers",
         "name": "2, Negative",
         "opacity": 0.8,
         "orientation": "v",
         "showlegend": true,
         "textposition": "top center",
         "type": "scatter",
         "x": [
          0.19947261288429025,
          0.13081626815751762,
          0.23039269053505013,
          -0.15395338035067907,
          -0.29525784148770634,
          -0.23461813555666325,
          -0.2004520048040239
         ],
         "xaxis": "x",
         "y": [
          -0.40540277129963587,
          0.029050493327586878,
          -0.03530330029870359,
          0.071725315391728,
          0.1395435278596755,
          0.031791046043921134,
          0.11602788121444396
         ],
         "yaxis": "y"
        },
        {
         "customdata": [
          [
           "Excelente !!. hotel 5*.-inmejorable ubicación.-muy<br>confortable,espacioso,instalaciones de alto nivel.-cuatro<br>restorantes muy buenos.-barra bar en el loby principal muy<br>de acuerdo a la jerarquia del hotel.-piscina y restorant en<br>la terraza(presencie la sinfonica de cuba en vivo mientras<br>cenaba).-habitacion muy comoda y limpia.--personal muy<br>atento y solicito.-todas las noches en el loby musica en<br>vivo.--me aloje del 03-09 al 09-09-16 con mi mujer.--<br>recomendable!!"
          ],
          [
           "Excelente hotel ejecutivo. muy buen servicio, las<br>instalaciones son muy comodas, las habitaciones son bonitas,<br>todo esta en orden, todos en el hotel son muy amables y<br>atentos, la comida es de muy buena calidad, el servicio en<br>el restaurante es de los mejor."
          ],
          [
           "Estancia cómoda. la habitación era muy cómoda y tranquila.<br>lo más importante es que estaba limpia y fresca. el personal<br>era cortés y servicial. sin duda me alojaría allí de nuevo<br>si fuera necesario. era el más conveniente para fácil acceso<br>al centro comercial y otros restaurantes cerca. el buffet de<br>desayuno era excepcional."
          ],
          [
           "Genial. desde que llegamos la atención fue muy buena y el<br>personal muy amable. la fachada del hotel es muy antigua (en<br>el buen sentido), solía ser un convento. las habitaciones<br>son amplias y muy cómodas con todas las amenidades. nosotros<br>llegamos porque reservamos por hoteles.com, y tenía un<br>descuento y nos cobraron la mitad."
          ],
          [
           "Una muy buena opción de estancia. el hotel está muy bien<br>ubicado para diversas actividades que quiera o necesite uno<br>realizar además es un hotel que cuenta con todas las<br>comodidades necesarias para tener una estancia placentera<br>bueno para toda la familia"
          ],
          [
           "Linda estancia. excelente servicios de los<br>restaurantes,habitaciones limpias y buen confort,la piscina<br>deliciosa asi como tambien el hotel muy bonito,decoracioned<br>excelentes,hambiente muy de familia y acogedor,gracias al<br>departamento de rrpp y su lider johnny la pasamos<br>genial,cubanos simpaticos"
          ],
          [
           "Lugar perfecto para personas mayores como nosotros. nos<br>gusta sea garden por su ubicación en la playa y una gran<br>piscina caliente justo en la puerta. personal de actividades<br>encabezado por ab sabe cómo implicar a ancianos y jóvenes<br>por igual. las suites están limpias y el servicio dos veces<br>al día. el restaurante es una operación de calidad y otras<br>opciones cerca. autobuses y camionetas para cualquier<br>dirección están también a pocos pasos, así como las dos<br>tiendas de conveniencia. preparamos la mayoría de nuestra<br>propia comida, pero también hay habitaciones estudio pero<br>sin servicio de café."
          ],
          [
           "Excelente atención , puede mejorar las instalaciones. los<br>servicios del hotel son realmente muy buenos la atención de<br>la gente es espectacular playa relativamente tranquila y con<br>buena infraestructura ubicado a 45 minutos en taxi del<br>centro de puerto vallarta, del malecón particularmente y a<br>30 minutos del aeropuerto habitaciones amplias,los colchones<br>podrían mejorar el restaurant zen es muy bueno,aunque el<br>vino de la casa no pasa la prueba buen gimnasio recomendable"
          ],
          [
           "Una bonita estancia en familia como siempre una atención muy<br>cálida, recomendable y buenos precios. un excelente hotel,<br>limpio, agradable, tranquilo, cómodas camas, buena alberca,<br>buen restaurante y lo que más me gusta de todo es la<br>atención, nunca nos decepcionan, de verdad su trato es muy<br>cálido desde el área de reservaciones, la recepción, los<br>valet, su directora américa sabe cómo hacer que su personal<br>ofrezcan un servicio de primera, realmente tienen muy buenos<br>precios. es de mis favoritos para viajar con la familia al<br>puerto de veracruz. lo recomiendo completamente."
          ],
          [
           "Mi mejor opción. excelente ubicación, excelente servicio,<br>todo el personal siempre amable y atento a cualquier<br>necesidad que tenia y muy buenas sus instalaciones, sin duda<br>alguna mi mejor opción por sobre muchos hoteles de la misma<br>zona"
          ],
          [
           "Muy buen hotel. llegando a la habana nos hospedamos en este<br>hotel, sus instalaciones son muy amplias pero a la vez<br>acogedoras, está ubicado frente al malecón donde los<br>atardeceres son preciosos, frente a un centro comercial que<br>para estar en la habana es muy completo además tiene<br>espectaculos, un buen y surtido bar, muy buena atención de<br>su personal. la habitación escogida fue de nustro total<br>agrado, muy amplia, con tina de hidromasajes. tal vez el<br>único detalle es que la ducha no tiene soporte por lo que es<br>un poco difícil esa maniobra y además el tema del gimnasio<br>(hay que pagarlo aparte) . la piscina es muy amplia y<br>relajante. en general muy buen hotel 100% recomendable. si<br>se quiere visitar la habana vieja está en taxi a 10 minutos,<br>6 cuc de viaje."
          ],
          [
           "Muy buen hotel con excelente ubicacion. el hotel es muy<br>bueno como todo iberostar, tiene un desayuno excelente y<br>varios restaurantes a la carta que para lo que es la<br>atención en cuba son excelentes al margen de ser muy buen<br>hotel, tiene una vista maravillosa desde su terraza y<br>piscina y la ubicación del mismo es inmejorable, en plena<br>habana vieja y a 4 cuadras del malecón"
          ],
          [
           "Excelente alternativa de hospedaje en santa marta. excelente<br>ubicación, instalaciones impecables, atención profesional<br>por parte de todo el staff del hotel. el diseño de los<br>espacios (lobby, comedor, habitación y terraza ) de<br>excelente buen gusto, en general, un opción muy recomendable"
          ],
          [
           "Janeth osorio. el hotel tiene muy bien todas sus<br>instalaciones ,el costo de se me hizo adecuado para la zona<br>en la que está ubicado , el personal muy atento , la<br>habitación cumplió mis expectativas todo muy limpio la cama<br>muy cómoda y el restaurant la comida deliciosa , esta serca<br>de los centros comerciales así que puedes salir en las<br>tardes. todo el personal siempre dispuesto a ayudar , todos<br>muy atentos , en realidad fue una muy buena experiencia ,<br>definitivamente regresaríamos ."
          ],
          [
           "Excelente hotel. estuve del 14 al 19 de febrero de 2012, en<br>el nuevo edificio torre del mar, excelente sitio, muy buen<br>servicio, comida muy buena, todo perfecto, para repetir"
          ],
          [
           "Cómodo y práctico. bien, nuevo hotel conectado al aeropuerto<br>de monterrey hizo que mi breve estancia bastante agradable!<br>mi habitación estaba muy limpia y nueva, el personal del<br>hotel era muy agradable y hablaba inglés, y yo disfrutamos<br>del gimnasio. excelente ubicación cerca de la mayoría de las<br>empresas u. s.. la mejor parte es que no puedes oír los<br>aviones!"
          ],
          [
           "Excelente hotel. esta muy bien ubicado, limpio, nuevo.estuve<br>3 dias y me parecio muy agradable, hay muchos resurantes y<br>bares cerca para despues del trabajo, incluso con centro<br>comercial para regalos en esta fechas navidenas"
          ],
          [
           "Excelente hotel. excelente hotel. deberían tener una<br>cafetera en la habitación para preparar café. falta una<br>pequeña cafetería para comidas rápidas. el personal es muy<br>amable y siempre está preocupado por la calidad y la<br>atención del servicio."
          ],
          [
           "Muy bueno. el hotel cumplia con las expectativas q<br>llevabamos... teniendo en cuenta el pais donde esta<br>ubicado.habitaciones limpias...lobby enorme y comodo,buffet<br>desayuno bueno,lo unico q no me parecio correcto es cobrar<br>entrada para la discoteca del hotel,se entiende q es un<br>servicio q ya estas pagando."
          ],
          [
           "Excelente hotel. hotel hermoso, centrico, las habitaciones<br>muy espaciosas hasta con hamaca y sala de tv, muy hermoso y<br>amplio, me gusto el hotel estube 3 noches y me atendieron de<br>maravilla, el servicio de restaurante muy sabroso, rapido y<br>te atienden de lo mejor, lo recomiendo muy muy ampliamente,<br>es economico y muy limpio y agradable."
          ],
          [
           "Muy recomendable. si vas a mérida excelente opcion para tu<br>estancia, bonito hotel, habitaciones cómodas y confortables,<br>buen servicio y amabilidad en el trato, la comida variada y<br>de buena calidad, impecable funcionamiento de aire<br>acondicionado"
          ],
          [
           "Más de lo que esperaba. en mi primer viaje a mérida fui en<br>busca del hotel que en esta página ponen como el número<br>uno... solo diré que un hotel que se diga estar en el número<br>uno de una lista no puede ofrecerte una habitación con un<br>baño fuera de la misma. así fue como di con el castellano<br>por pura casualidad y la verdad fue muy sorpresa muy grata.<br>el check in fue muy rápido, inmediatamente me llevaron a la<br>habitación, ubicada en el piso 9, y mi segunda sorpresa fue<br>la vista que tiene, la cual por la noche es sin dudas<br>insuperable, directamente a la catedral. la habitación<br>contaba con todo lo necesario: tv, caja de seguridad, dvd,<br>un escritorio, así mismo el baño estaba bastante limpio y<br>con todo a la mano. a la cama sin dudas le doy un 9 de 10<br>muy cómoda... tomé el desayuno buffet del hotel, la…"
          ],
          [
           "Un oasis de tipo. sabíamos que la habana hubiera comida<br>diferente de lo que estábamos acostumbrados a y estábamos<br>preparados para aceptar esta idea. la experiencia de<br>preparación de los alimentos en la ciudad es que la calidad<br>y el sabor son muy variables. estábamos intentando encontrar<br>un restaurante...con un nivel uniforme de calidad. este<br>restaurante ofrece ese nivel coherente. los precios también<br>son fantásticas y el servicio es fantástico. si te sientas<br>arriba en el balcón, tienes una vista del malecón. esto vale<br>la pena visitar si quieres comida bien preparada.más"
          ],
          [
           "¡qué maravilloso resort. acabo de pasar una semana<br>maravillosa en el complejo con muchos de mis compañeros de<br>trabajo. nos ascendieron a una increíble cuatro dormitorios,<br>4 suite baño gratis y era increíble. la comida era muy buena<br>y el servicio era increíble. me encantó este resort y espero<br>volver en el futuro. y sobre las camas, me encantó el<br>colchón firme. he oído tantas personas se queja de lo<br>difícil las camas eran pero tengo que discrepar, fueron muy<br>cómodas."
          ],
          [
           "Excelente lugar. excelente hotel, con una muy buena<br>ubicación a unas cuantas cuadras del centro, la atención del<br>personal es excelente son muy amables, la comida muy rica y<br>un excelente desayuno bufete. lo recomiendo ampliamente"
          ],
          [
           "Viaje familiar. nosotros viajamos el primer fin de semana de<br>septiembre, era la primera vez que visitabamos merida y fue<br>una experiencia de lo mas linda. los cuatro dias que nos<br>hospedamos en el hotel mision panamericana fueron muy<br>agradables. josue y pablo con la disponibilidad para<br>ayudarnos ya sea para la renta del carro ó los servicios<br>para contratar un tour. la camarista isabel siempre mantuvo<br>nuestra habitacion en orden. luis el mesero muy cordial muy<br>buena atencion para mis hijas. carlos, wendy y joel nos<br>ofrecieron muy buen servicio."
          ],
          [
           "Muy bien ubicado, buenas instalaciones, con problemas que<br>solo ocurren en la habana vieja. llegamos a este hotel<br>derivados desde el hotel telégrafo. nos dieron una buena<br>habitación, silenciosa, en el 4to piso. el desayuno es<br>correcto. la ubicación, espectacular. tiene una terraza para<br>desayunar con una vista excelente, y como la mayor parte de<br>las veces el ascensor no funciona, se puede descubrir que en<br>el penultimo piso está la habitación que frecuentaba<br>heminway... como la habana vieja tiene problemas de<br>suministro de agua, hay que bañarse cuando logran que les<br>llenen de agua las cisternas."
          ],
          [
           "Unas vacaciones geniales en recuerdos miramar. estuve con mi<br>novio en el hotel durante 4 días. el hotel es fantástico y<br>sirven una excelente comida. la gente que trabaja allí son<br>serviciales. nos lo pasamos de maravilla! la piscina es<br>enorme y : -)))))))"
          ],
          [
           "Buen lugar. me apreció un lugar con una excelente ubicacion<br>sus instalaciones no son las mejores pero aun asi mi<br>estancia no se vio opacada por esto, en el restaurante la<br>comida estuvo muy rica y de excelente calidad, en cuanto a<br>recepcion las señoritas miriam y xochitl fueron muy atentas<br>y amables lo cual me parecio una increible bienvenida por<br>parte de ellas , viajé para la cuidad de monterrey por un<br>evento familiar y repito por la buena ubicación mis<br>familiares no tuvieron problemas en reconocer este hotel."
          ],
          [
           "Excelente descanso. este hotel es excelente para descansar,<br>las habitaciones son muy cómodas, la limpieza es excelente.<br>tiene más de 3 restaurantes para elegir diferentes platos y<br>los precios son muy buenos en relación con la calidad. el<br>buffet es la mejor elección por la gran variedad. si llegas<br>más temprano o entregas la habitación tienes el hospitality<br>room, donde se puede disfrutar del hotel. el transporte del<br>hotel-aeropuerto y vs, se debe programar un día antes."
          ],
          [
           "Un hotel muy tranquilo. habitaciones cómodas, buena<br>ubicación, ya que se encuentra cerca del centro y malecón de<br>la ciudad, en lo personal, no me gusto mucho el restaurante,<br>pero cerca del hotel hay muchas opciones para comer."
          ],
          [
           "Vacaciones de invierno hotel cartagena. fantástico hotel;<br>cumple con todo lo que se necesita para disfrutar unas<br>exquisitas vacaciones; puede ser en pareja; solo o en<br>familia..hay mucha recreación tiene el bar abierto si es all<br>inclusive; de lo contrario pagas sólo un valor bajísimo al<br>lado del centro comercial bocagrande; taxis fuera del hotel;<br>a minutos de la ciudad amurallada y frente a la playa ideal<br>y fantástico"
          ],
          [
           "Expectacular!!!!. estuvimos en este restaurant de la habana,<br>y nos imprecionó todo, el servicio impecable , todos muy<br>profesional, y con alta calidad.el lugar es hermoso, vale la<br>pena cenar en este sitio y deleitarse con su acojedora vista<br>de la cuidad...."
          ],
          [
           "Excelente estancia. me gusto mucho el hotel, muy bonito y<br>acogedor, el desayuno bufete esta muy bueno. las vistas que<br>tiene el hotel refleja perfectamente la esencia de la<br>ciudad, dando excelentes vistas de los atardeceres y de las<br>bonitas mañanas que refleja las ventanas."
          ],
          [
           "Buen restaurante. en las cercanias de la plaza de la<br>catedral, en un callejón lleno de gente y restaurantes, al<br>fondo, se encuentra este establecimiento recomendable.<br>obligatoriamente hay que reservar."
          ],
          [
           "El restaurante gourmet por excelencia. antes que nada aclaro<br>que no quería ir a este lugar, pero fue el reclamo de 3<br>amigas españolas pedían cenar aquí no hacerme caso a mi<br>preludio de que era una los sitios más caros para comer en<br>la habana. hay que reservar siempre...más"
          ],
          [
           "Renovando las instalaciones. nueva visita al comodoro, y<br>tengo que discrepar de algunas opiniones, en principio estan<br>renovando la mitad del hotel y eso ocasiona algunas<br>molestias, pero el resto estan muy bien, ahora en estos dias<br>han remodelado los accesos con una especie de boulevard en<br>la calle central del centro comercial que finaliza en la<br>puerta del hotel, y en la parte del alborada, impecable las<br>mejoras realizadas, con camas balinesas y comodidad de 10,<br>enhorabuena a su director omar milian y a jaslen directora<br>comercial, por el trabajo que estan realizando, que no es<br>poco y todavia queda mucho por hacer, desde españa un<br>afectuoso saludo"
          ],
          [
           "Muy agradable. me encanta este hotel, muy buena categoría y<br>precios muy accesibles, ademas esta enfrente de plaza<br>angelópolis, y se puede llegar rápido al centro. la alberca<br>techada aunque es pequeña, le encanta a mis hijos."
          ],
          [
           "Vacaciones familiares. buena atención de todo el personal<br>,en especial las personas que atienden el desayuno,<br>excelente los masajes y servicio de spa,ideal el servicio de<br>acceso a playa privada y pública.instalaciones siempre<br>limpias y acogedora,personal muy amable.daniela pajaros<br>buena forma de abordar solicitud de encuesta de<br>opinión.piscinas muy buenas y hay que destacar el servicio<br>de toallas no visto en otros servicios hoteleros. destaco<br>también la arquitectura colonial del hotel y la precencial<br>de flora y fauna."
          ],
          [
           "Restaurante de 10!recomendadísimo!. hemos pasado unos días<br>de vacaciones en la habana y uno de ellos comimos<br>casualmente en casa mia (¡bendita casualidad!)la comida<br>estaba muy rica, platos elaborados y bastante bien de<br>precio. el local limpio, decorado con muy buen gusto y el<br>servicio amable desde el...más"
          ],
          [
           "Muy bueno en relación al precio. el hotel me sorprendió<br>gratamente, muy buena atención del personal, siempre<br>dispuestos a resolver cualquier inconveniente y con la mejor<br>sonrisa. las habitaciones muy cómodas y amplias. fui solo<br>con desayuno y también si no tenes ganas de salir del hotel<br>tenes la opcion de cenar en el buffet o restaurant a la<br>carta y cargar los gastos a la habitación. ( ese sistema<br>está muy bien controlado y es agil) lo recomiendo por su<br>relación precio y servicio, además de su buena ubicación."
          ],
          [
           "Excelente restaurant. muy buena atención por parte del<br>camarero irvin, además de ser un lugar encantador para una<br>cena en familia. mi primera vez... espero volver pronto.<br>saludos"
          ],
          [
           "Restaurante cool en un edificio loco. vi las recomendaciones<br>para este restaurante antes de dejar el reino unido, así que<br>reservé una mesa en línea con antelación. ubicado en un<br>edificio de extraordinaria putrefacción. excelente servicio<br>y buena comida. una visión de la ultra moderna cocina era<br>muy tranquilizador. los servicios...unisex también están<br>bien merece una visita. después de cenar nos subimos la<br>escalera hasta el bar de la azotea con una vista increíble<br>de la ciudad. gran ambiente. reservar con antelación.más"
          ],
          [
           "Agradable sorpresa en el centro del vedado. café laurent me<br>sorprendió desde mi llegada, nos lo habían recomendado como<br>uno de los sitios de moda en la ciudad, además de por su<br>buena cocina. una entrada luminosa, con acompañamiento hasta<br>el ascensor, que nos lleva al penthouse, fue el preludio de<br>lo...más"
          ],
          [
           "Hotel fantástico. maravilloso hotel, el mejor ubicado en<br>toda la habana. servicio excelente y su director alfredo<br>lachos muy profesional, y siendo miembro de club de habanos<br>se pueden degustar buenos puros.el ambiente es muy bueno y<br>caluroso. bravo al equipo. felicidades"
          ],
          [
           "Buen hotel ...... este es uno de los buenos hoteles en la<br>habana , se encuentra alejado del casco antiguo de la ciudad<br>, pero cuenta con un bus gratuito para el traslado al centro<br>, en varios horarios durante el día , lo que lo hace<br>bastante cómodo . esta ubicado a la orilla del mar y cuenta<br>con habitaciones con grandes terrazas con vista al océano y<br>a la enorme piscina . las habitaciones son amplias , pero un<br>poco anticuadas en su decoración , igualmente ocurre con los<br>baños . el desayuno buffet , es muy bueno , con mucha<br>variedad y excelente calidad de los productos ."
          ],
          [
           "Ubicación - descanso y lujo. un hotel nuevo con todos los<br>servicios que un ejecutivo necesita ., además la cocina es<br>muy buena recomendable el desayuno bufett súper completo<br>además son muy serviciales . desde que llegas están muy<br>atentos excelentes instalaciones es mi hotel preferido en<br>puebla."
          ],
          [
           "Muy buen hotel, recomendable . recomiendo ampliamente este<br>hotel con buena ubicación cerca del aeropuerto, excelente<br>atención del personal desde tu llegada, habitaciones<br>limpias, cómodas y cuentan con lo necesario para tu<br>descanso, en general todo bien"
          ],
          [
           "Grandioso. excelente servicio rapidez y amabilidad del<br>personal, bien ubicado y buenas instalaciones. comida<br>sabrosa y amable servicio de los meseros y demás personal.<br>limpieza muy bien cuidada en todas las áreas del hotel y en<br>la habitación. muy comodo"
          ],
          [
           "Excelente hotel de época.. excelente hotel! nos atendieron<br>super bien. la ubicación perfecta, frente al parque central,<br>pegado a la habana vieja. es un hotel antiguo pero<br>conservado de manera excelente. muy vistoso. se puede<br>visitar incluso sin hospedarse allí y acceder a la terraza,<br>donde hay un bar de muy buena calidad y mucho ambiente. las<br>habitaciones son muy lindas, mantienen el espíritu antiguo<br>del hotel, pero todo funciona perfecto. el desayuno<br>excelente, muy variado y bien preparado. impecable."
          ],
          [
           "Excelente!!. hotel muy bien ubicado a 5 minutos en taxi de<br>la ciudad amurallada o 20 caminando por el malecón.<br>instalaciones muy bonitas, es un hotel muy moderno, cuenta<br>con 4 piscinas con vistas espectaculares al mar y a la<br>ciudad. la habitación muy cómoda y espaciosa. personal super<br>amable , siempre atento. volvería y lo recomiendo. ya me he<br>quedado en varios hyatt y siempre excelentes experiencias."
          ],
          [
           "El mejor hotel en puebla, sin duda !!. excelente hotel<br>boutique, localizado en frente de plaza paseo san francisco,<br>a minutos de la catedral. con un excelente servicio de todo<br>el personal , tanto del hotel como del restaurant.<br>habitaciones amplias, cómodas y con detalles que las hacen<br>especiales. definitivamente es la mejor opción en puebla de<br>los ángeles."
          ],
          [
           "Súper hotel muy recomendable. la atención y la comida son<br>excelentes, el hotel muy cuidado, el personal toma muchas<br>precauciones para la seguridad de los clientes, te sientes<br>muy tranquilo. muy recomendable para ir de vacaciones en<br>familia o en pareja"
          ],
          [
           "Sin duda un acierto. un precioso hotel en pleno centro de la<br>habana vieja. te puedes desplazar caminando a muchos sitios<br>y delante del hotel tienes todo tipo de taxis. el personal<br>muy agradable y servicial. a nosotros nos dieron una suite y<br>la verdad que preciosa, cómoda, limpia y con unas vistas<br>increibles tanto al parque central como al paseo del prado.<br>el desayuno muy bueno y completo y la comida también muy<br>bien. nos encantó la piscina y su entorno. sin duda un lugar<br>para recomendar y para repetir."
          ],
          [
           "Hotel de siempre. no obstante a que merece una remodelación<br>capital (ya se aprecia con la instalación de nuevos<br>ascensores) el hotel habana libre sigue teniendo la magia de<br>siempre. la habitación muy buena y la atención excelente.<br>felicidades!!"
          ],
          [
           "Excelente hotel y excelente ubicacio. tienes muchas cosas<br>que nos agardaron primero su ubicacion tiene todo muy cercas<br>oficinas de gobierno,consulado americano,plazas comerciales<br>paseos centros financieros univercidades y sos habotaciones<br>son muy amblias muy limpias y confortables y el personal muy<br>atento"
          ],
          [
           "Mis mejores 15 díaz en cuba. excelente hotel, muy buen<br>servicio la comida exquisita las habitaciones lindisima, la<br>piscina grande los bares con todo tipo de bebidas, el<br>restaurante muy lindo con dependientes muy rápidos y atentos<br>me encanto el hotel espero volver pronto"
          ],
          [
           "Muy bueno. estuvimos 3 días en este hotel en la habana y nos<br>quedamos muy a gusto. las instalaciones son muy buenas a<br>pesar de estar en cuba. buena ubicación aunque no esta en el<br>centro de la ciudad. limpieza y desayunos correctos."
          ],
          [
           "Excelentes instalaciones. el personal es muy amable y<br>servicial las habitaciones súper cómodas desayunando<br>delicioso, lindo restaurante. el hotel otorga una vista<br>increíble, alberca y gimnasio 100% recomendable, perfecto<br>para visitar puebla"
          ],
          [
           "Muy recomendable. un hotel de estilo clásico, muy bien<br>conservado. limpieza exquisita. recepción con mas respuestas<br>que preguntas. pequeños detalles que hacen agradable la<br>estancia. cerca de todo, aunque no es el centro. buena<br>relación calidad precio"
          ],
          [
           "Place to be. me dedico al medio hotelero y el hotel esta<br>cómodo, en el centro tiene lo necesario para estar, sin mas<br>ni menos. la gente es amable, sin embargo puede dar el extra<br>que la industria pide. marlene realizo el ci muy linda quien<br>me dio un upgrade de habitación. tengo una segunda<br>reservación del día 8 al 11 de marzo, sin duda la<br>localización de este lugar ayuda mucho."
          ],
          [
           "Hotel súper lujo. es un auténtico placer el quedarse en este<br>hotel, instalaciones nuevas, servicio maravilloso, desayuno<br>espectacular, terraza y piscina de ensueño. este hotel<br>recoge en un lugar estratégico en el paseo del prado un<br>hotel espectacular al que sin duda volveré sin dudarlo si<br>vuelvo a la habana."
          ],
          [
           "Grande y lindo. es un ambiente muy entretenido, en la<br>piscina y en el bar, la gente amable, el hotel limpio y de<br>buena calidad, el desayuno muy rico y las habitaciones muy<br>tranquilas, amplias y con todas las comodidades necesarias."
          ],
          [
           "Buena experiencia. para estar en la habana y con todas las<br>restricciones que existen me pareció un buen hotel. el<br>personal es muy amable, te saludan en la recepción,<br>ascensores, también los maestros que estaban pintando en el<br>piso que nos alojamos. es un hotel con mucha historia,<br>ubicado muy cerca del malecón, a pasos de la heladería<br>coppelia. todas las noches en el último piso había música en<br>vivo y baile. me encantó bailé mucha salsa. adentro del<br>hotel puedes cambiar dinero, comprar habanos, comprar<br>recuerditos, tomarte un buen mojito, disfrutar de un rico<br>desayuno y buffet en la cena. al que me pregunte, yo lo<br>recomiendo."
          ],
          [
           "Excelente hotel. excelentes instalaciones, buen servicio, y<br>calidad en los alimentos, fue es una experiencia muy<br>agradable y me volvería a alojar sin dudarlo, la ubicación<br>es en la mejor zona, el personal muy atento en todo momento<br>y el proceso de facturación fue muy eficiente"
          ],
          [
           "Hotel muy agradable. a 20 minutos del aeropuerto. también se<br>tomó un largo tiempo, no sólo para mí, sino para todos. la<br>habitación era de un buen tamaño aunque no eran suficientes<br>y los pocos enchufes en la habitación no estaban<br>convenientemente ubicado. la cama un poco dura pero<br>manejable. buena ducha y artículos de tocador. la conexión<br>wifi era rápida y fiable. buen personal. el desayuno era<br>inmenso y de buena calidad. los ascensores eran lentos una<br>noche pero bien el resto del tiempo. sin duda me alojaría<br>aquí de nuevo."
          ],
          [
           "Una estancia decente en uno de los mejores hoteles en la<br>habana. con respecto a los hoteles en otras ciudades del<br>mundo, son hoteles en la habana todos sub-la norma. el melia<br>cohiba es uno de los mejores hoteles en la habana y está<br>perfectamente bien. pero está muy por debajo de los mejores<br>hoteles de otras ciudades. la habitación era amplia y estaba<br>limpia. colchón era un poco demasiado firme para mí. nuestra<br>habitación tenía una hermosa vista del agua pero las<br>ventanas estaban tan sucia la vista era obstruida. el<br>servicio del hotel es muy buena. el desayuno buffet es muy<br>grande pero la comida no es muy buena. el cigar bar en la 2ª<br>planta (club habana?) es increíble!"
          ],
          [
           "Excelente lugar en la habana. con una ubicación excelente, a<br>tan solo 100 mts de la universidad de la habana y a 400mts<br>del malecón. un nutrido desayuno. en su interior se<br>encuentra una casa especializada en habanos con precios un<br>40% mayores a los que se podrán negociar en varadero. en la<br>esquina del hotel hay una tienda de bebidas con excelentes<br>precios."
          ],
          [
           "Un buen lugar. muy bueno, tanto el servicio como la comida.<br>una terraza sensacional aunque los salones interiores<br>también son muy acogedores. la comida buena y de calidad. de<br>los restaurante de la habana top. la ubicación lo peor del<br>restaurante."
          ],
          [
           "Super recomendable. tuve la oportunidad de hospedarme con<br>mis hijos y quedamos fascinados, excelentes instalaciones,<br>la limpieza de la habitación, ubicación perfecta cerca de<br>cholula, del centro de puebla y de la plaza mas conocida,<br>angelopolis. pero lo mas destacable es el servicio, mi<br>reconocimiento a julio del front desk excelente servicio y<br>actitud, desde que llegamos siempre nos atendió de la mejor<br>y mas atenta manera. les recomiendo mucho el hotel, para<br>cualquier ocasión."
          ],
          [
           "Felicitacion. felicidades por la gran atención, las<br>habitaciones muy cómodas, amplias y con buena ubicación de<br>cada cosa, me fascino tener café disponible las 24 horas y<br>servicio de te, el restauran es muy como, solo debe mejorar<br>un poco mas el menu"
          ],
          [
           "Gran estancia. nos alojamos por dos noches en 16 th 2012<br>julio en la nueva parte que habíamos solicitado, la<br>habitación era muy moderna, y muy limpio.es un hotel<br>precioso, con un personal amable, ubicación estupenda ... no<br>tengo quejas se lo recomendaría a mis amigos y volvería de<br>nuevo ..."
          ],
          [
           "La quinta es un hotel muy agradable!!!. es la segunda vez<br>que me hospedo en este hotel, es moderno, con toques<br>minimalistas, con buenas instalaciones y con una esmerada<br>atención de su personal. está muy bien ubicadísimo, en la<br>zona comercial y residencial de angelópolis en puebla."
          ],
          [
           "Hotel para descansar. el hotel en si es bonito y bien<br>cuidado, posee dos piscina y tiene acceso a la playa. un 5<br>estrellas no es, y le falta bastante para serlo, los<br>restorantes a la carta se deben reservar cada día (1<br>disponible por dia) y el buffet abierto siempre (almuerzo -<br>cena). la comida en general es buena, pero falta variedad<br>entre los días (siempre lo mismo). las habitaciones cómodas<br>y amplias, todas con terrazas con vista a la piscina y otras<br>al mar. por ultimo todo se acaba a la 01:00 am a si que si<br>piensas ir a divertirte a este hotel, comienza a buscar<br>otro, porque es un hotel muy tranquilo y fuera de cartagena<br>(centro). agradecimientos a jorge del buffet por su<br>amabilidad, haciendo lo posible por hacer nuestra estadía<br>mas placentera."
          ],
          [
           "Excelente. un excelente hotel, el perdonal muy amable, muy<br>céntrico con 2 centros comerciales justo en frente, los<br>cuartos espacios esta muy bien distribuido vale la pena un<br>servicio unico...y su restaurantes sin palabras. 100%<br>recomendable"
          ],
          [
           "Excelente hotel con muy buena ubicación. las instalaciones<br>del hotel son muy buenas, el hotel cuenta con varios<br>restaurantes todos muy cómodos y buena variedad de comidas.<br>las habitaciones de casa de playa son muy bonitas y cómodas<br>pero algunos detalles son un poquito anticuados porqué es la<br>torre antigua del hotel pero igualmente son recomendables.<br>el hotel cuentas con muy buenos servicios, la piscina del<br>piso 10 de la torre del mar tiene una excelente vista del<br>mar de cartagena, que no es el más bonito pero la vista del<br>mar siempre es imponente. el hotel está muy bien ubicado a<br>solo 5 minutos del aeropuerto."
          ],
          [
           "Estancia agradable. el hotel se encuentra bien ubicado<br>próximo al malecon. el servicio es fantástico al igual que<br>la restauración con estupendos desayunos. las habitaciones<br>son amplias y confortables, con buenas vistas hacia el mar."
          ],
          [
           "Buen hotel. es un excelente hotel. la atención del personal<br>y los servicios del hotel ofrecidos en el plan \"todo<br>incluido\" cumplió con mis expectativas: las alcobas con<br>cómodas, el baño esta bien dotado, la alimentación ofrecida<br>tipo \"bufet\" es excelente. la ubicación facilita el acceso a<br>diferentes puntos de interés de la ciudad: centro histórico,<br>centros comerciales, comercio, restaurantes. y por supuesto<br>la playa y acceso al mar. la piscina es muy pequeña<br>comparado con el aforo de personas que tienen derecho a su<br>uso y està ubicada en el piso 18 lo cual incomoda y<br>dificulta en ciertos momentos su acceso ya que se demoran el<br>uso del ascensor"
          ],
          [
           "¡me encanto!. el hotel se ve mas bonito en persona que en<br>las fotos que aparecen en internet. habia leído malos<br>comentarios aquí, que comenzaba a arrepentirme, pero<br>llegando al hotel, la atención de la recepcionista fue<br>excelente, el bell boy también fue muy atento y cuando<br>llegue a mi habitación, ¡me encanto! muy amplia y limpia, me<br>gusto mucho el hotel lo recomiendo mucho. instalaciones<br>limpias y personal muy atento. cabe mencionar que la<br>ubicación es excelente cruzando el puente se llega a parque<br>fundidora."
          ],
          [
           "Un nuevo concepto en lujo y confort. me encontré con algo<br>más que un hotel, habitaciones amplias, cómodas y con una<br>decoración muy fina, ubicados en la mejor zona de nuevo<br>vallarta, servicio en todas las zonas del hotel de primera<br>clase, concepto all inclusive que no tiene límites,<br>restaurantes con cartas bastas y exquisitas, mi hija la pasó<br>de lo mejor en la alberca del hotel y en la alberca privada<br>de nuestra habitación, sin duda volveré!"
          ],
          [
           "Bonito y limpio. servicio cortés. me alojé en una torre con<br>mis padres en el noveno piso. raúl y el otro tanto de<br>conserjería se desvivieron para hacer nuestra estancia<br>agradable. mis padres y yo nos quedamos dos meses y les<br>visitamos por un poco menos de dos semanas. los jardines<br>estaban impecablemente, el servicio era amable y inmediata y<br>la comida era de buena calidad. yo puedo recomendar este<br>hotel."
          ],
          [
           "Muy recomendable, bien situado.. excelente ubicacion en<br>plena habana vieja, lo forman dos hoteles unidos, el viejo y<br>el nuevo, estuvimos en la zona nueva.pero la zona del hall<br>vieja es preciosa donde puedes tomar una copa y puedes<br>fumar,algo q te sorprende ya q no estamos<br>acostumbrados,buena seguridad en el hotel y en sus entradas,<br>aunque no hay peligro,nos sentimos muy seguros en la habana,<br>en la azotea hay piscina donde se esta muy bien con vista<br>muy bonitas de la ciudad viéndose el capitolio, habitación<br>confortable, se puede cambiar divisa en el hotel con muy<br>buen cambio, mejor q en otros hoteles.de los mejores hoteles<br>de la habana sino el mejor."
          ],
          [
           "Fantastico. un hotel con instalaciones hermosisimas,<br>limpieza y cuidado al máximo, y el persona fenomenal, me<br>sentí bienvenido desde el primer momento, muy recomendado<br>espero poder volver muy pronto para alojarme mas tiempo"
          ],
          [
           "Excelente descanso. un hotel con instalaciones agradables,<br>una hermosa piscinas y comodas habitaciones que invoitan al<br>descanso y disfrute, la comida muy variada y buena calidad<br>un hotel como pocos se puede encontrar en cartagena."
          ],
          [
           "Buena atención. buena atención y excelente lugar, un lugar<br>cerca de donde iba a hacer compras, comer y disfrutar de la<br>ciudad. el desayuno muy bien y rico, todos los servicios son<br>excelentes. volvería a reservar en el mismo hotel la próxima<br>vez que visite la ciudad, quede muy satisfecho."
          ],
          [
           "Muy bueno. excelentes instalaciones, muy recomendado y<br>bonito. si personal muy atento y siempre dispuesto a<br>ayudarte. me gustaron muchos todos los espacios del hotel,<br>las piscinas, restaurantes, atención en la playa y demás."
          ],
          [
           "Un lugar acogedor. es restahurant hotel hermoso te atienden<br>muy bien el lugar es acogedor limpió la comida deliciosa<br>tienes si decoración muy bonita es amplio los baños están<br>limpios tienen valet parking, ahora con la pandemia tienes<br>que reservar primero para que puedas disfrutar de variedad<br>de platillos y los postres deliciosos te lo recomiendo has<br>tu reservación"
          ],
          [
           "Muy buen hotel. bien ubicado, con varias plazas y<br>franquicias alrededor. la zona es un poco ruidosa pero me<br>consiguieron una habitación bastante silenciosa. las<br>habitaciones con muy limpias y confortables.el desayuno de<br>cortesía es muy bueno y variado."
          ],
          [
           "Ideal para recorrer la historia de la habana. el hotel en si<br>tiene una gran historia, ya que fue el lugar donde se<br>hospedaron y desde donde comandaron la revolución fidel, el<br>che y camilo una vez que entraron a la habana y asumieron el<br>poder. el lobby, restaurant y espacios de uso común son<br>hermosos, amplios, iluminados y muy concurridos, el bar es<br>muy bueno y ofrecen tragos de mucha calidad. las<br>habitaciones si bien están un poco venidas a menos, son muy<br>amplias y ofrecen tremendas vistas de la ciudad. estan<br>trabajando en la restauración de pasillos y habitaciones. la<br>ubicación del hotel es muy buena, cerca de todo y en una<br>zona de muchos restaurantes tipicos y paladares cubanos. el<br>desayuno es excelente."
          ],
          [
           "Muy bueno. el servicio que recibí en recepción, en el<br>restaurante, en las habitaciones confortables, en la<br>discoteca rezak, en la playa y la recreación fue muy buena y<br>divertida, también el servicio de bar en la piscina"
          ],
          [
           "El mejor restaurante en el paradise village hotel. la cocina<br>es italiana con una selección de características de<br>mariscos. hemos comido en il pescatore varias veces y nos<br>dieron una buena comida y un buen servicio. hay una completa<br>selección de vinos (tienen un malbec que está bien).<br>mientras usted puede sentarse fuera y dan a la marina,<br>elegimos para sentarse en el interior desde que visitamos en<br>julio."
          ],
          [
           "Experiencia muy linda y buena. hace una semana estuvimos mi<br>novio y yo en este hotel y nos sentimos muy a gusto. fueron<br>2 noches. el personal es excelente y muy profesional. cuando<br>llegamos el check in fue rápido y las chicas con una sonrisa<br>nos dieron toda la información al instante. la habitación<br>era estandar con cama matrimonial muy cómoda. la camarera<br>muy atenta con sus detalles en el servicio y el cuarto<br>siempre limpio. el desayuno espectacular variado el<br>restaurante abierto desde temprano. todo el personal es muy<br>amigable y son profesionales en lo que hacen. en las noches<br>hay show para bailar a lo cubano y se pasa súper bien. la<br>seguridad en el hotel es muy buena. esta bien ubicado en el<br>centro y se pueden visitar todos los lugares caminando.<br>nuestra experiencia fue muy buena y nos encanto visitar…"
          ],
          [
           "Bueno. muy bueno solo no habia secadora de cabello y las<br>almohadas estan aguadas. de ahi en fuera el servicio es<br>bueno. como sugerencia,, agregar cafe en las habitaciones<br>puede ser un plus para la calidad de atencio del hotel"
          ],
          [
           "Hermoso hotel colonial. muy buen hotel situado enfrente a la<br>playa, en un entorno muy lindo, y cerca de una de las calles<br>más importantes de la ciudad. el personal del hotel es<br>sumamente amable. las habitaciones son muy espaciosas y las<br>camas muy cómodas. el desayuno y la cena en el restaurante<br>pedro de heredia son muy buenos."
          ],
          [
           "Podría ser muy bueno!. este hotel tiene todo el encanto de<br>una muy buena corta o larga estancia. las habitaciones son<br>un poco anticuadas (ejecutiva) pero están limpias y el<br>personal para la decoración apenas fuera de moda. yo soy un<br>experimentado viajero de negocios y me alojaré aquí de nuevo<br>en 2 semanas, ya que yo bastante de la ubicación. diría que<br>el alto puntos son el personal (dorian en la zona del bar<br>recordaba a colegas nombre después de 2 meses!!) y los<br>servicios (piscinas, gimnasio, 3 restaurantes). como ya se<br>ha mencionado, que podría ser clasificado como excelente si<br>iban a relanzar la decoración."
          ],
          [
           "Todo excelente. la verdad el hotel esta muy bueno! en una<br>ubicacion perfecta para salir a correr en la mañana,<br>disfrutar de la vista, pasear en el parque o en el centro<br>comercial a un lado del hotel y para disfrutar de una<br>paseada en la rueda de puebla que esta justo en frente... la<br>verdad excelente hotel."
          ],
          [
           "Fantástico hotel. nos propio 2 semanas de multipropiedad<br>aquí en una suite de dos habitaciones. nuestra vacaciones<br>este julio era maravilloso, además la cantidad de rainfall<br>que estaba ocurriendo si en el tiempo. disfrutamos de unos<br>comidas en la piscina, pero por la mayor parte pasamos<br>nuestro tiempo bebiendo y hacer excursiones con aventuras<br>vallarta (¡increíble por cierto). nuestros amigos que venía<br>con nosotros nos comprometimos y nos lo pasamos de<br>maravilla. la piscina es fantástica, hemos divertido hacer<br>cardio en la piscina. los patios son bien para relajarse de<br>noche disfrutando de la puesta de sol."
          ],
          [
           "Desayuno. excelente servicio por parte del restaurante y del<br>sur guillermo, muy profesional y ameno los baños super<br>limpios, aunque la puerta de un baño está rotita y no cierra<br>bien. fuera de eso todo muy bien y la comida riquísima"
          ],
          [
           "Una buena experiencia. este hotel es muy bonito. limpio,<br>agradable, con preciosas vistas del océano atlántico. el<br>buffet de desayuno era delicioso. muchas opciones! se<br>necesita una mejor manera de mantener el - de la comida<br>caliente como la tostada francesa, huevos, etc."
          ],
          [
           "Desayuno. el hotel está en buena ubicación, la vista desde<br>las habitaciones es muy bonita, el hotel es muy cómodo,<br>manejan desayuno tipo bufete y está muy rico, la atención<br>del personal es muy eficiente!! excelente hotel!"
          ],
          [
           "Excelente ubicación. lo mejor del hotel sin duda es la<br>ubicacion , dado que esta en pleno centro de la habana vieja<br>junto a los mejores lugares para comer y tomar algo a la<br>tardecita. se encuentra cerca del capitolio, del malecon de<br>la peatonal obispo y plaza vieja etc el hotel es muy lindo,<br>habitaciones amplias y confortables. estuvimos dos noches en<br>la parte original y 1 noche en la parte moderna ambas son<br>buenas cuenta con dos piscinas , una en cada terraza del<br>hotel"
          ],
          [
           "Super recomendable, muy buen hotel. llegamos a la habana<br>después de pasar por varadero y cayo guillermo ,luego de ver<br>como viven ese pueblo entrar en hotel era como ingresar al<br>túnel del tiempo y avanzar 50 años, el hotel tiene<br>jerarquía, muy buen servicio, wi fi , si increíble el único<br>hotel que encontramos con wifi , a 8 dólares la hora pero te<br>sentís comunicado, recomiendo la piscina que tiene en la<br>terraza con una vista de la habana increíble! , variedad de<br>restaurante ,lo demás se los dejo a ustedes, cada uno tiene<br>su experiencia, no volvería a la habana porque lo que vi nos<br>lleno de tristeza a todos los que fuimos, recomiendo el<br>hotel por todo, servicio ubicación."
          ],
          [
           "Vacaciones impresionante. en el spa me fue muy bien, tiene<br>diferentes tarifas y servicios. les recomiendo que vayan a<br>este hotel. ofrecen un servicio de calidad. la comida es muy<br>buena. resaltó la atención erika y maría camila. muchísimas<br>por su hospitalidad."
          ],
          [
           "Excelente atención. nuestro mesero fue marcelo. fue<br>demasiado atento, me sentí a gusto y muy cómoda. este<br>restaurante tuvo una vista muy bonita, una ambiente<br>acogedor, y excelente empleados. volveré. gracias !"
          ],
          [
           "Muy buen servicio.. la ubicación y la atención del personal<br>es buena; solo considero que falta un poco mas de<br>señalamientos de la ubicación del hotel ya que esta un poco<br>escondido y pues es una zona donde hay mucho trafico."
          ],
          [
           "Excelente. su ubicación es muy buena ya que se puede ir de<br>compras al centro comercial, el hotel es muy bueno, su<br>comida muy rica, el servicio de todas las personas es muy<br>amable, el valet parkies muy bueno y el personal muy atento"
          ],
          [
           "Servicio y amabilidad. buen servicio al momento de<br>registrase en el hotel, rapidez y amabilidad de parte de las<br>señoritas, habitaciones comidas y limpias, el buffet en el<br>desayuno es bueno, falta tener variedad de platillos."
          ],
          [
           "Hotel con historia. es uno de los hoteles más antiguos de la<br>habana. la atención del personal es buena; destacándose la<br>calidad del desayuno. este tiene una importante variedad de<br>tanto de dulces como salados. la habitación que nos toco es<br>muy pequeña; lo ideal sería tratar de buscar habitaciones<br>con balcón. tiene restaurante, bar, y en la terraza se puede<br>escuchar música y cenar. cabe destacar la atención de vivian<br>(directora comercial), quien nos comento sobre las<br>características del hotel."
          ],
          [
           "Hotel maravilloso. fue un placer haber estado alojada en<br>este maravilloso hotel. su historia, sus ambientes, lobby,<br>bares todo es hermoso. las habitaciones son enormes y tienen<br>todo lo que podes llegar a necesitar, sus desayunos son es-<br>pec-ta-cu-la-res!!!!gracias por la amabilidad con que fuimos<br>atendidos, a todos los empleados del hotel.sin duda<br>volveria."
          ],
          [
           "Gran lugar!. buena comida, buen ambiente y un gran servicio.<br>asegúrate de que entras en el lugar adecuado. hay tres<br>restaurantes en el mismo lugar y los cubanos tienden a<br>llevar a donde quieren ... no era lo que habíamos pedido ..."
          ],
          [
           "Me gusta el cohiba un gran hotel. me gusta la cadena melia.<br>mi estancia en el cohiba ha sido excelente mi habitacion es<br>con vistas al mar todo muy limpio y en condiciones. el<br>buffet extraordinario. la amabilidad del personal exquisita.<br>recomiendo el hotel"
          ],
          [
           "Muy buen lugar para descansar en el centro de merida.... bue<br>hotel con bonita habitación, amplio, limpio, camas cómodas,<br>buena ubicación para poder caminar por el centro de mérida<br>sin ocupar tu vehículo. alberca de buen tamaño para pasarla<br>agradable en compañía de tu familia. lo que mas me gusto fue<br>la atención del personal del hotel, especialmente de pablo<br>(maletero del hotel), persona muy amable que nos describió<br>parte de la historia de mérida y nos sugirió o nos recomendó<br>los lugares mas bonitos para visitar. algo que deben mejorar<br>es el servicio de wifi, la habitación que me toco se perdía<br>mucho la señal (2da planta)."
          ],
          [
           "Buen hotel. un hotel bastante bueno con hermosas<br>habitaciones y la nuestra con una preciosa vista del<br>malecón. los espacios del hotel son bonitos y agradables<br>para estar en ellos.. me gustaba estar en la zona de la<br>piscina tomando una cerveza en incluso comiendo, el desayuno<br>estaba bien y completo. si bien el hotel esta alejado de la<br>habana vieja, cuenta con transporte gratuito, a determinadas<br>horas, para ir hasta allí y volver. las personas de<br>recepción y las camareras son muy amables. tienen una<br>pequeña oficina para el cambio de moneda y es importante ir<br>a cambiar con la moneda propia pues si se va con tarjeta uno<br>se expone a no poder realizar el cambio por \"caída de la<br>red\"."
          ],
          [
           "Una estancia muy placentera. es un hotel pequeno y muy<br>comodo, nada es perfecto en el mundo pero aun asi fue una<br>estancia muy placentera y la pasamos muy bien, no dudaria en<br>quedarme ahi de nuevo. la del bellboy fue la sonrisa mas<br>sincera del lugar, gracias."
          ],
          [
           "Altamente recomendado. es un hotel céntrico, a unas cuantas<br>cuadras del centro. muy tranquilo ideal para descansar. han<br>mantenido la arquitectura de la casona de época,está muy<br>bien decorado, cómodo, y con detalles de buen gusto, y<br>además tiene buen precio"
          ],
          [
           "Excelente hotel. excelente hotel, habitaciones confortables,<br>muy buena la atención. espectacular la piscina y bar del<br>piso diez. muy buena área de playa y piscinas.desayuno muy<br>variado y buena calidad de la comida.restaurante erre muy<br>agradable y acogedor con muy buenas pociones de comida y<br>licores."
          ],
          [
           "Nh puebla. en general me agrado el hotel las cosas que<br>crítico es el excesivo cobro en el los productos de su<br>servibar (en contraesquina hay una tienda es mejor comprar<br>ahí) y que la tarjeta no leía bien la cerradura del cuarto"
          ],
          [
           "Excelente, pero con pequeños detalles.... el hotel, la<br>atención, el personal en general todo fue excelente! pero<br>encontramos pequeños detalles como: el cereal era del mas<br>económico, algunos detalles en una de sus piscinas y lo mas<br>importante, permiten el ingreso al hotel a cualquier persona<br>ajena a los huéspedes. por lo demás, todo excelente, es una<br>experiencia para vivir nuevamente en este fabuloso hotel,<br>quedamos encantados."
          ],
          [
           "Bar del lobyy del hotel. muy buen bar ,la atención prestada<br>fue muy profesional la animación estaba muy buena ,la<br>cerveza bien fría y rápido el servicio prestado,un buen<br>lugar para pasar un rato en pareja,el lugar muy limpio y muy<br>acogedor."
          ],
          [
           "Convención claro 2021. en general el hotel es excelente , la<br>comida muy rica, la playa muy tranquila. muy buena<br>seguridad, tuve un percance con mi celular q se perdió<br>durante el evento de mi empresa, me acomparon en el proceso<br>hasta q lo recupere. muy buen servicio. carlos berltran<br>excelente trabajo."
          ],
          [
           "Excelente. excelente hotel, la pieza muy bien,pa espacios<br>comunes muy agradables. personal muy atento. esta un poco<br>distanciado del centro, pero el hotel tiene buses que te<br>llevan gratis (con buena frecuencia), de lo contrario un<br>taxi por 15 euros te lleva al centro, y por 20 euros un taxi<br>antiguo (año 58) te deja en el centro también. hotel muy<br>bien mantenido, mi pieza tenía excelente vista al mar"
          ],
          [
           "Muy buena ubicación!. pasamos 4 días en mérida, y este hotel<br>te ofrece la ubicación exacta para caminar por el centro,<br>visitar paseo montejo, conocer la gastronomía y relajarte.<br>gracias a aracely en el restaurante, muy amable, ya que<br>llevábamos una bebe, y siempre estuvo dispuesta a ayudarnos,<br>y de recepción muy amables carlos y jonathan. además la<br>arquitectura del lugar es increíble junto con su historia."
          ],
          [
           "Bonito falta spa. estuve en el hotel me parecio bonito<br>ascensores viejos el desayuno es muy rico 😋, me gusto mucho<br>la ubicación y la atención de los empleados los guardas y<br>las camareras muy bien , la piscina en la terraza muy bien<br>pero no hay zona para fumadores , recomiendo en un hotel tan<br>grande y no tiene spa ni peluqueria dentro del hotel y en<br>las zonas de las sombrillas en la playa llegan las nativas<br>cobrando 200 mil pesos por un masaje de 10 minutos , la sala<br>de la recepción es moderna y bonita ."
          ],
          [
           "Navidad feliz. me gustaria compartir con la gente que pueda<br>y recomendar este magnifico hotel todos son muy amables y<br>liendo meseros de playa .. tambien quiero agradecer ala<br>señorita perla de seguridad por su atencion con nosotros y<br>la amabilidad desde que uno ingresa hasta que se retira<br>sienpre con una grata y hermosa sonrisa ..donde quiera que<br>la encontramos es un honor para mi dejar mi recomendacion<br>para el equipo de prevencion por la buena labor que hacen<br>dia con dia con lo del covid19 bendicciones nos vemos pronto<br>por marzo regresaremos ..,❤"
          ],
          [
           "Gran fiesta blanca. estuve del 28 de julio hasta el 4 de<br>agosto en la fiesta blanca y me encanto. un gran ambiente.<br>recomiendo ir a toda persona que este pensando ir. el<br>servicio del hotel fue buenisimo y no tengo ninguna queja de<br>nada."
          ],
          [
           "Vacaciones familiares. en nuestra estadía en el hotel caribe<br>la hemos pasado muy bien, la habitación, desayunos, servicio<br>de spa, piscinas excelente.... y tb la atención de srta.<br>daniela pajaro. en general la atención del hotel fue de muy<br>grata!! (el contacto con la naturaleza me lleno mi corazón)"
          ],
          [
           "Desayuno. esperaba mas del desayuno, algo más típico de la<br>región, además por el costo de la noche. pero en general el<br>hotel es muy bueno y cómodo, lo recomiendo para descansar,<br>la atención de sus empleados es excelente."
          ],
          [
           "Excelente hotel !!. el mejor servicio, la amabilidad del<br>personal en general, los alimentos y las bebidas<br>deliciosos!! los shows son muy buenos, siempre me sorprenden<br>con algo diferente, muy recomendable, las habitaciones del<br>hotel son muy cómodas y tienen una excelente vista."
          ],
          [
           "Excelente. muy buena estancia, me gustó mucho estar ahí, fue<br>un viaje lleno de alegrías y buenos momentos, me gusto el<br>hotel porque es cómodo, tienen muy limpio, bien decorad, el<br>servicio es muy rápido y de calidad, los alimentos son muy<br>buenos."
          ],
          [
           "Mi servicio en el hotel caribe. la señorita daniela parajo<br>está muy pendiente de los huéspedes y se encarga de atender<br>todas las necesidades. todo el personal es muy amable y está<br>siempre dispuesto a apoyar a todas las personas. las<br>instalaciones del hotel se encuentra siempre limpias y<br>dispuestas para su uso."
          ],
          [
           "Excelente hotel. es es un hotel perfecto para visitar en<br>pareja o familia, tiene todo lo que se necesita para unas<br>buenas vacaciones. muy buena y variada la comida, es todo<br>incluido, bar abierto de buena calidad, playa privada con<br>todo lo necesario, excelentes instalaciones y habitaciones<br>muy cómodas. es a 30 minutos de cartagena, pero el hotel<br>tiene transporte permanente. muy recomendado,"
          ],
          [
           "La opción para negocios. el hotel esta bien ubicado, la<br>atención es buena y la tarifa incluye desayuno por lo que si<br>vas a realizar un viaje de negocios y tu estancia en el<br>hotel sera solo para descansar.. es una excelente opción,<br>cerca encontraras varios restaurantes que también son muy<br>recomendables, si vas hacer uso de taxis trata de hacerlo<br>con mucha anticipación ya que escasean un poco. en general<br>el hotel es recomendable y las tarifas muy accesibles!"
          ]
         ],
         "hovertemplate": "Topic=2<br>Label=Positive<br>Dim 1=%{x}<br>Dim 2=%{y}<br>Importancia=%{marker.size}<br>Comentario original=%{customdata[0]}<extra></extra>",
         "legendgroup": "2, Positive",
         "marker": {
          "color": "#636efa",
          "size": [
           135.56424925726432,
           15.481586607382399,
           99.05599151558147,
           71.50752562858773,
           750.0946117240261,
           29.14613868793669,
           87.60766191086168,
           486.543748554636,
           55.14765329052777,
           77.13635287766776,
           346.30428127657046,
           67.00724083483429,
           23.138065672359524,
           58.851997928524725,
           434.3569754912734,
           283.00622959892917,
           86.9656691708215,
           552.044714630689,
           35.82851427000563,
           27.849447148715868,
           358.2180879535107,
           50.033214982185186,
           66.89695436900986,
           42.525389770081176,
           56.0449295854812,
           583.5703647626119,
           108.84800656880245,
           239.607484188057,
           262.84015639945727,
           37.88839455792431,
           57.110712516126725,
           81.37625375129242,
           49.52017409671674,
           126.58438913319225,
           91.61254314709556,
           57.43224817546359,
           24.629932182676992,
           106.57352125901792,
           70.91125754381864,
           34.752436134168434,
           128.6952146892996,
           120.1360798047752,
           165.6006249505525,
           70.44479738665513,
           112.7083700924213,
           171.9751559078477,
           81.01631462325372,
           54.19719327542489,
           105.69969492283431,
           95.88931136617211,
           1262.1806702116721,
           42.23212841829734,
           86.4651607443544,
           34.010239554693726,
           251.70919466379493,
           115.17908888084642,
           261.0625741858438,
           221.92624580202204,
           30.18188599718466,
           32.893510982090795,
           47.76776723539864,
           306.3697220092437,
           29.698133449418535,
           50.152348329131854,
           52.71089417863744,
           295.9794177192506,
           54.38988779970318,
           458.1449055615774,
           44.04509723711037,
           43.407941058030424,
           69.03966332390219,
           76.89318514924985,
           227.74964480488626,
           65.5573688168787,
           93.77483278773866,
           124.16031988386516,
           601.0414700544952,
           60.537083832445965,
           377.4881794898653,
           132.03129131527012,
           178.21739031052297,
           399.16560485144856,
           33.084184002324754,
           81.12875051548693,
           41.56716799730713,
           39.69530658090112,
           96.53580709690637,
           51.59763889214147,
           677.6247028536981,
           234.08849615575755,
           43.753753845723,
           125.8101856993691,
           228.79734191821572,
           37.044272956153264,
           170.3555791760044,
           456.0512344660742,
           565.1572248506185,
           105.74779121634809,
           172.08547667910247,
           61.34361024713184,
           106.56373133070531,
           163.09236211168394,
           61.72154545675588,
           80.87744578228174,
           339.2574376070256,
           39.7773231750427,
           83.70412129930112,
           131.18304095991684,
           63.07130143847094,
           38.07783742234878,
           117.72883904491098,
           102.35318915559671,
           38.13068883302857,
           1097.499380708102,
           104.39214720181224,
           47.38435961635347,
           37.422421467369006,
           202.99655759746142,
           20.340707243633975,
           222.10660261615539,
           54.1089562619591,
           335.179725919892,
           313.07642778547347,
           67.83770017645956,
           47.68605035377088,
           35.790728452857046,
           114.05866967197879,
           41.755627241712936,
           81.19062732815462,
           182.78708789912466,
           61.01879977901426,
           715.7663799866793
          ],
          "sizemode": "area",
          "sizeref": 12.289861556866619,
          "symbol": "diamond"
         },
         "mode": "markers",
         "name": "2, Positive",
         "opacity": 0.8,
         "orientation": "v",
         "showlegend": true,
         "textposition": "top center",
         "type": "scatter",
         "x": [
          -0.11518636440712726,
          -0.1516861251133028,
          0.12455187149676708,
          -0.15441082378872575,
          -0.24878966987629186,
          0.1400131679151916,
          0.08345053226892399,
          -0.04372616886452391,
          0.033140523147901293,
          -0.1383731841516151,
          -0.08435365554923946,
          0.03290828173547932,
          -0.2507006772010433,
          -0.10697818496983175,
          -0.09030291423626557,
          -0.2375801395288363,
          -0.11044112477952356,
          0.005884222356347533,
          -0.2141969289678959,
          -0.051943730905197966,
          -0.23932321874549936,
          -0.1448581423063381,
          0.13611053645847465,
          -0.13074283032140085,
          -0.0021015405898731415,
          0.0743716085005693,
          -0.14248608030926851,
          -0.0691566842974042,
          0.0004419276216057315,
          -0.16235296115028977,
          -0.09042565391705391,
          -0.013539622724051206,
          0.23066515100608675,
          -0.08780112903423948,
          0.17985695868228543,
          0.3399980070043411,
          -0.14184509723145694,
          -0.07437911147106537,
          -0.08277754477030674,
          0.20820792517708003,
          -0.21557512964953734,
          0.23195575895077541,
          0.18162171839748784,
          0.07887534993414579,
          0.007532432376080114,
          -0.1404770331435444,
          -0.20923682645685016,
          -0.2549383001531161,
          -0.1227249275409756,
          -0.14132947128293522,
          -0.1398619175773802,
          -0.021920557616162177,
          -0.240801090855881,
          -0.06905457343783959,
          -0.17774767950560844,
          -0.02847988829653378,
          -0.053191262414501166,
          -0.04464858342291217,
          0.009054217747001136,
          -0.17235760170795306,
          -0.11153724569290145,
          -0.1350803195042207,
          -0.07194596481706683,
          0.005143217471455779,
          -0.21477609219158983,
          -0.17731539314580705,
          -0.04689511204131751,
          -0.022033467843684373,
          0.13326186327135106,
          -0.14491142792270142,
          0.16008918773528238,
          -0.18386181779712482,
          -0.10529670264370425,
          -0.07183693082280004,
          0.02634788747332484,
          -0.08087045010874079,
          -0.09018746218930215,
          -0.07756433046727682,
          -0.12518041016365816,
          -0.15658658725976152,
          -0.011978096724328525,
          -0.10514402721635716,
          -0.16566845995209384,
          -0.2294548993897254,
          -0.0055988818363878305,
          0.0340596146405786,
          -0.032933345379209146,
          -0.1592915539518474,
          0.13104742076859383,
          0.1638937673128075,
          0.24633858437821995,
          -0.004564741533257116,
          0.04685285571705486,
          -0.08351234387741058,
          -0.12300235665149288,
          -0.027495274696681202,
          -0.07064865276300697,
          0.2955037607670859,
          -0.0468732081027322,
          -0.1949121885474493,
          -0.10098174217112925,
          -0.04095726942298088,
          -0.1300125864089314,
          0.27891262596279753,
          -0.19880599330314933,
          0.00026876500793853586,
          -0.23841945033475068,
          -0.011402608865483393,
          -0.22605984486797964,
          0.29404879808721845,
          -0.15321445562048402,
          -0.09744558273178912,
          -0.17339187775195294,
          -0.07120307889248197,
          -0.15277348830093582,
          0.04073758964352328,
          -0.004420545709652401,
          -0.010905254484486215,
          0.05533556598341906,
          -0.12099752952976547,
          -0.029535854125760534,
          0.18469624306343352,
          -0.05498268932690089,
          -0.12625847312942898,
          0.08919746621049579,
          -0.10385981269292872,
          -0.102761030647127,
          -0.2217732090891339,
          -0.06605227605961861,
          -0.18749009000064032,
          -0.1126803329746844,
          -0.11020063750006964
         ],
         "xaxis": "x",
         "y": [
          0.045333382661419556,
          -0.29034416644234945,
          -0.08889664751185171,
          0.07471974612855654,
          -0.08419339311555171,
          -0.016360644040021133,
          -0.08635922199143425,
          -0.053723078883649335,
          -0.11259667004457821,
          -0.1564252999641636,
          0.14511483254019464,
          0.0009297159784777926,
          0.07992021667003764,
          -0.029112311312565607,
          -0.08014900240087283,
          -0.02724402119515327,
          -0.05917384128154936,
          -0.24231196162311944,
          -0.01723100062560187,
          -0.08853670154249271,
          -0.022849448975878237,
          0.06873335856362779,
          -0.07936830933566295,
          0.0549545895341754,
          -0.013994234609226943,
          0.14471893946785372,
          0.10051914261906723,
          0.04066525660542212,
          -0.1551956624754477,
          -0.17607682587516196,
          -0.0038753904000537187,
          0.07220053980824746,
          -0.3350629730145692,
          0.007753151625392401,
          -0.2336451357421756,
          -0.20682086317627285,
          0.1224056990075408,
          -0.021468790985029587,
          -0.044635638101895574,
          -0.09631658693518161,
          -0.140635407392311,
          -0.20587014138021406,
          -0.1440600140588653,
          -0.026924215851994497,
          0.10983014760575965,
          0.1311346015123354,
          -0.16644548265811696,
          0.010750802459883626,
          -0.18504036536918675,
          0.07578590285600466,
          -0.03632971008434992,
          -0.07560714627815866,
          -0.1478335639127292,
          0.10681528841999599,
          0.012975367673022733,
          0.021011853386331773,
          0.015759243009633436,
          0.1794167892837086,
          -0.13373021836991672,
          0.055794649970617005,
          0.03476297242355117,
          0.08845713313124808,
          0.07251761003914665,
          -0.015462747758516974,
          -0.23829217525988974,
          0.0037252756914049234,
          0.1644895824902755,
          0.02240145184510035,
          -0.17931876671603042,
          -0.041147357015920503,
          -0.2083435409988679,
          0.005572665819289286,
          -0.01565952747672405,
          0.1126032009109745,
          -0.1651727921012717,
          0.011946266543914582,
          -0.11253480741816246,
          -0.13532902680790976,
          0.01566972038265955,
          -0.10659544367055532,
          0.001282053595424822,
          0.1888038180929281,
          -0.0022704980051073903,
          -0.06166630054974288,
          0.10714791441769982,
          -0.1756068232115064,
          -0.09761963614382307,
          0.10102030304218197,
          0.2261080094896134,
          -0.23178359611595933,
          -0.11388233000188185,
          0.09680041765603206,
          -0.07609665538662577,
          0.08070555716022343,
          -0.05344051008476498,
          0.02084500046167417,
          0.08179310918111331,
          -0.2594003804368597,
          0.09855202730851516,
          0.00010343466362317312,
          0.27918953117546796,
          0.0001031435929017432,
          -0.05427270129664927,
          -0.22138760751291123,
          -0.12264147284707365,
          -0.02834560922765626,
          -0.1430953441599526,
          0.04753985111973957,
          0.10966990727505728,
          -0.0461556127680141,
          0.02788556188291086,
          0.09653661390175361,
          0.03339217807732839,
          0.006397702057438193,
          0.03421236777086737,
          -0.04550744830923617,
          -0.07258198888490039,
          -0.13123486033655465,
          -0.14178038148752084,
          -0.06223486307505948,
          -0.024569545066131383,
          -0.06023132411518667,
          0.05244484587670052,
          0.05888113975163616,
          -0.0009537574508053123,
          0.0116463715047739,
          -0.04606602190305179,
          -0.12921084811560485,
          -0.07157033557282008,
          -0.10830440658888316,
          -0.03836235890573092,
          -0.156317162537447
         ],
         "yaxis": "y"
        },
        {
         "customdata": [
          [
           "Lástima!!!. caramba!!! probablemente otras personas se<br>expresen bien pero aunque el hotel se ve bien nunca pude<br>entrar a pesar de tener ya la reservación de un laboratorio<br>de confianza por la incapacidad y la nula comunicación con<br>quien hace o guarda las reservaciones. una lástima que la<br>calidad que intentan dar se pierda con su personal. suerte a<br>otros!!!"
          ],
          [
           "Se perdió el viejo esplendor. estuve durante 6 días en el<br>hotel y la verdad es que de no haber tenido ya la estadía<br>pagada me hubiese ido al segundo día. el hotel que en el<br>pasado se caracterizó por recibir a las grandes<br>personalidades en cuba hoy está que se cae a pedazos. su<br>estructura está completamente deteriorada, las habitaciones<br>con muebles rotos, puertas que no funcionan bien en los<br>closets, espejos quebrados, hasta una gotera en el techo del<br>baño que demoraron dos días en arreglar. si nos referimos al<br>servicio, también deja mucho que desear, las camareras con<br>suerte estiraban la cama y cambiaban las toallas, la<br>suciedad en el resto de la habitación se acumuló durante los<br>días que estuve. por si fuera poco incluso algunos bichos<br>salieron desde los muebles ya tan deteriorados. los<br>ascensores, son otro…"
          ],
          [
           "Evitar a toda costa. este es el antiguo hotel hilton. la<br>estructura física aún está bien, pero el mantenimiento y<br>servicios son terribles a la existencia no paró. no había<br>agua caliente y la comida para la cena era normalito tirando<br>a malo sólo había un ascensor que trabajaban en el piso 16."
          ],
          [
           "Pésimo servicio. desde el primer día les pedí me mandaran la<br>confirmación de la reservación a mi correo, a la persona<br>encargada al parecer poco le intereso mi petición... no me<br>lo mandó. cuando llegue me hicieron quedarme una noche y<br>luego volver a bajar para hacer válida mi reservación,<br>molestias a quien se hospeda por sus cuestiones<br>administrativas, cuando les avise que ya estaba ahí y podía<br>pagar mi reservación. (llegue un día antes, pague una noche<br>y les dije que tenía reservación para el otro día, la<br>respuesta fue, baje mañana, en lugar de anoto lo que me está<br>señalando no se moleste...ya estaba ahí) las comidas, el<br>buffet de la mañana bien, pero las comidas que se pagaron<br>por rentar el salón, bastante frugales, poco bien servidas y<br>hubo una que tuve que esperar más de una hora a que<br>la_x0085_"
          ],
          [
           "Le falta mucho para ser un resort.. todo mal en este hotel,<br>llegamos al hotel en donde primero supuestamente nos daban<br>un cóctel de bienvenida, nada, demorados, mala cara todo el<br>rato como si les debiéramos algo, pésima información<br>respecto a todo, los horarios para las comidas, por ejemplo<br>en donde se come porque un día en donde normalmente se come<br>está cerrado, y otro día en otro lado y así, horarios de<br>piscina, etc. las habitaciones desgastadas, mucho espacio<br>desperdiciado, se supone que saben los planes que escoge la<br>gente, entonces para que nos ponen en una habitación en<br>donde hay cocina si uno elige el plan de todas las comidas<br>incluidas, en ningún momento se informó que en una de las<br>piscinas no podían entrar menores de edad, camas incómodas,<br>no había agua caliente, la mala cara todo el rato del<br>personal,…"
          ],
          [
           "Hay mejores opciones de hoteles en esa área. la agencia best<br>day escogió el hotel por nosotros, de otra manera<br>seguramente no hubiese estado en nuestras opciones jamás.<br>poco rescatable de éste hotel a excepción de los maleteros<br>pedro y oscar y nuestra recamarera isabel el resto bastante<br>impersonal,apático con una pésima actitud de servicio y las<br>chicas del comedor a la hora del desayuno sin ganas de<br>atender y menos de solucionar, pedí un sobre de té...un<br>sobre de tééé!!y me dijeron no hay y ya. fué el chef el que<br>además de servir andaba resolviendo los problemas y en el<br>restaurante caribeño me sentí timada ya que compré dos<br>sandwichs de jamón y queso y me dieron unos panes casi solos<br>sin jamón y nada de queso.bastante caros. tiene cuatro<br>ascensores y sólo funciona uno y dice que anda en el piso 45<br>y solo hay 22 pisos. la…"
          ],
          [
           "No te resuelven ningún problema, me cobraron de más, la<br>central de reservas de equívoco y tuve que pagar más al<br>llegar. se equivocaron en la central de reservas y al llegar<br>al hotel me cobraron más para poder alojarme una habitación<br>con 3 recamaras y me pusieron solo un huésped 🤦🏽‍♂️ no<br>tienen sentido común, acabe pagando por las otras 5. o sea<br>me engañaron 😡"
          ],
          [
           "Muy feo lugar para una ciudad con mucha oferta hotelera de<br>categoria. me mandaron allí de la aerolínea porque el vuelo<br>estaba sobrevendido. estuve 10 días en cuba, entre la habana<br>y cayo santa maría, hospedandome en una casa de familia y en<br>un hotel 5 estrellas, se puede decir que probé dos extremos<br>de alojamiento previo a este y la única palabra que me cabe<br>es desastre! en la casa de familia donde me alojé, nos<br>trataron de maravillas, todo extremadamente limpio y<br>prolijo. en el hotel 5 estrellas podría decir que estuvo muy<br>bien. ahora el neptuno, por dios, horrible!. la habitación,<br>el baño, la cama, no se que estaba peor. y el ascensor<br>funcionaba cuando quería por lo tanto mas de una vez tuve<br>que subir y bajar 10 pisos por escalera. era eso o perder 30<br>minutos del preciado tiempo de un turista. no lo recomiendo."
          ],
          [
           "El peor hotel en el que me he alojado en. folletos sobre<br>este hotel iberostar son totalmente engañosas. no hay nada<br>de lujo de este hotel. pintura pelando el techo, la comida<br>es terrible, terriblemente caro (pagamos 2 libras, 200 por 4<br>noches para una habitación básica y desayuno), el personal<br>fue maleducado y había obras en toda la noche en la azotea<br>del hotel, amplificados por la atrio, que todas las<br>habitaciones llevan a. y esta fue durante las vacaciones de<br>año nuevo. podría seguir. nos hicieron esperar hasta las<br>6:00 p.m. para el ingreso y a las 21:00h que queríamos<br>irnos, pero nuestro agente de viajes dijo que no hay<br>reembolsos, trailfinders después nos costó 55 dólares en<br>llamadas de vuelta a inglaterra. que pena por ti @ iberostar<br>y pena por ti trailfinders."
          ]
         ],
         "hovertemplate": "Topic=1<br>Label=Negative<br>Dim 1=%{x}<br>Dim 2=%{y}<br>Importancia=%{marker.size}<br>Comentario original=%{customdata[0]}<extra></extra>",
         "legendgroup": "1, Negative",
         "marker": {
          "color": "#EF553B",
          "size": [
           33.19959240798152,
           63.82392653164295,
           333.70601840446835,
           94.73574100778043,
           4915.944622746648,
           129.57544831134874,
           1034.1047478799296,
           418.7781725324026,
           189.62228401105514
          ],
          "sizemode": "area",
          "sizeref": 12.289861556866619,
          "symbol": "circle"
         },
         "mode": "markers",
         "name": "1, Negative",
         "opacity": 0.8,
         "orientation": "v",
         "showlegend": true,
         "textposition": "top center",
         "type": "scatter",
         "x": [
          -0.11928010713839064,
          -0.159801478952508,
          -0.2101312865544796,
          0.023279603730680897,
          -0.12667335289579404,
          0.024023781675105806,
          -0.03968588593622573,
          -0.22516008308022145,
          -0.12438674501050552
         ],
         "xaxis": "x",
         "y": [
          -0.019697384364253872,
          0.15047730499343312,
          -0.011337565312144965,
          -0.03474557172385482,
          0.06152430225631021,
          -0.12027678951104953,
          0.03223288064727636,
          0.1731265499832012,
          0.04178804559589652
         ],
         "yaxis": "y"
        },
        {
         "customdata": [
          [
           "Cumpleaños. que buen restaurante, la comida estuvo muy rica<br>y bastante generosa, además tuvimos la mejor vista de<br>bogota! john mario, la persona encargada del servicio fue el<br>más eficiente y atento, súper recomendado!"
          ],
          [
           "Cenita y drinks. es un hotel boutique muy lindo, para ir al<br>el restaurant de preferencia hay que hacer reservación,<br>fuimos a cenar dos veces y la vdd esta delicioso, el<br>servicio tambien fue excelente y arriba en la terraza tienen<br>un lugar muy agradable tambien para ir...más"
          ],
          [
           "El mejor hotel todo incluido.. mil gracias a todo el staff<br>que hace que tu viaje sea inolvidable, gracias totales a<br>carlos marquez, gustavo díaz y geraldine zaragoza por estar<br>al pendiente de cada detalle, para que tu estancia sea<br>placentera,"
          ],
          [
           "Excelente. una de las mejores vistas desde el restaurante.<br>hemos visto cada parte de la ciudad de la habana. antes de<br>la cena tuvimos unos mojitos. uno de los mejores de la<br>habana. el servicio era excelente, gracias por el jefe de<br>alejandro y su tripulación."
          ],
          [
           "Ultima comida en la habana. restaurante fantástico en el que<br>estuvimos hace dos días ya de vuelta de ruta por cuba dos<br>familias. nos ubicaron en un apartado para 8 con aire<br>acondicionado y la comida fue un auténtico placer. carta muy<br>variada y a precios muy asequibles.. la presentación...más"
          ],
          [
           "Excelente hotel y atención maravilloda. el hotel es lindo<br>com vistas espectaculares. lo mejor es la atención de los<br>que allí trabajan, desde el guardia de la puerta hasta<br>quienes limpian las habitaciones. recomiendo incluir el<br>desayuno en la habitación y pagar por habitaciones con vista<br>al mar. vale la pena! justo al lado hay un buen supermercado<br>para el que quiera comprar frutas y agua (las habitaciones<br>tienen neveras). para utilizar taxis confiables pídalo en la<br>puerta de entrada al guardia. ayuda con gusto y ofrece<br>consejos."
          ],
          [
           "Excelente atencion hotel cartagena plaza. excelente atención<br>muy especializada gracias por su recibimiento señor óscar<br>rodríguez de todos los hoteles que he visitado ha sido el<br>único que se preocupó por nuestro bienestar e higiene.<br>volvería mil veces inolvidables vacaciones con mis amigos,<br>ya todos estamos de acuerdo para regresar."
          ],
          [
           "El mejor servicio y la mejor experiencia hotel-playa. me<br>encuentro muy satisfecha y feliz con el servicio en la<br>playa. por parte de jorge yepes, jorge castillo y milton<br>cruz, nos hicieron sentir como en casa. es importante<br>reconocer positivamente su excelente labor. nos<br>recomendaron, nos asesoraron, nos pusieron muy comodos en<br>nuestra sombrilla y nos cuidaron en todo momento. personal<br>comprometido con el mejor servicio a los huéspedes,<br>enalteciendo el nombre de hotel las americas. gracias<br>siempre."
          ],
          [
           "Spectacular vamos a regresar. nos hospedamos en este hotel 2<br>noches y la calidad del servicio como la comida y el<br>ambiente de este hotel esta de de primera. el grill en la<br>terraza con la vista espectacular a la cuidad con su piscina<br>y un ambiente muy agradable por la tarde, y los restaurantes<br>por la noche como el mediterráneo con un servicio<br>extraordinario de comida y después sentado en el lobby bar<br>con música al vivo y longdrinks servido con un tabaco<br>cubano. más que recomendable para su vista en cuba y<br>principalmente en habana. los habitaciones muy limpios y<br>ordenados. no podemos esperar la próxima visita a habana y<br>al parque centaral."
          ],
          [
           "Luna de miel. estuvimos muy poquito tiempo en el hotel, solo<br>una noche. todo estuvo bien satisfactorio. tuvimos la<br>oportunidad de cenar en el restaurante, muy rico y buenos<br>precios. habitacion muy bien, con una vista lindisima. todo<br>el personal muy atento. gracias especiales a rosana.<br>volveremos!"
          ],
          [
           "Excelente!!!. excelente hotel desde que llegas te atienden<br>perfecto! rafael (botenes) es el mejor, alegre, carismático,<br>con los mejores consejos para conocer la ciudad, en fin<br>lejos el mejor! el hotel es muy confortable, habitaciones<br>espaciosas, cómodas, limpias, con el infaltable aire<br>acondicionado funcionando perfecto, tv plasma (aunque no lo<br>crean), tv cable funcionando bien, con agua en el frigobar,<br>todo funcionando bien, ( hago la aclaración porque leí que<br>en otros hoteles en la habana no hay nada de esto). se<br>realizan shows en la noche, en el bar preparan tragos muy<br>ricos y unos sándwiches que se mueren!!! en general nuestra<br>estadía fue muy cortita, solo 2 días porque partíamos a<br>varadero, pero desde que entramos hasta que nos fuimos para<br>nosotras la estadía fue perfecta..! y rafael…"
          ],
          [
           "Hotel las americas cuando viajas con ninńos. lo mejor cerca<br>a la playa en la ciudad de cartagena. la atencion al detalle<br>del servicio al cliente es evidente desde que entras por el<br>lobby hasta que caminas a la playa. las habitaciones siempre<br>impecable, y sobre todo lo mas importante cuando viajas con<br>ninos, la seguridad impecable."
          ],
          [
           "Excelentes vacaciones en cartagena. realmente es un hotel<br>especial. la zona húmeda es perfecta para relajarse y pasar<br>un día de desconexión. la atención del personal es<br>excelente, están pendientes del usuario de forma permanente.<br>recomendado !!!"
          ],
          [
           "Mi lugar favorito de nuevo vallarta!!!. hace ya varios años<br>que no visitaba vallarta y fue una agradable regresar a este<br>restaurante. sigue con sus alimentos exquisitos!!! el lugar<br>muy fresco y el servicio muy atento. pedí los camarones<br>tinos y estan deliciosos!! todos en la familia quedamos<br>contentos con la experiencia. los niños felices en los<br>juegos y alimentando a las tortugas ( el alimento lo venden<br>en el area de caja) solo sugiero que el área de niños este<br>cercada, más variedad de postres, y estaría muy bien algún<br>menú infantil."
          ],
          [
           "Maravilloso lugar de encuentro!. pasamos mucho tiempo<br>relajante con bebidas en varios restaurantes de la plaza.<br>los lugareños y visitantes disfrutar de esta hermosa plaza a<br>todas horas del día y la noche. muy seguro."
          ],
          [
           "Excelente experiencia. buen servicio la comida de primera<br>excelente atencion en el plan todo incluido recomendado<br>muchas gracias a oscar ramos por el acompañamiento de<br>principio a fin sin lugar a duda volveremos a visitar este<br>hotel"
          ],
          [
           "Relajante cerca de la ciudad!. mi esposa y yo, así como otra<br>pareja visitamos el occidental grand cartagena de 23 ene rd<br>hasta los 30â° en un avión/hotel dineral reservamos con<br>nolitours. el check-in fue rápido y eficiente. la habitación<br>olía un poco de humedad y estaba un poco sucio a su llegada,<br>pero la limpieza era perfecta, desde entonces. no toma mucho<br>tiempo para conocer su camino en el complejo ya que es una<br>pequeña. no es una mala cosa para mí, ya que es muy fácil de<br>rendez-vous sin tener que ser precisos y donde reunirse con<br>los amigos. el sol y el calor te hace sentir<br>instantáneamente un ambiente caribeño y todo lo que quieres<br>hacer es relajarse, sin ver! estábamos buscando formard de<br>utilizar el gimnasio, pero había un terrible olor cerca el<br>día que llegamos. a partir del día siguiente, todo…"
          ],
          [
           "Es cuba !!! dejate llevar y disfruta !!!. estuvimos hace<br>unos días en este hotel de la habana. su personal muy amable<br>y atento. un hotelo de estilo cubano, lo cual significa que<br>no vas a encontrar las comodidades de un hotel de sus misma<br>categoria en españa. necesita una buena reforma, al igual<br>que el resto de la ciudad, pero,... entonces dejaría de ser<br>la habana. el encanto de esta ciudad, de este país y de este<br>hotel es su ambiente trasnochado, viejo,... no dejeis de<br>visitarlo antes de que casmbie. estuvimos en dos<br>habitaciones diferentes, al principio de nuestro viaje en<br>una del tercer piso (el personal de limpieza era encantador)<br>y al final de nuestro periplo por cuba en otra del piso<br>octabo. las vistas espectaculares!!! el desayuno muy<br>correcto, me sorprendio y gustó mucho.el restaurante del<br>piso bajo está bien,…"
          ],
          [
           "Excelente estadia. los felicito porque se enfocan en que los<br>niños la pasen bien. en algunas pisicinas no hay facilidad<br>de adquirir algo de tomar, deben haber meseros recoriendo si<br>algo provoca para ir a traerlo. de resto un excelente hotel."
          ],
          [
           "Vacaciones. muy buen servicio y atención de todos los<br>colaboradores del hotel. la comida e instalaciones<br>maravillosas. bastantes zonas para loa niños y una playa<br>para disfrutar..varias piscinas para adultos y niños y menú<br>varido"
          ],
          [
           "Todo delicioso. la comida muy buena, sabores diferentes y<br>excelente atención de aldemar, el mesero que nos atendió,<br>nos hizo muy buenas recomendaciones pues es la primera vez<br>que visitamos el restaurante."
          ]
         ],
         "hovertemplate": "Topic=1<br>Label=Positive<br>Dim 1=%{x}<br>Dim 2=%{y}<br>Importancia=%{marker.size}<br>Comentario original=%{customdata[0]}<extra></extra>",
         "legendgroup": "1, Positive",
         "marker": {
          "color": "#EF553B",
          "size": [
           90.07989786179553,
           85.07547466327583,
           75.43826402682843,
           116.99337120795623,
           130.65467405717968,
           1830.1707598422865,
           2909.831055394719,
           54.83307713320423,
           171.1146829163814,
           25.601509632524298,
           52.27212465312422,
           41.57917018420044,
           32.19500909517267,
           152.0164232215278,
           270.5847998832907,
           50.803413566939454,
           121.65816693067924,
           29.530283427460212,
           57.100913710532666,
           65.21052754397799,
           99.42834737200494
          ],
          "sizemode": "area",
          "sizeref": 12.289861556866619,
          "symbol": "diamond"
         },
         "mode": "markers",
         "name": "1, Positive",
         "opacity": 0.8,
         "orientation": "v",
         "showlegend": true,
         "textposition": "top center",
         "type": "scatter",
         "x": [
          0.3329567955802335,
          0.1520218597325375,
          -0.06727744007793858,
          0.3340777963755075,
          0.2284317730533039,
          -0.15792159060271957,
          -0.050631972795227326,
          -0.07452126307692901,
          0.1331397739956811,
          0.0869150612205443,
          -0.05891182859298118,
          -0.0881864317271493,
          -0.13608007313899842,
          0.32131331074142794,
          0.1724342237462251,
          -0.06095519868294189,
          0.13841755375173564,
          0.029280780540119573,
          -0.047175510308520525,
          -0.04076748349834189,
          0.30716898610866594
         ],
         "xaxis": "x",
         "y": [
          -0.13260552517837246,
          -0.0865929797517598,
          -0.00456744716808298,
          -0.06575036282616066,
          0.046157619335924445,
          0.045752403943473345,
          -0.06581777504784381,
          -0.15668125987429987,
          0.10545473966129884,
          0.016639464501921667,
          0.058938247361575415,
          0.055429978961386496,
          -0.02606344667012532,
          -0.11107274975758545,
          -0.020656391640448038,
          -0.19289918468464745,
          0.18768611815762493,
          0.1765903526049549,
          -0.09691685318063813,
          -0.08342925228606758,
          -0.2259254924612472
         ],
         "yaxis": "y"
        },
        {
         "customdata": [
          [
           "Los desastres!. no vale la pena una estrella. las<br>habitaciones están sucias, necesita urgentemente una mano de<br>pintura. el desayuno es comestible, tuvimos que ir a otro<br>hotel para el desayuno todas las mañanas. pedimos toallas un<br>chico comenzaron a gritar a la camarera era de 3 pisos más<br>abajo. desastre total. estancia lejos!"
          ],
          [
           "Ojo!!!. ¡ten cuidado! las habitaciones reek de moho moho/.<br>había moho en el tratamiento de ventana y en silla en la<br>habitación. óxido en la pila. no había agua caliente en la<br>ducha. la comida era terrible. no hay agua filtrada. el 90%<br>de la población era local."
          ],
          [
           "Mal, en casi todo.. se necesita poner más atención a los<br>detalles que realmente importan, no se si sea o no hotel o<br>empresa sustentable, para el.agua caliente, me dijeron: deje<br>el agua abierta 15 min para que le salga caliente. las<br>habitaciones no tienen cajoneras, al menos la que me tocó.<br>el sistema de cable bien, amenidades tolerable, sin embargo,<br>se ve cansado el hotel, ya viejo y agrietado. debut y<br>despedida, gracias por los \"servicios\" otorgados. en fin..."
          ]
         ],
         "hovertemplate": "Topic=5<br>Label=Negative<br>Dim 1=%{x}<br>Dim 2=%{y}<br>Importancia=%{marker.size}<br>Comentario original=%{customdata[0]}<extra></extra>",
         "legendgroup": "5, Negative",
         "marker": {
          "color": "#00cc96",
          "size": [
           151.82636375281328,
           67.60567328232605,
           122.83146915887836
          ],
          "sizemode": "area",
          "sizeref": 12.289861556866619,
          "symbol": "circle"
         },
         "mode": "markers",
         "name": "5, Negative",
         "opacity": 0.8,
         "orientation": "v",
         "showlegend": true,
         "textposition": "top center",
         "type": "scatter",
         "x": [
          -0.18449152637064997,
          0.022344448994675536,
          -0.20565230507260412
         ],
         "xaxis": "x",
         "y": [
          0.08314509553078352,
          0.15260333305183907,
          -0.06959078736960848
         ],
         "yaxis": "y"
        },
        {
         "customdata": [
          [
           "Excelente lugar para deleitar el paladar.. es un restaurant<br>con comida tradicional, en donde no se le intenta pegar al<br>artista, pero todo lo que pruebes está excelentemente hecho,<br>desde unos tacos de barbacoa (pero de costilla de short rib<br>ahumada por muchísimas horas, con su respectiva salsa del<br>tío guillo,...más"
          ],
          [
           "Un gran hotel, lo mejor sin duda la calidad en el servicio..<br>me hospedé hace un par de semanas por trabajo, el hotel es<br>muy nuevo, tiene muy buenas vistas, los cuartos muy cómodos<br>y todo esta excelente. pero sin duda lo que pone a este<br>hotel como mi mejor opción en todo el norte de méxico, es la<br>calidez y atención que tuvo todo el personal que me atendió,<br>en especial el área de alimentos y bebidas y el restaurante<br>del piso 18. además de que el sabor y la preparación de los<br>alimentos es de primera, todo el personal de cocina es<br>sumamente atento y siempre están preocupados en atenderte<br>con lo que necesitas. yo tengo que llevar una dieta<br>especial, y siempre me apoyaron en tenerme mis comidas<br>listas y como las solicité. muchas gracias y felicitaciones<br>al chef ejecutivo, jorge muñoz y a todo su equipo de<br>trabajo, son excelentes en lo_x0085_"
          ],
          [
           "Encantador restaurante justo al lado de la catedral. esta<br>pequeña joya es un poco difícil de encontrar pero vale la<br>pena la búsqueda. en nuestra visita tuvimos el marisco kabob<br>y un pollo asado - que eran bastante buenos. el ambiente<br>también es muy agradable. las reservas eran un debe cuando<br>estuvimos allí."
          ],
          [
           "Excelente lugar para hospedarse. un lugar excelente si te<br>encuentras de visita por trabajo ya que la ubicación está<br>excelente, habitaciones limpias y execelente servicio en<br>cuanto al costó se me hace un poco elevado el del desayuno<br>buffet ya que no existe gran variedad para el precio en el<br>cual en hotel te lo deja"
          ],
          [
           "Excelente!. un restaurante muy bueno, en particular para la<br>barbacoa. puedes ver gente cocinando en la parrilla. la<br>comida es muy buena y el ambiente es agradable. altamente<br>recomendable."
          ],
          [
           "Excelente. en un lugar muy agradable en la habana, este<br>pequeño restaurante tiene una muy buena selección de comida<br>fresca y sabrosa a precios muy razonables. el ambiente es<br>especial y éste era en todos los sentidos la mejor comida de<br>todas las vacaciones en cubamás"
          ],
          [
           "Fabuloso!. tuvimos una gran comida en este pequeño<br>restaurante (también dispone de un subiendo por las<br>escaleras) que fue recomendado por nuestro representante de<br>la visita. muy cubano las mejores judías pintas jamás!<br>pruebe los aperitivos yam y batatas croquetas con miel o<br>pescado croquetas con...salsa tomate. el cordero lonchas<br>main con salsa roja y especias también era muy bueno.<br>excelente relación calidad-precio, a £35 cuc es para dos<br>personas que tuvimos, dos entrantes, dos segundos platos,<br>botella de red, dos g&t y agua, personal, reserva<br>recomienda. tel +53 78611332más"
          ],
          [
           "Simplemente el mejor. la atención, la comida ,el ambiente<br>hacen de la nacional el mejor restaurante de monterrey el<br>ribye a la sal o al piquen son excelentes, el cortadillo<br>delicioso, los tacos de chicharrón, el aun con mango, los<br>postres en fin todo es de primer nivel....más"
          ],
          [
           "Excelente comida y servicio. nos hubiera gustado haber<br>encontrado este restaurante la primera noche que estuvimos<br>en la habana. es un restaurante pequeño y acogedor, con<br>excelente comida y servicio. todo era de primera clase y un<br>servicio increíble. precios muy buenos. cada plato era entre<br>$7 - 14....teníamos pulpo, carne, escatiman y ropa vieja.<br>todo delicioso. no te pierdas el mousse de chocolate! . como<br>el restaurante es pequeño necesitas una reserva. sin<br>embargo, usted no será decepcionado con la calidad de la<br>comida y el servicio. la dirección es calle habana #61<br>(bajos) la habana vieja teléfono (53) 801 - 6433 7más"
          ],
          [
           "La elegancia en un bocado. me encanto todo se portaron<br>extraordinario con nosotros nos trataron muy bien los<br>platillos deliciosos y el servirlo extraordinario. todos se<br>portaron de maravilla. confieso que es uno de mis<br>restaurante favoritos porque son elegante y tienen un<br>magnífico servicio y calidad en su atención...más"
          ],
          [
           "Excelente hotel. magnífica gastronomía. buenos precios. buen<br>trato e higiene. en el restaurante bufete, almuerzo en el<br>barracón. recomendamos el jugo de frutas de estación y el<br>daiquiri con gengibre. el pollo a la guajira es una<br>excelente opción, no dudes en pedir las recetas."
          ],
          [
           "Visita de trabajo. fue una vista muy confortable en especial<br>los alimentos el menu y la comida fue algu muy notorio ya<br>que estaba muy rica quiero felicitar al personal de comida<br>en especial al chef alondra valli que hace muy bien su<br>trabajo y cocina muy delicioso sin duda volveria a comer y a<br>vistiar este lugar."
          ],
          [
           "Lo mejor de la habana. difícil de encontrar en cualquier<br>ciudad un restaurante con la calidad y servicio del san<br>cristobal de la habana. carlos, el gran chef, jamás<br>decepcionará. si sólo tiene 1 día en esta maravillosa ciudad<br>no lo dude, este es el paladar! felicidades a los<br>propietarios...más"
          ],
          [
           "Un excelente hotel. excelente servicio, confortable cama,<br>las almohadas no tan comidas, su personal muy amable, su<br>ubicación de primera, esperamos utilizar el restaurante en<br>la siguiente ocasión, muy recomendable !!! gracias"
          ],
          [
           "Muy buena comida, una opción sólida. muy buen restaurante,<br>la carne siempre en el término solicitada. la oferta de<br>bebidas es buena. las entradas, como los tacos de langosta,<br>son muy buenas. corazón de filete, en su punto."
          ],
          [
           "Excelente atención y servicio. encontramos todo lo que<br>necesitamos para un buen fin de semana. calidad extra en<br>alimentos. habitación. zonas sociales. restaurantes así como<br>la atención del personal. pasamos un tiempo de relax y<br>tranquilidad"
          ],
          [
           "Tercer año consecutivo. cada año que nos hemos quedado en el<br>hotel samba vallarta ha sido mejor que el año anterior.<br>estuvimos allí desde finales de febrero hasta mediados de<br>marzo. el personal es muy amable, cortés y servicial desde<br>cuando llegamos a cuando tuvimos que irnos. en particular<br>genaro y carlos en el restaurante principal hizo que nuestro<br>viaje de nuevo este año extraordinario. tenemos muchas ganas<br>de volver de nuevo el próximo año y quedarnos más tiempo.<br>llegamos a ver tortugas haciendo su camino hacia el agua,<br>golpeando su cola de una ballena en el agua y los delfines<br>saltando fuera del agua mientras estar en nuestra tumbonas<br>de playa. estábamos tristes cuando ya era hora de volver a<br>casa."
          ],
          [
           "Excelente restaurante. fuimos con mi novia tres veces a<br>comer a este lugar y la verdad que increíble. la atención es<br>muy buena y la calidad de los platos es estupenda. el que<br>viaje a la habana y sobre todo a la vieja que pase y<br>pruebe...más"
          ],
          [
           "Interesante dar alimentos.... yo no era tan entusiasmado con<br>este restaurante como en el pasado. el servicio era genial<br>por josé nuestro camarero y otros. el ambiente es inmutable.<br>tuvimos una pizza de queso, que era bueno. luego dividimos<br>un pollo parmesano entre nosotros dos, que sirvieran de dos<br>placas que era agradable. fue servido con patatas y<br>verduras. el pollo estaba sabrosa y tierna pero era lo más<br>diferente de pollo parmesano que he visto, con la salsa a un<br>lado y bastante soso. en resumen bebidas estaban bien, buen<br>ambiente, muy limpio, buen servicio y comida normalita.<br>tienen servicio de aparcacoches un toque agradable."
          ],
          [
           "Comer aquí!. un lugar agradable lejos del complejo maya<br>resort! preparan pescado y gambas muy bien - es un<br>restaurante más pequeño con asientos al aire libre - el<br>personal es amable y el servicio es bastante rápido. la<br>factura en ambas ocasiones fue correcto y la comida está<br>bien de precio."
          ],
          [
           "Domingo familiar. el gaucho es mi restaurante preferido de<br>comida argentina, todo es delicioso, la ensalada, empanadas,<br>los cortes y los postres!!! los domingos hay muy pocos<br>espacios para hacer reservación, di quieres evitarte la<br>espera lo mejor es llegar antes de la 13:30 hrs. el<br>servicio...más"
          ]
         ],
         "hovertemplate": "Topic=5<br>Label=Positive<br>Dim 1=%{x}<br>Dim 2=%{y}<br>Importancia=%{marker.size}<br>Comentario original=%{customdata[0]}<extra></extra>",
         "legendgroup": "5, Positive",
         "marker": {
          "color": "#00cc96",
          "size": [
           72.82015638008048,
           119.6168717019151,
           245.02487681164007,
           191.43552305142833,
           87.69297289628322,
           33.17624424221899,
           205.57334835654328,
           190.35756572442716,
           39.3130101518675,
           27.4951912594975,
           29.292841521253223,
           54.67725120386334,
           332.1345215800217,
           130.6498641956684,
           87.70657193123948,
           26.057859607100927,
           214.69051699948935,
           126.23870905346877,
           23.671681535729903,
           142.93639813691297,
           150.5249077424581
          ],
          "sizemode": "area",
          "sizeref": 12.289861556866619,
          "symbol": "diamond"
         },
         "mode": "markers",
         "name": "5, Positive",
         "opacity": 0.8,
         "orientation": "v",
         "showlegend": true,
         "textposition": "top center",
         "type": "scatter",
         "x": [
          0.38254347826806634,
          0.044757039270683224,
          0.23268202959423825,
          -0.0828341899232458,
          0.26234844118097533,
          0.2240552529660771,
          0.3413919134108776,
          0.3393735228012284,
          0.3161601291076507,
          0.2280684389621083,
          0.1723231628906662,
          0.33804307337309375,
          0.29743404913777954,
          -0.04576348274680251,
          0.32901028703804275,
          0.13193170417919522,
          0.026158151561091712,
          0.2898628594739807,
          0.23698299626168995,
          0.05963484360322686,
          0.34114177417250163
         ],
         "xaxis": "x",
         "y": [
          -0.21540700761426923,
          -0.16890094473142708,
          -0.09314159395663563,
          0.00806398265159306,
          -0.2183580809853778,
          -0.09118929997592101,
          -0.08966714550972821,
          -0.14169571494721725,
          -0.1723325109766939,
          -0.046491302050104384,
          -0.16401664348062614,
          -0.12851630621045426,
          0.012189045239402426,
          -0.2301555506608392,
          -0.27815802495454195,
          -0.28287230822401827,
          0.015697787512862924,
          -0.20577337224626255,
          -0.28702482604633484,
          -0.08996517317170608,
          -0.21431669403335735
         ],
         "yaxis": "y"
        },
        {
         "customdata": [
          [
           "La gran estafa. 5 cuc por el peor mojito que me he tomado en<br>todas mis vacaciones. juegan con el nombre que tiene, y con<br>la historia que les acompaña. pero.....un trato pésimo. hay<br>que visitarlo porque hay que visitarlo, pero....nada mas"
          ],
          [
           "Hay mejores. prefiero el gran pastor el cabrito esta mucho<br>mejor, mejor cocinado y mas tierno. no me gusta la<br>decoracion recargada de este restaurante, es mas la<br>publicidad que lo que en realidad se ofrece, se ve ambiente<br>naco"
          ]
         ],
         "hovertemplate": "Topic=3<br>Label=Negative<br>Dim 1=%{x}<br>Dim 2=%{y}<br>Importancia=%{marker.size}<br>Comentario original=%{customdata[0]}<extra></extra>",
         "legendgroup": "3, Negative",
         "marker": {
          "color": "#ab63fa",
          "size": [
           166.24530035311162,
           784.5317849716735
          ],
          "sizemode": "area",
          "sizeref": 12.289861556866619,
          "symbol": "circle"
         },
         "mode": "markers",
         "name": "3, Negative",
         "opacity": 0.8,
         "orientation": "v",
         "showlegend": true,
         "textposition": "top center",
         "type": "scatter",
         "x": [
          0.28387074296674997,
          0.24618666522517166
         ],
         "xaxis": "x",
         "y": [
          0.2587161053917527,
          -0.15721457008118372
         ],
         "yaxis": "y"
        },
        {
         "customdata": [
          [
           "Un bonito lugar para visitar. la plaza principal de mérida.<br>catedral histórica, restaurantes y tiendas cerca. excursión<br>por la ciudad de carruajes a precios razonables. el mercado<br>principal está cerca para probar la diversión de la vida<br>local."
          ],
          [
           "Satisfechas. hemos estado en el hotel una amiga y yo del<br>09/09/12 al 13/09/12, nuestra estancia ha sido muy<br>agradable. *** situacion: muy buena, estás al lado del museo<br>de la revolución (si te interesa la historia de cuba es muy<br>recomendable), el memorial granma y el museo de bellas<br>artes. al lado de prado que es una avenida que va a dar al<br>malecón y por ella puedes llegar al parque central, el<br>ballet nacional y el capitolio (entre 5 y 10 minutos<br>caminando del hotel). *** habitacion: nos tocó una<br>habitación que hacía esquina (creo que la 704) en la 7ª<br>planta, es más amplia que las que están en zona de pasillo.<br>nuestra habitación tenía vistas al capitolio, muy limpia y<br>el baño también, pequeñito y muy importante!!!!!! sin<br>cortinas en la bañera!!!!!, provista de mampara de cristal.<br>***…"
          ],
          [
           "Visita obligada en la habana. el cementerio de colon es uno<br>de los cementerios del mundo con un gran patrimonio<br>arquitectónico y escultorico dentro del mismo están ubicados<br>panteones de familias de gran renombre así como los<br>descendientes de muchas familias españolas que se asentaron<br>en la habana colonial a día de hoy es una agradable visita<br>en nuestro paso por la habana .la entrada para los turistas<br>es muy barata creo recordar que son 2,00 cuc que vienen a<br>ser casi 1,80 € te dan un mapa con los panteones más<br>visitados y de gran importancia hasta la familia real<br>española tiene allí un panteón de algún borbón que falleció<br>en la isla."
          ],
          [
           "Viejo y nuevo. lo que un interesante museo. había<br>antigüedades de la región y arte contemporáneo fue una<br>verdadera sorpresa. es un pequeño museo manejable. tienen un<br>fantástico techo café de jardín con asientos en el interior<br>y el exterior. el café es de cristal en todos los lados, así<br>que tienes una gran vista si el tiempo requiere sentarse<br>dentro. tienda del museo era genial, con muy bien hecho<br>objetos: joyas, tejidos, carteras, vidrio, cerámica, libros,<br>etc. bien merece la pena entrar para el recuerdo de puebla."
          ],
          [
           "Arte al aire libre. yo les recomiendo visitarlo realmente<br>las esculturas que verán son bellísimas, de mármol<br>.........no dejen de visitar la tumba de \"la milagrosa\", es<br>la única que está llena de flores, emociona ver a la gente<br>que se acerca a la misma ........lo que realmente no me<br>gustó es la atención de las personas de la entrada; no se<br>les ocurra ir a los baños.la entrada al cementerio es de 5<br>cuc...pero vale la pena."
          ],
          [
           "Buena colección. vale la pena visitarlo, es una buena<br>oportunidad para apreciar buena parte de la obra de botero,<br>las pinturas y esculturas que se observan en el museo, te<br>dan una idea de la obra de este artista."
          ],
          [
           "Un museo. estuve solo una noche en este hotel es realmente<br>increíble desde la entrada hasta el ultimo piso ,uno se cree<br>que esta alojado en un museo muy conservado y impecable<br>limpieza si buscas confort este no es un hotel para ti pero<br>estar en la vieja habana alojarte aquí es como sentirla el<br>restaurante del ultimo piso tiene una vista maravillosa y un<br>servio excelente realmente lo recomiendo"
          ],
          [
           "Preciosa plaza de la catedral. esta impresionante catedral<br>de san cristóbal de la habana vieja se merece una visita. la<br>plaza de la catedral es un gran lugar para ver la<br>arquitectura barroca cubana. es una plaza muy animada y un<br>buen lugar para observar a la gente."
          ],
          [
           "Paseo a la antigua. paseo en calesa o a pié es estupendo por<br>la vista de las casas enormes y lujosas. se remonta a la<br>historia con la vista de la avenida y sus edificaciones,<br>algunas son museos o negocios importantes."
          ],
          [
           "Hermosa estadía en la ciudad amurallada. hermoso lugar, cada<br>cuadra es un paisaje atractivo. muchos lugares para visitar,<br>recorrer las murallas, sentarse a tomar un café, un trago,<br>contemplar la puesta del sol, sentirse atraído por los<br>productos típicos, etc."
          ],
          [
           "Un lugar para visitar en bogota,las obras de botero son<br>magnificas. por su ubicacion podran ademas visitar el barrio<br>de la candelaria, un lugar en donde se conserva la<br>arquitectura colonial ,alli encontraran cafes tipicos,y<br>restaurantes,luego el paso obligado sera el museo del oro a<br>unas 10 cuadras a pie ,donde podran apreciar la mayor<br>cantidad de objetos de oro que elaboraban los indigenas de<br>este pais,sera una experiencia dificil de olvidar."
          ]
         ],
         "hovertemplate": "Topic=3<br>Label=Positive<br>Dim 1=%{x}<br>Dim 2=%{y}<br>Importancia=%{marker.size}<br>Comentario original=%{customdata[0]}<extra></extra>",
         "legendgroup": "3, Positive",
         "marker": {
          "color": "#ab63fa",
          "size": [
           82.67597061371116,
           149.1594792857659,
           270.8973450395492,
           532.9894318688741,
           74.24376973300235,
           45.61871454202638,
           77.55558822503927,
           566.5040909777975,
           550.9567202101108,
           122.24999955495787,
           12.843461846958437
          ],
          "sizemode": "area",
          "sizeref": 12.289861556866619,
          "symbol": "diamond"
         },
         "mode": "markers",
         "name": "3, Positive",
         "opacity": 0.8,
         "orientation": "v",
         "showlegend": true,
         "textposition": "top center",
         "type": "scatter",
         "x": [
          0.2359815912682915,
          0.07095174311828284,
          0.23298654799004453,
          0.3652280440924726,
          0.09693545060031254,
          0.3420626726370816,
          0.025334564040414558,
          0.20374674594982906,
          0.22617457871096042,
          0.22529263213745546,
          0.28397904313181255
         ],
         "xaxis": "x",
         "y": [
          0.18196146198641155,
          0.3147581583313636,
          0.4133119145716622,
          0.23685145486785464,
          0.2783102273834792,
          0.3142183538297548,
          0.08880650318736386,
          0.2941595722174296,
          0.37415323116103566,
          0.16127380868328878,
          0.27466440900574507
         ],
         "yaxis": "y"
        },
        {
         "customdata": [
          [
           "Innecesario. no me voy a explayar mucho en este bar porque<br>no lo merece. desde que planificamos nuestro viaje, la<br>mayoría de los viajeros de aquí nos indicaba este lugar como<br>imprescindible de cuba. cuando llegamos al bar, vimos a un<br>grupo de gente agolpada en...más"
          ]
         ],
         "hovertemplate": "Topic=0<br>Label=Negative<br>Dim 1=%{x}<br>Dim 2=%{y}<br>Importancia=%{marker.size}<br>Comentario original=%{customdata[0]}<extra></extra>",
         "legendgroup": "0, Negative",
         "marker": {
          "color": "#FFA15A",
          "size": [
           1717.9450111917438
          ],
          "sizemode": "area",
          "sizeref": 12.289861556866619,
          "symbol": "circle"
         },
         "mode": "markers",
         "name": "0, Negative",
         "opacity": 0.8,
         "orientation": "v",
         "showlegend": true,
         "textposition": "top center",
         "type": "scatter",
         "x": [
          0.21818518406761248
         ],
         "xaxis": "x",
         "y": [
          0.2367415046956656
         ],
         "yaxis": "y"
        },
        {
         "customdata": [
          [
           "Interesante visita. un lugar muy recomendado para ir y ver<br>las diferentes esculturas echas en sal también se puede<br>conocer un poco de la historia de la mina de sus inicios y<br>pues entrar dentro de una montaña y ver como a sido la<br>excavación que a tenido a lo largo de los años"
          ],
          [
           "Magnifico paseo. para pasar un día tranquilo, sin salir de<br>la ciudad, monserrate es un sitio donde ir a pasar el día.<br>subir y bajar por el teleférico o el funicular, buenos<br>restaurantes donde desayunar y almorzar, la iglesia del<br>señor caido. desde su mirador puedes observar una buena<br>vista de toda la ciudad, de oriente a occidente.se<br>recomienda ir bien abrigado y ojalá no este lloviendo el día<br>que vaya para disfrutar mucho mejor esta maravilla de<br>colombia."
          ],
          [
           "Visita obligada. si vienen a bogota, es un paso obligado ya<br>que tiene una colección muy interesante de piezas<br>arqueológicas y a su alrededor hay mucho turismo cultural<br>por realizar. el único punto malo es que hay mejorar un poco<br>mas el tema de la seguridad."
          ],
          [
           "Simplemente bello !!!. por el simple hecho de sentarse en<br>una banca y admirar sus pinturas y arquitectura se siente<br>uno relajado. y que decir de capilla considerada una<br>maravilla del mundo! un lugar que debemos visitar tanto los<br>residentes como todo turista."
          ],
          [
           "Fantásticas vistas de la ciudad. sin duda merece la pena la<br>cola para el teleférico. la bonita vista de la ciudad y de<br>la iglesia en la cima fue una visita agradable también."
          ],
          [
           "Visita obligada. muy bonito paseo todo muy ordenado y<br>tranquilo y mucha colaboración para aclarar dudas. si tomas<br>un tour guiado son muy bien documentados y los guías con muy<br>buenos aportes y créanlo con buena objetividad y no evitan<br>temas es un paseo de mucha historia y paseas por muchos<br>lados y vez historia por lado y lado"
          ],
          [
           "Subir tarde-noche. la vista de bogotá desde este cerro es<br>impelable al igual que la visita a su iglesia. a monserrate<br>subes en teleférico y podrás visitar la iglesia y los<br>restaurantes del lugar donde se come delicioso."
          ],
          [
           "Hermosa vista!!. sin lugar a dudas, el mejor lugar para<br>visualizar la ciudad de bogotá, colombia. muy linda también<br>la iglesia de la cima!!"
          ]
         ],
         "hovertemplate": "Topic=0<br>Label=Positive<br>Dim 1=%{x}<br>Dim 2=%{y}<br>Importancia=%{marker.size}<br>Comentario original=%{customdata[0]}<extra></extra>",
         "legendgroup": "0, Positive",
         "marker": {
          "color": "#FFA15A",
          "size": [
           1119.6497224971063,
           50.71470046114834,
           2475.726723065765,
           682.0686376246261,
           18.947628705102446,
           245.43584668484323,
           212.8564913618927,
           381.02880734949144
          ],
          "sizemode": "area",
          "sizeref": 12.289861556866619,
          "symbol": "diamond"
         },
         "mode": "markers",
         "name": "0, Positive",
         "opacity": 0.8,
         "orientation": "v",
         "showlegend": true,
         "textposition": "top center",
         "type": "scatter",
         "x": [
          0.29061072948458266,
          0.29318353220448096,
          0.36562567374933264,
          0.07676133592998496,
          0.2776288392481927,
          0.25484362640440233,
          0.37769697065864777,
          0.37190717282000574
         ],
         "xaxis": "x",
         "y": [
          0.3660184272105815,
          0.21625140399913442,
          0.3122943556679934,
          0.22091154184891743,
          0.26025262847025293,
          0.24878683770763976,
          0.24120282030335888,
          0.3869893080444678
         ],
         "yaxis": "y"
        }
       ],
       "layout": {
        "font": {
         "family": "Arial",
         "size": 12
        },
        "hovermode": "closest",
        "legend": {
         "itemsizing": "constant",
         "title": {
          "text": "Topic, Label"
         },
         "tracegroupgap": 0
        },
        "margin": {
         "t": 60
        },
        "template": {
         "data": {
          "bar": [
           {
            "error_x": {
             "color": "#f2f5fa"
            },
            "error_y": {
             "color": "#f2f5fa"
            },
            "marker": {
             "line": {
              "color": "rgb(17,17,17)",
              "width": 0.5
             },
             "pattern": {
              "fillmode": "overlay",
              "size": 10,
              "solidity": 0.2
             }
            },
            "type": "bar"
           }
          ],
          "barpolar": [
           {
            "marker": {
             "line": {
              "color": "rgb(17,17,17)",
              "width": 0.5
             },
             "pattern": {
              "fillmode": "overlay",
              "size": 10,
              "solidity": 0.2
             }
            },
            "type": "barpolar"
           }
          ],
          "carpet": [
           {
            "aaxis": {
             "endlinecolor": "#A2B1C6",
             "gridcolor": "#506784",
             "linecolor": "#506784",
             "minorgridcolor": "#506784",
             "startlinecolor": "#A2B1C6"
            },
            "baxis": {
             "endlinecolor": "#A2B1C6",
             "gridcolor": "#506784",
             "linecolor": "#506784",
             "minorgridcolor": "#506784",
             "startlinecolor": "#A2B1C6"
            },
            "type": "carpet"
           }
          ],
          "choropleth": [
           {
            "colorbar": {
             "outlinewidth": 0,
             "ticks": ""
            },
            "type": "choropleth"
           }
          ],
          "contour": [
           {
            "colorbar": {
             "outlinewidth": 0,
             "ticks": ""
            },
            "colorscale": [
             [
              0,
              "#0d0887"
             ],
             [
              0.1111111111111111,
              "#46039f"
             ],
             [
              0.2222222222222222,
              "#7201a8"
             ],
             [
              0.3333333333333333,
              "#9c179e"
             ],
             [
              0.4444444444444444,
              "#bd3786"
             ],
             [
              0.5555555555555556,
              "#d8576b"
             ],
             [
              0.6666666666666666,
              "#ed7953"
             ],
             [
              0.7777777777777778,
              "#fb9f3a"
             ],
             [
              0.8888888888888888,
              "#fdca26"
             ],
             [
              1,
              "#f0f921"
             ]
            ],
            "type": "contour"
           }
          ],
          "contourcarpet": [
           {
            "colorbar": {
             "outlinewidth": 0,
             "ticks": ""
            },
            "type": "contourcarpet"
           }
          ],
          "heatmap": [
           {
            "colorbar": {
             "outlinewidth": 0,
             "ticks": ""
            },
            "colorscale": [
             [
              0,
              "#0d0887"
             ],
             [
              0.1111111111111111,
              "#46039f"
             ],
             [
              0.2222222222222222,
              "#7201a8"
             ],
             [
              0.3333333333333333,
              "#9c179e"
             ],
             [
              0.4444444444444444,
              "#bd3786"
             ],
             [
              0.5555555555555556,
              "#d8576b"
             ],
             [
              0.6666666666666666,
              "#ed7953"
             ],
             [
              0.7777777777777778,
              "#fb9f3a"
             ],
             [
              0.8888888888888888,
              "#fdca26"
             ],
             [
              1,
              "#f0f921"
             ]
            ],
            "type": "heatmap"
           }
          ],
          "heatmapgl": [
           {
            "colorbar": {
             "outlinewidth": 0,
             "ticks": ""
            },
            "colorscale": [
             [
              0,
              "#0d0887"
             ],
             [
              0.1111111111111111,
              "#46039f"
             ],
             [
              0.2222222222222222,
              "#7201a8"
             ],
             [
              0.3333333333333333,
              "#9c179e"
             ],
             [
              0.4444444444444444,
              "#bd3786"
             ],
             [
              0.5555555555555556,
              "#d8576b"
             ],
             [
              0.6666666666666666,
              "#ed7953"
             ],
             [
              0.7777777777777778,
              "#fb9f3a"
             ],
             [
              0.8888888888888888,
              "#fdca26"
             ],
             [
              1,
              "#f0f921"
             ]
            ],
            "type": "heatmapgl"
           }
          ],
          "histogram": [
           {
            "marker": {
             "pattern": {
              "fillmode": "overlay",
              "size": 10,
              "solidity": 0.2
             }
            },
            "type": "histogram"
           }
          ],
          "histogram2d": [
           {
            "colorbar": {
             "outlinewidth": 0,
             "ticks": ""
            },
            "colorscale": [
             [
              0,
              "#0d0887"
             ],
             [
              0.1111111111111111,
              "#46039f"
             ],
             [
              0.2222222222222222,
              "#7201a8"
             ],
             [
              0.3333333333333333,
              "#9c179e"
             ],
             [
              0.4444444444444444,
              "#bd3786"
             ],
             [
              0.5555555555555556,
              "#d8576b"
             ],
             [
              0.6666666666666666,
              "#ed7953"
             ],
             [
              0.7777777777777778,
              "#fb9f3a"
             ],
             [
              0.8888888888888888,
              "#fdca26"
             ],
             [
              1,
              "#f0f921"
             ]
            ],
            "type": "histogram2d"
           }
          ],
          "histogram2dcontour": [
           {
            "colorbar": {
             "outlinewidth": 0,
             "ticks": ""
            },
            "colorscale": [
             [
              0,
              "#0d0887"
             ],
             [
              0.1111111111111111,
              "#46039f"
             ],
             [
              0.2222222222222222,
              "#7201a8"
             ],
             [
              0.3333333333333333,
              "#9c179e"
             ],
             [
              0.4444444444444444,
              "#bd3786"
             ],
             [
              0.5555555555555556,
              "#d8576b"
             ],
             [
              0.6666666666666666,
              "#ed7953"
             ],
             [
              0.7777777777777778,
              "#fb9f3a"
             ],
             [
              0.8888888888888888,
              "#fdca26"
             ],
             [
              1,
              "#f0f921"
             ]
            ],
            "type": "histogram2dcontour"
           }
          ],
          "mesh3d": [
           {
            "colorbar": {
             "outlinewidth": 0,
             "ticks": ""
            },
            "type": "mesh3d"
           }
          ],
          "parcoords": [
           {
            "line": {
             "colorbar": {
              "outlinewidth": 0,
              "ticks": ""
             }
            },
            "type": "parcoords"
           }
          ],
          "pie": [
           {
            "automargin": true,
            "type": "pie"
           }
          ],
          "scatter": [
           {
            "marker": {
             "line": {
              "color": "#283442"
             }
            },
            "type": "scatter"
           }
          ],
          "scatter3d": [
           {
            "line": {
             "colorbar": {
              "outlinewidth": 0,
              "ticks": ""
             }
            },
            "marker": {
             "colorbar": {
              "outlinewidth": 0,
              "ticks": ""
             }
            },
            "type": "scatter3d"
           }
          ],
          "scattercarpet": [
           {
            "marker": {
             "colorbar": {
              "outlinewidth": 0,
              "ticks": ""
             }
            },
            "type": "scattercarpet"
           }
          ],
          "scattergeo": [
           {
            "marker": {
             "colorbar": {
              "outlinewidth": 0,
              "ticks": ""
             }
            },
            "type": "scattergeo"
           }
          ],
          "scattergl": [
           {
            "marker": {
             "line": {
              "color": "#283442"
             }
            },
            "type": "scattergl"
           }
          ],
          "scattermapbox": [
           {
            "marker": {
             "colorbar": {
              "outlinewidth": 0,
              "ticks": ""
             }
            },
            "type": "scattermapbox"
           }
          ],
          "scatterpolar": [
           {
            "marker": {
             "colorbar": {
              "outlinewidth": 0,
              "ticks": ""
             }
            },
            "type": "scatterpolar"
           }
          ],
          "scatterpolargl": [
           {
            "marker": {
             "colorbar": {
              "outlinewidth": 0,
              "ticks": ""
             }
            },
            "type": "scatterpolargl"
           }
          ],
          "scatterternary": [
           {
            "marker": {
             "colorbar": {
              "outlinewidth": 0,
              "ticks": ""
             }
            },
            "type": "scatterternary"
           }
          ],
          "surface": [
           {
            "colorbar": {
             "outlinewidth": 0,
             "ticks": ""
            },
            "colorscale": [
             [
              0,
              "#0d0887"
             ],
             [
              0.1111111111111111,
              "#46039f"
             ],
             [
              0.2222222222222222,
              "#7201a8"
             ],
             [
              0.3333333333333333,
              "#9c179e"
             ],
             [
              0.4444444444444444,
              "#bd3786"
             ],
             [
              0.5555555555555556,
              "#d8576b"
             ],
             [
              0.6666666666666666,
              "#ed7953"
             ],
             [
              0.7777777777777778,
              "#fb9f3a"
             ],
             [
              0.8888888888888888,
              "#fdca26"
             ],
             [
              1,
              "#f0f921"
             ]
            ],
            "type": "surface"
           }
          ],
          "table": [
           {
            "cells": {
             "fill": {
              "color": "#506784"
             },
             "line": {
              "color": "rgb(17,17,17)"
             }
            },
            "header": {
             "fill": {
              "color": "#2a3f5f"
             },
             "line": {
              "color": "rgb(17,17,17)"
             }
            },
            "type": "table"
           }
          ]
         },
         "layout": {
          "annotationdefaults": {
           "arrowcolor": "#f2f5fa",
           "arrowhead": 0,
           "arrowwidth": 1
          },
          "autotypenumbers": "strict",
          "coloraxis": {
           "colorbar": {
            "outlinewidth": 0,
            "ticks": ""
           }
          },
          "colorscale": {
           "diverging": [
            [
             0,
             "#8e0152"
            ],
            [
             0.1,
             "#c51b7d"
            ],
            [
             0.2,
             "#de77ae"
            ],
            [
             0.3,
             "#f1b6da"
            ],
            [
             0.4,
             "#fde0ef"
            ],
            [
             0.5,
             "#f7f7f7"
            ],
            [
             0.6,
             "#e6f5d0"
            ],
            [
             0.7,
             "#b8e186"
            ],
            [
             0.8,
             "#7fbc41"
            ],
            [
             0.9,
             "#4d9221"
            ],
            [
             1,
             "#276419"
            ]
           ],
           "sequential": [
            [
             0,
             "#0d0887"
            ],
            [
             0.1111111111111111,
             "#46039f"
            ],
            [
             0.2222222222222222,
             "#7201a8"
            ],
            [
             0.3333333333333333,
             "#9c179e"
            ],
            [
             0.4444444444444444,
             "#bd3786"
            ],
            [
             0.5555555555555556,
             "#d8576b"
            ],
            [
             0.6666666666666666,
             "#ed7953"
            ],
            [
             0.7777777777777778,
             "#fb9f3a"
            ],
            [
             0.8888888888888888,
             "#fdca26"
            ],
            [
             1,
             "#f0f921"
            ]
           ],
           "sequentialminus": [
            [
             0,
             "#0d0887"
            ],
            [
             0.1111111111111111,
             "#46039f"
            ],
            [
             0.2222222222222222,
             "#7201a8"
            ],
            [
             0.3333333333333333,
             "#9c179e"
            ],
            [
             0.4444444444444444,
             "#bd3786"
            ],
            [
             0.5555555555555556,
             "#d8576b"
            ],
            [
             0.6666666666666666,
             "#ed7953"
            ],
            [
             0.7777777777777778,
             "#fb9f3a"
            ],
            [
             0.8888888888888888,
             "#fdca26"
            ],
            [
             1,
             "#f0f921"
            ]
           ]
          },
          "colorway": [
           "#636efa",
           "#EF553B",
           "#00cc96",
           "#ab63fa",
           "#FFA15A",
           "#19d3f3",
           "#FF6692",
           "#B6E880",
           "#FF97FF",
           "#FECB52"
          ],
          "font": {
           "color": "#f2f5fa"
          },
          "geo": {
           "bgcolor": "rgb(17,17,17)",
           "lakecolor": "rgb(17,17,17)",
           "landcolor": "rgb(17,17,17)",
           "showlakes": true,
           "showland": true,
           "subunitcolor": "#506784"
          },
          "hoverlabel": {
           "align": "left"
          },
          "hovermode": "closest",
          "mapbox": {
           "style": "dark"
          },
          "paper_bgcolor": "rgb(17,17,17)",
          "plot_bgcolor": "rgb(17,17,17)",
          "polar": {
           "angularaxis": {
            "gridcolor": "#506784",
            "linecolor": "#506784",
            "ticks": ""
           },
           "bgcolor": "rgb(17,17,17)",
           "radialaxis": {
            "gridcolor": "#506784",
            "linecolor": "#506784",
            "ticks": ""
           }
          },
          "scene": {
           "xaxis": {
            "backgroundcolor": "rgb(17,17,17)",
            "gridcolor": "#506784",
            "gridwidth": 2,
            "linecolor": "#506784",
            "showbackground": true,
            "ticks": "",
            "zerolinecolor": "#C8D4E3"
           },
           "yaxis": {
            "backgroundcolor": "rgb(17,17,17)",
            "gridcolor": "#506784",
            "gridwidth": 2,
            "linecolor": "#506784",
            "showbackground": true,
            "ticks": "",
            "zerolinecolor": "#C8D4E3"
           },
           "zaxis": {
            "backgroundcolor": "rgb(17,17,17)",
            "gridcolor": "#506784",
            "gridwidth": 2,
            "linecolor": "#506784",
            "showbackground": true,
            "ticks": "",
            "zerolinecolor": "#C8D4E3"
           }
          },
          "shapedefaults": {
           "line": {
            "color": "#f2f5fa"
           }
          },
          "sliderdefaults": {
           "bgcolor": "#C8D4E3",
           "bordercolor": "rgb(17,17,17)",
           "borderwidth": 1,
           "tickwidth": 0
          },
          "ternary": {
           "aaxis": {
            "gridcolor": "#506784",
            "linecolor": "#506784",
            "ticks": ""
           },
           "baxis": {
            "gridcolor": "#506784",
            "linecolor": "#506784",
            "ticks": ""
           },
           "bgcolor": "rgb(17,17,17)",
           "caxis": {
            "gridcolor": "#506784",
            "linecolor": "#506784",
            "ticks": ""
           }
          },
          "title": {
           "x": 0.05
          },
          "updatemenudefaults": {
           "bgcolor": "#506784",
           "borderwidth": 0
          },
          "xaxis": {
           "automargin": true,
           "gridcolor": "#283442",
           "linecolor": "#506784",
           "ticks": "",
           "title": {
            "standoff": 15
           },
           "zerolinecolor": "#283442",
           "zerolinewidth": 2
          },
          "yaxis": {
           "automargin": true,
           "gridcolor": "#283442",
           "linecolor": "#506784",
           "ticks": "",
           "title": {
            "standoff": 15
           },
           "zerolinecolor": "#283442",
           "zerolinewidth": 2
          }
         }
        },
        "title": {
         "text": "Cloud <br><sup> Embeddings Visualization and Semi-automatic Topic Clustering </sup>",
         "x": 0.5
        },
        "xaxis": {
         "anchor": "y",
         "domain": [
          0,
          1
         ],
         "linecolor": "gray",
         "linewidth": 2,
         "showline": false,
         "showticklabels": false,
         "tickformat": ".2f",
         "ticks": "",
         "title": {
          "text": " "
         }
        },
        "yaxis": {
         "anchor": "x",
         "domain": [
          0,
          1
         ],
         "linecolor": "gray",
         "linewidth": 2,
         "showline": false,
         "showticklabels": false,
         "tickformat": ".2f",
         "ticks": "",
         "title": {
          "text": " "
         }
        }
       }
      }
     },
     "metadata": {},
     "output_type": "display_data"
    }
   ],
   "source": [
    "plot_embeddings(fm, title='Embeddings Visualization and Semi-automatic Topic Clustering', save=True)"
   ]
  },
  {
   "cell_type": "code",
   "execution_count": 26,
   "id": "bef46f28",
   "metadata": {},
   "outputs": [
    {
     "name": "stdout",
     "output_type": "stream",
     "text": [
      "ok_\n"
     ]
    }
   ],
   "source": [
    "print('ok_')"
   ]
  }
 ],
 "metadata": {
  "kernelspec": {
   "display_name": "Python 3",
   "language": "python",
   "name": "python3"
  },
  "language_info": {
   "codemirror_mode": {
    "name": "ipython",
    "version": 3
   },
   "file_extension": ".py",
   "mimetype": "text/x-python",
   "name": "python",
   "nbconvert_exporter": "python",
   "pygments_lexer": "ipython3",
   "version": "3.12.1"
  }
 },
 "nbformat": 4,
 "nbformat_minor": 5
}
