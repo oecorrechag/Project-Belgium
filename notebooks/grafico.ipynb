{
 "cells": [
  {
   "cell_type": "code",
   "execution_count": 1,
   "id": "0bc316db",
   "metadata": {},
   "outputs": [],
   "source": [
    "import re\n",
    "import pandas as pd\n",
    "import numpy as np\n",
    "import matplotlib.pyplot as plt\n",
    "import plotly.express as px\n",
    "from sklearn.feature_extraction.text import TfidfVectorizer, TfidfTransformer\n",
    "from sklearn.decomposition import TruncatedSVD\n",
    "from sklearn.cluster import KMeans\n",
    "from mypackage import dir\n",
    "from auxiliares_doc import listado_palabras\n",
    "\n",
    "pd.set_option('display.max_columns', None)\n",
    "pd.set_option('display.max_rows', None)"
   ]
  },
  {
   "cell_type": "markdown",
   "id": "ee841c34",
   "metadata": {},
   "source": [
    "# Grafico 1\n",
    "\n",
    "Con los TfidfVectorizer se hizo la nube de 100 palabras"
   ]
  },
  {
   "cell_type": "code",
   "execution_count": 2,
   "id": "8bc6b2b0",
   "metadata": {},
   "outputs": [],
   "source": [
    "# Environment variables\n",
    "project = 'belgium'\n",
    "data = dir.make_dir(project) \n",
    "processed = data('processed')\n",
    "outputs = data('outputs')"
   ]
  },
  {
   "cell_type": "code",
   "execution_count": 3,
   "id": "d466d964",
   "metadata": {},
   "outputs": [],
   "source": [
    "# Función para cargar datos\n",
    "def cargar_datos(table_name: str) -> pd.DataFrame:\n",
    "    df = pd.read_parquet(processed / f'{table_name}.parquet.gzip')\n",
    "    print(f'Loaded table: {table_name}')\n",
    "    return df\n",
    "\n",
    "def eliminar_palabras(texto, palabras_a_eliminar):\n",
    "    palabras = texto.split()\n",
    "    palabras_filtradas = [palabra for palabra in palabras if palabra not in palabras_a_eliminar]\n",
    "    return ' '.join(palabras_filtradas)\n",
    "\n",
    "def generar_100_words(df: pd.DataFrame, title: str, save=False):\n",
    "    \"\"\"\n",
    "    Genera y muestra un grafico 100 palabras\n",
    "\n",
    "    Args:\n",
    "        df (pd.DataFrame): Dataframe limpio.\n",
    "        titulo (str): Título para el gráfico.\n",
    "        save ( ): Indicion para guardar.\n",
    "    \"\"\"\n",
    "    fig = px.scatter(df, x=\"x\", y=\"y\", text=\"words\", \n",
    "                     size_max=100, color=\"group\", \n",
    "                     labels=labels)\n",
    "\n",
    "    # Customize text positioning (consider clarity and visual balance)\n",
    "    fig.update_traces(textposition='top center')  # or 'top center' based on preference\n",
    "\n",
    "    # Template\n",
    "    fig.update_layout(template = \"plotly_dark\")\n",
    "\n",
    "    # Informative layout with custom title\n",
    "    fig.update_layout(\n",
    "        title_text=f'Cloud <br><sup> {title} </sup>',  # Title\n",
    "        title_x=0.5,  # Centered title\n",
    "        xaxis_title=' ',  # Add meaningful axis labels\n",
    "        yaxis_title=' ',\n",
    "        font=dict(family=\"Arial\", size=12),  # Consistent font style and size\n",
    "        # plot_bgcolor='white',  # Clean background color\n",
    "        xaxis_tickformat='.2f',  # Format x-axis ticks for readability (adjust as needed)\n",
    "        yaxis_tickformat='.2f',  # Format y-axis ticks for readability (adjust as needed)\n",
    "\n",
    "        xaxis=dict(\n",
    "            ticks='',\n",
    "            showticklabels=False\n",
    "        ),\n",
    "        yaxis=dict(\n",
    "            ticks='',\n",
    "            showticklabels=False\n",
    "        )\n",
    "\n",
    "    )\n",
    "\n",
    "    # Interactive elements (optional)\n",
    "    fig.update_layout(hovermode='closest')  # Hover over a point for details\n",
    "    fig.update_traces(opacity=0.8)  # Adjust marker opacity for better visibility\n",
    "\n",
    "    # Advanced styling (optional)\n",
    "    fig.update_xaxes(showline=False, linewidth=2, linecolor='gray')  # X-axis formatting\n",
    "    fig.update_yaxes(showline=False, linewidth=2, linecolor='gray')  # Y-axis formatting\n",
    "\n",
    "    if save:\n",
    "        fig.write_html(f'{title}.html'.format('cloud'))\n",
    "\n",
    "    # Display the enhanced plot\n",
    "    fig.show()\n",
    "\n",
    "def build_100_words(df: pd.DataFrame) -> pd.DataFrame:\n",
    "    \"\"\"\n",
    "    Genera un dataset para visualización procesando texto y agrupando palabras clave.\n",
    "    \n",
    "    Args:\n",
    "        df: DataFrame que contiene la columna 'text_noun' con texto preprocesado.\n",
    "        \n",
    "    Returns:\n",
    "        DataFrame con palabras clave, sus coordenadas 2D y grupos de clusterización.\n",
    "    \"\"\"\n",
    "    # Vectorización TF-IDF\n",
    "    vectorizer = TfidfVectorizer(\n",
    "        ngram_range=(1, 3),\n",
    "        max_features=100,\n",
    "        use_idf=True,\n",
    "        min_df=4\n",
    "    )\n",
    "    tfidf_matrix = vectorizer.fit_transform(df['text_noun'])\n",
    "    feature_names = [name.replace('_', ' ') for name in vectorizer.get_feature_names_out()]\n",
    "    \n",
    "    # Crear DataFrame y filtrar filas con suma cero\n",
    "    occurrence_df = pd.DataFrame(\n",
    "        tfidf_matrix.toarray(), \n",
    "        columns=vectorizer.get_feature_names_out()\n",
    "    )\n",
    "    row_sums = occurrence_df.sum(axis=1)\n",
    "    occurrence_df = occurrence_df[row_sums != 0]\n",
    "    \n",
    "    # Matriz de co-ocurrencia ponderada\n",
    "    cooccurrence_matrix = np.dot(occurrence_df.T, occurrence_df)\n",
    "    tfidf_transformer = TfidfTransformer(norm=\"l2\", smooth_idf=False)\n",
    "    weighted_matrix = tfidf_transformer.fit_transform(cooccurrence_matrix)\n",
    "    \n",
    "    # Reducción de dimensionalidad\n",
    "    reduced_data = TruncatedSVD(\n",
    "        n_components=2,\n",
    "        n_iter=7,\n",
    "        random_state=42\n",
    "    ).fit_transform(weighted_matrix)\n",
    "    \n",
    "    # Determinación óptima de clusters\n",
    "    optimal_k = _find_optimal_clusters(reduced_data)\n",
    "    clusters = KMeans(\n",
    "        n_clusters=optimal_k,\n",
    "        random_state=42\n",
    "    ).fit_predict(reduced_data)\n",
    "    \n",
    "    # Construcción del DataFrame final\n",
    "    result_df = pd.DataFrame(reduced_data, columns=['x', 'y'])\n",
    "    result_df['group'] = clusters\n",
    "    result_df['group'] = result_df['group'].astype(str)\n",
    "    result_df['words'] = [word.capitalize() for word in feature_names]\n",
    "    \n",
    "    return result_df\n",
    "\n",
    "\n",
    "def _find_optimal_clusters(data: np.ndarray, min_k: int = 3, max_k: int = 15) -> int:\n",
    "    \"\"\"\n",
    "    Encuentra el número óptimo de clusters usando el método del codo.\n",
    "    \n",
    "    Args:\n",
    "        data: Datos para clusterizar.\n",
    "        min_k: Mínimo número de clusters a evaluar.\n",
    "        max_k: Máximo número de clusters a evaluar.\n",
    "        \n",
    "    Returns:\n",
    "        Número óptimo de clusters determinado.\n",
    "    \"\"\"\n",
    "    sse = []\n",
    "    for k in range(min_k, max_k + 1):\n",
    "        kmeans = KMeans(n_clusters=k, random_state=42).fit(data)\n",
    "        sse.append(kmeans.inertia_)\n",
    "    \n",
    "    # Encontrar el punto de codo (mayor cambio en la pendiente)\n",
    "    k_deltas = np.diff(sse)\n",
    "    return min_k + np.argmax(np.abs(k_deltas)) + 1 \n",
    "\n",
    "\n",
    "labels={'x':'X-Axis Label',\n",
    "        'y':'Y-Axis Label',\n",
    "        'words':'Word',\n",
    "        'group':'Group'}"
   ]
  },
  {
   "cell_type": "code",
   "execution_count": 4,
   "id": "794dd438",
   "metadata": {},
   "outputs": [
    {
     "name": "stdout",
     "output_type": "stream",
     "text": [
      "Loaded table: df_hotel_transformados\n"
     ]
    },
    {
     "data": {
      "text/html": [
       "<div>\n",
       "<style scoped>\n",
       "    .dataframe tbody tr th:only-of-type {\n",
       "        vertical-align: middle;\n",
       "    }\n",
       "\n",
       "    .dataframe tbody tr th {\n",
       "        vertical-align: top;\n",
       "    }\n",
       "\n",
       "    .dataframe thead th {\n",
       "        text-align: right;\n",
       "    }\n",
       "</style>\n",
       "<table border=\"1\" class=\"dataframe\">\n",
       "  <thead>\n",
       "    <tr style=\"text-align: right;\">\n",
       "      <th></th>\n",
       "      <th>id</th>\n",
       "      <th>label</th>\n",
       "      <th>texto</th>\n",
       "      <th>text</th>\n",
       "      <th>text_noun</th>\n",
       "      <th>longitud</th>\n",
       "      <th>importancia_tfidf</th>\n",
       "    </tr>\n",
       "  </thead>\n",
       "  <tbody>\n",
       "    <tr>\n",
       "      <th>0</th>\n",
       "      <td>1</td>\n",
       "      <td>2</td>\n",
       "      <td>el mejor lugar para comer sushi. excelente lug...</td>\n",
       "      <td>mejor  comer sushi excelente  comer sushi toda...</td>\n",
       "      <td>sushi martes ronqueo espectaculo</td>\n",
       "      <td>113</td>\n",
       "      <td>3.833645</td>\n",
       "    </tr>\n",
       "    <tr>\n",
       "      <th>1</th>\n",
       "      <td>2</td>\n",
       "      <td>2</td>\n",
       "      <td>vista hermosa!. me sorprendió la maravillosa v...</td>\n",
       "      <td>vista hermosa sorprendio maravillosa vista ciu...</td>\n",
       "      <td>sorprendio cable foto</td>\n",
       "      <td>170</td>\n",
       "      <td>4.635010</td>\n",
       "    </tr>\n",
       "    <tr>\n",
       "      <th>2</th>\n",
       "      <td>3</td>\n",
       "      <td>0</td>\n",
       "      <td>desastroso. buenas noches,  ante todo explicar...</td>\n",
       "      <td>desastroso buenas noches explicar hotel dos oc...</td>\n",
       "      <td>noche ocasión julio cambio acogedor ambiente e...</td>\n",
       "      <td>502</td>\n",
       "      <td>7.507874</td>\n",
       "    </tr>\n",
       "    <tr>\n",
       "      <th>3</th>\n",
       "      <td>4</td>\n",
       "      <td>1</td>\n",
       "      <td>todo bien excepto que se niegan a dar vasos de...</td>\n",
       "      <td>bien excepto niegan dar vasos agua pesar ser r...</td>\n",
       "      <td>vaso agua restaurante preocupacion producto va...</td>\n",
       "      <td>219</td>\n",
       "      <td>3.936999</td>\n",
       "    </tr>\n",
       "    <tr>\n",
       "      <th>4</th>\n",
       "      <td>5</td>\n",
       "      <td>2</td>\n",
       "      <td>el mejor zoologico de méxico. el ambiente es m...</td>\n",
       "      <td>mejor zologico mexico ambiente agradable poder...</td>\n",
       "      <td>zologico ambiente poder</td>\n",
       "      <td>102</td>\n",
       "      <td>3.567779</td>\n",
       "    </tr>\n",
       "  </tbody>\n",
       "</table>\n",
       "</div>"
      ],
      "text/plain": [
       "   id  label                                              texto  \\\n",
       "0   1      2  el mejor lugar para comer sushi. excelente lug...   \n",
       "1   2      2  vista hermosa!. me sorprendió la maravillosa v...   \n",
       "2   3      0  desastroso. buenas noches,  ante todo explicar...   \n",
       "3   4      1  todo bien excepto que se niegan a dar vasos de...   \n",
       "4   5      2  el mejor zoologico de méxico. el ambiente es m...   \n",
       "\n",
       "                                                text  \\\n",
       "0  mejor  comer sushi excelente  comer sushi toda...   \n",
       "1  vista hermosa sorprendio maravillosa vista ciu...   \n",
       "2  desastroso buenas noches explicar hotel dos oc...   \n",
       "3  bien excepto niegan dar vasos agua pesar ser r...   \n",
       "4  mejor zologico mexico ambiente agradable poder...   \n",
       "\n",
       "                                           text_noun  longitud  \\\n",
       "0                   sushi martes ronqueo espectaculo       113   \n",
       "1                              sorprendio cable foto       170   \n",
       "2  noche ocasión julio cambio acogedor ambiente e...       502   \n",
       "3  vaso agua restaurante preocupacion producto va...       219   \n",
       "4                            zologico ambiente poder       102   \n",
       "\n",
       "   importancia_tfidf  \n",
       "0           3.833645  \n",
       "1           4.635010  \n",
       "2           7.507874  \n",
       "3           3.936999  \n",
       "4           3.567779  "
      ]
     },
     "execution_count": 4,
     "metadata": {},
     "output_type": "execute_result"
    }
   ],
   "source": [
    "df = cargar_datos('df_hotel_transformados')\n",
    "df['text_noun'] = df['text_noun'].apply(lambda x: eliminar_palabras(x, listado_palabras))\n",
    "\n",
    "# df['text_noun'] = df['text_noun'].str.replace('hotel hotel hotel hotel hotel', 'hotel')\n",
    "# df['text_noun'] = df['text_noun'].str.replace('hotel hotel hotel hotel', 'hotel')\n",
    "# df['text_noun'] = df['text_noun'].str.replace('hotel hotel hotel', 'hotel')\n",
    "# df['text_noun'] = df['text_noun'].str.replace('hotel hotel', 'hotel')\n",
    "# df['text_noun'] = df['text_noun'].str.replace(r'(\\bhotel\\b\\s)+hotel', 'hotel', flags=re.IGNORECASE, regex=True)\n",
    "\n",
    "words = ['hotel', 'agua', 'museo']\n",
    "for word in words:\n",
    "    df['text_noun'] = df['text_noun'].str.replace(fr'(\\b{word}\\b\\s)+{word}', word, flags=re.IGNORECASE, regex=True)\n",
    "\n",
    "df.head()"
   ]
  },
  {
   "cell_type": "code",
   "execution_count": 5,
   "id": "5d1ae4a0",
   "metadata": {},
   "outputs": [
    {
     "name": "stdout",
     "output_type": "stream",
     "text": [
      "(343, 7)\n"
     ]
    },
    {
     "data": {
      "text/html": [
       "<div>\n",
       "<style scoped>\n",
       "    .dataframe tbody tr th:only-of-type {\n",
       "        vertical-align: middle;\n",
       "    }\n",
       "\n",
       "    .dataframe tbody tr th {\n",
       "        vertical-align: top;\n",
       "    }\n",
       "\n",
       "    .dataframe thead th {\n",
       "        text-align: right;\n",
       "    }\n",
       "</style>\n",
       "<table border=\"1\" class=\"dataframe\">\n",
       "  <thead>\n",
       "    <tr style=\"text-align: right;\">\n",
       "      <th></th>\n",
       "      <th>id</th>\n",
       "      <th>label</th>\n",
       "      <th>texto</th>\n",
       "      <th>text</th>\n",
       "      <th>text_noun</th>\n",
       "      <th>longitud</th>\n",
       "      <th>importancia_tfidf</th>\n",
       "    </tr>\n",
       "  </thead>\n",
       "  <tbody>\n",
       "    <tr>\n",
       "      <th>347</th>\n",
       "      <td>403</td>\n",
       "      <td>2</td>\n",
       "      <td>una visita obligada si usted viaja a monterrey...</td>\n",
       "      <td>visita obligada si usted viaja monterrey nl me...</td>\n",
       "      <td>visita historia grandeza estructura actividad ...</td>\n",
       "      <td>433</td>\n",
       "      <td>6.159495</td>\n",
       "    </tr>\n",
       "    <tr>\n",
       "      <th>942</th>\n",
       "      <td>1094</td>\n",
       "      <td>2</td>\n",
       "      <td>interesante lugar. ubicado frente al capitolio...</td>\n",
       "      <td>interesante  ubicado frente capitolio si pasar...</td>\n",
       "      <td>restaurante jama imaginaria escalera entra luz...</td>\n",
       "      <td>227</td>\n",
       "      <td>3.893945</td>\n",
       "    </tr>\n",
       "    <tr>\n",
       "      <th>1044</th>\n",
       "      <td>1214</td>\n",
       "      <td>1</td>\n",
       "      <td>un desastre. reservamos con vista al mar y nos...</td>\n",
       "      <td>desastre reservamos vista mar dieron habitacio...</td>\n",
       "      <td>desastre mar siquiera equipaje visita pai jama</td>\n",
       "      <td>457</td>\n",
       "      <td>3.096794</td>\n",
       "    </tr>\n",
       "    <tr>\n",
       "      <th>1471</th>\n",
       "      <td>1715</td>\n",
       "      <td>0</td>\n",
       "      <td>hotel de 5 estrellas 'peor jamás. fui a este h...</td>\n",
       "      <td>hotel estrellas peor jamas hotel conferencia s...</td>\n",
       "      <td>jama habitación pid noche favor preparate</td>\n",
       "      <td>381</td>\n",
       "      <td>3.266597</td>\n",
       "    </tr>\n",
       "    <tr>\n",
       "      <th>1617</th>\n",
       "      <td>1883</td>\n",
       "      <td>2</td>\n",
       "      <td>el mejor corte de beef jamás probado. carne mu...</td>\n",
       "      <td>mejor corte bef jamas probado carne buena jugo...</td>\n",
       "      <td>corte jama carne tierna maderaje</td>\n",
       "      <td>155</td>\n",
       "      <td>5.181752</td>\n",
       "    </tr>\n",
       "  </tbody>\n",
       "</table>\n",
       "</div>"
      ],
      "text/plain": [
       "        id  label                                              texto  \\\n",
       "347    403      2  una visita obligada si usted viaja a monterrey...   \n",
       "942   1094      2  interesante lugar. ubicado frente al capitolio...   \n",
       "1044  1214      1  un desastre. reservamos con vista al mar y nos...   \n",
       "1471  1715      0  hotel de 5 estrellas 'peor jamás. fui a este h...   \n",
       "1617  1883      2  el mejor corte de beef jamás probado. carne mu...   \n",
       "\n",
       "                                                   text  \\\n",
       "347   visita obligada si usted viaja monterrey nl me...   \n",
       "942   interesante  ubicado frente capitolio si pasar...   \n",
       "1044  desastre reservamos vista mar dieron habitacio...   \n",
       "1471  hotel estrellas peor jamas hotel conferencia s...   \n",
       "1617  mejor corte bef jamas probado carne buena jugo...   \n",
       "\n",
       "                                              text_noun  longitud  \\\n",
       "347   visita historia grandeza estructura actividad ...       433   \n",
       "942   restaurante jama imaginaria escalera entra luz...       227   \n",
       "1044     desastre mar siquiera equipaje visita pai jama       457   \n",
       "1471          jama habitación pid noche favor preparate       381   \n",
       "1617                   corte jama carne tierna maderaje       155   \n",
       "\n",
       "      importancia_tfidf  \n",
       "347            6.159495  \n",
       "942            3.893945  \n",
       "1044           3.096794  \n",
       "1471           3.266597  \n",
       "1617           5.181752  "
      ]
     },
     "execution_count": 5,
     "metadata": {},
     "output_type": "execute_result"
    }
   ],
   "source": [
    "resultado = df[df['text_noun'].str.contains('jama', na=False, regex=True)]\n",
    "# resultado = df[df['text_noun'].str.contains(r'(?<!aire\\s)acondicionado', regex=True, na=False)]\n",
    "# resultado = resultado.head()\n",
    "print(resultado.shape)\n",
    "resultado.head()"
   ]
  },
  {
   "cell_type": "code",
   "execution_count": 6,
   "id": "ac445e19",
   "metadata": {},
   "outputs": [
    {
     "data": {
      "text/plain": [
       "(343, 7)"
      ]
     },
     "execution_count": 6,
     "metadata": {},
     "output_type": "execute_result"
    }
   ],
   "source": [
    "resultado.shape"
   ]
  },
  {
   "cell_type": "code",
   "execution_count": 7,
   "id": "eb80fc65",
   "metadata": {},
   "outputs": [
    {
     "data": {
      "text/plain": [
       "'una visita obligada si usted viaja a monterrey nl mexico. más allá de la historia que este lugar tiene, con la grandeza de sus imponentes estructuras, hornos, estufas, depósitos, hoy convertido en un parque recreativo con muchas actividades, puede alquilar una bicicleta y recorrerlo completamente, puede invertir unas horas formado y hacer el paso en bote, visitar el museo de cera y no perderse, pero nunca jamás, el museo del acero, los sorprenderá! en fin ya sea en plan turista solo, o acompañado o con la familia es un excelente lugar para pasar el día porque hasta tiene un excelente restaurant el lingote.'"
      ]
     },
     "execution_count": 7,
     "metadata": {},
     "output_type": "execute_result"
    }
   ],
   "source": [
    "resultado.iloc[0]['texto']"
   ]
  },
  {
   "cell_type": "code",
   "execution_count": 8,
   "id": "ba2fd60b",
   "metadata": {},
   "outputs": [
    {
     "data": {
      "text/html": [
       "<div>\n",
       "<style scoped>\n",
       "    .dataframe tbody tr th:only-of-type {\n",
       "        vertical-align: middle;\n",
       "    }\n",
       "\n",
       "    .dataframe tbody tr th {\n",
       "        vertical-align: top;\n",
       "    }\n",
       "\n",
       "    .dataframe thead th {\n",
       "        text-align: right;\n",
       "    }\n",
       "</style>\n",
       "<table border=\"1\" class=\"dataframe\">\n",
       "  <thead>\n",
       "    <tr style=\"text-align: right;\">\n",
       "      <th></th>\n",
       "      <th>x</th>\n",
       "      <th>y</th>\n",
       "      <th>group</th>\n",
       "      <th>words</th>\n",
       "    </tr>\n",
       "  </thead>\n",
       "  <tbody>\n",
       "    <tr>\n",
       "      <th>0</th>\n",
       "      <td>0.152322</td>\n",
       "      <td>-0.048861</td>\n",
       "      <td>2</td>\n",
       "      <td>Acogedor</td>\n",
       "    </tr>\n",
       "    <tr>\n",
       "      <th>1</th>\n",
       "      <td>0.296284</td>\n",
       "      <td>-0.139219</td>\n",
       "      <td>1</td>\n",
       "      <td>Acondicionado</td>\n",
       "    </tr>\n",
       "    <tr>\n",
       "      <th>2</th>\n",
       "      <td>0.239398</td>\n",
       "      <td>-0.065782</td>\n",
       "      <td>2</td>\n",
       "      <td>Actividad</td>\n",
       "    </tr>\n",
       "    <tr>\n",
       "      <th>3</th>\n",
       "      <td>0.301487</td>\n",
       "      <td>0.002676</td>\n",
       "      <td>2</td>\n",
       "      <td>Agua</td>\n",
       "    </tr>\n",
       "    <tr>\n",
       "      <th>4</th>\n",
       "      <td>0.211229</td>\n",
       "      <td>-0.140137</td>\n",
       "      <td>1</td>\n",
       "      <td>Amabilidad</td>\n",
       "    </tr>\n",
       "  </tbody>\n",
       "</table>\n",
       "</div>"
      ],
      "text/plain": [
       "          x         y group          words\n",
       "0  0.152322 -0.048861     2       Acogedor\n",
       "1  0.296284 -0.139219     1  Acondicionado\n",
       "2  0.239398 -0.065782     2      Actividad\n",
       "3  0.301487  0.002676     2           Agua\n",
       "4  0.211229 -0.140137     1     Amabilidad"
      ]
     },
     "execution_count": 8,
     "metadata": {},
     "output_type": "execute_result"
    }
   ],
   "source": [
    "df_full = build_100_words(df)\n",
    "df_full.head()"
   ]
  },
  {
   "cell_type": "code",
   "execution_count": 9,
   "id": "c0d6469f",
   "metadata": {},
   "outputs": [
    {
     "name": "stderr",
     "output_type": "stream",
     "text": [
      "C:\\Users\\Administrator\\AppData\\Roaming\\Python\\Python312\\site-packages\\plotly\\express\\_core.py:2065: FutureWarning: When grouping with a length-1 list-like, you will need to pass a length-1 tuple to get_group in a future version of pandas. Pass `(name,)` instead of `name` to silence this warning.\n",
      "  sf: grouped.get_group(s if len(s) > 1 else s[0])\n"
     ]
    },
    {
     "data": {
      "application/vnd.plotly.v1+json": {
       "config": {
        "plotlyServerURL": "https://plot.ly"
       },
       "data": [
        {
         "hovertemplate": "Group=2<br>X-Axis Label=%{x}<br>Y-Axis Label=%{y}<br>Word=%{text}<extra></extra>",
         "legendgroup": "2",
         "marker": {
          "color": "#636efa",
          "symbol": "circle"
         },
         "mode": "markers+text",
         "name": "2",
         "opacity": 0.8,
         "orientation": "v",
         "showlegend": true,
         "text": [
          "Acogedor",
          "Actividad",
          "Agua",
          "Ambiente",
          "Aspecto",
          "Bebida",
          "Cafe",
          "Camarero",
          "Cambio",
          "Cara",
          "Carne",
          "Cena",
          "Centro",
          "Cerveza",
          "Cocina",
          "Condición",
          "Corte",
          "Cuenta",
          "Detalle",
          "Dinero",
          "Expectativa",
          "Falta",
          "Gracias",
          "Grupo",
          "Hijo",
          "Lujo",
          "Luz",
          "Mano",
          "Menu",
          "Naturaleza",
          "Nivel",
          "Nombre",
          "Opción",
          "Par",
          "Pareja",
          "Plato",
          "Postre",
          "Puerta",
          "Realidad",
          "Reserva",
          "Seguridad",
          "Show",
          "Sorpresa",
          "Vistas"
         ],
         "textposition": "top center",
         "type": "scatter",
         "x": [
          0.1523224505220037,
          0.23939774868748237,
          0.30148748449698415,
          0.20680865780627666,
          0.20415292419419998,
          0.24234785144983617,
          0.208125527898497,
          0.1742587193705885,
          0.2176316077101327,
          0.18823173274200944,
          0.11899074610062074,
          0.20367426121364646,
          0.32867440748104054,
          0.16971567983858224,
          0.1534864470068419,
          0.20916237735094098,
          0.10135087729127361,
          0.21578144024175006,
          0.25073889398238763,
          0.20037811258067123,
          0.183773585600499,
          0.21242353620216708,
          0.16488993677997257,
          0.23295387039342805,
          0.1983516288318624,
          0.22506150593063762,
          0.2411692169859387,
          0.17439866360896564,
          0.1706515867259026,
          0.10451649799945392,
          0.21769852522448618,
          0.1961842114140145,
          0.23775847127749566,
          0.23104818617848188,
          0.19240602115599864,
          0.19781040530683627,
          0.1122986656723771,
          0.24888382841003479,
          0.1840658177756467,
          0.1925989449284072,
          0.21728671347033449,
          0.18364607804929642,
          0.17060923919727133,
          0.2194917987743983
         ],
         "xaxis": "x",
         "y": [
          -0.04886064835132302,
          -0.06578150795921736,
          0.0026758213389787983,
          -0.03807152891693327,
          -0.026635115853088653,
          -0.05812653033006401,
          0.03491636459783168,
          -0.05329638994704303,
          -0.04426425036230109,
          0.022621117000120445,
          -0.020589553719269075,
          -0.05334765206322712,
          -0.018437872146194415,
          0.03595085759411621,
          -0.036998828171838846,
          -0.05990736435028929,
          -0.024550253242423725,
          0.029526786842027142,
          0.0015497045540594167,
          0.03481314561434084,
          -0.039066334422419184,
          -0.07127628624414364,
          -0.07758975759010277,
          0.03115353539528254,
          -0.03012322743848372,
          -0.08081649505968451,
          0.05906400980107059,
          0.047781079550833064,
          -0.0557277294508759,
          0.04108823923946762,
          -0.00743170746375507,
          0.03672321888605336,
          -0.07337361752808907,
          0.05024254462009953,
          -0.027144027999613043,
          -0.03954494581824328,
          -0.022464565368185314,
          -0.023728781861611304,
          0.04890658281783588,
          -0.0380182804343179,
          -0.06719796869401382,
          0.020600007262316356,
          0.029766009175650508,
          0.022829666598161283
         ],
         "yaxis": "y"
        },
        {
         "hovertemplate": "Group=1<br>X-Axis Label=%{x}<br>Y-Axis Label=%{y}<br>Word=%{text}<extra></extra>",
         "legendgroup": "1",
         "marker": {
          "color": "#EF553B",
          "symbol": "circle"
         },
         "mode": "markers+text",
         "name": "1",
         "opacity": 0.8,
         "orientation": "v",
         "showlegend": true,
         "text": [
          "Acondicionado",
          "Amabilidad",
          "Atencion",
          "Bar",
          "Comodidad",
          "Comodo",
          "Desayuno",
          "Descanso",
          "Empleado",
          "Estadia",
          "Estrella",
          "Familia",
          "Habitación",
          "Huesped",
          "Instalación",
          "Limpieza",
          "Mantenimiento",
          "Mar",
          "Noche",
          "Piscina",
          "Playa",
          "Restaurante",
          "Toalla",
          "Trato",
          "Ubicacion",
          "Vacación"
         ],
         "textposition": "top center",
         "type": "scatter",
         "x": [
          0.2962835449923115,
          0.21122906964171603,
          0.20116479672514492,
          0.2828552614652737,
          0.27005500671923516,
          0.2358912893846588,
          0.40015407949952714,
          0.23343783699681717,
          0.2255467190878089,
          0.24945916974859111,
          0.2573605023975069,
          0.28255923545850997,
          0.5036873928340093,
          0.2641597579114225,
          0.35966851313380455,
          0.25481051635194557,
          0.2561800900578181,
          0.2620411011204372,
          0.3975707216718458,
          0.37406411447478294,
          0.32157136082219306,
          0.3318972282379,
          0.24549518697266512,
          0.19982102080852274,
          0.36026868903206666,
          0.2938424067466685
         ],
         "xaxis": "x",
         "y": [
          -0.13921883539742277,
          -0.14013747301409785,
          -0.1262777590818958,
          -0.06475379806084618,
          -0.1780501310030064,
          -0.10675128990951173,
          -0.2530534195496616,
          -0.12285397820794693,
          -0.15040117259205749,
          -0.17990252470365656,
          -0.11547109405144428,
          -0.07788929675880439,
          -0.3312089660895369,
          -0.1668623840012236,
          -0.23524897147973733,
          -0.17320814273717414,
          -0.12612418537721506,
          -0.0852506043421332,
          -0.027890597712753384,
          -0.24982321552650316,
          -0.2137703362369094,
          -0.06368590303008956,
          -0.14791447230095767,
          -0.12233086760233779,
          -0.23251516983966022,
          -0.1744176229675437
         ],
         "yaxis": "y"
        },
        {
         "hovertemplate": "Group=0<br>X-Axis Label=%{x}<br>Y-Axis Label=%{y}<br>Word=%{text}<extra></extra>",
         "legendgroup": "0",
         "marker": {
          "color": "#00cc96",
          "symbol": "circle"
         },
         "mode": "markers+text",
         "name": "0",
         "opacity": 0.8,
         "orientation": "v",
         "showlegend": true,
         "text": [
          "Arquitectura",
          "Artesania",
          "Barrio",
          "Belleza",
          "Edad",
          "Entrada",
          "Espectaculo",
          "Excursion",
          "Fortaleza",
          "Foto",
          "Hermosa",
          "Iglesia",
          "Maravilla",
          "Mercado",
          "Paisaje",
          "Parada",
          "Pared",
          "Plaza",
          "Recorrido",
          "Tour"
         ],
         "textposition": "top center",
         "type": "scatter",
         "x": [
          0.21413091046171262,
          0.13078394458980486,
          0.15178954032929837,
          0.1671323031142256,
          0.18042233707534933,
          0.24283399124036076,
          0.1791503260869844,
          0.18186242514363615,
          0.13398632239089842,
          0.21762318126318655,
          0.19145442987011635,
          0.11807965506911301,
          0.20004055342419153,
          0.1413306519413447,
          0.12651583481088874,
          0.14314860598924567,
          0.19136483313047217,
          0.22598626072594027,
          0.17150814418817853,
          0.18932446918935236
         ],
         "xaxis": "x",
         "y": [
          0.21108867769307277,
          0.1256810558936186,
          0.10050795040605041,
          0.1558223006714052,
          0.08014575339736071,
          0.21881579808516366,
          0.06056221092891281,
          0.17606737009974457,
          0.1404897172738583,
          0.17746592056962254,
          0.09879887163598539,
          0.12816486133097882,
          0.1258703074953588,
          0.09354904723593915,
          0.06653396554809311,
          0.1188440213469302,
          0.07071626580473217,
          0.1420704135423126,
          0.1837613011903538,
          0.1846645681207259
         ],
         "yaxis": "y"
        },
        {
         "hovertemplate": "Group=3<br>X-Axis Label=%{x}<br>Y-Axis Label=%{y}<br>Word=%{text}<extra></extra>",
         "legendgroup": "3",
         "marker": {
          "color": "#ab63fa",
          "symbol": "circle"
         },
         "mode": "markers+text",
         "name": "3",
         "opacity": 0.8,
         "orientation": "v",
         "showlegend": true,
         "text": [
          "Arte",
          "Artista",
          "Cultura",
          "Escultura",
          "Guia",
          "Historia",
          "Museo",
          "Obra",
          "Pieza",
          "Visita"
         ],
         "textposition": "top center",
         "type": "scatter",
         "x": [
          0.22096689385887883,
          0.18390837966809262,
          0.19128282877862518,
          0.16359686954227207,
          0.21550382160086742,
          0.29419639702016775,
          0.2874799365928774,
          0.20743044470764654,
          0.20432050174926025,
          0.3381705721857561
         ],
         "xaxis": "x",
         "y": [
          0.44446778806454645,
          0.39761017955964423,
          0.2921530475964736,
          0.3440934015599218,
          0.2843223930259243,
          0.37243458115755895,
          0.5302301747018476,
          0.4472943379488321,
          0.3822738884927326,
          0.31676603920061325
         ],
         "yaxis": "y"
        }
       ],
       "layout": {
        "font": {
         "family": "Arial",
         "size": 12
        },
        "hovermode": "closest",
        "legend": {
         "title": {
          "text": "Group"
         },
         "tracegroupgap": 0
        },
        "margin": {
         "t": 60
        },
        "template": {
         "data": {
          "bar": [
           {
            "error_x": {
             "color": "#f2f5fa"
            },
            "error_y": {
             "color": "#f2f5fa"
            },
            "marker": {
             "line": {
              "color": "rgb(17,17,17)",
              "width": 0.5
             },
             "pattern": {
              "fillmode": "overlay",
              "size": 10,
              "solidity": 0.2
             }
            },
            "type": "bar"
           }
          ],
          "barpolar": [
           {
            "marker": {
             "line": {
              "color": "rgb(17,17,17)",
              "width": 0.5
             },
             "pattern": {
              "fillmode": "overlay",
              "size": 10,
              "solidity": 0.2
             }
            },
            "type": "barpolar"
           }
          ],
          "carpet": [
           {
            "aaxis": {
             "endlinecolor": "#A2B1C6",
             "gridcolor": "#506784",
             "linecolor": "#506784",
             "minorgridcolor": "#506784",
             "startlinecolor": "#A2B1C6"
            },
            "baxis": {
             "endlinecolor": "#A2B1C6",
             "gridcolor": "#506784",
             "linecolor": "#506784",
             "minorgridcolor": "#506784",
             "startlinecolor": "#A2B1C6"
            },
            "type": "carpet"
           }
          ],
          "choropleth": [
           {
            "colorbar": {
             "outlinewidth": 0,
             "ticks": ""
            },
            "type": "choropleth"
           }
          ],
          "contour": [
           {
            "colorbar": {
             "outlinewidth": 0,
             "ticks": ""
            },
            "colorscale": [
             [
              0,
              "#0d0887"
             ],
             [
              0.1111111111111111,
              "#46039f"
             ],
             [
              0.2222222222222222,
              "#7201a8"
             ],
             [
              0.3333333333333333,
              "#9c179e"
             ],
             [
              0.4444444444444444,
              "#bd3786"
             ],
             [
              0.5555555555555556,
              "#d8576b"
             ],
             [
              0.6666666666666666,
              "#ed7953"
             ],
             [
              0.7777777777777778,
              "#fb9f3a"
             ],
             [
              0.8888888888888888,
              "#fdca26"
             ],
             [
              1,
              "#f0f921"
             ]
            ],
            "type": "contour"
           }
          ],
          "contourcarpet": [
           {
            "colorbar": {
             "outlinewidth": 0,
             "ticks": ""
            },
            "type": "contourcarpet"
           }
          ],
          "heatmap": [
           {
            "colorbar": {
             "outlinewidth": 0,
             "ticks": ""
            },
            "colorscale": [
             [
              0,
              "#0d0887"
             ],
             [
              0.1111111111111111,
              "#46039f"
             ],
             [
              0.2222222222222222,
              "#7201a8"
             ],
             [
              0.3333333333333333,
              "#9c179e"
             ],
             [
              0.4444444444444444,
              "#bd3786"
             ],
             [
              0.5555555555555556,
              "#d8576b"
             ],
             [
              0.6666666666666666,
              "#ed7953"
             ],
             [
              0.7777777777777778,
              "#fb9f3a"
             ],
             [
              0.8888888888888888,
              "#fdca26"
             ],
             [
              1,
              "#f0f921"
             ]
            ],
            "type": "heatmap"
           }
          ],
          "heatmapgl": [
           {
            "colorbar": {
             "outlinewidth": 0,
             "ticks": ""
            },
            "colorscale": [
             [
              0,
              "#0d0887"
             ],
             [
              0.1111111111111111,
              "#46039f"
             ],
             [
              0.2222222222222222,
              "#7201a8"
             ],
             [
              0.3333333333333333,
              "#9c179e"
             ],
             [
              0.4444444444444444,
              "#bd3786"
             ],
             [
              0.5555555555555556,
              "#d8576b"
             ],
             [
              0.6666666666666666,
              "#ed7953"
             ],
             [
              0.7777777777777778,
              "#fb9f3a"
             ],
             [
              0.8888888888888888,
              "#fdca26"
             ],
             [
              1,
              "#f0f921"
             ]
            ],
            "type": "heatmapgl"
           }
          ],
          "histogram": [
           {
            "marker": {
             "pattern": {
              "fillmode": "overlay",
              "size": 10,
              "solidity": 0.2
             }
            },
            "type": "histogram"
           }
          ],
          "histogram2d": [
           {
            "colorbar": {
             "outlinewidth": 0,
             "ticks": ""
            },
            "colorscale": [
             [
              0,
              "#0d0887"
             ],
             [
              0.1111111111111111,
              "#46039f"
             ],
             [
              0.2222222222222222,
              "#7201a8"
             ],
             [
              0.3333333333333333,
              "#9c179e"
             ],
             [
              0.4444444444444444,
              "#bd3786"
             ],
             [
              0.5555555555555556,
              "#d8576b"
             ],
             [
              0.6666666666666666,
              "#ed7953"
             ],
             [
              0.7777777777777778,
              "#fb9f3a"
             ],
             [
              0.8888888888888888,
              "#fdca26"
             ],
             [
              1,
              "#f0f921"
             ]
            ],
            "type": "histogram2d"
           }
          ],
          "histogram2dcontour": [
           {
            "colorbar": {
             "outlinewidth": 0,
             "ticks": ""
            },
            "colorscale": [
             [
              0,
              "#0d0887"
             ],
             [
              0.1111111111111111,
              "#46039f"
             ],
             [
              0.2222222222222222,
              "#7201a8"
             ],
             [
              0.3333333333333333,
              "#9c179e"
             ],
             [
              0.4444444444444444,
              "#bd3786"
             ],
             [
              0.5555555555555556,
              "#d8576b"
             ],
             [
              0.6666666666666666,
              "#ed7953"
             ],
             [
              0.7777777777777778,
              "#fb9f3a"
             ],
             [
              0.8888888888888888,
              "#fdca26"
             ],
             [
              1,
              "#f0f921"
             ]
            ],
            "type": "histogram2dcontour"
           }
          ],
          "mesh3d": [
           {
            "colorbar": {
             "outlinewidth": 0,
             "ticks": ""
            },
            "type": "mesh3d"
           }
          ],
          "parcoords": [
           {
            "line": {
             "colorbar": {
              "outlinewidth": 0,
              "ticks": ""
             }
            },
            "type": "parcoords"
           }
          ],
          "pie": [
           {
            "automargin": true,
            "type": "pie"
           }
          ],
          "scatter": [
           {
            "marker": {
             "line": {
              "color": "#283442"
             }
            },
            "type": "scatter"
           }
          ],
          "scatter3d": [
           {
            "line": {
             "colorbar": {
              "outlinewidth": 0,
              "ticks": ""
             }
            },
            "marker": {
             "colorbar": {
              "outlinewidth": 0,
              "ticks": ""
             }
            },
            "type": "scatter3d"
           }
          ],
          "scattercarpet": [
           {
            "marker": {
             "colorbar": {
              "outlinewidth": 0,
              "ticks": ""
             }
            },
            "type": "scattercarpet"
           }
          ],
          "scattergeo": [
           {
            "marker": {
             "colorbar": {
              "outlinewidth": 0,
              "ticks": ""
             }
            },
            "type": "scattergeo"
           }
          ],
          "scattergl": [
           {
            "marker": {
             "line": {
              "color": "#283442"
             }
            },
            "type": "scattergl"
           }
          ],
          "scattermapbox": [
           {
            "marker": {
             "colorbar": {
              "outlinewidth": 0,
              "ticks": ""
             }
            },
            "type": "scattermapbox"
           }
          ],
          "scatterpolar": [
           {
            "marker": {
             "colorbar": {
              "outlinewidth": 0,
              "ticks": ""
             }
            },
            "type": "scatterpolar"
           }
          ],
          "scatterpolargl": [
           {
            "marker": {
             "colorbar": {
              "outlinewidth": 0,
              "ticks": ""
             }
            },
            "type": "scatterpolargl"
           }
          ],
          "scatterternary": [
           {
            "marker": {
             "colorbar": {
              "outlinewidth": 0,
              "ticks": ""
             }
            },
            "type": "scatterternary"
           }
          ],
          "surface": [
           {
            "colorbar": {
             "outlinewidth": 0,
             "ticks": ""
            },
            "colorscale": [
             [
              0,
              "#0d0887"
             ],
             [
              0.1111111111111111,
              "#46039f"
             ],
             [
              0.2222222222222222,
              "#7201a8"
             ],
             [
              0.3333333333333333,
              "#9c179e"
             ],
             [
              0.4444444444444444,
              "#bd3786"
             ],
             [
              0.5555555555555556,
              "#d8576b"
             ],
             [
              0.6666666666666666,
              "#ed7953"
             ],
             [
              0.7777777777777778,
              "#fb9f3a"
             ],
             [
              0.8888888888888888,
              "#fdca26"
             ],
             [
              1,
              "#f0f921"
             ]
            ],
            "type": "surface"
           }
          ],
          "table": [
           {
            "cells": {
             "fill": {
              "color": "#506784"
             },
             "line": {
              "color": "rgb(17,17,17)"
             }
            },
            "header": {
             "fill": {
              "color": "#2a3f5f"
             },
             "line": {
              "color": "rgb(17,17,17)"
             }
            },
            "type": "table"
           }
          ]
         },
         "layout": {
          "annotationdefaults": {
           "arrowcolor": "#f2f5fa",
           "arrowhead": 0,
           "arrowwidth": 1
          },
          "autotypenumbers": "strict",
          "coloraxis": {
           "colorbar": {
            "outlinewidth": 0,
            "ticks": ""
           }
          },
          "colorscale": {
           "diverging": [
            [
             0,
             "#8e0152"
            ],
            [
             0.1,
             "#c51b7d"
            ],
            [
             0.2,
             "#de77ae"
            ],
            [
             0.3,
             "#f1b6da"
            ],
            [
             0.4,
             "#fde0ef"
            ],
            [
             0.5,
             "#f7f7f7"
            ],
            [
             0.6,
             "#e6f5d0"
            ],
            [
             0.7,
             "#b8e186"
            ],
            [
             0.8,
             "#7fbc41"
            ],
            [
             0.9,
             "#4d9221"
            ],
            [
             1,
             "#276419"
            ]
           ],
           "sequential": [
            [
             0,
             "#0d0887"
            ],
            [
             0.1111111111111111,
             "#46039f"
            ],
            [
             0.2222222222222222,
             "#7201a8"
            ],
            [
             0.3333333333333333,
             "#9c179e"
            ],
            [
             0.4444444444444444,
             "#bd3786"
            ],
            [
             0.5555555555555556,
             "#d8576b"
            ],
            [
             0.6666666666666666,
             "#ed7953"
            ],
            [
             0.7777777777777778,
             "#fb9f3a"
            ],
            [
             0.8888888888888888,
             "#fdca26"
            ],
            [
             1,
             "#f0f921"
            ]
           ],
           "sequentialminus": [
            [
             0,
             "#0d0887"
            ],
            [
             0.1111111111111111,
             "#46039f"
            ],
            [
             0.2222222222222222,
             "#7201a8"
            ],
            [
             0.3333333333333333,
             "#9c179e"
            ],
            [
             0.4444444444444444,
             "#bd3786"
            ],
            [
             0.5555555555555556,
             "#d8576b"
            ],
            [
             0.6666666666666666,
             "#ed7953"
            ],
            [
             0.7777777777777778,
             "#fb9f3a"
            ],
            [
             0.8888888888888888,
             "#fdca26"
            ],
            [
             1,
             "#f0f921"
            ]
           ]
          },
          "colorway": [
           "#636efa",
           "#EF553B",
           "#00cc96",
           "#ab63fa",
           "#FFA15A",
           "#19d3f3",
           "#FF6692",
           "#B6E880",
           "#FF97FF",
           "#FECB52"
          ],
          "font": {
           "color": "#f2f5fa"
          },
          "geo": {
           "bgcolor": "rgb(17,17,17)",
           "lakecolor": "rgb(17,17,17)",
           "landcolor": "rgb(17,17,17)",
           "showlakes": true,
           "showland": true,
           "subunitcolor": "#506784"
          },
          "hoverlabel": {
           "align": "left"
          },
          "hovermode": "closest",
          "mapbox": {
           "style": "dark"
          },
          "paper_bgcolor": "rgb(17,17,17)",
          "plot_bgcolor": "rgb(17,17,17)",
          "polar": {
           "angularaxis": {
            "gridcolor": "#506784",
            "linecolor": "#506784",
            "ticks": ""
           },
           "bgcolor": "rgb(17,17,17)",
           "radialaxis": {
            "gridcolor": "#506784",
            "linecolor": "#506784",
            "ticks": ""
           }
          },
          "scene": {
           "xaxis": {
            "backgroundcolor": "rgb(17,17,17)",
            "gridcolor": "#506784",
            "gridwidth": 2,
            "linecolor": "#506784",
            "showbackground": true,
            "ticks": "",
            "zerolinecolor": "#C8D4E3"
           },
           "yaxis": {
            "backgroundcolor": "rgb(17,17,17)",
            "gridcolor": "#506784",
            "gridwidth": 2,
            "linecolor": "#506784",
            "showbackground": true,
            "ticks": "",
            "zerolinecolor": "#C8D4E3"
           },
           "zaxis": {
            "backgroundcolor": "rgb(17,17,17)",
            "gridcolor": "#506784",
            "gridwidth": 2,
            "linecolor": "#506784",
            "showbackground": true,
            "ticks": "",
            "zerolinecolor": "#C8D4E3"
           }
          },
          "shapedefaults": {
           "line": {
            "color": "#f2f5fa"
           }
          },
          "sliderdefaults": {
           "bgcolor": "#C8D4E3",
           "bordercolor": "rgb(17,17,17)",
           "borderwidth": 1,
           "tickwidth": 0
          },
          "ternary": {
           "aaxis": {
            "gridcolor": "#506784",
            "linecolor": "#506784",
            "ticks": ""
           },
           "baxis": {
            "gridcolor": "#506784",
            "linecolor": "#506784",
            "ticks": ""
           },
           "bgcolor": "rgb(17,17,17)",
           "caxis": {
            "gridcolor": "#506784",
            "linecolor": "#506784",
            "ticks": ""
           }
          },
          "title": {
           "x": 0.05
          },
          "updatemenudefaults": {
           "bgcolor": "#506784",
           "borderwidth": 0
          },
          "xaxis": {
           "automargin": true,
           "gridcolor": "#283442",
           "linecolor": "#506784",
           "ticks": "",
           "title": {
            "standoff": 15
           },
           "zerolinecolor": "#283442",
           "zerolinewidth": 2
          },
          "yaxis": {
           "automargin": true,
           "gridcolor": "#283442",
           "linecolor": "#506784",
           "ticks": "",
           "title": {
            "standoff": 15
           },
           "zerolinecolor": "#283442",
           "zerolinewidth": 2
          }
         }
        },
        "title": {
         "text": "Cloud <br><sup> Describe the hotel in 100 words </sup>",
         "x": 0.5
        },
        "xaxis": {
         "anchor": "y",
         "domain": [
          0,
          1
         ],
         "linecolor": "gray",
         "linewidth": 2,
         "showline": false,
         "showticklabels": false,
         "tickformat": ".2f",
         "ticks": "",
         "title": {
          "text": " "
         }
        },
        "yaxis": {
         "anchor": "x",
         "domain": [
          0,
          1
         ],
         "linecolor": "gray",
         "linewidth": 2,
         "showline": false,
         "showticklabels": false,
         "tickformat": ".2f",
         "ticks": "",
         "title": {
          "text": " "
         }
        }
       }
      }
     },
     "metadata": {},
     "output_type": "display_data"
    }
   ],
   "source": [
    "generar_100_words(df_full, title='Describe the hotel in 100 words')"
   ]
  },
  {
   "cell_type": "code",
   "execution_count": 10,
   "id": "177eba16",
   "metadata": {},
   "outputs": [
    {
     "data": {
      "text/html": [
       "<div>\n",
       "<style scoped>\n",
       "    .dataframe tbody tr th:only-of-type {\n",
       "        vertical-align: middle;\n",
       "    }\n",
       "\n",
       "    .dataframe tbody tr th {\n",
       "        vertical-align: top;\n",
       "    }\n",
       "\n",
       "    .dataframe thead th {\n",
       "        text-align: right;\n",
       "    }\n",
       "</style>\n",
       "<table border=\"1\" class=\"dataframe\">\n",
       "  <thead>\n",
       "    <tr style=\"text-align: right;\">\n",
       "      <th></th>\n",
       "      <th>x</th>\n",
       "      <th>y</th>\n",
       "      <th>group</th>\n",
       "      <th>words</th>\n",
       "    </tr>\n",
       "  </thead>\n",
       "  <tbody>\n",
       "    <tr>\n",
       "      <th>0</th>\n",
       "      <td>0.149309</td>\n",
       "      <td>-0.066865</td>\n",
       "      <td>1</td>\n",
       "      <td>Acogedor</td>\n",
       "    </tr>\n",
       "    <tr>\n",
       "      <th>1</th>\n",
       "      <td>0.248390</td>\n",
       "      <td>-0.122511</td>\n",
       "      <td>1</td>\n",
       "      <td>Acondicionado</td>\n",
       "    </tr>\n",
       "    <tr>\n",
       "      <th>2</th>\n",
       "      <td>0.253039</td>\n",
       "      <td>-0.105374</td>\n",
       "      <td>1</td>\n",
       "      <td>Actividad</td>\n",
       "    </tr>\n",
       "    <tr>\n",
       "      <th>3</th>\n",
       "      <td>0.261136</td>\n",
       "      <td>0.024654</td>\n",
       "      <td>0</td>\n",
       "      <td>Agua</td>\n",
       "    </tr>\n",
       "    <tr>\n",
       "      <th>4</th>\n",
       "      <td>0.207019</td>\n",
       "      <td>-0.159154</td>\n",
       "      <td>1</td>\n",
       "      <td>Amabilidad</td>\n",
       "    </tr>\n",
       "  </tbody>\n",
       "</table>\n",
       "</div>"
      ],
      "text/plain": [
       "          x         y group          words\n",
       "0  0.149309 -0.066865     1       Acogedor\n",
       "1  0.248390 -0.122511     1  Acondicionado\n",
       "2  0.253039 -0.105374     1      Actividad\n",
       "3  0.261136  0.024654     0           Agua\n",
       "4  0.207019 -0.159154     1     Amabilidad"
      ]
     },
     "execution_count": 10,
     "metadata": {},
     "output_type": "execute_result"
    }
   ],
   "source": [
    "df_positive = df.copy()\n",
    "df_positive = df_positive[df_positive['label'] == 2]\n",
    "df_positive = build_100_words(df_positive)\n",
    "df_positive.head()"
   ]
  },
  {
   "cell_type": "code",
   "execution_count": 11,
   "id": "42ecdc86",
   "metadata": {},
   "outputs": [
    {
     "name": "stderr",
     "output_type": "stream",
     "text": [
      "C:\\Users\\Administrator\\AppData\\Roaming\\Python\\Python312\\site-packages\\plotly\\express\\_core.py:2065: FutureWarning:\n",
      "\n",
      "When grouping with a length-1 list-like, you will need to pass a length-1 tuple to get_group in a future version of pandas. Pass `(name,)` instead of `name` to silence this warning.\n",
      "\n"
     ]
    },
    {
     "data": {
      "application/vnd.plotly.v1+json": {
       "config": {
        "plotlyServerURL": "https://plot.ly"
       },
       "data": [
        {
         "hovertemplate": "Group=1<br>X-Axis Label=%{x}<br>Y-Axis Label=%{y}<br>Word=%{text}<extra></extra>",
         "legendgroup": "1",
         "marker": {
          "color": "#636efa",
          "symbol": "circle"
         },
         "mode": "markers+text",
         "name": "1",
         "opacity": 0.8,
         "orientation": "v",
         "showlegend": true,
         "text": [
          "Acogedor",
          "Acondicionado",
          "Actividad",
          "Amabilidad",
          "Ambiente",
          "Atencion",
          "Bar",
          "Bebida",
          "Camarero",
          "Carne",
          "Cena",
          "Centro",
          "Cocina",
          "Comodo",
          "Corte",
          "Descanso",
          "Detalle",
          "Empleado",
          "Estrella",
          "Expectativa",
          "Familia",
          "Felicidad",
          "Gracias",
          "Hijo",
          "Jardín",
          "Limpieza",
          "Lujo",
          "Mar",
          "Menu",
          "Nivel",
          "Noche",
          "Opción",
          "Pareja",
          "Plato",
          "Postre",
          "Reserva",
          "Seguridad",
          "Tranquilidad",
          "Trato"
         ],
         "textposition": "top center",
         "type": "scatter",
         "x": [
          0.14930897090530865,
          0.24839010904035536,
          0.25303896165336615,
          0.20701898085782958,
          0.21482443207102253,
          0.20107075011465425,
          0.2755758633841006,
          0.24190507014707247,
          0.1723913807424228,
          0.12050475882188243,
          0.19827322738593134,
          0.33340391606895553,
          0.15917315189568626,
          0.22806550816158036,
          0.10022985134355233,
          0.2324407766635009,
          0.24439404878574866,
          0.21040848793311895,
          0.21576983058223942,
          0.18474776307093507,
          0.2981580276149336,
          0.1369986082211907,
          0.16525477245748338,
          0.2025509221093082,
          0.23124480023881794,
          0.22367841988984594,
          0.22174051778967158,
          0.25598443465987525,
          0.17038567079439182,
          0.21510084558265638,
          0.3736888022107871,
          0.23631976607981448,
          0.1957985570430224,
          0.19942668864702426,
          0.11471189574586034,
          0.18593439041119791,
          0.21535815704473343,
          0.19298421716508043,
          0.19405008684165564
         ],
         "xaxis": "x",
         "y": [
          -0.0668645002350158,
          -0.1225114160249888,
          -0.10537438142728978,
          -0.15915385402783538,
          -0.07446631164602534,
          -0.14889614931381642,
          -0.08909333502956898,
          -0.09178810217060174,
          -0.0716993422022755,
          -0.03832341248833672,
          -0.07668589050091817,
          -0.04512170797219962,
          -0.05858645850649601,
          -0.12361278628722348,
          -0.040319349501526575,
          -0.14624988417567922,
          -0.014420129095740083,
          -0.16607779345217022,
          -0.10404720138532572,
          -0.06854742886620625,
          -0.12095062368356625,
          -0.07075381838417043,
          -0.10263241078353602,
          -0.05436400418052179,
          -0.02880582176770426,
          -0.16864809661232621,
          -0.10262979756344623,
          -0.10779275354253044,
          -0.07900857353460651,
          -0.021201295711115814,
          -0.04687507719631969,
          -0.09689230256056434,
          -0.05446133469195107,
          -0.0678796395068544,
          -0.04038885663563921,
          -0.05233859146938917,
          -0.08708969100942618,
          -0.06088227655713959,
          -0.14033916008917272
         ],
         "yaxis": "y"
        },
        {
         "hovertemplate": "Group=0<br>X-Axis Label=%{x}<br>Y-Axis Label=%{y}<br>Word=%{text}<extra></extra>",
         "legendgroup": "0",
         "marker": {
          "color": "#EF553B",
          "symbol": "circle"
         },
         "mode": "markers+text",
         "name": "0",
         "opacity": 0.8,
         "orientation": "v",
         "showlegend": true,
         "text": [
          "Agua",
          "Arquitectura",
          "Artesania",
          "Barrio",
          "Belleza",
          "Cafe",
          "Cerveza",
          "Cuenta",
          "Dinero",
          "Edad",
          "Entorno",
          "Entrada",
          "Espectaculo",
          "Excursion",
          "Fortaleza",
          "Foto",
          "Grupo",
          "Hermosa",
          "Iglesia",
          "Libro",
          "Lucia",
          "Luz",
          "Mano",
          "Maravilla",
          "Mercado",
          "Naturaleza",
          "Nombre",
          "Paisaje",
          "Par",
          "Parada",
          "Pared",
          "Plan",
          "Plaza",
          "Puerta",
          "Recorrido",
          "Show",
          "Sorpresa",
          "Tour",
          "Vistas"
         ],
         "textposition": "top center",
         "type": "scatter",
         "x": [
          0.2611358821184189,
          0.23148615099648134,
          0.14212301030095895,
          0.1545026910573774,
          0.1832782606861639,
          0.2086232523470111,
          0.1762019215328227,
          0.21579553602516144,
          0.19460947506514073,
          0.196331414038784,
          0.17528567334234388,
          0.25426390140478194,
          0.18408718836825672,
          0.18789266721222175,
          0.1361978307022021,
          0.22622040022955836,
          0.23191069418166818,
          0.20367917617000564,
          0.1277294973890367,
          0.14366269854652583,
          0.16898326087898918,
          0.23738861861824567,
          0.16818255112969346,
          0.21587879440239824,
          0.15471362366466584,
          0.11190699640463828,
          0.20518096221371326,
          0.13293217362380058,
          0.22897149638143743,
          0.14953567283347624,
          0.17396595708934354,
          0.18281548496811334,
          0.24588914322422578,
          0.21739598288131012,
          0.18690285024666797,
          0.18562704663593463,
          0.17429798600147703,
          0.19865566031105844,
          0.21583930721704248
         ],
         "xaxis": "x",
         "y": [
          0.024654174909988783,
          0.17464597215514,
          0.09906204061857507,
          0.0786334908886224,
          0.12906451264789817,
          0.021629568638329995,
          0.013308948556137493,
          0.02168006200591671,
          0.03433304824643726,
          0.06293969317202641,
          0.009986940931475495,
          0.1993050306355686,
          0.039993272155731396,
          0.1385659345472704,
          0.11468281998785447,
          0.14601175273563363,
          0.003860064200357483,
          0.0725583360510283,
          0.1025283082144055,
          0.12836065260922624,
          0.02162629946254765,
          0.05053793076065496,
          0.04528842324396743,
          0.09150006540587201,
          0.06844065817711813,
          0.021317646332047448,
          0.017023622449117624,
          0.042418875384671755,
          0.04097818291917821,
          0.09291359112865273,
          0.0626985117842091,
          0.011285384188392686,
          0.1063260026508547,
          0.0018400884433384215,
          0.15134058891383176,
          -0.002942930538894147,
          0.020202940951076276,
          0.1498811046140169,
          -0.0009268064207686523
         ],
         "yaxis": "y"
        },
        {
         "hovertemplate": "Group=2<br>X-Axis Label=%{x}<br>Y-Axis Label=%{y}<br>Word=%{text}<extra></extra>",
         "legendgroup": "2",
         "marker": {
          "color": "#00cc96",
          "symbol": "circle"
         },
         "mode": "markers+text",
         "name": "2",
         "opacity": 0.8,
         "orientation": "v",
         "showlegend": true,
         "text": [
          "Arte",
          "Artista",
          "Coleccion",
          "Cultura",
          "Escultura",
          "Guia",
          "Historia",
          "Museo",
          "Obra",
          "Pieza",
          "Visita"
         ],
         "textposition": "top center",
         "type": "scatter",
         "x": [
          0.26228513192705527,
          0.22248740648369236,
          0.19176767211751003,
          0.21499771978490587,
          0.19901564312623216,
          0.23460855563167612,
          0.32120696661131865,
          0.33754582179608345,
          0.24298190221115035,
          0.23886089592423218,
          0.36797585057080723
         ],
         "xaxis": "x",
         "y": [
          0.44943465103127733,
          0.4158127358514022,
          0.408625601176563,
          0.2685284996119933,
          0.35591101744742537,
          0.23787180687199183,
          0.32304388591752403,
          0.5325851314534563,
          0.45988605522142295,
          0.4012194369243946,
          0.26637067787312296
         ],
         "yaxis": "y"
        },
        {
         "hovertemplate": "Group=3<br>X-Axis Label=%{x}<br>Y-Axis Label=%{y}<br>Word=%{text}<extra></extra>",
         "legendgroup": "3",
         "marker": {
          "color": "#ab63fa",
          "symbol": "circle"
         },
         "mode": "markers+text",
         "name": "3",
         "opacity": 0.8,
         "orientation": "v",
         "showlegend": true,
         "text": [
          "Comodidad",
          "Desayuno",
          "Estadia",
          "Habitación",
          "Huesped",
          "Instalación",
          "Piscina",
          "Playa",
          "Restaurante",
          "Ubicacion",
          "Vacación"
         ],
         "textposition": "top center",
         "type": "scatter",
         "x": [
          0.2636311938912984,
          0.3552978752265895,
          0.23790490632508082,
          0.4564495659491575,
          0.2552367251875918,
          0.35034868974503747,
          0.3582387966932485,
          0.32179495277357195,
          0.340001806981658,
          0.33205703252618857,
          0.30242304668662395
         ],
         "xaxis": "x",
         "y": [
          -0.1980838265228628,
          -0.25565944293379067,
          -0.19376021457854672,
          -0.34348442783768485,
          -0.18905926341498225,
          -0.26414464690185596,
          -0.2742613367998156,
          -0.24653894654494007,
          -0.1084929534377518,
          -0.2437620847223544,
          -0.21688416419311124
         ],
         "yaxis": "y"
        }
       ],
       "layout": {
        "font": {
         "family": "Arial",
         "size": 12
        },
        "hovermode": "closest",
        "legend": {
         "title": {
          "text": "Group"
         },
         "tracegroupgap": 0
        },
        "margin": {
         "t": 60
        },
        "template": {
         "data": {
          "bar": [
           {
            "error_x": {
             "color": "#f2f5fa"
            },
            "error_y": {
             "color": "#f2f5fa"
            },
            "marker": {
             "line": {
              "color": "rgb(17,17,17)",
              "width": 0.5
             },
             "pattern": {
              "fillmode": "overlay",
              "size": 10,
              "solidity": 0.2
             }
            },
            "type": "bar"
           }
          ],
          "barpolar": [
           {
            "marker": {
             "line": {
              "color": "rgb(17,17,17)",
              "width": 0.5
             },
             "pattern": {
              "fillmode": "overlay",
              "size": 10,
              "solidity": 0.2
             }
            },
            "type": "barpolar"
           }
          ],
          "carpet": [
           {
            "aaxis": {
             "endlinecolor": "#A2B1C6",
             "gridcolor": "#506784",
             "linecolor": "#506784",
             "minorgridcolor": "#506784",
             "startlinecolor": "#A2B1C6"
            },
            "baxis": {
             "endlinecolor": "#A2B1C6",
             "gridcolor": "#506784",
             "linecolor": "#506784",
             "minorgridcolor": "#506784",
             "startlinecolor": "#A2B1C6"
            },
            "type": "carpet"
           }
          ],
          "choropleth": [
           {
            "colorbar": {
             "outlinewidth": 0,
             "ticks": ""
            },
            "type": "choropleth"
           }
          ],
          "contour": [
           {
            "colorbar": {
             "outlinewidth": 0,
             "ticks": ""
            },
            "colorscale": [
             [
              0,
              "#0d0887"
             ],
             [
              0.1111111111111111,
              "#46039f"
             ],
             [
              0.2222222222222222,
              "#7201a8"
             ],
             [
              0.3333333333333333,
              "#9c179e"
             ],
             [
              0.4444444444444444,
              "#bd3786"
             ],
             [
              0.5555555555555556,
              "#d8576b"
             ],
             [
              0.6666666666666666,
              "#ed7953"
             ],
             [
              0.7777777777777778,
              "#fb9f3a"
             ],
             [
              0.8888888888888888,
              "#fdca26"
             ],
             [
              1,
              "#f0f921"
             ]
            ],
            "type": "contour"
           }
          ],
          "contourcarpet": [
           {
            "colorbar": {
             "outlinewidth": 0,
             "ticks": ""
            },
            "type": "contourcarpet"
           }
          ],
          "heatmap": [
           {
            "colorbar": {
             "outlinewidth": 0,
             "ticks": ""
            },
            "colorscale": [
             [
              0,
              "#0d0887"
             ],
             [
              0.1111111111111111,
              "#46039f"
             ],
             [
              0.2222222222222222,
              "#7201a8"
             ],
             [
              0.3333333333333333,
              "#9c179e"
             ],
             [
              0.4444444444444444,
              "#bd3786"
             ],
             [
              0.5555555555555556,
              "#d8576b"
             ],
             [
              0.6666666666666666,
              "#ed7953"
             ],
             [
              0.7777777777777778,
              "#fb9f3a"
             ],
             [
              0.8888888888888888,
              "#fdca26"
             ],
             [
              1,
              "#f0f921"
             ]
            ],
            "type": "heatmap"
           }
          ],
          "heatmapgl": [
           {
            "colorbar": {
             "outlinewidth": 0,
             "ticks": ""
            },
            "colorscale": [
             [
              0,
              "#0d0887"
             ],
             [
              0.1111111111111111,
              "#46039f"
             ],
             [
              0.2222222222222222,
              "#7201a8"
             ],
             [
              0.3333333333333333,
              "#9c179e"
             ],
             [
              0.4444444444444444,
              "#bd3786"
             ],
             [
              0.5555555555555556,
              "#d8576b"
             ],
             [
              0.6666666666666666,
              "#ed7953"
             ],
             [
              0.7777777777777778,
              "#fb9f3a"
             ],
             [
              0.8888888888888888,
              "#fdca26"
             ],
             [
              1,
              "#f0f921"
             ]
            ],
            "type": "heatmapgl"
           }
          ],
          "histogram": [
           {
            "marker": {
             "pattern": {
              "fillmode": "overlay",
              "size": 10,
              "solidity": 0.2
             }
            },
            "type": "histogram"
           }
          ],
          "histogram2d": [
           {
            "colorbar": {
             "outlinewidth": 0,
             "ticks": ""
            },
            "colorscale": [
             [
              0,
              "#0d0887"
             ],
             [
              0.1111111111111111,
              "#46039f"
             ],
             [
              0.2222222222222222,
              "#7201a8"
             ],
             [
              0.3333333333333333,
              "#9c179e"
             ],
             [
              0.4444444444444444,
              "#bd3786"
             ],
             [
              0.5555555555555556,
              "#d8576b"
             ],
             [
              0.6666666666666666,
              "#ed7953"
             ],
             [
              0.7777777777777778,
              "#fb9f3a"
             ],
             [
              0.8888888888888888,
              "#fdca26"
             ],
             [
              1,
              "#f0f921"
             ]
            ],
            "type": "histogram2d"
           }
          ],
          "histogram2dcontour": [
           {
            "colorbar": {
             "outlinewidth": 0,
             "ticks": ""
            },
            "colorscale": [
             [
              0,
              "#0d0887"
             ],
             [
              0.1111111111111111,
              "#46039f"
             ],
             [
              0.2222222222222222,
              "#7201a8"
             ],
             [
              0.3333333333333333,
              "#9c179e"
             ],
             [
              0.4444444444444444,
              "#bd3786"
             ],
             [
              0.5555555555555556,
              "#d8576b"
             ],
             [
              0.6666666666666666,
              "#ed7953"
             ],
             [
              0.7777777777777778,
              "#fb9f3a"
             ],
             [
              0.8888888888888888,
              "#fdca26"
             ],
             [
              1,
              "#f0f921"
             ]
            ],
            "type": "histogram2dcontour"
           }
          ],
          "mesh3d": [
           {
            "colorbar": {
             "outlinewidth": 0,
             "ticks": ""
            },
            "type": "mesh3d"
           }
          ],
          "parcoords": [
           {
            "line": {
             "colorbar": {
              "outlinewidth": 0,
              "ticks": ""
             }
            },
            "type": "parcoords"
           }
          ],
          "pie": [
           {
            "automargin": true,
            "type": "pie"
           }
          ],
          "scatter": [
           {
            "marker": {
             "line": {
              "color": "#283442"
             }
            },
            "type": "scatter"
           }
          ],
          "scatter3d": [
           {
            "line": {
             "colorbar": {
              "outlinewidth": 0,
              "ticks": ""
             }
            },
            "marker": {
             "colorbar": {
              "outlinewidth": 0,
              "ticks": ""
             }
            },
            "type": "scatter3d"
           }
          ],
          "scattercarpet": [
           {
            "marker": {
             "colorbar": {
              "outlinewidth": 0,
              "ticks": ""
             }
            },
            "type": "scattercarpet"
           }
          ],
          "scattergeo": [
           {
            "marker": {
             "colorbar": {
              "outlinewidth": 0,
              "ticks": ""
             }
            },
            "type": "scattergeo"
           }
          ],
          "scattergl": [
           {
            "marker": {
             "line": {
              "color": "#283442"
             }
            },
            "type": "scattergl"
           }
          ],
          "scattermapbox": [
           {
            "marker": {
             "colorbar": {
              "outlinewidth": 0,
              "ticks": ""
             }
            },
            "type": "scattermapbox"
           }
          ],
          "scatterpolar": [
           {
            "marker": {
             "colorbar": {
              "outlinewidth": 0,
              "ticks": ""
             }
            },
            "type": "scatterpolar"
           }
          ],
          "scatterpolargl": [
           {
            "marker": {
             "colorbar": {
              "outlinewidth": 0,
              "ticks": ""
             }
            },
            "type": "scatterpolargl"
           }
          ],
          "scatterternary": [
           {
            "marker": {
             "colorbar": {
              "outlinewidth": 0,
              "ticks": ""
             }
            },
            "type": "scatterternary"
           }
          ],
          "surface": [
           {
            "colorbar": {
             "outlinewidth": 0,
             "ticks": ""
            },
            "colorscale": [
             [
              0,
              "#0d0887"
             ],
             [
              0.1111111111111111,
              "#46039f"
             ],
             [
              0.2222222222222222,
              "#7201a8"
             ],
             [
              0.3333333333333333,
              "#9c179e"
             ],
             [
              0.4444444444444444,
              "#bd3786"
             ],
             [
              0.5555555555555556,
              "#d8576b"
             ],
             [
              0.6666666666666666,
              "#ed7953"
             ],
             [
              0.7777777777777778,
              "#fb9f3a"
             ],
             [
              0.8888888888888888,
              "#fdca26"
             ],
             [
              1,
              "#f0f921"
             ]
            ],
            "type": "surface"
           }
          ],
          "table": [
           {
            "cells": {
             "fill": {
              "color": "#506784"
             },
             "line": {
              "color": "rgb(17,17,17)"
             }
            },
            "header": {
             "fill": {
              "color": "#2a3f5f"
             },
             "line": {
              "color": "rgb(17,17,17)"
             }
            },
            "type": "table"
           }
          ]
         },
         "layout": {
          "annotationdefaults": {
           "arrowcolor": "#f2f5fa",
           "arrowhead": 0,
           "arrowwidth": 1
          },
          "autotypenumbers": "strict",
          "coloraxis": {
           "colorbar": {
            "outlinewidth": 0,
            "ticks": ""
           }
          },
          "colorscale": {
           "diverging": [
            [
             0,
             "#8e0152"
            ],
            [
             0.1,
             "#c51b7d"
            ],
            [
             0.2,
             "#de77ae"
            ],
            [
             0.3,
             "#f1b6da"
            ],
            [
             0.4,
             "#fde0ef"
            ],
            [
             0.5,
             "#f7f7f7"
            ],
            [
             0.6,
             "#e6f5d0"
            ],
            [
             0.7,
             "#b8e186"
            ],
            [
             0.8,
             "#7fbc41"
            ],
            [
             0.9,
             "#4d9221"
            ],
            [
             1,
             "#276419"
            ]
           ],
           "sequential": [
            [
             0,
             "#0d0887"
            ],
            [
             0.1111111111111111,
             "#46039f"
            ],
            [
             0.2222222222222222,
             "#7201a8"
            ],
            [
             0.3333333333333333,
             "#9c179e"
            ],
            [
             0.4444444444444444,
             "#bd3786"
            ],
            [
             0.5555555555555556,
             "#d8576b"
            ],
            [
             0.6666666666666666,
             "#ed7953"
            ],
            [
             0.7777777777777778,
             "#fb9f3a"
            ],
            [
             0.8888888888888888,
             "#fdca26"
            ],
            [
             1,
             "#f0f921"
            ]
           ],
           "sequentialminus": [
            [
             0,
             "#0d0887"
            ],
            [
             0.1111111111111111,
             "#46039f"
            ],
            [
             0.2222222222222222,
             "#7201a8"
            ],
            [
             0.3333333333333333,
             "#9c179e"
            ],
            [
             0.4444444444444444,
             "#bd3786"
            ],
            [
             0.5555555555555556,
             "#d8576b"
            ],
            [
             0.6666666666666666,
             "#ed7953"
            ],
            [
             0.7777777777777778,
             "#fb9f3a"
            ],
            [
             0.8888888888888888,
             "#fdca26"
            ],
            [
             1,
             "#f0f921"
            ]
           ]
          },
          "colorway": [
           "#636efa",
           "#EF553B",
           "#00cc96",
           "#ab63fa",
           "#FFA15A",
           "#19d3f3",
           "#FF6692",
           "#B6E880",
           "#FF97FF",
           "#FECB52"
          ],
          "font": {
           "color": "#f2f5fa"
          },
          "geo": {
           "bgcolor": "rgb(17,17,17)",
           "lakecolor": "rgb(17,17,17)",
           "landcolor": "rgb(17,17,17)",
           "showlakes": true,
           "showland": true,
           "subunitcolor": "#506784"
          },
          "hoverlabel": {
           "align": "left"
          },
          "hovermode": "closest",
          "mapbox": {
           "style": "dark"
          },
          "paper_bgcolor": "rgb(17,17,17)",
          "plot_bgcolor": "rgb(17,17,17)",
          "polar": {
           "angularaxis": {
            "gridcolor": "#506784",
            "linecolor": "#506784",
            "ticks": ""
           },
           "bgcolor": "rgb(17,17,17)",
           "radialaxis": {
            "gridcolor": "#506784",
            "linecolor": "#506784",
            "ticks": ""
           }
          },
          "scene": {
           "xaxis": {
            "backgroundcolor": "rgb(17,17,17)",
            "gridcolor": "#506784",
            "gridwidth": 2,
            "linecolor": "#506784",
            "showbackground": true,
            "ticks": "",
            "zerolinecolor": "#C8D4E3"
           },
           "yaxis": {
            "backgroundcolor": "rgb(17,17,17)",
            "gridcolor": "#506784",
            "gridwidth": 2,
            "linecolor": "#506784",
            "showbackground": true,
            "ticks": "",
            "zerolinecolor": "#C8D4E3"
           },
           "zaxis": {
            "backgroundcolor": "rgb(17,17,17)",
            "gridcolor": "#506784",
            "gridwidth": 2,
            "linecolor": "#506784",
            "showbackground": true,
            "ticks": "",
            "zerolinecolor": "#C8D4E3"
           }
          },
          "shapedefaults": {
           "line": {
            "color": "#f2f5fa"
           }
          },
          "sliderdefaults": {
           "bgcolor": "#C8D4E3",
           "bordercolor": "rgb(17,17,17)",
           "borderwidth": 1,
           "tickwidth": 0
          },
          "ternary": {
           "aaxis": {
            "gridcolor": "#506784",
            "linecolor": "#506784",
            "ticks": ""
           },
           "baxis": {
            "gridcolor": "#506784",
            "linecolor": "#506784",
            "ticks": ""
           },
           "bgcolor": "rgb(17,17,17)",
           "caxis": {
            "gridcolor": "#506784",
            "linecolor": "#506784",
            "ticks": ""
           }
          },
          "title": {
           "x": 0.05
          },
          "updatemenudefaults": {
           "bgcolor": "#506784",
           "borderwidth": 0
          },
          "xaxis": {
           "automargin": true,
           "gridcolor": "#283442",
           "linecolor": "#506784",
           "ticks": "",
           "title": {
            "standoff": 15
           },
           "zerolinecolor": "#283442",
           "zerolinewidth": 2
          },
          "yaxis": {
           "automargin": true,
           "gridcolor": "#283442",
           "linecolor": "#506784",
           "ticks": "",
           "title": {
            "standoff": 15
           },
           "zerolinecolor": "#283442",
           "zerolinewidth": 2
          }
         }
        },
        "title": {
         "text": "Cloud <br><sup> Describe positive the hotel in 100 words </sup>",
         "x": 0.5
        },
        "xaxis": {
         "anchor": "y",
         "domain": [
          0,
          1
         ],
         "linecolor": "gray",
         "linewidth": 2,
         "showline": false,
         "showticklabels": false,
         "tickformat": ".2f",
         "ticks": "",
         "title": {
          "text": " "
         }
        },
        "yaxis": {
         "anchor": "x",
         "domain": [
          0,
          1
         ],
         "linecolor": "gray",
         "linewidth": 2,
         "showline": false,
         "showticklabels": false,
         "tickformat": ".2f",
         "ticks": "",
         "title": {
          "text": " "
         }
        }
       }
      }
     },
     "metadata": {},
     "output_type": "display_data"
    }
   ],
   "source": [
    "generar_100_words(df_positive, title='Describe positive the hotel in 100 words')"
   ]
  },
  {
   "cell_type": "code",
   "execution_count": 12,
   "id": "5dce4a6e",
   "metadata": {},
   "outputs": [
    {
     "data": {
      "text/html": [
       "<div>\n",
       "<style scoped>\n",
       "    .dataframe tbody tr th:only-of-type {\n",
       "        vertical-align: middle;\n",
       "    }\n",
       "\n",
       "    .dataframe tbody tr th {\n",
       "        vertical-align: top;\n",
       "    }\n",
       "\n",
       "    .dataframe thead th {\n",
       "        text-align: right;\n",
       "    }\n",
       "</style>\n",
       "<table border=\"1\" class=\"dataframe\">\n",
       "  <thead>\n",
       "    <tr style=\"text-align: right;\">\n",
       "      <th></th>\n",
       "      <th>x</th>\n",
       "      <th>y</th>\n",
       "      <th>group</th>\n",
       "      <th>words</th>\n",
       "    </tr>\n",
       "  </thead>\n",
       "  <tbody>\n",
       "    <tr>\n",
       "      <th>0</th>\n",
       "      <td>0.468593</td>\n",
       "      <td>-0.193707</td>\n",
       "      <td>2</td>\n",
       "      <td>Acondicionado</td>\n",
       "    </tr>\n",
       "    <tr>\n",
       "      <th>1</th>\n",
       "      <td>0.125862</td>\n",
       "      <td>0.149178</td>\n",
       "      <td>4</td>\n",
       "      <td>Actitud</td>\n",
       "    </tr>\n",
       "    <tr>\n",
       "      <th>2</th>\n",
       "      <td>0.582150</td>\n",
       "      <td>-0.153456</td>\n",
       "      <td>2</td>\n",
       "      <td>Agua</td>\n",
       "    </tr>\n",
       "    <tr>\n",
       "      <th>3</th>\n",
       "      <td>0.093541</td>\n",
       "      <td>0.175936</td>\n",
       "      <td>4</td>\n",
       "      <td>Ambiente</td>\n",
       "    </tr>\n",
       "    <tr>\n",
       "      <th>4</th>\n",
       "      <td>0.447480</td>\n",
       "      <td>-0.196145</td>\n",
       "      <td>2</td>\n",
       "      <td>Ascensor</td>\n",
       "    </tr>\n",
       "  </tbody>\n",
       "</table>\n",
       "</div>"
      ],
      "text/plain": [
       "          x         y group          words\n",
       "0  0.468593 -0.193707     2  Acondicionado\n",
       "1  0.125862  0.149178     4        Actitud\n",
       "2  0.582150 -0.153456     2           Agua\n",
       "3  0.093541  0.175936     4       Ambiente\n",
       "4  0.447480 -0.196145     2       Ascensor"
      ]
     },
     "execution_count": 12,
     "metadata": {},
     "output_type": "execute_result"
    }
   ],
   "source": [
    "df_negative = df.copy()\n",
    "df_negative = df_negative[df_negative['label'] == 0]\n",
    "df_negative = build_100_words(df_negative)\n",
    "df_negative.head()"
   ]
  },
  {
   "cell_type": "code",
   "execution_count": 13,
   "id": "293f583e",
   "metadata": {},
   "outputs": [
    {
     "name": "stderr",
     "output_type": "stream",
     "text": [
      "C:\\Users\\Administrator\\AppData\\Roaming\\Python\\Python312\\site-packages\\plotly\\express\\_core.py:2065: FutureWarning:\n",
      "\n",
      "When grouping with a length-1 list-like, you will need to pass a length-1 tuple to get_group in a future version of pandas. Pass `(name,)` instead of `name` to silence this warning.\n",
      "\n"
     ]
    },
    {
     "data": {
      "application/vnd.plotly.v1+json": {
       "config": {
        "plotlyServerURL": "https://plot.ly"
       },
       "data": [
        {
         "hovertemplate": "Group=2<br>X-Axis Label=%{x}<br>Y-Axis Label=%{y}<br>Word=%{text}<extra></extra>",
         "legendgroup": "2",
         "marker": {
          "color": "#636efa",
          "symbol": "circle"
         },
         "mode": "markers+text",
         "name": "2",
         "opacity": 0.8,
         "orientation": "v",
         "showlegend": true,
         "text": [
          "Acondicionado",
          "Agua",
          "Ascensor",
          "Bano",
          "Cucaracha",
          "Desayuno",
          "Ducha",
          "Estrella",
          "Habitación",
          "Humedad",
          "Limpieza",
          "Luz",
          "Mantenimiento",
          "Noche",
          "Olor",
          "Pared",
          "Pasillo",
          "Puerta",
          "Toalla",
          "Ventana"
         ],
         "textposition": "top center",
         "type": "scatter",
         "x": [
          0.46859254560114555,
          0.5821504592320834,
          0.4474802761792926,
          0.405170773276734,
          0.4149445901466702,
          0.5263439214844651,
          0.43851116513896576,
          0.3994795098982268,
          0.643666556993987,
          0.5424751340590152,
          0.3605669674693531,
          0.3716726396599617,
          0.35926445717124184,
          0.5803611986280165,
          0.380915965311013,
          0.40594782716139777,
          0.4385121289087854,
          0.428891303194348,
          0.49180056759194274,
          0.5029225229496115
         ],
         "xaxis": "x",
         "y": [
          -0.19370657966373994,
          -0.15345559261747144,
          -0.19614512619720836,
          -0.17406335439584,
          -0.17554673172226815,
          -0.09578788682641667,
          -0.19281650851094997,
          -0.06767679959355286,
          -0.16849658771047166,
          -0.31652982800398943,
          -0.18134430198866983,
          -0.09976576840132867,
          -0.11197469066462028,
          0.004435159012808805,
          -0.16919806135322915,
          -0.2638299247744375,
          -0.15509243362158542,
          -0.05363066110897336,
          -0.17369485809132895,
          -0.24503705545764873
         ],
         "yaxis": "y"
        },
        {
         "hovertemplate": "Group=4<br>X-Axis Label=%{x}<br>Y-Axis Label=%{y}<br>Word=%{text}<extra></extra>",
         "legendgroup": "4",
         "marker": {
          "color": "#EF553B",
          "symbol": "circle"
         },
         "mode": "markers+text",
         "name": "4",
         "opacity": 0.8,
         "orientation": "v",
         "showlegend": true,
         "text": [
          "Actitud",
          "Ambiente",
          "Basura",
          "Cafe",
          "Camarera",
          "Cara",
          "Carne",
          "Carta",
          "Cerveza",
          "Comentario",
          "Cuidado",
          "Decepcion",
          "Dolar",
          "Factura",
          "Fama",
          "Favor",
          "Gana",
          "Gerente",
          "Historia",
          "Mujer",
          "Museo",
          "Nombre",
          "Opción",
          "Pareja",
          "Playa",
          "Queja",
          "Realidad",
          "Reservación",
          "Visita"
         ],
         "textposition": "top center",
         "type": "scatter",
         "x": [
          0.12586175993592558,
          0.09354090502858314,
          0.146279983834743,
          0.17177368374500981,
          0.1280319278432462,
          0.15595357609104815,
          0.07217770779553104,
          0.05365899543281369,
          0.11603564514393977,
          0.16989651784887658,
          0.18291075157188386,
          0.1758971248063296,
          0.18588668484096352,
          0.13999766950591383,
          0.07960883666598292,
          0.18739132359842317,
          0.1396005349096379,
          0.17094389426756895,
          0.11072112145011567,
          0.18865548498730136,
          0.05516975668490279,
          0.17076598168357687,
          0.14942018597252335,
          0.17225904808723577,
          0.16467802960977632,
          0.18266932795236748,
          0.1739744509645403,
          0.09956352422944585,
          0.16941324235626895
         ],
         "xaxis": "x",
         "y": [
          0.14917787928087722,
          0.17593629192468366,
          0.020516050828874675,
          0.10200530350480655,
          0.15417435869711293,
          0.18899860845179312,
          0.1601784869177211,
          0.14686856448580485,
          0.1952522731346426,
          0.14758322329671442,
          0.11764958903552036,
          0.16817414141149067,
          0.14516505096046328,
          0.13356801734825233,
          0.14761856951566163,
          0.09155217160017937,
          0.12198134614527652,
          0.19162320044588851,
          0.055062494123659794,
          0.15829413973590495,
          0.09306214374861299,
          0.13059911480993353,
          0.0992160498453192,
          0.18269270373320678,
          0.04147178269659323,
          0.06984761723075833,
          0.0786768475314818,
          0.09261403360161907,
          0.14715849269878267
         ],
         "yaxis": "y"
        },
        {
         "hovertemplate": "Group=1<br>X-Axis Label=%{x}<br>Y-Axis Label=%{y}<br>Word=%{text}<extra></extra>",
         "legendgroup": "1",
         "marker": {
          "color": "#00cc96",
          "symbol": "circle"
         },
         "mode": "markers+text",
         "name": "1",
         "opacity": 0.8,
         "orientation": "v",
         "showlegend": true,
         "text": [
          "Asco",
          "Cambio",
          "Check",
          "Condición",
          "Cuarto",
          "Desastre",
          "Elevador",
          "Empleado",
          "Instalación",
          "Internet",
          "Maleta",
          "Mancha",
          "Mano",
          "Ocasión",
          "Parecia",
          "Piscina",
          "Recepcion",
          "Ruido",
          "Seguridad",
          "Suerte",
          "Tenia",
          "Ubicacion",
          "Vacación"
         ],
         "textposition": "top center",
         "type": "scatter",
         "x": [
          0.22200209104373536,
          0.2942269473537682,
          0.23759215775458484,
          0.29750818301481896,
          0.2617241574064242,
          0.31816278774474976,
          0.20553562036202416,
          0.23143666249602177,
          0.3593204037007193,
          0.21182020655167952,
          0.2808459548726719,
          0.29827666256262375,
          0.2648950831594042,
          0.24137568425193884,
          0.23350337521623424,
          0.33091839381649557,
          0.3687879561367403,
          0.34365890897151125,
          0.2394303174797183,
          0.3261074717527357,
          0.2770841057277668,
          0.2328261572917301,
          0.2641648065609002
         ],
         "xaxis": "x",
         "y": [
          -0.06690518233011399,
          0.016732555327676826,
          0.04667271275236257,
          -0.10122888346030798,
          -0.01655852287614757,
          -0.07792717463637062,
          0.01965855201004946,
          0.03721259564178546,
          -0.006181551312875236,
          -0.07458733404258094,
          0.02237700757676741,
          -0.14200016678689992,
          0.010353152640455679,
          0.025075959987367755,
          -0.004395601825450197,
          0.04988580895959796,
          -0.005949301541011326,
          -0.08067165815261305,
          0.0491758426960726,
          -0.020557430927150566,
          -0.023375775112054922,
          -0.045094613974155,
          0.025711461229786688
         ],
         "yaxis": "y"
        },
        {
         "hovertemplate": "Group=3<br>X-Axis Label=%{x}<br>Y-Axis Label=%{y}<br>Word=%{text}<extra></extra>",
         "legendgroup": "3",
         "marker": {
          "color": "#ab63fa",
          "symbol": "circle"
         },
         "mode": "markers+text",
         "name": "3",
         "opacity": 0.8,
         "orientation": "v",
         "showlegend": true,
         "text": [
          "Bar",
          "Cargo",
          "Caso",
          "Centro",
          "Cuenta",
          "Dinero",
          "Falta",
          "Familia",
          "Foto",
          "Grupo",
          "Habia",
          "Huesped",
          "Jama",
          "Mes",
          "Nivel",
          "Reserva",
          "Respuesta",
          "Tarjeta",
          "Telefono",
          "Trato"
         ],
         "textposition": "top center",
         "type": "scatter",
         "x": [
          0.21306580211812715,
          0.2674595038479103,
          0.2163190994004463,
          0.23490902364912045,
          0.20000283149707687,
          0.2759871922291509,
          0.26735125946475946,
          0.20030581745956413,
          0.31132442055280857,
          0.22743620218977306,
          0.36150847338993247,
          0.3030189761269991,
          0.2612222837417215,
          0.2334660210279069,
          0.2083832929654218,
          0.2605616539159505,
          0.2015057650612765,
          0.2792604535544042,
          0.3233250014967397,
          0.23388158339185972
         ],
         "xaxis": "x",
         "y": [
          0.12943333774240215,
          0.19211712524275676,
          0.11696717282330993,
          0.07233399832071565,
          0.18126643590638772,
          0.1862460632885233,
          0.06989663004169024,
          0.13376122914399716,
          0.12179543970942934,
          0.11265905785620146,
          0.09888969400457752,
          0.10512819014106017,
          0.08418676383545785,
          0.17172211499625395,
          0.09320037835265553,
          0.17302490840990306,
          0.10879856016009729,
          0.20157590903596687,
          0.07884438899703693,
          0.12503393976015129
         ],
         "yaxis": "y"
        },
        {
         "hovertemplate": "Group=0<br>X-Axis Label=%{x}<br>Y-Axis Label=%{y}<br>Word=%{text}<extra></extra>",
         "legendgroup": "0",
         "marker": {
          "color": "#FFA15A",
          "symbol": "circle"
         },
         "mode": "markers+text",
         "name": "0",
         "opacity": 0.8,
         "orientation": "v",
         "showlegend": true,
         "text": [
          "Bebida",
          "Camarero",
          "Cena",
          "Entrada",
          "Estafa",
          "Pesos",
          "Plato",
          "Restaurante"
         ],
         "textposition": "top center",
         "type": "scatter",
         "x": [
          0.17407652684991964,
          0.17610485902908196,
          0.20802225201115515,
          0.17191345555255935,
          0.13777076234205562,
          0.18426356836067745,
          0.18104334045722806,
          0.21328978767698015
         ],
         "xaxis": "x",
         "y": [
          0.30616604476341447,
          0.2367684780012386,
          0.21615798177428583,
          0.2841363102053717,
          0.2227201694653812,
          0.22720379527847648,
          0.3741358089630622,
          0.35692353742485017
         ],
         "yaxis": "y"
        }
       ],
       "layout": {
        "font": {
         "family": "Arial",
         "size": 12
        },
        "hovermode": "closest",
        "legend": {
         "title": {
          "text": "Group"
         },
         "tracegroupgap": 0
        },
        "margin": {
         "t": 60
        },
        "template": {
         "data": {
          "bar": [
           {
            "error_x": {
             "color": "#f2f5fa"
            },
            "error_y": {
             "color": "#f2f5fa"
            },
            "marker": {
             "line": {
              "color": "rgb(17,17,17)",
              "width": 0.5
             },
             "pattern": {
              "fillmode": "overlay",
              "size": 10,
              "solidity": 0.2
             }
            },
            "type": "bar"
           }
          ],
          "barpolar": [
           {
            "marker": {
             "line": {
              "color": "rgb(17,17,17)",
              "width": 0.5
             },
             "pattern": {
              "fillmode": "overlay",
              "size": 10,
              "solidity": 0.2
             }
            },
            "type": "barpolar"
           }
          ],
          "carpet": [
           {
            "aaxis": {
             "endlinecolor": "#A2B1C6",
             "gridcolor": "#506784",
             "linecolor": "#506784",
             "minorgridcolor": "#506784",
             "startlinecolor": "#A2B1C6"
            },
            "baxis": {
             "endlinecolor": "#A2B1C6",
             "gridcolor": "#506784",
             "linecolor": "#506784",
             "minorgridcolor": "#506784",
             "startlinecolor": "#A2B1C6"
            },
            "type": "carpet"
           }
          ],
          "choropleth": [
           {
            "colorbar": {
             "outlinewidth": 0,
             "ticks": ""
            },
            "type": "choropleth"
           }
          ],
          "contour": [
           {
            "colorbar": {
             "outlinewidth": 0,
             "ticks": ""
            },
            "colorscale": [
             [
              0,
              "#0d0887"
             ],
             [
              0.1111111111111111,
              "#46039f"
             ],
             [
              0.2222222222222222,
              "#7201a8"
             ],
             [
              0.3333333333333333,
              "#9c179e"
             ],
             [
              0.4444444444444444,
              "#bd3786"
             ],
             [
              0.5555555555555556,
              "#d8576b"
             ],
             [
              0.6666666666666666,
              "#ed7953"
             ],
             [
              0.7777777777777778,
              "#fb9f3a"
             ],
             [
              0.8888888888888888,
              "#fdca26"
             ],
             [
              1,
              "#f0f921"
             ]
            ],
            "type": "contour"
           }
          ],
          "contourcarpet": [
           {
            "colorbar": {
             "outlinewidth": 0,
             "ticks": ""
            },
            "type": "contourcarpet"
           }
          ],
          "heatmap": [
           {
            "colorbar": {
             "outlinewidth": 0,
             "ticks": ""
            },
            "colorscale": [
             [
              0,
              "#0d0887"
             ],
             [
              0.1111111111111111,
              "#46039f"
             ],
             [
              0.2222222222222222,
              "#7201a8"
             ],
             [
              0.3333333333333333,
              "#9c179e"
             ],
             [
              0.4444444444444444,
              "#bd3786"
             ],
             [
              0.5555555555555556,
              "#d8576b"
             ],
             [
              0.6666666666666666,
              "#ed7953"
             ],
             [
              0.7777777777777778,
              "#fb9f3a"
             ],
             [
              0.8888888888888888,
              "#fdca26"
             ],
             [
              1,
              "#f0f921"
             ]
            ],
            "type": "heatmap"
           }
          ],
          "heatmapgl": [
           {
            "colorbar": {
             "outlinewidth": 0,
             "ticks": ""
            },
            "colorscale": [
             [
              0,
              "#0d0887"
             ],
             [
              0.1111111111111111,
              "#46039f"
             ],
             [
              0.2222222222222222,
              "#7201a8"
             ],
             [
              0.3333333333333333,
              "#9c179e"
             ],
             [
              0.4444444444444444,
              "#bd3786"
             ],
             [
              0.5555555555555556,
              "#d8576b"
             ],
             [
              0.6666666666666666,
              "#ed7953"
             ],
             [
              0.7777777777777778,
              "#fb9f3a"
             ],
             [
              0.8888888888888888,
              "#fdca26"
             ],
             [
              1,
              "#f0f921"
             ]
            ],
            "type": "heatmapgl"
           }
          ],
          "histogram": [
           {
            "marker": {
             "pattern": {
              "fillmode": "overlay",
              "size": 10,
              "solidity": 0.2
             }
            },
            "type": "histogram"
           }
          ],
          "histogram2d": [
           {
            "colorbar": {
             "outlinewidth": 0,
             "ticks": ""
            },
            "colorscale": [
             [
              0,
              "#0d0887"
             ],
             [
              0.1111111111111111,
              "#46039f"
             ],
             [
              0.2222222222222222,
              "#7201a8"
             ],
             [
              0.3333333333333333,
              "#9c179e"
             ],
             [
              0.4444444444444444,
              "#bd3786"
             ],
             [
              0.5555555555555556,
              "#d8576b"
             ],
             [
              0.6666666666666666,
              "#ed7953"
             ],
             [
              0.7777777777777778,
              "#fb9f3a"
             ],
             [
              0.8888888888888888,
              "#fdca26"
             ],
             [
              1,
              "#f0f921"
             ]
            ],
            "type": "histogram2d"
           }
          ],
          "histogram2dcontour": [
           {
            "colorbar": {
             "outlinewidth": 0,
             "ticks": ""
            },
            "colorscale": [
             [
              0,
              "#0d0887"
             ],
             [
              0.1111111111111111,
              "#46039f"
             ],
             [
              0.2222222222222222,
              "#7201a8"
             ],
             [
              0.3333333333333333,
              "#9c179e"
             ],
             [
              0.4444444444444444,
              "#bd3786"
             ],
             [
              0.5555555555555556,
              "#d8576b"
             ],
             [
              0.6666666666666666,
              "#ed7953"
             ],
             [
              0.7777777777777778,
              "#fb9f3a"
             ],
             [
              0.8888888888888888,
              "#fdca26"
             ],
             [
              1,
              "#f0f921"
             ]
            ],
            "type": "histogram2dcontour"
           }
          ],
          "mesh3d": [
           {
            "colorbar": {
             "outlinewidth": 0,
             "ticks": ""
            },
            "type": "mesh3d"
           }
          ],
          "parcoords": [
           {
            "line": {
             "colorbar": {
              "outlinewidth": 0,
              "ticks": ""
             }
            },
            "type": "parcoords"
           }
          ],
          "pie": [
           {
            "automargin": true,
            "type": "pie"
           }
          ],
          "scatter": [
           {
            "marker": {
             "line": {
              "color": "#283442"
             }
            },
            "type": "scatter"
           }
          ],
          "scatter3d": [
           {
            "line": {
             "colorbar": {
              "outlinewidth": 0,
              "ticks": ""
             }
            },
            "marker": {
             "colorbar": {
              "outlinewidth": 0,
              "ticks": ""
             }
            },
            "type": "scatter3d"
           }
          ],
          "scattercarpet": [
           {
            "marker": {
             "colorbar": {
              "outlinewidth": 0,
              "ticks": ""
             }
            },
            "type": "scattercarpet"
           }
          ],
          "scattergeo": [
           {
            "marker": {
             "colorbar": {
              "outlinewidth": 0,
              "ticks": ""
             }
            },
            "type": "scattergeo"
           }
          ],
          "scattergl": [
           {
            "marker": {
             "line": {
              "color": "#283442"
             }
            },
            "type": "scattergl"
           }
          ],
          "scattermapbox": [
           {
            "marker": {
             "colorbar": {
              "outlinewidth": 0,
              "ticks": ""
             }
            },
            "type": "scattermapbox"
           }
          ],
          "scatterpolar": [
           {
            "marker": {
             "colorbar": {
              "outlinewidth": 0,
              "ticks": ""
             }
            },
            "type": "scatterpolar"
           }
          ],
          "scatterpolargl": [
           {
            "marker": {
             "colorbar": {
              "outlinewidth": 0,
              "ticks": ""
             }
            },
            "type": "scatterpolargl"
           }
          ],
          "scatterternary": [
           {
            "marker": {
             "colorbar": {
              "outlinewidth": 0,
              "ticks": ""
             }
            },
            "type": "scatterternary"
           }
          ],
          "surface": [
           {
            "colorbar": {
             "outlinewidth": 0,
             "ticks": ""
            },
            "colorscale": [
             [
              0,
              "#0d0887"
             ],
             [
              0.1111111111111111,
              "#46039f"
             ],
             [
              0.2222222222222222,
              "#7201a8"
             ],
             [
              0.3333333333333333,
              "#9c179e"
             ],
             [
              0.4444444444444444,
              "#bd3786"
             ],
             [
              0.5555555555555556,
              "#d8576b"
             ],
             [
              0.6666666666666666,
              "#ed7953"
             ],
             [
              0.7777777777777778,
              "#fb9f3a"
             ],
             [
              0.8888888888888888,
              "#fdca26"
             ],
             [
              1,
              "#f0f921"
             ]
            ],
            "type": "surface"
           }
          ],
          "table": [
           {
            "cells": {
             "fill": {
              "color": "#506784"
             },
             "line": {
              "color": "rgb(17,17,17)"
             }
            },
            "header": {
             "fill": {
              "color": "#2a3f5f"
             },
             "line": {
              "color": "rgb(17,17,17)"
             }
            },
            "type": "table"
           }
          ]
         },
         "layout": {
          "annotationdefaults": {
           "arrowcolor": "#f2f5fa",
           "arrowhead": 0,
           "arrowwidth": 1
          },
          "autotypenumbers": "strict",
          "coloraxis": {
           "colorbar": {
            "outlinewidth": 0,
            "ticks": ""
           }
          },
          "colorscale": {
           "diverging": [
            [
             0,
             "#8e0152"
            ],
            [
             0.1,
             "#c51b7d"
            ],
            [
             0.2,
             "#de77ae"
            ],
            [
             0.3,
             "#f1b6da"
            ],
            [
             0.4,
             "#fde0ef"
            ],
            [
             0.5,
             "#f7f7f7"
            ],
            [
             0.6,
             "#e6f5d0"
            ],
            [
             0.7,
             "#b8e186"
            ],
            [
             0.8,
             "#7fbc41"
            ],
            [
             0.9,
             "#4d9221"
            ],
            [
             1,
             "#276419"
            ]
           ],
           "sequential": [
            [
             0,
             "#0d0887"
            ],
            [
             0.1111111111111111,
             "#46039f"
            ],
            [
             0.2222222222222222,
             "#7201a8"
            ],
            [
             0.3333333333333333,
             "#9c179e"
            ],
            [
             0.4444444444444444,
             "#bd3786"
            ],
            [
             0.5555555555555556,
             "#d8576b"
            ],
            [
             0.6666666666666666,
             "#ed7953"
            ],
            [
             0.7777777777777778,
             "#fb9f3a"
            ],
            [
             0.8888888888888888,
             "#fdca26"
            ],
            [
             1,
             "#f0f921"
            ]
           ],
           "sequentialminus": [
            [
             0,
             "#0d0887"
            ],
            [
             0.1111111111111111,
             "#46039f"
            ],
            [
             0.2222222222222222,
             "#7201a8"
            ],
            [
             0.3333333333333333,
             "#9c179e"
            ],
            [
             0.4444444444444444,
             "#bd3786"
            ],
            [
             0.5555555555555556,
             "#d8576b"
            ],
            [
             0.6666666666666666,
             "#ed7953"
            ],
            [
             0.7777777777777778,
             "#fb9f3a"
            ],
            [
             0.8888888888888888,
             "#fdca26"
            ],
            [
             1,
             "#f0f921"
            ]
           ]
          },
          "colorway": [
           "#636efa",
           "#EF553B",
           "#00cc96",
           "#ab63fa",
           "#FFA15A",
           "#19d3f3",
           "#FF6692",
           "#B6E880",
           "#FF97FF",
           "#FECB52"
          ],
          "font": {
           "color": "#f2f5fa"
          },
          "geo": {
           "bgcolor": "rgb(17,17,17)",
           "lakecolor": "rgb(17,17,17)",
           "landcolor": "rgb(17,17,17)",
           "showlakes": true,
           "showland": true,
           "subunitcolor": "#506784"
          },
          "hoverlabel": {
           "align": "left"
          },
          "hovermode": "closest",
          "mapbox": {
           "style": "dark"
          },
          "paper_bgcolor": "rgb(17,17,17)",
          "plot_bgcolor": "rgb(17,17,17)",
          "polar": {
           "angularaxis": {
            "gridcolor": "#506784",
            "linecolor": "#506784",
            "ticks": ""
           },
           "bgcolor": "rgb(17,17,17)",
           "radialaxis": {
            "gridcolor": "#506784",
            "linecolor": "#506784",
            "ticks": ""
           }
          },
          "scene": {
           "xaxis": {
            "backgroundcolor": "rgb(17,17,17)",
            "gridcolor": "#506784",
            "gridwidth": 2,
            "linecolor": "#506784",
            "showbackground": true,
            "ticks": "",
            "zerolinecolor": "#C8D4E3"
           },
           "yaxis": {
            "backgroundcolor": "rgb(17,17,17)",
            "gridcolor": "#506784",
            "gridwidth": 2,
            "linecolor": "#506784",
            "showbackground": true,
            "ticks": "",
            "zerolinecolor": "#C8D4E3"
           },
           "zaxis": {
            "backgroundcolor": "rgb(17,17,17)",
            "gridcolor": "#506784",
            "gridwidth": 2,
            "linecolor": "#506784",
            "showbackground": true,
            "ticks": "",
            "zerolinecolor": "#C8D4E3"
           }
          },
          "shapedefaults": {
           "line": {
            "color": "#f2f5fa"
           }
          },
          "sliderdefaults": {
           "bgcolor": "#C8D4E3",
           "bordercolor": "rgb(17,17,17)",
           "borderwidth": 1,
           "tickwidth": 0
          },
          "ternary": {
           "aaxis": {
            "gridcolor": "#506784",
            "linecolor": "#506784",
            "ticks": ""
           },
           "baxis": {
            "gridcolor": "#506784",
            "linecolor": "#506784",
            "ticks": ""
           },
           "bgcolor": "rgb(17,17,17)",
           "caxis": {
            "gridcolor": "#506784",
            "linecolor": "#506784",
            "ticks": ""
           }
          },
          "title": {
           "x": 0.05
          },
          "updatemenudefaults": {
           "bgcolor": "#506784",
           "borderwidth": 0
          },
          "xaxis": {
           "automargin": true,
           "gridcolor": "#283442",
           "linecolor": "#506784",
           "ticks": "",
           "title": {
            "standoff": 15
           },
           "zerolinecolor": "#283442",
           "zerolinewidth": 2
          },
          "yaxis": {
           "automargin": true,
           "gridcolor": "#283442",
           "linecolor": "#506784",
           "ticks": "",
           "title": {
            "standoff": 15
           },
           "zerolinecolor": "#283442",
           "zerolinewidth": 2
          }
         }
        },
        "title": {
         "text": "Cloud <br><sup> Describe negative the hotel in 100 words </sup>",
         "x": 0.5
        },
        "xaxis": {
         "anchor": "y",
         "domain": [
          0,
          1
         ],
         "linecolor": "gray",
         "linewidth": 2,
         "showline": false,
         "showticklabels": false,
         "tickformat": ".2f",
         "ticks": "",
         "title": {
          "text": " "
         }
        },
        "yaxis": {
         "anchor": "x",
         "domain": [
          0,
          1
         ],
         "linecolor": "gray",
         "linewidth": 2,
         "showline": false,
         "showticklabels": false,
         "tickformat": ".2f",
         "ticks": "",
         "title": {
          "text": " "
         }
        }
       }
      }
     },
     "metadata": {},
     "output_type": "display_data"
    }
   ],
   "source": [
    "generar_100_words(df_negative, title='Describe negative the hotel in 100 words')"
   ]
  }
 ],
 "metadata": {
  "kernelspec": {
   "display_name": "Python 3",
   "language": "python",
   "name": "python3"
  },
  "language_info": {
   "codemirror_mode": {
    "name": "ipython",
    "version": 3
   },
   "file_extension": ".py",
   "mimetype": "text/x-python",
   "name": "python",
   "nbconvert_exporter": "python",
   "pygments_lexer": "ipython3",
   "version": "3.12.1"
  }
 },
 "nbformat": 4,
 "nbformat_minor": 5
}
