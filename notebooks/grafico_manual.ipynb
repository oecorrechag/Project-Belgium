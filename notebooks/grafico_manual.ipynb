{
 "cells": [
  {
   "cell_type": "code",
   "execution_count": 15,
   "id": "db8edf43",
   "metadata": {},
   "outputs": [],
   "source": [
    "import pandas as pd\n",
    "import numpy as np\n",
    "import plotly.express as px\n",
    "from sklearn.decomposition import PCA\n",
    "from sklearn.metrics.pairwise import euclidean_distances\n",
    "import textwrap\n",
    "from mypackage import dir\n",
    "\n",
    "pd.set_option('display.max_columns', None)\n",
    "pd.set_option('display.max_rows', None)"
   ]
  },
  {
   "cell_type": "code",
   "execution_count": 16,
   "id": "a48c7e37",
   "metadata": {},
   "outputs": [],
   "source": [
    "# Environment variables\n",
    "project = 'belgium'\n",
    "data = dir.make_dir(project) \n",
    "processed = data('processed')\n",
    "outputs = data('outputs')"
   ]
  },
  {
   "cell_type": "code",
   "execution_count": 17,
   "id": "a7471d05",
   "metadata": {},
   "outputs": [],
   "source": [
    "def stratified_sample(df):\n",
    "    if df.name == 0:  # Si la categoría es 0, toma 30%\n",
    "        return df.sample(frac=0.3, random_state=42)\n",
    "    else:  # Para categorías 1 y 2, toma 10%\n",
    "        return df.sample(frac=0.1, random_state=42) \n",
    "\n",
    "def asignar_topicos_pandas(df):\n",
    "    \"\"\"\n",
    "    Versión alternativa usando solo pandas\n",
    "    \"\"\"\n",
    "    # Definir condiciones en orden de prioridad\n",
    "    conditions = [\n",
    "        (df['aloja_general'] == 1),\n",
    "        (df['habitacion'] == 1) & (df['aloja_general'] == 0),\n",
    "        (df['servicio'] == 1) & (df['aloja_general'] == 0) & (df['habitacion'] == 0),\n",
    "        (df['comida'] == 1) & (df['aloja_general'] == 0) & \n",
    "            (df['habitacion'] == 0) & (df['servicio'] == 0),\n",
    "        (df['costo'] == 1) & (df['aloja_general'] == 0) & \n",
    "            (df['habitacion'] == 0) & (df['servicio'] == 0) & (df['comida'] == 0),\n",
    "        (df['regreso'] == 1) & (df['aloja_general'] == 0) & \n",
    "            (df['habitacion'] == 0) & (df['servicio'] == 0) & \n",
    "            (df['comida'] == 0) & (df['costo'] == 0)\n",
    "    ]\n",
    "    \n",
    "    # choices = ['aloja_general', 'habitacion', 'servicio', 'comida', 'costo', 'regreso']\n",
    "    choices = [1, 2, 3, 4, 5, 6]\n",
    "    \n",
    "    df['topico'] = np.select(conditions, choices, default='h')\n",
    "    return df[df['topico'] != 'h']\n",
    "\n",
    "def agregar_saltos_linea(texto, ancho=50):\n",
    "    \"\"\"\n",
    "    Versión usando el módulo textwrap de Python para un control más preciso.\n",
    "    \n",
    "    Parámetros:\n",
    "    - texto: str - Texto original\n",
    "    - ancho: int - Ancho máximo de caracteres por línea\n",
    "    \n",
    "    Retorna:\n",
    "    - str - Texto con saltos de línea HTML\n",
    "    \"\"\"\n",
    "    texto = ' '.join(str(texto).split())  # Normalizar espacios\n",
    "    return '<br>'.join(textwrap.wrap(texto, width=ancho))\n",
    "\n",
    "def plot_embeddings(df: pd.DataFrame, title: str, save: bool = False):\n",
    "    \"\"\"\n",
    "    Genera y muestra un grafico 100 palabras\n",
    "\n",
    "    Args:\n",
    "        df (pd.DataFrame): Dataframe limpio.\n",
    "        titulo (str): Título para el gráfico.\n",
    "        save: Whether to save the visualization to an HTML file\n",
    "    \"\"\"\n",
    "    fig = px.scatter(df, x=\"x\", y=\"y\", \n",
    "                     size='importancia',\n",
    "                     color=\"id_topic\", \n",
    "                     symbol='label',\n",
    "                     hover_data=['texto'],\n",
    "                     labels=labels,\n",
    "                     )\n",
    "\n",
    "    # Customize text positioning (consider clarity and visual balance)\n",
    "    fig.update_traces(textposition='top center')  # or 'top center' based on preference\n",
    "\n",
    "    # Template\n",
    "    fig.update_layout(template = \"plotly_dark\")\n",
    "    \n",
    "    # Informative layout with custom title\n",
    "    fig.update_layout(\n",
    "        title_text=f'Cloud <br><sup> {title} </sup>',  # Title\n",
    "        title_x=0.5,  # Centered title\n",
    "        xaxis_title=' ',  # Add meaningful axis labels\n",
    "        yaxis_title=' ',\n",
    "        font=dict(family=\"Arial\", size=12),  # Consistent font style and size\n",
    "        # plot_bgcolor='white',  # Clean background color\n",
    "        xaxis_tickformat='.2f',  # Format x-axis ticks for readability (adjust as needed)\n",
    "        yaxis_tickformat='.2f',  # Format y-axis ticks for readability (adjust as needed)\n",
    "\n",
    "        xaxis=dict(\n",
    "            ticks='',\n",
    "            showticklabels=False\n",
    "        ),\n",
    "        yaxis=dict(\n",
    "            ticks='',\n",
    "            showticklabels=False\n",
    "        )\n",
    "\n",
    "    )\n",
    "\n",
    "    # Interactive elements (optional)\n",
    "    fig.update_layout(hovermode='closest')  # Hover over a point for details\n",
    "    fig.update_traces(opacity=0.8)  # Adjust marker opacity for better visibility\n",
    "\n",
    "    # Advanced styling (optional)\n",
    "    fig.update_xaxes(showline=False, linewidth=2, linecolor='gray')  # X-axis formatting\n",
    "    fig.update_yaxes(showline=False, linewidth=2, linecolor='gray')  # Y-axis formatting\n",
    "\n",
    "    if save:\n",
    "        fig.write_html(outputs / f'{title}.html'.format('cloud'))\n",
    "\n",
    "    # Display the enhanced plot\n",
    "    fig.show()\n",
    "\n",
    "labels={'words':'Word',\n",
    "        'group':'Group',\n",
    "        'id_topic':'Topic',\n",
    "        'label': 'Label',\n",
    "        'importancia':'Importancia',\n",
    "        'texto':'Comentario original',\n",
    "        'x':'Dim 1',\n",
    "        'y':'Dim 2',\n",
    "    }"
   ]
  },
  {
   "cell_type": "code",
   "execution_count": 18,
   "id": "85fd8ee4",
   "metadata": {},
   "outputs": [
    {
     "data": {
      "text/html": [
       "<div>\n",
       "<style scoped>\n",
       "    .dataframe tbody tr th:only-of-type {\n",
       "        vertical-align: middle;\n",
       "    }\n",
       "\n",
       "    .dataframe tbody tr th {\n",
       "        vertical-align: top;\n",
       "    }\n",
       "\n",
       "    .dataframe thead th {\n",
       "        text-align: right;\n",
       "    }\n",
       "</style>\n",
       "<table border=\"1\" class=\"dataframe\">\n",
       "  <thead>\n",
       "    <tr style=\"text-align: right;\">\n",
       "      <th></th>\n",
       "      <th>id</th>\n",
       "      <th>texto</th>\n",
       "      <th>label</th>\n",
       "      <th>importancia_tfidf</th>\n",
       "    </tr>\n",
       "  </thead>\n",
       "  <tbody>\n",
       "    <tr>\n",
       "      <th>0</th>\n",
       "      <td>1</td>\n",
       "      <td>el mejor lugar para comer sushi. excelente lug...</td>\n",
       "      <td>2</td>\n",
       "      <td>3.833645</td>\n",
       "    </tr>\n",
       "    <tr>\n",
       "      <th>1</th>\n",
       "      <td>2</td>\n",
       "      <td>vista hermosa!. me sorprendió la maravillosa v...</td>\n",
       "      <td>2</td>\n",
       "      <td>4.635010</td>\n",
       "    </tr>\n",
       "    <tr>\n",
       "      <th>2</th>\n",
       "      <td>3</td>\n",
       "      <td>desastroso. buenas noches,  ante todo explicar...</td>\n",
       "      <td>0</td>\n",
       "      <td>7.507874</td>\n",
       "    </tr>\n",
       "    <tr>\n",
       "      <th>3</th>\n",
       "      <td>4</td>\n",
       "      <td>todo bien excepto que se niegan a dar vasos de...</td>\n",
       "      <td>1</td>\n",
       "      <td>3.936999</td>\n",
       "    </tr>\n",
       "    <tr>\n",
       "      <th>4</th>\n",
       "      <td>5</td>\n",
       "      <td>el mejor zoologico de méxico. el ambiente es m...</td>\n",
       "      <td>2</td>\n",
       "      <td>3.567779</td>\n",
       "    </tr>\n",
       "  </tbody>\n",
       "</table>\n",
       "</div>"
      ],
      "text/plain": [
       "   id                                              texto  label  \\\n",
       "0   1  el mejor lugar para comer sushi. excelente lug...      2   \n",
       "1   2  vista hermosa!. me sorprendió la maravillosa v...      2   \n",
       "2   3  desastroso. buenas noches,  ante todo explicar...      0   \n",
       "3   4  todo bien excepto que se niegan a dar vasos de...      1   \n",
       "4   5  el mejor zoologico de méxico. el ambiente es m...      2   \n",
       "\n",
       "   importancia_tfidf  \n",
       "0           3.833645  \n",
       "1           4.635010  \n",
       "2           7.507874  \n",
       "3           3.936999  \n",
       "4           3.567779  "
      ]
     },
     "execution_count": 18,
     "metadata": {},
     "output_type": "execute_result"
    }
   ],
   "source": [
    "df = pd.read_parquet(processed/'df_hotel_transformados.parquet.gzip')\n",
    "df = df.loc[:,['id', 'texto', 'label', 'importancia_tfidf']]\n",
    "df.head()"
   ]
  },
  {
   "cell_type": "code",
   "execution_count": 19,
   "id": "15c19612",
   "metadata": {},
   "outputs": [
    {
     "name": "stderr",
     "output_type": "stream",
     "text": [
      "C:\\Users\\Administrator\\AppData\\Local\\Temp\\ipykernel_4328\\1502453333.py:5: FutureWarning:\n",
      "\n",
      "DataFrameGroupBy.apply operated on the grouping columns. This behavior is deprecated, and in a future version of pandas the grouping columns will be excluded from the operation. Either pass `include_groups=False` to exclude the groupings or explicitly select the grouping columns after groupby to silence this warning.\n",
      "\n"
     ]
    },
    {
     "data": {
      "text/html": [
       "<div>\n",
       "<style scoped>\n",
       "    .dataframe tbody tr th:only-of-type {\n",
       "        vertical-align: middle;\n",
       "    }\n",
       "\n",
       "    .dataframe tbody tr th {\n",
       "        vertical-align: top;\n",
       "    }\n",
       "\n",
       "    .dataframe thead th {\n",
       "        text-align: right;\n",
       "    }\n",
       "</style>\n",
       "<table border=\"1\" class=\"dataframe\">\n",
       "  <thead>\n",
       "    <tr style=\"text-align: right;\">\n",
       "      <th></th>\n",
       "      <th>id</th>\n",
       "      <th>embeddings</th>\n",
       "      <th>texto</th>\n",
       "      <th>label</th>\n",
       "      <th>importancia_tfidf</th>\n",
       "    </tr>\n",
       "  </thead>\n",
       "  <tbody>\n",
       "    <tr>\n",
       "      <th>2</th>\n",
       "      <td>122612</td>\n",
       "      <td>[0.02409866452217102, 0.0077154068276286125, 0...</td>\n",
       "      <td>hay cucarachas. hay curachas, el día de hoy es...</td>\n",
       "      <td>0</td>\n",
       "      <td>4.675010</td>\n",
       "    </tr>\n",
       "    <tr>\n",
       "      <th>5</th>\n",
       "      <td>5346</td>\n",
       "      <td>[0.020204950124025345, -0.022348560392856598, ...</td>\n",
       "      <td>muy mal servicio. el lugar es muy bonito, buen...</td>\n",
       "      <td>0</td>\n",
       "      <td>4.799042</td>\n",
       "    </tr>\n",
       "    <tr>\n",
       "      <th>6</th>\n",
       "      <td>28423</td>\n",
       "      <td>[0.0003062793693970889, -0.03732236474752426, ...</td>\n",
       "      <td>no recomendable ya que el hotel es malo malo m...</td>\n",
       "      <td>0</td>\n",
       "      <td>4.188769</td>\n",
       "    </tr>\n",
       "    <tr>\n",
       "      <th>9</th>\n",
       "      <td>42021</td>\n",
       "      <td>[0.006794727873057127, -0.01060000341385603, 0...</td>\n",
       "      <td>decepción. cuando escribes habana en cualquier...</td>\n",
       "      <td>0</td>\n",
       "      <td>6.096193</td>\n",
       "    </tr>\n",
       "    <tr>\n",
       "      <th>13</th>\n",
       "      <td>129525</td>\n",
       "      <td>[-0.013585399836301804, -0.04217841476202011, ...</td>\n",
       "      <td>asco y timo. el hotel carecía de casi todo con...</td>\n",
       "      <td>0</td>\n",
       "      <td>6.340737</td>\n",
       "    </tr>\n",
       "  </tbody>\n",
       "</table>\n",
       "</div>"
      ],
      "text/plain": [
       "        id                                         embeddings  \\\n",
       "2   122612  [0.02409866452217102, 0.0077154068276286125, 0...   \n",
       "5     5346  [0.020204950124025345, -0.022348560392856598, ...   \n",
       "6    28423  [0.0003062793693970889, -0.03732236474752426, ...   \n",
       "9    42021  [0.006794727873057127, -0.01060000341385603, 0...   \n",
       "13  129525  [-0.013585399836301804, -0.04217841476202011, ...   \n",
       "\n",
       "                                                texto  label  \\\n",
       "2   hay cucarachas. hay curachas, el día de hoy es...      0   \n",
       "5   muy mal servicio. el lugar es muy bonito, buen...      0   \n",
       "6   no recomendable ya que el hotel es malo malo m...      0   \n",
       "9   decepción. cuando escribes habana en cualquier...      0   \n",
       "13  asco y timo. el hotel carecía de casi todo con...      0   \n",
       "\n",
       "    importancia_tfidf  \n",
       "2            4.675010  \n",
       "5            4.799042  \n",
       "6            4.188769  \n",
       "9            6.096193  \n",
       "13           6.340737  "
      ]
     },
     "execution_count": 19,
     "metadata": {},
     "output_type": "execute_result"
    }
   ],
   "source": [
    "df_embeddings = pd.read_parquet(processed/'df_embeddings.parquet.gzip')\n",
    "# df_embeddings = df_embeddings.head(500)\n",
    "df_embeddings = pd.merge(df_embeddings, df, how='left', on=['id']) \n",
    "# df_embeddings = df_embeddings.groupby('label').apply(lambda x: x.sample(frac=0.15)).reset_index(drop=True)\n",
    "df_embeddings = df_embeddings.groupby('label', group_keys=False).apply(stratified_sample).reset_index(drop=True)\n",
    "df_embeddings = df_embeddings[df_embeddings['importancia_tfidf'] >= 4]\n",
    "df_embeddings.head()"
   ]
  },
  {
   "cell_type": "code",
   "execution_count": 20,
   "id": "a8937654",
   "metadata": {},
   "outputs": [
    {
     "data": {
      "text/html": [
       "<div>\n",
       "<style scoped>\n",
       "    .dataframe tbody tr th:only-of-type {\n",
       "        vertical-align: middle;\n",
       "    }\n",
       "\n",
       "    .dataframe tbody tr th {\n",
       "        vertical-align: top;\n",
       "    }\n",
       "\n",
       "    .dataframe thead th {\n",
       "        text-align: right;\n",
       "    }\n",
       "</style>\n",
       "<table border=\"1\" class=\"dataframe\">\n",
       "  <thead>\n",
       "    <tr style=\"text-align: right;\">\n",
       "      <th></th>\n",
       "      <th>id</th>\n",
       "      <th>embeddings</th>\n",
       "      <th>texto</th>\n",
       "      <th>label</th>\n",
       "      <th>importancia_tfidf</th>\n",
       "      <th>calificacion</th>\n",
       "      <th>calificacion_limpieza</th>\n",
       "      <th>evaluacion</th>\n",
       "      <th>evalucacion_limpieza</th>\n",
       "      <th>topico</th>\n",
       "    </tr>\n",
       "  </thead>\n",
       "  <tbody>\n",
       "    <tr>\n",
       "      <th>42</th>\n",
       "      <td>43117</td>\n",
       "      <td>[-0.017055250704288483, -0.06946675479412079, ...</td>\n",
       "      <td>mal servicio del hotel, elevador no funcionaba...</td>\n",
       "      <td>0</td>\n",
       "      <td>4.699726</td>\n",
       "      <td>0</td>\n",
       "      <td>0</td>\n",
       "      <td>1.0</td>\n",
       "      <td>1.0</td>\n",
       "      <td>1</td>\n",
       "    </tr>\n",
       "    <tr>\n",
       "      <th>44</th>\n",
       "      <td>88340</td>\n",
       "      <td>[-0.014535254798829556, -0.03000936470925808, ...</td>\n",
       "      <td>penoso. nos dieron una habitación deplorable.h...</td>\n",
       "      <td>0</td>\n",
       "      <td>4.342254</td>\n",
       "      <td>1</td>\n",
       "      <td>0</td>\n",
       "      <td>1.0</td>\n",
       "      <td>1.0</td>\n",
       "      <td>1</td>\n",
       "    </tr>\n",
       "    <tr>\n",
       "      <th>47</th>\n",
       "      <td>28126</td>\n",
       "      <td>[0.000245657138293609, 0.01085940282791853, -0...</td>\n",
       "      <td>instalaciones del hotel muy deterioradas. nece...</td>\n",
       "      <td>0</td>\n",
       "      <td>4.898652</td>\n",
       "      <td>0</td>\n",
       "      <td>0</td>\n",
       "      <td>1.0</td>\n",
       "      <td>1.0</td>\n",
       "      <td>1</td>\n",
       "    </tr>\n",
       "    <tr>\n",
       "      <th>63</th>\n",
       "      <td>37491</td>\n",
       "      <td>[-0.014410164207220078, -0.009767151437699795,...</td>\n",
       "      <td>el peor hotel en el que me he alojado .... si ...</td>\n",
       "      <td>0</td>\n",
       "      <td>4.188763</td>\n",
       "      <td>0</td>\n",
       "      <td>0</td>\n",
       "      <td>1.0</td>\n",
       "      <td>1.0</td>\n",
       "      <td>1</td>\n",
       "    </tr>\n",
       "    <tr>\n",
       "      <th>69</th>\n",
       "      <td>69933</td>\n",
       "      <td>[0.01075123529881239, -0.020700616762042046, 0...</td>\n",
       "      <td>servicio pésimo, limpieza cuestionable. mal se...</td>\n",
       "      <td>0</td>\n",
       "      <td>4.999484</td>\n",
       "      <td>0</td>\n",
       "      <td>1</td>\n",
       "      <td>1.0</td>\n",
       "      <td>1.0</td>\n",
       "      <td>2</td>\n",
       "    </tr>\n",
       "  </tbody>\n",
       "</table>\n",
       "</div>"
      ],
      "text/plain": [
       "       id                                         embeddings  \\\n",
       "42  43117  [-0.017055250704288483, -0.06946675479412079, ...   \n",
       "44  88340  [-0.014535254798829556, -0.03000936470925808, ...   \n",
       "47  28126  [0.000245657138293609, 0.01085940282791853, -0...   \n",
       "63  37491  [-0.014410164207220078, -0.009767151437699795,...   \n",
       "69  69933  [0.01075123529881239, -0.020700616762042046, 0...   \n",
       "\n",
       "                                                texto  label  \\\n",
       "42  mal servicio del hotel, elevador no funcionaba...      0   \n",
       "44  penoso. nos dieron una habitación deplorable.h...      0   \n",
       "47  instalaciones del hotel muy deterioradas. nece...      0   \n",
       "63  el peor hotel en el que me he alojado .... si ...      0   \n",
       "69  servicio pésimo, limpieza cuestionable. mal se...      0   \n",
       "\n",
       "    importancia_tfidf  calificacion  calificacion_limpieza  evaluacion  \\\n",
       "42           4.699726             0                      0         1.0   \n",
       "44           4.342254             1                      0         1.0   \n",
       "47           4.898652             0                      0         1.0   \n",
       "63           4.188763             0                      0         1.0   \n",
       "69           4.999484             0                      1         1.0   \n",
       "\n",
       "    evalucacion_limpieza topico  \n",
       "42                   1.0      1  \n",
       "44                   1.0      1  \n",
       "47                   1.0      1  \n",
       "63                   1.0      1  \n",
       "69                   1.0      2  "
      ]
     },
     "execution_count": 20,
     "metadata": {},
     "output_type": "execute_result"
    }
   ],
   "source": [
    "df_topicos_manual = pd.read_parquet(processed/'df_topicos_manual.parquet.gzip')\n",
    "df_topicos_manual = df_topicos_manual.loc[:,['id', 'eval_pos', 'eval_neg', 'aloja_general', 'habitacion', 'servicio', 'comida', \n",
    "                                             'limp_pos', 'limp_neg', 'costo', 'regreso',]]\n",
    "                                             \n",
    "df_topicos_manual['evaluacion'] = df_topicos_manual[['eval_pos', 'eval_neg']].sum(axis=1)\n",
    "df_topicos_manual = df_topicos_manual[df_topicos_manual['evaluacion'] == 1]\n",
    "df_topicos_manual['evalucacion_limpieza'] = df_topicos_manual[['limp_pos', 'limp_neg']].sum(axis=1)\n",
    "df_topicos_manual = df_topicos_manual[df_topicos_manual['evalucacion_limpieza'] == 1]\n",
    "\n",
    "df_embeddings = pd.merge(df_embeddings, df_topicos_manual, how='left', on=['id']) \n",
    "df_embeddings = df_embeddings.dropna(subset=['eval_pos', 'eval_neg', 'limp_pos', 'limp_neg'])\n",
    "\n",
    "\n",
    "df_embeddings.insert(5, 'calificacion', 'h')\n",
    "df_embeddings.insert(6, 'calificacion_limpieza', 'h')\n",
    "df_embeddings['calificacion'] = np.where(df_embeddings['eval_pos'] == 1, 1, 0)\n",
    "df_embeddings['calificacion_limpieza'] = np.where(df_embeddings['limp_pos'] == 1, 1, 0)\n",
    "\n",
    "# Asignar el topico mas importante\n",
    "df_embeddings = asignar_topicos_pandas(df_embeddings)\n",
    "\n",
    "df_embeddings.drop(['eval_pos', 'eval_neg', 'limp_pos', 'limp_neg', 'aloja_general', 'habitacion', 'servicio', \n",
    "                    'comida', 'costo', 'regreso'], axis=1, inplace=True)\n",
    "df_embeddings.head()"
   ]
  },
  {
   "cell_type": "code",
   "execution_count": 21,
   "id": "c3394772",
   "metadata": {},
   "outputs": [
    {
     "data": {
      "text/html": [
       "<div>\n",
       "<style scoped>\n",
       "    .dataframe tbody tr th:only-of-type {\n",
       "        vertical-align: middle;\n",
       "    }\n",
       "\n",
       "    .dataframe tbody tr th {\n",
       "        vertical-align: top;\n",
       "    }\n",
       "\n",
       "    .dataframe thead th {\n",
       "        text-align: right;\n",
       "    }\n",
       "</style>\n",
       "<table border=\"1\" class=\"dataframe\">\n",
       "  <thead>\n",
       "    <tr style=\"text-align: right;\">\n",
       "      <th></th>\n",
       "      <th>id</th>\n",
       "      <th>embeddings</th>\n",
       "      <th>texto</th>\n",
       "      <th>label</th>\n",
       "      <th>importancia_tfidf</th>\n",
       "      <th>calificacion</th>\n",
       "      <th>calificacion_limpieza</th>\n",
       "      <th>evaluacion</th>\n",
       "      <th>evalucacion_limpieza</th>\n",
       "      <th>topico</th>\n",
       "      <th>distancia_al_centroide</th>\n",
       "    </tr>\n",
       "  </thead>\n",
       "  <tbody>\n",
       "    <tr>\n",
       "      <th>42</th>\n",
       "      <td>43117</td>\n",
       "      <td>[-0.017055250704288483, -0.06946675479412079, ...</td>\n",
       "      <td>mal servicio del hotel, elevador no funcionaba...</td>\n",
       "      <td>0</td>\n",
       "      <td>4.699726</td>\n",
       "      <td>0</td>\n",
       "      <td>0</td>\n",
       "      <td>1.0</td>\n",
       "      <td>1.0</td>\n",
       "      <td>1</td>\n",
       "      <td>0.631439</td>\n",
       "    </tr>\n",
       "    <tr>\n",
       "      <th>44</th>\n",
       "      <td>88340</td>\n",
       "      <td>[-0.014535254798829556, -0.03000936470925808, ...</td>\n",
       "      <td>penoso. nos dieron una habitación deplorable.h...</td>\n",
       "      <td>0</td>\n",
       "      <td>4.342254</td>\n",
       "      <td>1</td>\n",
       "      <td>0</td>\n",
       "      <td>1.0</td>\n",
       "      <td>1.0</td>\n",
       "      <td>1</td>\n",
       "      <td>0.568424</td>\n",
       "    </tr>\n",
       "    <tr>\n",
       "      <th>47</th>\n",
       "      <td>28126</td>\n",
       "      <td>[0.000245657138293609, 0.01085940282791853, -0...</td>\n",
       "      <td>instalaciones del hotel muy deterioradas. nece...</td>\n",
       "      <td>0</td>\n",
       "      <td>4.898652</td>\n",
       "      <td>0</td>\n",
       "      <td>0</td>\n",
       "      <td>1.0</td>\n",
       "      <td>1.0</td>\n",
       "      <td>1</td>\n",
       "      <td>0.703024</td>\n",
       "    </tr>\n",
       "    <tr>\n",
       "      <th>63</th>\n",
       "      <td>37491</td>\n",
       "      <td>[-0.014410164207220078, -0.009767151437699795,...</td>\n",
       "      <td>el peor hotel en el que me he alojado .... si ...</td>\n",
       "      <td>0</td>\n",
       "      <td>4.188763</td>\n",
       "      <td>0</td>\n",
       "      <td>0</td>\n",
       "      <td>1.0</td>\n",
       "      <td>1.0</td>\n",
       "      <td>1</td>\n",
       "      <td>0.550413</td>\n",
       "    </tr>\n",
       "    <tr>\n",
       "      <th>69</th>\n",
       "      <td>69933</td>\n",
       "      <td>[0.01075123529881239, -0.020700616762042046, 0...</td>\n",
       "      <td>servicio pésimo, limpieza cuestionable. mal se...</td>\n",
       "      <td>0</td>\n",
       "      <td>4.999484</td>\n",
       "      <td>0</td>\n",
       "      <td>1</td>\n",
       "      <td>1.0</td>\n",
       "      <td>1.0</td>\n",
       "      <td>2</td>\n",
       "      <td>0.531468</td>\n",
       "    </tr>\n",
       "  </tbody>\n",
       "</table>\n",
       "</div>"
      ],
      "text/plain": [
       "       id                                         embeddings  \\\n",
       "42  43117  [-0.017055250704288483, -0.06946675479412079, ...   \n",
       "44  88340  [-0.014535254798829556, -0.03000936470925808, ...   \n",
       "47  28126  [0.000245657138293609, 0.01085940282791853, -0...   \n",
       "63  37491  [-0.014410164207220078, -0.009767151437699795,...   \n",
       "69  69933  [0.01075123529881239, -0.020700616762042046, 0...   \n",
       "\n",
       "                                                texto  label  \\\n",
       "42  mal servicio del hotel, elevador no funcionaba...      0   \n",
       "44  penoso. nos dieron una habitación deplorable.h...      0   \n",
       "47  instalaciones del hotel muy deterioradas. nece...      0   \n",
       "63  el peor hotel en el que me he alojado .... si ...      0   \n",
       "69  servicio pésimo, limpieza cuestionable. mal se...      0   \n",
       "\n",
       "    importancia_tfidf  calificacion  calificacion_limpieza  evaluacion  \\\n",
       "42           4.699726             0                      0         1.0   \n",
       "44           4.342254             1                      0         1.0   \n",
       "47           4.898652             0                      0         1.0   \n",
       "63           4.188763             0                      0         1.0   \n",
       "69           4.999484             0                      1         1.0   \n",
       "\n",
       "    evalucacion_limpieza topico  distancia_al_centroide  \n",
       "42                   1.0      1                0.631439  \n",
       "44                   1.0      1                0.568424  \n",
       "47                   1.0      1                0.703024  \n",
       "63                   1.0      1                0.550413  \n",
       "69                   1.0      2                0.531468  "
      ]
     },
     "execution_count": 21,
     "metadata": {},
     "output_type": "execute_result"
    }
   ],
   "source": [
    "embeddings = np.vstack(df_embeddings[\"embeddings\"].values)  # Convertir en array\n",
    "centroides = df_embeddings.groupby(\"topico\")[\"embeddings\"].apply(\n",
    "    lambda x: np.mean(np.vstack(x.values), axis=0)\n",
    ").to_dict()                                                          # Sacar el promedio de los embeddings por cada topico\n",
    "\n",
    "# Sacar la distancia de todos los puntos al centroide\n",
    "distancias = []\n",
    "for idx, row in df_embeddings.iterrows():\n",
    "    emb = row[\"embeddings\"]\n",
    "    topico = row[\"topico\"]\n",
    "    centroide = centroides[topico]\n",
    "    distancia = euclidean_distances([emb], [centroide])[0][0]\n",
    "    distancias.append(distancia)\n",
    "\n",
    "# Agregar las distancias al dataframe\n",
    "df_embeddings[\"distancia_al_centroide\"] = distancias\n",
    "df_embeddings.head()"
   ]
  },
  {
   "cell_type": "code",
   "execution_count": 22,
   "id": "271a7fd1",
   "metadata": {},
   "outputs": [
    {
     "data": {
      "text/html": [
       "<div>\n",
       "<style scoped>\n",
       "    .dataframe tbody tr th:only-of-type {\n",
       "        vertical-align: middle;\n",
       "    }\n",
       "\n",
       "    .dataframe tbody tr th {\n",
       "        vertical-align: top;\n",
       "    }\n",
       "\n",
       "    .dataframe thead th {\n",
       "        text-align: right;\n",
       "    }\n",
       "</style>\n",
       "<table border=\"1\" class=\"dataframe\">\n",
       "  <thead>\n",
       "    <tr style=\"text-align: right;\">\n",
       "      <th></th>\n",
       "      <th>count</th>\n",
       "      <th>mean</th>\n",
       "      <th>std</th>\n",
       "      <th>min</th>\n",
       "      <th>25%</th>\n",
       "      <th>50%</th>\n",
       "      <th>75%</th>\n",
       "      <th>max</th>\n",
       "    </tr>\n",
       "    <tr>\n",
       "      <th>topico</th>\n",
       "      <th></th>\n",
       "      <th></th>\n",
       "      <th></th>\n",
       "      <th></th>\n",
       "      <th></th>\n",
       "      <th></th>\n",
       "      <th></th>\n",
       "      <th></th>\n",
       "    </tr>\n",
       "  </thead>\n",
       "  <tbody>\n",
       "    <tr>\n",
       "      <th>1</th>\n",
       "      <td>99.0</td>\n",
       "      <td>0.567288</td>\n",
       "      <td>0.122865</td>\n",
       "      <td>0.381042</td>\n",
       "      <td>0.485127</td>\n",
       "      <td>0.534871</td>\n",
       "      <td>0.606739</td>\n",
       "      <td>1.019631</td>\n",
       "    </tr>\n",
       "    <tr>\n",
       "      <th>2</th>\n",
       "      <td>13.0</td>\n",
       "      <td>0.580629</td>\n",
       "      <td>0.073197</td>\n",
       "      <td>0.468297</td>\n",
       "      <td>0.531468</td>\n",
       "      <td>0.599531</td>\n",
       "      <td>0.624906</td>\n",
       "      <td>0.732036</td>\n",
       "    </tr>\n",
       "    <tr>\n",
       "      <th>3</th>\n",
       "      <td>41.0</td>\n",
       "      <td>0.716340</td>\n",
       "      <td>0.074202</td>\n",
       "      <td>0.591582</td>\n",
       "      <td>0.667627</td>\n",
       "      <td>0.710252</td>\n",
       "      <td>0.759542</td>\n",
       "      <td>0.929340</td>\n",
       "    </tr>\n",
       "    <tr>\n",
       "      <th>4</th>\n",
       "      <td>6.0</td>\n",
       "      <td>0.610549</td>\n",
       "      <td>0.061042</td>\n",
       "      <td>0.537445</td>\n",
       "      <td>0.565600</td>\n",
       "      <td>0.603884</td>\n",
       "      <td>0.665338</td>\n",
       "      <td>0.679419</td>\n",
       "    </tr>\n",
       "    <tr>\n",
       "      <th>5</th>\n",
       "      <td>1.0</td>\n",
       "      <td>0.000000</td>\n",
       "      <td>NaN</td>\n",
       "      <td>0.000000</td>\n",
       "      <td>0.000000</td>\n",
       "      <td>0.000000</td>\n",
       "      <td>0.000000</td>\n",
       "      <td>0.000000</td>\n",
       "    </tr>\n",
       "    <tr>\n",
       "      <th>6</th>\n",
       "      <td>1.0</td>\n",
       "      <td>0.000000</td>\n",
       "      <td>NaN</td>\n",
       "      <td>0.000000</td>\n",
       "      <td>0.000000</td>\n",
       "      <td>0.000000</td>\n",
       "      <td>0.000000</td>\n",
       "      <td>0.000000</td>\n",
       "    </tr>\n",
       "  </tbody>\n",
       "</table>\n",
       "</div>"
      ],
      "text/plain": [
       "        count      mean       std       min       25%       50%       75%  \\\n",
       "topico                                                                      \n",
       "1        99.0  0.567288  0.122865  0.381042  0.485127  0.534871  0.606739   \n",
       "2        13.0  0.580629  0.073197  0.468297  0.531468  0.599531  0.624906   \n",
       "3        41.0  0.716340  0.074202  0.591582  0.667627  0.710252  0.759542   \n",
       "4         6.0  0.610549  0.061042  0.537445  0.565600  0.603884  0.665338   \n",
       "5         1.0  0.000000       NaN  0.000000  0.000000  0.000000  0.000000   \n",
       "6         1.0  0.000000       NaN  0.000000  0.000000  0.000000  0.000000   \n",
       "\n",
       "             max  \n",
       "topico            \n",
       "1       1.019631  \n",
       "2       0.732036  \n",
       "3       0.929340  \n",
       "4       0.679419  \n",
       "5       0.000000  \n",
       "6       0.000000  "
      ]
     },
     "execution_count": 22,
     "metadata": {},
     "output_type": "execute_result"
    }
   ],
   "source": [
    "descripcion_distancias = df_embeddings.groupby(\"topico\")[\"distancia_al_centroide\"].describe()\n",
    "descripcion_distancias"
   ]
  },
  {
   "cell_type": "code",
   "execution_count": 23,
   "id": "61e0b445",
   "metadata": {},
   "outputs": [],
   "source": [
    "centroides = df_embeddings.groupby(\"topico\")[\"embeddings\"].apply(\n",
    "    lambda x: np.mean(np.vstack(x.values), axis=0)\n",
    ").to_dict()"
   ]
  },
  {
   "cell_type": "code",
   "execution_count": 24,
   "id": "6652f9f7",
   "metadata": {},
   "outputs": [
    {
     "data": {
      "text/plain": [
       "label\n",
       "2    137\n",
       "1     14\n",
       "0     10\n",
       "Name: count, dtype: int64"
      ]
     },
     "execution_count": 24,
     "metadata": {},
     "output_type": "execute_result"
    }
   ],
   "source": [
    "df_embeddings['label'].value_counts()"
   ]
  },
  {
   "cell_type": "code",
   "execution_count": 25,
   "id": "6551e3b9",
   "metadata": {},
   "outputs": [],
   "source": [
    "embedding_matrix = np.vstack(df_embeddings['embeddings'].values)\n",
    "\n",
    "# # Topicos automaticos\n",
    "id = df_embeddings['id'].values.tolist()\n",
    "id_topic = df_embeddings['topico'].values.tolist()\n",
    "id_importancia = df_embeddings['importancia_tfidf'].values.tolist()\n",
    "id_label = df_embeddings['calificacion'].values.tolist()\n",
    "id_texto = df_embeddings['texto'].values.tolist()"
   ]
  },
  {
   "cell_type": "code",
   "execution_count": 26,
   "id": "b4dcfe02",
   "metadata": {},
   "outputs": [
    {
     "data": {
      "text/html": [
       "<div>\n",
       "<style scoped>\n",
       "    .dataframe tbody tr th:only-of-type {\n",
       "        vertical-align: middle;\n",
       "    }\n",
       "\n",
       "    .dataframe tbody tr th {\n",
       "        vertical-align: top;\n",
       "    }\n",
       "\n",
       "    .dataframe thead th {\n",
       "        text-align: right;\n",
       "    }\n",
       "</style>\n",
       "<table border=\"1\" class=\"dataframe\">\n",
       "  <thead>\n",
       "    <tr style=\"text-align: right;\">\n",
       "      <th></th>\n",
       "      <th>x</th>\n",
       "      <th>y</th>\n",
       "      <th>id</th>\n",
       "      <th>id_topic</th>\n",
       "      <th>importancia</th>\n",
       "      <th>label</th>\n",
       "      <th>texto</th>\n",
       "    </tr>\n",
       "  </thead>\n",
       "  <tbody>\n",
       "    <tr>\n",
       "      <th>0</th>\n",
       "      <td>0.156243</td>\n",
       "      <td>0.073063</td>\n",
       "      <td>43117</td>\n",
       "      <td>1</td>\n",
       "      <td>219.834091</td>\n",
       "      <td>Negative</td>\n",
       "      <td>Mal servicio del hotel, elevador no funcionaba...</td>\n",
       "    </tr>\n",
       "    <tr>\n",
       "      <th>1</th>\n",
       "      <td>0.220769</td>\n",
       "      <td>-0.051600</td>\n",
       "      <td>88340</td>\n",
       "      <td>1</td>\n",
       "      <td>76.880665</td>\n",
       "      <td>Positive</td>\n",
       "      <td>Penoso. nos dieron una habitación deplorable.h...</td>\n",
       "    </tr>\n",
       "    <tr>\n",
       "      <th>2</th>\n",
       "      <td>0.283515</td>\n",
       "      <td>-0.027900</td>\n",
       "      <td>28126</td>\n",
       "      <td>1</td>\n",
       "      <td>268.217739</td>\n",
       "      <td>Negative</td>\n",
       "      <td>Instalaciones del hotel muy deterioradas. nece...</td>\n",
       "    </tr>\n",
       "    <tr>\n",
       "      <th>3</th>\n",
       "      <td>0.225990</td>\n",
       "      <td>-0.145120</td>\n",
       "      <td>37491</td>\n",
       "      <td>1</td>\n",
       "      <td>131.882372</td>\n",
       "      <td>Negative</td>\n",
       "      <td>El peor hotel en el que me he alojado .... si ...</td>\n",
       "    </tr>\n",
       "    <tr>\n",
       "      <th>4</th>\n",
       "      <td>-0.346548</td>\n",
       "      <td>0.323958</td>\n",
       "      <td>69933</td>\n",
       "      <td>2</td>\n",
       "      <td>296.673285</td>\n",
       "      <td>Negative</td>\n",
       "      <td>Servicio pésimo, limpieza cuestionable. mal se...</td>\n",
       "    </tr>\n",
       "  </tbody>\n",
       "</table>\n",
       "</div>"
      ],
      "text/plain": [
       "          x         y     id id_topic  importancia     label  \\\n",
       "0  0.156243  0.073063  43117        1   219.834091  Negative   \n",
       "1  0.220769 -0.051600  88340        1    76.880665  Positive   \n",
       "2  0.283515 -0.027900  28126        1   268.217739  Negative   \n",
       "3  0.225990 -0.145120  37491        1   131.882372  Negative   \n",
       "4 -0.346548  0.323958  69933        2   296.673285  Negative   \n",
       "\n",
       "                                               texto  \n",
       "0  Mal servicio del hotel, elevador no funcionaba...  \n",
       "1  Penoso. nos dieron una habitación deplorable.h...  \n",
       "2  Instalaciones del hotel muy deterioradas. nece...  \n",
       "3  El peor hotel en el que me he alojado .... si ...  \n",
       "4  Servicio pésimo, limpieza cuestionable. mal se...  "
      ]
     },
     "execution_count": 26,
     "metadata": {},
     "output_type": "execute_result"
    }
   ],
   "source": [
    "pca = PCA(n_components=2)\n",
    "fm = pd.DataFrame(pca.fit_transform(embedding_matrix), columns=['x','y'])\n",
    "\n",
    "fm['id'] = id\n",
    "fm['id_topic'] = id_topic\n",
    "fm['importancia'] = id_importancia\n",
    "fm['label'] = id_label\n",
    "fm['texto'] = id_texto\n",
    "fm['id_topic'] = fm['id_topic'].astype(str)\n",
    "\n",
    "# Aplicar la función a la columna de texto\n",
    "fm['texto'] = fm['texto'].str.capitalize().apply(lambda x: agregar_saltos_linea(x, ancho=60))\n",
    "\n",
    "# Modificar la importancia para los negativos\n",
    "fm[\"importancia\"] = np.exp(fm[\"importancia\"])\n",
    "fm['importancia'] = np.where(fm['label'] == 0, fm['importancia']*2, fm['importancia'])\n",
    "\n",
    "fm['label'] = np.where(fm['label'] == 0, 'Negative', 'Positive')\n",
    "\n",
    "fm.head()"
   ]
  },
  {
   "cell_type": "code",
   "execution_count": 27,
   "id": "580f2655",
   "metadata": {},
   "outputs": [
    {
     "data": {
      "application/vnd.plotly.v1+json": {
       "config": {
        "plotlyServerURL": "https://plot.ly"
       },
       "data": [
        {
         "customdata": [
          [
           "Mal servicio del hotel, elevador no funcionaba.. servicio de<br>check in estaba pésimo. duré una hora y media en el check<br>in. el elevador no funcionaba y el cuarto estaba en el<br>quinto piso y todo eso nos lo dijeron al terminar todo. otra<br>cosa primero me pasan un precio y si nomas no me hubiera<br>cuidado o hecho cuentas rápidamente me hubieran cobrado<br>688.00 pesos más. ladrones! aparte el cuarto nunca lo<br>barrieron. pelos y basura en algunos lados. después al final<br>se disculpan y nos prometen regalar una noche pero nunca<br>sucedió sino se cobraron completamente."
          ],
          [
           "Instalaciones del hotel muy deterioradas. necesitan renovar<br>o mejorar inmobiliario, las instalaciones en general ya<br>estan muy viejas, la comida en el restaurate pesima,<br>inclusive el capitan mando retirar un platillo que ya se<br>veia pasado al chef, el aire acondicionado despedia olor a<br>humedad.........."
          ],
          [
           "El peor hotel en el que me he alojado .... si te encanta<br>pesadillas, sin duda te vas a alojar en este hotel. llegamos<br>al hotel tarde por la noche. a la llegada al hotel, nos<br>ofrecieron un café y un bocadillo. la taza de café no era<br>lavados, estaba teniendo la huella de labios de la señora,<br>que utilizó la taza antes que nosotros. fuimos a las<br>habitaciones, vimos que no cambiaban las toallas después de<br>que el huésped previo dejaron la habitación. durante la<br>primera noche no había agua disponible ni en los grifos que<br>ni en la ducha. la baldeadora de wc nunca trabajar durante<br>toda nuestra estancia. había cucaracha tanto en los pasillos<br>y en el cuarto de baño. maté la cucaracha. a las pocas horas<br>decenas de hormigas prisa alrededor de la cucaracha, para<br>comer, supongo. se puede ver esto y mucho más en las fotos,<br>me subí.…"
          ],
          [
           "Le sobran las 5 estrellas.. ni aun teniendo en cuenta la<br>situación del país se puede entender el estado del hotel,<br>los ascensores fallan varias veces todos los días ( en los 3<br>días que me aloje solo puede subir en ascensor en 2<br>ocasiones), en las escaleras hay orines que nadie se<br>preocupa en limpiar con el consiguiente olor que eso provoca<br>( imagínense bajar a desayunar con ese olor…) , humedades,<br>manchas en la moqueta de todo el hotel, pelos en la comida<br>del desayuno, manteles llenos de manchas, el estado del baño<br>deplorable ( bañera con oxido, azulejos de varios tipos,<br>suciedad….), el servicio de recepción muy buenas palabras<br>pero no solucionan nada, por no comentar que cuando les has<br>repetido varias veces las cosas te miran con una sonrisilla<br>y te dicen “ estamos con ello” ….. el problema del hotel…"
          ],
          [
           "El peor hotel en el que he estado parado en. aunque las<br>zonas commnual son buenas las tres habitaciones diferentes<br>mi esposa y yo estuvimos en tienen que ser lo peor que he<br>visto en mi vida. éstas eran todos los pisos inferiores y el<br>olor a humedad era a ser abrumador. había moho negro en el<br>techo, y estoy seguro que las luminarias no le habían<br>quitado durante años. la gente puede decir que esto es cuba,<br>pero yo estaba allí hace 20 años y no estaba tan mal."
          ],
          [
           "Asqueroso. pasamos una noche en este hotel en febrero/15. en<br>una excursión de una noche desde varadero. este es el peor<br>hotel en el que he estado. teníamos moho dentro de las<br>cortinas y una ducha que estaba sucio y sólo funcionaba a<br>veces, los enchufes estaban colgando de las paredes, el<br>ascensor estaba roto y las escaleras estaban sucias. lo<br>mejor fue la cucaracha en el lavabo del baño por la mañana!<br>nos quejamos a la recepción no sirvió para nada. había una<br>escasez de habitaciones en la habana esa semana. la vieja y<br>que necesiten trabajar es una cosa ... no hay excusa para<br>suciedad como eso! eeewww"
          ],
          [
           "No vale el precio. el hotel huele a viejo , mi habitación<br>apenas si tenía una ventana que da a la escalera . olor muy<br>desagradable . el gimnasio con aparatos viejos y que no<br>prenden . las zonas comunes como la alberca muy bien para el<br>precio hay hoteles más nuevos y mejor equipados en el puerto"
          ],
          [
           "Estancia incomoda. me levante unas cuantas veces en la noche<br>por el calor, ya que los aires acondicionados están<br>programados y se apagan automáticamente. el primer día le<br>comenté a la señorita de recepción mas no resolvió el<br>problema y fue hasta el tercer día cuando hicieron algo,<br>donde todo lo que tenían que hacer era programar el aire<br>desde su computadora, en un minuto estaba listo."
          ],
          [
           "Hotel sin encanto. me dio la impresión de que falta<br>personal, o es un hotel poco higiénico. ningún día de la<br>semana que me hospede, estaba limpio, antes de las 7:00 pm,<br>la alberca la limpian a las 15:00 porque cambiaron de<br>proveedor de productos químicos, y eso a los huéspedes que<br>nos tiene que importar?. la hora del desayuno un caos total<br>y cero higiene en las mesas. que horror!"
          ],
          [
           "No se puede esperar lo mismo que 4 estrellas españa. me<br>decidí por la ubicación y los comentarios \"no tan malos\". el<br>hotel por fuera y su entrada/hall esta muy chulo, pero como<br>todo en cuba, le falta mantenimiento. nos dieron una<br>habitación en la cuarta planta con ventana pequeña que daba<br>al patio interior, mucho ruido y mucho olor a humedad, así q<br>pedimos cambio y el segundo día fuimos a una habitación con<br>balcón y muchísimo mejor!! ni comparar! ahora mismo están en<br>obras en el edificio de al lado y si te toca ese lado,<br>seguro que molesta.el desayuno en la quinta planta esta<br>bien, con vistas a la habana. a nosotros la noche nos salió<br>por algo menos de 80€, y había mas económicos, pero este<br>está muy bien ubicado. en el centro mismo. eso si, en cuanto<br>pones el primer pie en la calle, te asaltan para la vuelta<br>en el coche (están…"
          ]
         ],
         "hovertemplate": "Topic=1<br>Label=Negative<br>Dim 1=%{x}<br>Dim 2=%{y}<br>Importancia=%{marker.size}<br>Comentario original=%{customdata[0]}<extra></extra>",
         "legendgroup": "1, Negative",
         "marker": {
          "color": "#636efa",
          "size": [
           219.83409139756372,
           268.2177393839981,
           131.8823719416013,
           197.24236556548172,
           295.82835632391465,
           269.7672060129643,
           142.78928708112386,
           239.3502060526185,
           577.1595633719932,
           292.7361324190947
          ],
          "sizemode": "area",
          "sizeref": 4.052536690623278,
          "symbol": "circle"
         },
         "mode": "markers",
         "name": "1, Negative",
         "opacity": 0.8,
         "orientation": "v",
         "showlegend": true,
         "textposition": "top center",
         "type": "scatter",
         "x": [
          0.1562425952026492,
          0.2835149756034906,
          0.22598991089460962,
          0.16872339683865104,
          0.15916624837298315,
          0.21230521226113555,
          0.3086215452899802,
          -0.16864404280075945,
          0.1241865349441888,
          0.21589775467080702
         ],
         "xaxis": "x",
         "y": [
          0.07306339588788484,
          -0.027900336381871827,
          -0.14511995412623113,
          0.13118278476873144,
          -0.00040790172775123326,
          -0.10469583166670689,
          -0.09786000637607918,
          -0.01811615981337162,
          0.09783639503466297,
          -0.1577499942311751
         ],
         "yaxis": "y"
        },
        {
         "customdata": [
          [
           "Penoso. nos dieron una habitación deplorable.hizo que toda<br>nuestra estancia en la habana la vieramos desde una<br>perspectiva penosa. los ascensores no funcionaban cuando los<br>llamabas, lo mismo tardaban un minuto que tenias que esperar<br>20 minutos, de hecho yo bajé y subí andando dos veces, la<br>escalera para hacerlo estaba en un estado penoso.estuvimos<br>alojados en el piso 9. la habitación muy amplia eso si, pero<br>los muebles mejor estarían en la basura. es mejor no<br>disponer de muebles que tener unos que se caen a pedazos.<br>los cristales de la habitacion tambien añoraban una bayeta y<br>jabon, estaban sucisimos en grado superlativo, no se veia<br>nada. vas con ilusión a un viaje , eliges un 4* y te<br>ofrezcan un hotel que está que se cae pero a precio de 4*.<br>si no tienen medios para arreglar el…"
          ],
          [
           "Habitaciones sucias. me he hospedado por 3 días en este<br>hotel en la habitación 209 y para mí sorpresa al entrar a la<br>habitación a mi llegada decido tomar una ducha y he notado<br>que el wc no ha sido lavado por dentro y por fuera... las<br>sábanas de la cama tenían cabellos (4 para ser exacta)<br>seguido de ello una enorme mancha de sangre. cabellos en el<br>baño ... he ido directamente a recepción a dar mi queja y no<br>han dado solución alguna más que cambiarme de habitación la<br>213. la cual también nuevamente tenía cabello en la cama y<br>en el baño. una de las recepcionistas me dijo que ya habían<br>revisado la otra habitación y que no habían detalles. pues<br>volví a sorprenderme de la clase de \"limpieza e higiene de<br>este hotel\". también he tenido que llamar en repetidas a<br>recepción para pedir almohadas, toallas y…"
          ],
          [
           "Solo para dormir. es un hotel que tiene lo justo y<br>necesario, sin lujos, básicamente para dormir. es limpio y<br>el desayuno bufett esta bien, tiene piscina y hay una<br>pizzeria muy buena detrás del hotel. todos los dias por la<br>noche hay un grupo de salsa que toca buena musica y es muy<br>aceptable. muy cerca al hotel esta la zona de discotecas y<br>se puede caminar hasta el boulevard tranquilamente. no lo<br>recomiendo para familias y la zona que se encuentra es muy<br>tranquila y de muchos touristas."
          ],
          [
           "Campamento de tránsito. este hotel es como un campamento de<br>tránsito. recepción y el bar del vestíbulo es pequeño así<br>que si lo que quieres es sentarte y tomar una bebida tienes<br>que luchar por uno de los pocos asientos con personas con<br>equipaje estará esperando para el transporte o esperando a<br>la llegada. el personal es maleducado y la comida en el<br>buffet es grave. nos alojamos por 4 noches en total y no una<br>vez era la cena caliente. único punto positivo es el tamaño<br>de las habitaciones, aunque el nivel de limpieza necesita<br>mejorar"
          ],
          [
           "Puede ser mucho mejor!. de este hotel debo destacar la<br>amplitud y limpieza de sus habitaciones, lo cual no es<br>directamente proporcional a una buena calidad de descanso<br>pues, al menos en la habitación que nos fue asignada, la luz<br>entraba a primera hora del día y estaba justo al lado de la<br>cancha de tenis, así que lastimosamente desde muy temprano<br>empezó nuestra jornada, tanto por el sol como por el sonido<br>continuo de las pelotas. aunque tiene un buen número de<br>piscinas, las nuevas muy lindas por cierto, me parece que<br>falta una que este adecuada 100% para los niños. el tobogán<br>obviamente es el preferido de todos, pero ya no da abasto y<br>merece, para ser honestos, una actualización y sacarlo de la<br>piscina en la que actualmente se encuentra, pues debido a su<br>reducido tamaño y al tener un bar hace que el…"
          ],
          [
           "Glorias pasadas. estuvimos dos veces en este hotel muy<br>concurrido con un pasado verdaderamente marchita de días de<br>gloria. el personal de recepción puede ser muy brusco y<br>antipático, pero al ser el tipo de formación comunista que<br>tenemos que llenar y firmar los papeles para esto y que<br>constantemente. sin embargo es supongo que en la mayoría de<br>los hoteles en cuba. en cuanto al hotel en sí es muy limpio,<br>con muchas fotografías y artefactos de que ha estado allí.<br>también hay un tour gratuito del hotel que es muy<br>interesante ya que es un famoso punto de referencia, así<br>como un hotel. las habitaciones son limpias, pero un poco<br>maltratada, pero no incluyen un mini refrigerador. los<br>cuartos de baño son un poco en decaimiento y peculiar. mi<br>primera habitación tenía que mantener la puerta del baño…"
          ],
          [
           "Un 3 estrellas con historia. situado en el centro de la<br>habana vieja a metros de todos los sitios de interés<br>turistico, este es un hotel que fue construido en 1908, con<br>mucha historia y una galería fotográfica de la misma. buena<br>atención, como en todo cuba, posee un patio andaluz en<br>planta baja donde se puede almorzar o cenar con música en<br>vivo cubana, las habitaciones son pequeñas pero limpias y de<br>época, lo destacable es el restaurante mirador en el 9 piso,<br>de donde se aprecia toda la habana mientras uno desayuna<br>almuerza o cena en nuestro caso solo hemos desayunado en<br>este hotel, siendo el mismo aceptable, con variedad y frutas<br>frescas. la relación precio calidad es aceptable"
          ],
          [
           "Vacaciones. el hotel está bien ubicado muy limpio algo<br>antiguo...los pasillos de los diferentes pisos te hacen<br>parecer que estás en un hospital.muy buena comida..la<br>atención en general muy buena.el único inconveniente que<br>tuvimos que en nuestra estancia nos ibamos tipo seis de la<br>mañana regresando a las cuatro de la tarde y la habitación<br>tanto la mia como la de mis familiares estaban sin<br>hacer.terminabamos de llegar nos bañabamos y nos acostabamos<br>un rato y comenzaban a golpear para hacer la habitacion y si<br>deciamos ahora no...estamos descansando decian que no era<br>hora de descansar y que quedariamos con la habitacion sin<br>hacer por lo que era imposible el descanso.una lástima...la<br>supervisora llamó a disculparse por mis quejas y ese dia<br>logramos que nos hagan la habitacion ...no asi la…"
          ],
          [
           "Hotel precioso, lugar privilegiado....... gran y bonito<br>hotel con unas vistas espectaculares al morro de la<br>habana,el hotel se acaba de inaugurar es magnifico y las<br>habitaciones también sobretodo contando q en cuba es difícil<br>conseguir ese standard tan alto, tiene varios restaurantes<br>aunque como se acaba de abrir todavía el personal no esta<br>muy rodado sobretodo en gastronomía en limpieza y<br>habitaciones el servicio es bueno.........."
          ],
          [
           "Excelente ubicación!. un hotel deteriorado por los años como<br>todo en cuba, sus habitaciones sin comodidades camas viejas<br>sabanas limpias pero ya muy usadas. el desayuno es variado<br>no es malo. este hotel posee una excelente ubicación entre<br>la habana vieja y la nueva frente al parque donde se<br>encuentra la mayor cantidad de autos antiguos, donde<br>recomiendo a carlos un canadiense-cubano quien nos llevó a<br>conocer muchos lugares interesantes a bordo de un gran bel<br>air. también un amigo muy alegre con quien puedes hacer los<br>traslados del aeropuerto al hotel y de ahí hasta varadero."
          ],
          [
           "Muy bueno. es un muy buen hotel, con muy buenos servicios<br>trato, limpieza, y servicios, ubicación, sin restaurante,<br>con alberca, con abastecimiento de hielo, y maquinas<br>expendedoras de productos, gym , lavandería, dos plazas<br>comerciales a un lado, y servicio de taxi a la puerta,,....<br>solo tiene fallas en el acceso a internet es muy inestable."
          ],
          [
           "Feliz de haber elegido este hotel!. aunque no nos alojamos<br>en el hotel principal (como se muestra en la imagen<br>tripadvisor) esperaba para alojarse, el edificio fue justo<br>al lado y es accesible a través de un pasaje subterráneo (si<br>no quieres salir). las habitaciones eran cómodas y limpias y<br>el personal era muy amable. wifi no era gratuito y tuve que<br>comprar una tarjeta de internet que cuesta $2/1 hora de uso<br>acumulado."
          ],
          [
           "Muy recomendado. me gusto mucho el hospedaje del hotel, muy<br>limpio, con los servicios de desayuno incluido. el estilo<br>del hotel me parecio muy bonito y la decoración muy adecuada<br>a la zona de puebla, la atención de su personal muy buena<br>también. seguro regresamos"
          ],
          [
           "Excelente hotel. excelente atención del servicio de<br>recepción y de limpieza, las personas muy amables, el<br>gerente siempre al pendiente de todo ,las habitaciones muy<br>limpias con adecuada higiene,muy recomendado el hotel y en<br>una buena ubicación en san pedro"
          ],
          [
           "Paseo montejo lo mejor!!. merida ofrece una avenida<br>espectacular por sus construcciones antiguas y hermosas que<br>evocan a los campos eliseos de paris, avenida tranquila y<br>muy limpia que encontraras hoteles, restaurantes, bancos<br>etc. además puedes rentar una calandria y hacer el<br>recorrido, pero no hay nada mejor que caminarla de extremo a<br>extremo."
          ],
          [
           "Excelente hotel. esta muy bien ubicado, limpio, nuevo.estuve<br>3 dias y me parecio muy agradable, hay muchos resurantes y<br>bares cerca para despues del trabajo, incluso con centro<br>comercial para regalos en esta fechas navidenas"
          ],
          [
           "Recomendable. el hotel definitivamente cumple con las<br>expectativas en limpieza, amplio, confort y muy bien ubicado<br>a 3 cuadras del centro. único inconveniente es que cobran el<br>estacionamiento lo cual sería mejor incluirlo en el precio<br>de la habitación. para ir con familia excelente seguridad y<br>confort. muy muy agradable."
          ],
          [
           "Buen trato, buena comida, buenas instalaciones,<br>limpio...perfecto. nuestra estada ha sido perfecta. el hotel<br>muy bien, piscina preciosa, habitacion triple perfecta, cosa<br>que no pasa amenudo en otros hoteles, comida muy buena,<br>limpio, un poco lejos del centro, pero te facilitan<br>transporte gratis... el personal muy amable, sobretodo la<br>recepcion."
          ],
          [
           "Exceent,limpia un verdadero patrimonio de la humanidad. nos<br>encanto, gente amable, seguridad buena comida, buenos<br>hoteles limpia, y variada. mucha historia buenos sitios de<br>interes"
          ],
          [
           "Una joya encantadora en el centro de la ciudad. me sentí<br>como si hubiera entrado en 1930 al entrar en el hotel y era<br>casi esperaba algunos de los famosos mafia jefes suerte<br>luciano o lansky a surgir en cualquier minuto ... el<br>ambiente era extraordinaria! hotel tenía una ubicación<br>estupenda como la habana vieja estaba a sólo unos pocos<br>pasos de distancia. teníamos una habitación superior y era<br>muy cómoda y limpia. el personal del hotel fue muy amable y<br>el desayuno genial. si alguna vez vuelvo al hotel, este es<br>el lugar donde quiero una noche otra vez."
          ],
          [
           "Todo excelente.. la calidad en el servicio, la hospital del<br>personal, y las instalaciones son de primer nivel, cuando<br>visiten la ciudad de monterrey no duden en hospedaese en ese<br>hotel, lo recomiendo ampliamente... les recomiendo que<br>prueben el agua con avocantes que tiene siempre en la<br>recepción, es de lo mejor en temporadas de calor."
          ],
          [
           "Muy buena atención y ubicación. es un buen hotel. está muy<br>bien ubicado, con acceso a diversos establecimientos, en una<br>zona céntrica, con excelente seguridad, la ubicación de la<br>habitación con vista al mar, todo cómodo y limpio, además de<br>estar cerca a lugares turísticos, la pasé muy bien con mis<br>hijas."
          ],
          [
           "A tener en cuenta. un hotel mediano chico, tal vez pero<br>donde uno se siente como en casa. la atención es excelente y<br>cada uno de los empleados se esfuerza al máximo para darle<br>una estadía super satisfactoria. excelente habitación. mucha<br>limpieza y buena variedad de platos para seleccionar"
          ],
          [
           "Excelente hotel!. excelente hotel! muy buena opción para<br>hospedarte, muy buena atención y las habitaciones cómodas,<br>limpias y con muy buen diseño, ya sea en pareja, familia o<br>amigos lo recomiendo ampliamente, buena ubicación."
          ],
          [
           "Buen trato. un hotel muy limpio la verdad, las personas que<br>trabajan muy amables y eficientes,en particular el chico que<br>estuvo el día de hoy,no tenía reserva y me dio una tarifa<br>muy buena, estuve en el piso plus y las chicas de ahí muy<br>atentas y serviciales, recomendado al 100"
          ],
          [
           "Excelente servicio. todo el personal fue muy atento y<br>siempre buscan que tu estancia sea excelente las camas muy<br>comodas y el cuarto muy limpio. la recepcionista laura muy<br>amable tambien. todo el mundo nos atendió de manera<br>excelente."
          ],
          [
           "Excelente ubicación en puebla. hotel bien ubicado, cerca de<br>todo y de fácil acceso, limpieza excelente, camas cómodas,<br>el internet de buena calidad, en general muy satisfecho, lo<br>único criticable es el pago extra por el estacionamiento."
          ],
          [
           "Fiesta americana pabellón m. el servicio, atención,<br>instalaciones, limpieza, restaurante son excelentes, muy<br>cómodo y agradable el hotel, hacen que tengas una excelente<br>estancia. las habitaciones muy cómodas, limpias y modernas,<br>excelente decoración."
          ],
          [
           "Una experiencia increíble a la altura del cualquier hotel de<br>gran lujo!!!. el servicio y el trato del personal impecable,<br>siempre te saludan con una sonrisa, siempre atentos a tus<br>necesidades, sumamente discretos. olvide comprar cigarros y<br>no conocía la zona puesto que era mi primera noche, pregunte<br>en recepción y aunque es un hotel para no fumadores muy<br>amablemente se ofrecieron ir a comprarlos por mi, eso es un<br>plus que pocos hoteles ofrecen, me hicieron sentir sumamente<br>especial. la única sugerencia es tener habitaciones con<br>distintas durezas en colchones ya que acostumbro dormir en<br>colchón sumamente duro por lo cual fue un poco complicado<br>conciliar el sueño, sin embargo esto solo es una sugerencia.<br>gracias por todo!!!!"
          ],
          [
           "Genial. bien situado, cerca de todos los lugares de interés,<br>excelentes habitaciones, muy limpio. el personal no podía<br>ser más amable y servicial. la comida estaba bien, aunque me<br>dijeron que cuba no es conocido por su cocina.dos partes en<br>el hotel, el viejo y el nuevo. nos alojamos en el viejo pero<br>visitamos el nuevo. había unas pocas horas en la piscina en<br>la azotea, que era genial después de un día visitando los<br>lugares de interés turístico. sin duda volveremos a este<br>hotel."
          ],
          [
           "Hotel espectacular. nos quedamos en este hotel 3 noches. muy<br>buen servicio. restaurantes con abundante y muy variada<br>gastronomia. piscina agradable. habitaciones amplias,<br>extremadamente limpio todo. preparsn el mejor mojito en el<br>lobby gran anejo. muy recomendable."
          ],
          [
           "Grata sorpresa. lugar muy atractivo, la zona alrededor de la<br>estrella es muy moderna y sobretodo, muy limpia. detalles<br>bonitos que hacen lucir un puebla distinto.la estrella es un<br>paseo muy divertido y no tienes que hacer largas filas para<br>subir a la misma.el costo es muy accesible, $40 pesos por<br>persona. el viaje dura 20 minutos aproximadamente."
          ],
          [
           "Agradable hotel cerca del centro. esto es bastante moderno<br>hotel situado cerca del centro de puebla. las habitaciones<br>son bastante decente y confortable, el wi-fi funciona<br>bastante bien y los baños tienen bastante con algunas<br>comodidades. el hotel parece bastante moderno y el personal<br>es muy atento. sólo había una pequeño incidente con la<br>limpieza de la habitación que no informó porque estábamos en<br>una prisa."
          ],
          [
           "Gran experiencia. gran hotel con gente estupenda, nos<br>encantó la comida y el entretenimiento en el complejo. sus<br>instalaciones son preciosas y las habitaciones son<br>fantásticas. confortable y muy limpio. tuvimos una estancia<br>fantástica. seguro que volveremos"
          ],
          [
           "Excelente idea. me llamo mucho la atencion la limpieza y el<br>orden, la gente muy organizada, en el metro con espacio para<br>biblioteca. es un excelente transporte para las personas que<br>residen en la zona. interesante visita."
          ],
          [
           "Excelente hotel de precio medio. una gran relación calidad-<br>precio!. excelente ubicación, justo en frente de la playa y<br>a pocos minutos de todos los lugares de interés turístico.<br>máquinas y supermercados de efectivo a la vuelta de la<br>esquina. las habitaciones están limpias y son cómodas y el<br>aire acondicionado funciona más entonces genial. el<br>restaurante tiene un excelente fruta/vegetariano tipo buffet<br>y tiene varios temas de comida. a todo el personal del hotel<br>es muy amable y servicial, y hace todo lo posible para que<br>te sientas como en casa y alojar a los clientes. me sentí<br>como pasar la semana en la casa de amigos - sin duda<br>volveremos!"
          ],
          [
           "Exceltbw estadía. estuve de visita en la ciudad de puebla y<br>el hotel fue de lo mejor, excelente servicio, limpieza<br>impecable y el precio ni se diga, es un hotel moderno y<br>ubicado en magnífica zona, ampliamente recomendado, además<br>atrás del hotel hay una de tantas iglesias de la ciudad y<br>está súper bonita! gracias occidental jf"
          ],
          [
           "Es bastante cómodo estar en este hotel. muy bonito y limpio,<br>el personal es muy amable, las camas son demasiado comodas y<br>lo agradezco mucho, el desahuno es llenador y rico, la<br>ubicación del lugar es excelente y muy accesible, la<br>decoración del lugar es muy amable a la vista, muy buen<br>lugar!"
          ],
          [
           "Recomendable. tiene excelente ubicación céntrica:cerca de la<br>floridita, el malecón y otros puntos de interés. las<br>habitaciones son amplias y limpias, al llegar nos regalaron<br>un agua y un ron havana dorado. la terraza es muy linda y<br>los precios del bar accesibles. el desayuno es variado. el<br>personal es predispuesto. es un hotel clásico de la habana y<br>sin duda volvería."
          ],
          [
           "Impresionante. una de las 7 maravillas del mundo, visita<br>obligada para el que visite cancún o alrededores de la<br>peninsula de yucatán, son edificaciones asombrosas, la<br>principal es el templo de kukulcán.hace mucho calor aquí así<br>que es importante llevar sombrero, bloqueador solar, agua y<br>paraguas (en los tours deluxe ofrecen esto).los vendedores<br>de artesanía acosan mucho y son demasiados, en mi opinión<br>deberían reubicarlos fuera de la zona arqueológica ya que<br>hacen que uno se desconcentre en el recorrido por el lugar."
          ],
          [
           "Excelente estadía. hotel con excelente infraestructura,<br>amplio, moderno, cómodo, bonito, limpio. las habitaciones<br>acogedoras, con todo lo necesario, en excelente estado, muy<br>lindas, con hermosa vistas a la bahía o al mar. personal muy<br>amable, informados y preocupados en todo momento, atentos a<br>cualquier incumplimiento de normas que pudieran atentar<br>contra la seguridad del huésped"
          ],
          [
           "Estancia de 2 días en el hotel panorama.. el registro fue<br>sin problemas, y nuestra habitación estaba en la esquina de<br>una, así que era un buen tamaño. habitación muy limpia.<br>cómodo. la ubicación no era ideal, pero un taxi de 30<br>minutos máximo para llevarlo a la ciudad y lugares de<br>interés. el hotel ofrece un desayuno buffet con habitación,<br>mucha variedad y estaba caliente o refrigerada. lo usaría de<br>nuevo si volviera a cuba."
          ],
          [
           "Excelente. es un magnífico hotel para poder descansa y<br>realizar eventos, todos son muy amables y te ayudan en lo<br>que necesitas, las habitaciones muy limpias, y los servicios<br>tanto de la habitación como del hotel en general es muy<br>bueno"
          ],
          [
           "Delicioso. este es un hotel moderno, limpio y restaurante<br>que sirve platos mayas clásicas. las tortillas recién hechos<br>a mano son calurosos y fabuloso y trajo a la mesa de la<br>piedra culinario. la comida era excelente, fresca y muy bien<br>presentado. esto no es \"gringo\"...experiencia ya que el<br>lugar estaba lleno de familias mexicanas y todo el mundo,<br>sin importar en que parte de la hay una frontera con vino,<br>era tener un buen tiempo y disfrutar de la comida. nos gustó<br>especialmente la cochinita pibil, pero sería difícil<br>equivocarse con cualquier plato ordenados. volvimos dos<br>veces.más"
          ],
          [
           "Realmente bueno, pero mimado. chichen itza id un bien, pero<br>es el único sitio maya que pueden ser fácilmente visitados<br>como un viaje de un día desde cancún. por lo tanto, aunque<br>es magnífica, está estropeado por los vendedores ambulantes<br>y vendedores que atestan las pasarelas tratando de vender<br>\"turista basura\" que realmente te saca algunas de la<br>atmósfera.fuimos a uxmal y tenía todo el lugar toouselves -<br>una mejor experiencia de chichen itza, pero, por favor, no<br>todos rush allí, o toda la rubbiish turísticas se siga"
          ],
          [
           "Súper bien!. además de practico está muy cómodo, tal vez<br>unos pesos más alto que la zona hotelera del aeropuerto pero<br>vale cada centavo. literalmente está cruzando la calle de la<br>terminal b, usas el puente peatonal para que no a la calle<br>te asomes. las habitaciones están muy bien puestas, como es<br>costumbre de esta cadena hotelera, todo funciona, muy<br>limpio, cómodo, funcional, en verdad se descansa. el<br>servicio de alimentos bueno, variado, a buen precio.<br>definitivamente lo recomiendo para la gente de negocios que<br>necesita llegar a descansar antes de un día de trabajo."
          ],
          [
           "Maravillosas vistas. el servicio es muy atento y agradable,<br>es una hotel con muy buena ubicación. la limpieza y el trato<br>del personal es muy bueno, si que se nota las carencias del<br>pais, pero el personal se esfuerza para complacer al<br>cliente. tiene una zona de paseos con restaurantes y bares.<br>la playa es preciosa una joya"
          ],
          [
           "Estuve seis noches en torres del mar. la habitación estaba<br>excelentemente equipada, muy limpia y la atención del<br>personal en general es excelente. posee varias piscinas,<br>servicio de playa y gran cantidad de bares en toda la<br>extensión del hotel torre del mar y anexos. la calidad del<br>servicios y de los bufetes es excelente. en el piso 10 tiene<br>una piscina con una vista inmejorable y también un<br>restaurante gourmet con una cocina excepcional a un precio<br>acorde a la calidad de lo ofrecido."
          ],
          [
           "Estancia cómoda y encantadora en convento viejo histórico.<br>un hotel precioso con un histórico patio, habitaciones<br>espaciosas, limpias y cómodas, y justo en el centro de la<br>parte más hermosa de la ciudad de puebla. estuvimos allí un<br>domingo y había un gran almuerzo en el patio con música de<br>piano en vivo y mimosas y excelente comida. altamente<br>recomendado!"
          ],
          [
           "Excelente lugar.. el hotel cuenta con espacios para adultos<br>y niños. las piscinas son grandes, limpias y suficiente<br>espacio para ubicarnos. la playa es tranquila. buena<br>disponibilidad de sillas y carpas. actividades<br>recreacionales diversas."
          ],
          [
           "Lugar perfecto para personas mayores como nosotros. nos<br>gusta sea garden por su ubicación en la playa y una gran<br>piscina caliente justo en la puerta. personal de actividades<br>encabezado por ab sabe cómo implicar a ancianos y jóvenes<br>por igual. las suites están limpias y el servicio dos veces<br>al día. el restaurante es una operación de calidad y otras<br>opciones cerca. autobuses y camionetas para cualquier<br>dirección están también a pocos pasos, así como las dos<br>tiendas de conveniencia. preparamos la mayoría de nuestra<br>propia comida, pero también hay habitaciones estudio pero<br>sin servicio de café."
          ],
          [
           "Excelente hotel!. muy buen hotel, excelente servicio,<br>excelente comida, excelente paisaje, buenísimo! yo<br>regresaría sin lugar a duda :d lo recomiendo sin ninguna<br>duda! las albercas muy limpias, los meseros muy amables, el<br>costo lo vale todo! excelente hotel sin duda :)"
          ],
          [
           "Servicio y amabilidad. buen servicio al momento de<br>registrase en el hotel, rapidez y amabilidad de parte de las<br>señoritas, habitaciones comidas y limpias, el buffet en el<br>desayuno es bueno, falta tener variedad de platillos."
          ],
          [
           "Muy buen servicio. acceso a la playa fácil, seguro,<br>tranquilo. la zona es limpia, brindan la información<br>completa y de manera oportuna. excelente alternativa para<br>viaje familiar, agradecemos el servicio prestado por su<br>personal, como milton cruz, deimer hamilton y josé carriazo."
          ],
          [
           "Un grandioso edificio. en pleno proceso de limpieza<br>restauración del edificio y la zona emerge el centro<br>neurálgico de la habana,se puede visitar aunque con las<br>obras esta muy limitado, anteriormente se podía subir a la<br>cúpula en la actualidad imposible ya que la reforma esta en<br>esa zona."
          ],
          [
           "Muy buen hotel. un hotel muy grande, y muy lindo, tiene 4<br>piletas grandes, una ubicada en el piso 10 lo que permite<br>disfrutar de una vista inigualable. la limpieza y el confort<br>del hotel es muy bueno, baños amplios y habitaciones con tv<br>led de 32 pulgadas. se encuentra muy cerca del aeropuerto y<br>tiene playa, si bien el mar no es el mejor, es agua caliente<br>y es agradable para bañarse. el hotel es ideal para<br>convenciones. posee cancha de mini golf, tenis, ping pong,<br>espacio dedicado a los niños. mejoraría un poco la comida,<br>en cuanto a la variedad que se podría llegar a ofrecer, de<br>todas formas si recomendaría el hotel. para ir hasta la<br>ciudad amurallada (el mejor lugar para conocer en cartagena)<br>cuesta en taxi aprox. u$s 10."
          ],
          [
           "Una buena experiencia. iba por un matrimonio, y aunque<br>estuve poco tiempo en el hotel vivi una buena experiencia,<br>buen servicio, rica comida, atención excelente, me<br>consintieron mucho. la habitación perfectamente ordenada y<br>la atención en piscina fue excelente."
          ],
          [
           "Hotel fantástico. al haber leído otras críticas para este<br>hotel, no estábamos seguros de lo que podíamos esperar, pero<br>nos sorprendió gratamente. nos dieron una habitación doble<br>estándar, lo cual era muy amplio y nos pasamos un mar y la<br>piscina vista, que era una ventaja. la habitación estaba<br>limpia y bien amueblada. el baño tenía un poco de desgaste y<br>derribadlo pero estaba limpia y tenía todo lo que te puedas<br>necesitar. el vestíbulo del hotel es increíble, te podría<br>perder sirvieras. el personal era amable principalmente. el<br>único inconveniente sólo era el precio - que eran<br>básicamente los precios de inglés. 4.50 pesos convertible<br>por dos cafés white - esto era lo mismo en los restaurantes<br>y bares fuera el hotel - yo vivo en portugal y a pagar 1.50<br>euros al café en nuestra 5 estrellas local -…"
          ],
          [
           "Bueno. la habitación era grande, cómoda y limpia, aunque no<br>había agua caliente en nuestro aseo. el desayuno buffet muy<br>bueno, comida muy variada y de calidad. animación nocturna<br>típica cubana, recomendable. la ubicación muy buena."
          ],
          [
           "Cómodo y práctico. bien, nuevo hotel conectado al aeropuerto<br>de monterrey hizo que mi breve estancia bastante agradable!<br>mi habitación estaba muy limpia y nueva, el personal del<br>hotel era muy agradable y hablaba inglés, y yo disfrutamos<br>del gimnasio. excelente ubicación cerca de la mayoría de las<br>empresas u. s.. la mejor parte es que no puedes oír los<br>aviones!"
          ],
          [
           "Buen hotel. nos alojamos en este hotel sólo por una noche<br>durante nuestro viaje a la habana. el hotel es bonito y<br>limpio, las habitaciones son grandes y cómodas, con una gran<br>cama doble. el cuarto de baño está limpio. la comida es<br>buena, con una buena variedad. bonitas vistas de la habana."
          ],
          [
           "Hotel histórico y un bonito. nos alojamos 3 noches en este<br>hotel en noviembre (teníamos nuestro viaje de luna de miel<br>en cuba). este es un hotel de estilo colonial maravilloso en<br>una ubicación perfecta, con un gran personal, preciosos<br>jardines y está lleno de historia. nuestra habitación estaba<br>impecable, la cama muy cómoda, una gran piscina, jardín<br>encantador. el personal son una maravilla, gente amable.<br>gran buffet de desayuno, y el restaurante. le recomendamos<br>alojarse en nacional!"
          ],
          [
           "Formidable. un hotel perfecto para descansar y muy bien<br>comunicado en la habana. las vistas desde la habitación<br>hacia el malecón y la habana vieja son magníficas. el trato<br>del personal es genial, son muy educados y amables. la<br>limpieza perfecta. la cama genial y súper cómoda. no puedo<br>opinar de la piscina porque no la usamos pero tenía muy<br>buena pinta. muchos restaurantes cercanos para cenar. el<br>desayuno bufet tiene gran variedad de productos y todo muy<br>rico. mi marido y yo, y la pareja de amigos con los que<br>hemos viajado, nos hemos sentido como en casa. es un hotel<br>para repetir, sin duda. lo recomiendo."
          ],
          [
           "Excelente hotel. super limpieza.super comida. bungalow<br>increible con doble aire condizionado.piscina con agua<br>salada natural.a dentro uno de lo mejor centro comercial de<br>l havana con muchisima tienda. espagnola j italiana.50dia<br>que estoj aki.haziendo una quarentena a 5estrella."
          ],
          [
           "Hotel tranquilo alejado del movimiento de la zona moderna de<br>la ciudad lo que permite disfrutar un buen descanso. hotel<br>pintoresco, ubicado en una zona tranquila de cartagena,<br>cuenta con habitaciones muy bonitas y limpias, sobretodo el<br>colchón de la cama que te permite un descanso muy<br>reconfortante y reponedor luego de recorrer todo lo que la<br>ciudad te ofrece personal atento a las necesidades del<br>pasajero, con una muy buena disposición para dar respuestas<br>de forma rápida y eficiente"
          ],
          [
           "Visita al hotel villa la estancia. muy buen servicio por<br>parte del personal muy atentos todos.. bonitas instalaciones<br>su playa es hermosa muy parejita, el hotel está muy limpio,<br>siempre al pendiente de nosotros mucha atención de su parte<br>fidel padilla agente de seguridad leer menos"
          ],
          [
           "Una ubicación excelente en la habana. mi esposa y yo y<br>nuestros amigos muy cerca pasamos 5 noches en el hotel<br>sevilla en la habana. las habitaciones estaban limpias y<br>eran amplias. el vestíbulo y el bar son magníficas. el<br>buffet del desayuno de la mañana tiene todo lo que puedas<br>pedir, incluyendo ofertas especiales y el mejor café que te<br>puedas imaginar. lo mejor de todo es el personal de este<br>hotel, que siempre son amables y hacen grandes esfuerzos<br>para ayudarle con cualquier cosa que necesites. cuando<br>regrese a cuba, sin duda me alojaré en el hotel sevilla."
          ],
          [
           "Estancia perfecta. un hotel excelente, en el que volveríamos<br>a repetir sin duda, el personal es muy amable y atento, en<br>todo momento están para cuando se necesita. las habitaciones<br>son muy amplias, tienen terraza, la limpieza de 10 y con<br>wifi gratuito. hay disponibilidad de varios de servicios<br>tiendas, bus al centro etc... recomendable 100% !!"
          ],
          [
           "Excelente servicio por iliana .... el servicio es impecable,<br>el desayuno muy bueno, la habitación muy limpia ... en<br>general lo recomiendo por su estancia! en una de las mejores<br>ubicaciones en cuba, alrededor de todas las embajadas ... la<br>piscina y las instalaciones son excelentes"
          ],
          [
           "Excelente hotel. accesible a las vias de comunicación<br>rapida, rapida atencion en check in y out, buen desayuno y<br>atención, variedad en los cafes, las habitaciones enotan<br>buena calidad y limpieza, sus colores son amigables e<br>invitan a descansar, la sguridad del hotel dentro fuera muy<br>bien"
          ],
          [
           "Pequeño hotel con encanto. este es un muy pequeño y<br>encantador hotel en el centro histórico de mérida.<br>decoración con encanto, muy confortable, todo de habitación<br>impecable. el personal fue muy amable y muy servicial, me<br>ayudó a organizar un viaje organizado y la recogida del<br>hotel. todos hablan muy bien el inglés. el desayuno<br>(gratuito) se celebró en y cocina exterior, que está<br>disponible para uso de los huéspedes, incluyendo nevera,<br>microondas, horno, etc. también había una pequeña terraza en<br>la azotea con jacuzzi y acceso a la piscina caliente en una<br>ubicación cercana, pero que no la usamos. prepárate a<br>caminar 10 minutos o así de la plaza principal y 5 minutos o<br>así para comer. me alojaría aquí de nuevo y lo recomiendo."
          ],
          [
           "Grand 2 semanas en de méxico. acabo de volver y deseando que<br>estaba en puerto vallarta en el mayan palace. la limpieza<br>era por encima de la media. mi marido, mi hermana y yo nos<br>trataron magníficamente. volveremos el año que viene y<br>espero que la misma habitación en el séptimo piso. francisco<br>hasta era genial. karina era fantástico. las camareras eran<br>tan alegre y estaban tan artístico. la comida es estupenda y<br>las piscinas son estupendas para nadar. incluso pensando en<br>trasladarnos a méxico. recomendaría enormemente este de<br>hotel"
          ],
          [
           "Excelente servicio. es un hotel donde uno se siente muy<br>cómodo, dan un excelente trato, las instalaciones limpias, y<br>cuando alguien necesita algo están dispuestos a apoyarte.<br>agradezco a roció morales por su excelente servicio."
          ],
          [
           "Hotel con piscinas y parque acuatico. recomendado para<br>familias con niños. el bufet del desayuno deberia ser mas<br>variado. resulta mejor comer a la carta que del bufet. fue<br>un hotel de todo mi agrado en instalaciones, limpieza y<br>servicio.."
          ],
          [
           "Excelente servicio. mi pareja tuvo la oportunidad de ir a un<br>congreso de trabajo en cartagena en este hotel, lo que le<br>dio la opción de disfrutar de sus instalaciones, comidas,<br>shows en las cenas durante sus 14 dias de estadía y yo tuve<br>la suerte de acompañarlo. la verdad es que este hotel<br>destaca por su arquitectura colonial, por sus amplios<br>pasillos la gran mayoría con aire acondicionado ( muy<br>necesario para las temperaturas de colombia), su limpieza<br>siempre es impecable, tanto en las habitaciones como en el<br>hotel en general. sus habitaciones son bastante comodas,<br>cuentan con todo lo necesario para descansar, algunas tienen<br>vista hacia \"el laguito\" y cuentan con aire acondicionado,<br>su servicio de aseo es muy bueno. sus comidas son de tipo<br>buffet, y por lo general son bastante variadas, ofrecen…"
          ],
          [
           "Hermozo hotel. hermozo, preserva el medio ambiente,<br>amabilidad, cofor, limpieza y puntualidad se destacan en<br>este hotel, inicio o final de la av. más grande de la ciudad<br>(san martín) , llena de ofertas gastronómicas y centros<br>comerciales"
          ],
          [
           "Recomendable. excelente ubicación, maravillosa atención en<br>todo momento por parte del equipo, limpieza en todas las<br>áreas y habitación, las camas y almohadas son muy cómodas,<br>¡los desayunos exquisitos y el buffet variado! me encantó el<br>detalle de la música de fondo. sólo mejoraría la experiencia<br>en la zona de alberca."
          ],
          [
           "Vale la pena conocerlo. excelente atenciòn, limpieza,<br>desayunos, ubicacion, muy cordiales todos, esta cerca de<br>todo, genial para recorrer a pie y conocer la ciudad, en<br>frente del hotel tambièn podes alquilar autos hermosos , que<br>te llevan a conocer la ciudad o las motos"
          ],
          [
           "Gran hotel. me alojé en el presidente inter-continental<br>monterrey. 5 estrellas. nos alojamos 5 junio 2014. super<br>personal, cómodas camas y habitaciones, el restaurante otro<br>5 estrellas, la comida estupenda. después de trabajar en el<br>calor durante el día me alegré mucho el aire acondicionado<br>funcionaba bien. televisión tenía una buena sección de canal<br>en inglés."
          ],
          [
           "Hotel tradicional. este es un hotel tradicional en<br>cartagena, que refleja verdaderamente el ambiente de la<br>ciudad ... desde su decoración y arquitectura hasta sus<br>kioscos y pasillos al aire libre. las habitaciones nos<br>parecieron cómodas y muy limpias. sin embargo, la actitud<br>del personal (especialmente el personal del restaurante)<br>puede mejorar. delicioso... desayunar con la típica arepa'e<br>huevo recién hecha, la cual uno puede pedir en la fritanga<br>junto a la piscina."
          ],
          [
           "De lo mejor de cuba. muy buen hotel en cuanto a ubicacion,<br>trato y servicios. una vista esplendida de la ciudad y la<br>cosya de la habana. limpio, con amplias habitaciones y de<br>muy buen nivel teniendo en cuenta la hoteleria que ofrece<br>cuba. un precioso salon pata disfrutar de un desayuno<br>abundante y sabroso. realmente recomendable."
          ],
          [
           "Muy bueno. muy buen servicio, excelente ubicacion y precio.<br>la habitacion muy bien limpia y equipada. esta muy centrico<br>y hay muchos lugares de comida y plazas comerciales. lo<br>unico malo es q el cable tiene pocos canales disponibles<br>pero en general muy buen hotel y servicio."
          ],
          [
           "Maravilloso hotel y espectacular ubicación. a pesar de<br>algunas críticas para nosotros incomprensiblemnte adversas,<br>el hotel cumplió con todas nuestras expectativas. tomamos<br>una habitación en el edificio más antiguo (no en la torre) y<br>fue la mejor elección que pudimos hacer. el edificio es<br>imponente, el lobby es hermoso, y el personal y los<br>servicios brindados están a la altura de las circunstancias.<br>ni una queja para hacer. nos sorprendió gratamente la<br>calidez de los empleados cuando nos reconocían como latinos,<br>ya que decían estar muy contentos de poder hablar su propia<br>lengua. impecable la limpieza. buenísimo el desayuno. sin<br>dudas, es \"nuestro\" hotel en la habana. volveremos sin<br>pensarlo."
          ],
          [
           "No se pierdan este hotel en la habana. muy céntrico en el<br>corazón de la habana, música en vivo, una linda terraza con<br>vista a parque central y una langosta enorme por muy buen<br>precio. la terraza mejor en las noches. me quedé en la<br>habitación 206, todo muy limpio pero lo mejor fueron las<br>camareras, las mejores camareras de cuba!!! mantuvieron la<br>habitación impecable y siempre con muy buen humor y<br>sonriendo. gracias por la atención. y gracias a gabi por su<br>ayuda."
          ],
          [
           "Agradable, cómodo!. me alojé por una noche. las habitaciones<br>eran estupendas, limpias y de buen tamaño. el personal era<br>amable y nos dio un buen servicio. el hotel está dentro de<br>un centro comercial, así que hay muchas cosas, restaurantes,<br>tiendas, etc... está en una buena ubicación."
          ],
          [
           "Excelente lugar.. el diseño del hotel es elegante y las<br>habitaciones están decoradas agradablemente, además de<br>contar con todos los servicios. el lugar está limpio y bien<br>ubicado; todos los trabajadores fueron eficientes y amables"
          ],
          [
           "Requiere un poco de mejoramiento. soy cliente del hotel<br>desde hace 20 años y siempre he tenido muy buena experiencia<br>en general.pero creo que es momento de renovar algunos baños<br>de algunas habiraciones.es hora de modernizar.el grifo de la<br>ducha se cae al piso.ya los espejos están con los bordes<br>dañados.hay bichos pequeños en las habitaciones. b7-114 y<br>b7-115. algo mas que no me ha gustado es que programen<br>conciertos y si alguien quiere descansar , no lo va a poder<br>hacer porque esos conciertos se extienden como hasta las 4<br>de la mañana.(enero 4 y 5). de resto , el hotel y su<br>personal , son muy profesionales , y dedicados al servicio<br>de nosotros los huespedes. todo lo demás es<br>excelente.seguiré iendo por mucho años mas , dios mediante."
          ],
          [
           "Buen servicio. muy buen servicio y exclentes instalaciones.<br>el desayuno es muy completo y bastante rico y el personal<br>siemrpe está atento para la limpieza o ver que se le ofrece<br>a los huéspedes. muy buena ubicación de la mayoría de los<br>hoteles fiesta inn."
          ],
          [
           "Me gusto mucho. excelente hotel mucha atención por parte del<br>personal de actividades, kimberly, saúl “el canelo”, ray y<br>tino nos divirtieron mucho. en general siempre tienen mucha<br>limpieza y orden, lo que nos hizo estar muy cómodos"
          ]
         ],
         "hovertemplate": "Topic=1<br>Label=Positive<br>Dim 1=%{x}<br>Dim 2=%{y}<br>Importancia=%{marker.size}<br>Comentario original=%{customdata[0]}<extra></extra>",
         "legendgroup": "1, Positive",
         "marker": {
          "color": "#636efa",
          "size": [
           76.88066518968748,
           67.75412596328452,
           77.56429596921903,
           178.1646599583809,
           365.8678807978253,
           147.41945615043167,
           774.664829959808,
           79.20501433043175,
           58.015152713404035,
           902.0492425006311,
           84.19448649738872,
           147.49410214013776,
           222.4595330724937,
           1254.4801318639695,
           101.26548686292267,
           86.9656691708215,
           275.33896153769035,
           214.48456206525543,
           118.87643698103112,
           75.96491488073428,
           105.07369557091079,
           84.9512462106366,
           338.3567860567059,
           55.49349970246782,
           925.2036944514971,
           1621.0146762493112,
           174.6548066083005,
           252.1828267166987,
           102.53166208382183,
           567.1009655683838,
           107.99946605993912,
           736.0023661132177,
           109.1925185664667,
           511.3531217647691,
           183.67954649033808,
           157.0275118653144,
           173.6260686832104,
           65.81317677819352,
           475.6901048828281,
           57.57115585254342,
           179.63540246604725,
           66.29352439669326,
           290.6928935885931,
           56.65470113588554,
           148.92569197734522,
           367.90655792520334,
           109.70381806044875,
           104.34805832875432,
           319.73938499096226,
           311.8298783785801,
           87.60766191086168,
           95.99719234280245,
           83.70412129930112,
           283.67755583672783,
           55.35750015499708,
           57.30418485645157,
           123.00709093587118,
           84.60833831479113,
           57.693683831548796,
           283.00622959892917,
           110.74548768913729,
           219.54803771891775,
           75.92602847631463,
           771.9103043389188,
           771.0954252731925,
           58.003264127857875,
           98.03664562388899,
           78.00814314420258,
           130.98157377526405,
           162.10021824036866,
           216.248646013211,
           274.43614649297837,
           313.45014819275025,
           77.45078118476528,
           912.3545692104561,
           1054.4597833995986,
           240.10469892162092,
           87.61865539040694,
           111.04821854541466,
           65.36455563961312,
           55.86430838884127,
           139.65039068373693,
           470.80983049177956,
           88.25413842916198,
           131.95435668182225,
           176.6969192847141,
           120.7953194661342,
           332.6988514947666,
           442.6439375155215
          ],
          "sizemode": "area",
          "sizeref": 4.052536690623278,
          "symbol": "diamond"
         },
         "mode": "markers",
         "name": "1, Positive",
         "opacity": 0.8,
         "orientation": "v",
         "showlegend": true,
         "textposition": "top center",
         "type": "scatter",
         "x": [
          0.22076850898210235,
          0.25187695672681104,
          0.32824835465228214,
          0.11005177266472488,
          0.10619217306816194,
          0.23005766327228228,
          0.15673754372198145,
          0.1264026244630427,
          0.2689405481132472,
          0.20795088667871567,
          0.06915251816475841,
          0.31114354085308144,
          0.24448473071660304,
          0.06698463439486665,
          -0.01568710796185816,
          0.22407676348099126,
          0.2314870280835905,
          0.134306695011537,
          -0.21996385940414845,
          0.28443617505942853,
          0.1810421463110221,
          0.27113153530267164,
          0.25248145313300785,
          0.2371863402867335,
          0.14133135626500667,
          -0.38328356319529594,
          0.21525938060579797,
          0.10471789543990738,
          0.31100540244304603,
          0.0012318208933839007,
          0.2571429737846168,
          -0.36689308834263834,
          0.23605290162059306,
          0.2177586183548441,
          -0.20754414696374018,
          0.24940799453933704,
          0.1162057520888325,
          0.18432808880059826,
          0.14197382764608207,
          -0.25364268680798385,
          0.2513128188060144,
          0.2740010139138471,
          0.32240123003505156,
          -0.034517926782869635,
          -0.2145101955485198,
          0.2279328941327246,
          0.1350050292432495,
          0.08191514857926205,
          -0.02646226587029886,
          -0.18933494177674767,
          0.01798462652532483,
          0.17762582500506252,
          0.20105338605867146,
          -0.3191983547105682,
          -0.44027365421950954,
          0.22702262379684518,
          0.20915539115816675,
          0.25894882563567406,
          -0.21802863149361823,
          0.27665032875905377,
          0.23928041388115245,
          0.2882944818977582,
          0.24147684356440802,
          0.1754149705061244,
          0.14481374778868217,
          0.15712050020548893,
          0.22554032636654003,
          0.17567478539528697,
          -0.14123351712971408,
          0.31113926502857964,
          0.2769393860346453,
          0.14911969381748036,
          0.16900834098036527,
          0.12163641362613764,
          0.22106064477024012,
          0.08691408434858239,
          -0.17574398113292589,
          0.07363219977033318,
          0.23635715467595142,
          0.3108478443069841,
          0.23900016052044445,
          0.12521820919231585,
          0.21125346705260423,
          0.10368702960852104,
          0.1427062873536059,
          0.21670217285604787,
          0.3351962234840963,
          0.05549872684186429,
          0.13443287077173052
         ],
         "xaxis": "x",
         "y": [
          -0.05159972980498792,
          -0.007821618498162687,
          -0.07743707028616703,
          0.026000878857695114,
          0.11782285741397866,
          -0.09826511348726938,
          -0.2330430446869746,
          0.11823196526412863,
          -0.0460700905060857,
          -0.07214843686771448,
          0.2077584693187513,
          0.06172021700161919,
          0.03091133826637463,
          0.31168040001355973,
          -0.21034979276404117,
          0.09234397308708384,
          0.08394770144637452,
          0.19336946770947994,
          0.21426851238221553,
          -0.08831118506874562,
          -0.029024129648501287,
          0.014031365438035476,
          -0.019817914466009584,
          0.15439033211621095,
          0.23936672791091773,
          0.3011462506211099,
          -0.0023368457811604078,
          0.01693766347706195,
          0.024219521394042504,
          0.03227319362206755,
          -0.048475236690132185,
          -0.04362303972791762,
          -0.04689035105409112,
          0.07558947172027422,
          0.053293530009667106,
          0.038958419766113694,
          -0.1202066162001411,
          0.03831067855145947,
          -0.09526956888866665,
          -0.3997955306401332,
          0.11892659195089463,
          0.013507366180366704,
          0.16368801081401296,
          -0.31343361716626106,
          -0.25561920610604694,
          -0.021802590996326258,
          0.17021457240577031,
          -0.007140070754667682,
          -0.22714363424934594,
          -0.023836086475849224,
          -0.018723790213538465,
          0.2463134616807221,
          0.2724919798297332,
          0.2211631780893584,
          -0.1235870122348224,
          0.014047495108333925,
          0.010197243147221344,
          -0.0037829650270645426,
          0.06361633601791276,
          0.050286371540557345,
          0.006224967100143118,
          -0.2618979401401956,
          -0.13339861311706006,
          -0.10378272547853278,
          0.01591928531560103,
          0.08168629934650956,
          -0.07873243894940148,
          0.22304613815755245,
          0.21830959864949698,
          0.04045207465777007,
          -0.20666634728462713,
          -0.2910123930749348,
          0.2830561555440992,
          0.07327425054535303,
          -0.06189533818607467,
          -0.016153527572539062,
          0.03269938905761313,
          0.030295963938521075,
          -0.16264802532471262,
          -0.06375273981549884,
          0.00499288300972253,
          0.2281255174750039,
          -0.11462577733101262,
          -0.25052899958466907,
          0.17246690001219875,
          0.17342754653692186,
          0.09308908804360272,
          0.1744107436837288,
          0.08125313189052912
         ],
         "yaxis": "y"
        },
        {
         "customdata": [
          [
           "Servicio pésimo, limpieza cuestionable. mal servicio, me<br>dieron una habitación que no se había terminado de limpiar,<br>el wc negro, sin toallas, pedí 4 veces que las enviaran pero<br>tuve que bajar a la recepción para que lo hicieran, esperé 1<br>hora 40 min."
          ],
          [
           "No. alojarse en una casa. la mejor característica es la<br>fachada. las habitaciones, servicio y limpieza eran estándar<br>de sub. la cena era comida chocante- se sirve frío. todos<br>los miembros del grupo sufrieron intoxicación. el servicio<br>era terrible. recomendación- visita para tomar fotos y<br>salir."
          ]
         ],
         "hovertemplate": "Topic=2<br>Label=Negative<br>Dim 1=%{x}<br>Dim 2=%{y}<br>Importancia=%{marker.size}<br>Comentario original=%{customdata[0]}<extra></extra>",
         "legendgroup": "2, Negative",
         "marker": {
          "color": "#EF553B",
          "size": [
           296.6732850626912,
           113.70149003241708
          ],
          "sizemode": "area",
          "sizeref": 4.052536690623278,
          "symbol": "circle"
         },
         "mode": "markers",
         "name": "2, Negative",
         "opacity": 0.8,
         "orientation": "v",
         "showlegend": true,
         "textposition": "top center",
         "type": "scatter",
         "x": [
          -0.34654817108226826,
          -0.17213146773544608
         ],
         "xaxis": "x",
         "y": [
          0.323957786558699,
          0.15612186326069147
         ],
         "yaxis": "y"
        },
        {
         "customdata": [
          [
           "Escapada familiar. el personal fue maravilloso en el<br>complejo. sin embargo me enfermé después de sólo dos días<br>comiendo en su buffet. no creo que era mucho la comida pero<br>cómo la comida. fue un comedor con pájaros volando alrededor<br>de las mesas y desembarque en donde la comida se servía.<br>algunas veces había plumas de aves en los platos. aves caen<br>en las sillas. trabajaron arduamente tratando de mantenerlo<br>limpio pero no estaba trabajando. la habitación estaba bien,<br>tenían problemas de moho. las piscinas donde la mejor parte<br>del complejo. nuevo que hacen de este lugar es el personal<br>son muy amables y dispuestos a ayudarte."
          ],
          [
           "Bueno. en general las instalaciones están bien a pesar de no<br>tener aire acondicionado en la habitación, la atención es<br>muy agradable además de estar todo muy limpio. cuenta con<br>todas las medidas de seguridad e higiene derivada de la<br>contingencia covid-19. altamente recomendable!!!"
          ],
          [
           "Vacaciones para todos. excelente hospitalidad e<br>instalaciones. un montón de actividades para todas las<br>edades. fue un gran centro de adolescentes (hace 2 año<br>además). los jardines y las habitaciones muy limpias y la<br>cama era cómoda. buena selección de restaurantes. top spa<br>clasificado con una variedad de servicios."
          ],
          [
           "Buenas vacaciones. muy buenas vacaciones con excelente<br>atención del personal. comida buena (aun que si me hubiera<br>gustado opción de bufet al medio día y noche) muy agusto,<br>muy bonito y muy cuidado. solo le mejoraría más limpieza en<br>habitaciones, nos limpiaron muy por encimita y si llevaba<br>niños."
          ],
          [
           "Descanso total. fue excelente la experiencia, nos gustó todo<br>en general especialmente el personal muy queridos, la playa<br>es la mejor que tiene cartagena, la bioseguridad súper, me<br>agradó la animación y la limpieza de la habitación y áreas"
          ],
          [
           "Excelente atención.. recibimos una excelente atención de<br>parte de alma, luz, cesar, fabiola, areli y juan g. todos<br>personal de staff en el restaurante ciao. como áreas de<br>oportunidad está la limpieza de las habitaciones así como la<br>variedad en la comida y en ocasiones notamos que se pasaba<br>de sal. prácticamente no hay pescado por ejemplo. en la cena<br>de año nuevo excelente todo. una producción de lujo."
          ],
          [
           "Bussiness class. personal empatico, muy amable y atento,<br>habitaciones limpias quiza algo antiguas dependiendo del<br>tipo de habitacion requerido, en general el costo conta<br>habitacion es muy bueno, excelente opcion para personas de<br>negocios, internet de alta velocidad"
          ],
          [
           "Muy cómodo y limpio. excelente estadía, la habitación<br>sumamente cómoda y limpia, personal amable y servicial. la<br>cama increíblemente cómoda, apenas la toque y dormí wifi<br>gratis, y buenas cortesías servicios de valet excelentes<br>ninguna queja"
          ],
          [
           "Muy buen hospedaje y sobre todo atención a clientes. la<br>srita reyna y el sr osvaldo me ayudaron a localizar a un<br>familiar en monterrey, la gente de misión muy amable,<br>volveria a hospedarme ahi definitivamente, la habitacion que<br>me toco estaba bien limpieza todo ok."
          ],
          [
           "Excelente. el servicio en general fue excelente y las<br>habitaciones amplias y en excelente estado todo limpio,<br>camas y almohadas cómodas, los botones y y los señores de<br>recepción muy amables todo bien, el estacionamiento tiñe<br>costo de $130 por noche"
          ],
          [
           "Muy complacida. todo cumplió con lo ofrecido y muy<br>complacida .. mi hijo feliz... la infraestructura, el<br>servicio y la amabilidad del personal, la seguridad en todas<br>las formas, guardas y salvavidas genial... las habitaciones<br>muy cómodas y limpias......"
          ]
         ],
         "hovertemplate": "Topic=2<br>Label=Positive<br>Dim 1=%{x}<br>Dim 2=%{y}<br>Importancia=%{marker.size}<br>Comentario original=%{customdata[0]}<extra></extra>",
         "legendgroup": "2, Positive",
         "marker": {
          "color": "#EF553B",
          "size": [
           68.36185619601845,
           935.513171804001,
           914.995815728849,
           88.37075774770572,
           243.21763941050733,
           510.82567240918667,
           72.36825726619405,
           274.84698153818135,
           252.58899596346552,
           61.74423319665541,
           715.107548119646
          ],
          "sizemode": "area",
          "sizeref": 4.052536690623278,
          "symbol": "diamond"
         },
         "mode": "markers",
         "name": "2, Positive",
         "opacity": 0.8,
         "orientation": "v",
         "showlegend": true,
         "textposition": "top center",
         "type": "scatter",
         "x": [
          -0.23817720090982453,
          -0.04975130782871859,
          0.06186806363655128,
          -0.28101233966826084,
          -0.4021245228001298,
          -0.09535191490140038,
          -0.11006167877121285,
          -0.06806421704795103,
          -0.07124408240513273,
          -0.3266075607729726,
          -0.23532281450072529
         ],
         "xaxis": "x",
         "y": [
          -0.013252859079122985,
          0.14535177278455572,
          0.1438670450989047,
          0.2590759951417564,
          0.029183074079086723,
          0.0703117527997516,
          0.15907568352006587,
          0.371287652038492,
          0.06847599911822085,
          0.3063338327857758,
          0.2339740257983481
         ],
         "yaxis": "y"
        },
        {
         "customdata": [
          [
           "Todo muy normal. hemos ido con la familia que ha venido de<br>argentina, la verdad esta algo descuidado he pensado que el<br>recorrido es un poco aburrido , necesita más limpieza y<br>atracciones."
          ]
         ],
         "hovertemplate": "Topic=6<br>Label=Negative<br>Dim 1=%{x}<br>Dim 2=%{y}<br>Importancia=%{marker.size}<br>Comentario original=%{customdata[0]}<extra></extra>",
         "legendgroup": "6, Negative",
         "marker": {
          "color": "#00cc96",
          "size": [
           807.322790666112
          ],
          "sizemode": "area",
          "sizeref": 4.052536690623278,
          "symbol": "circle"
         },
         "mode": "markers",
         "name": "6, Negative",
         "opacity": 0.8,
         "orientation": "v",
         "showlegend": true,
         "textposition": "top center",
         "type": "scatter",
         "x": [
          -0.4453902795430037
         ],
         "xaxis": "x",
         "y": [
          0.01937782684393642
         ],
         "yaxis": "y"
        },
        {
         "customdata": [
          [
           "Nada fuera de lo normal. es una larga vereda a la orilla del<br>mar, sin iluminación (o muy deficiente en algunos tramos),<br>no tiene banquitas para sentarse ni sombra para protegerse<br>del sol. en la noche se llena de gente que bebe ahí mismo, y<br>deja todo sucio."
          ]
         ],
         "hovertemplate": "Topic=3<br>Label=Negative<br>Dim 1=%{x}<br>Dim 2=%{y}<br>Importancia=%{marker.size}<br>Comentario original=%{customdata[0]}<extra></extra>",
         "legendgroup": "3, Negative",
         "marker": {
          "color": "#ab63fa",
          "size": [
           221.10980326129277
          ],
          "sizemode": "area",
          "sizeref": 4.052536690623278,
          "symbol": "circle"
         },
         "mode": "markers",
         "name": "3, Negative",
         "opacity": 0.8,
         "orientation": "v",
         "showlegend": true,
         "textposition": "top center",
         "type": "scatter",
         "x": [
          -0.40251946097695657
         ],
         "xaxis": "x",
         "y": [
          -0.11926899516137215
         ],
         "yaxis": "y"
        },
        {
         "customdata": [
          [
           "El ultimo pulmon de monterrey. aunque el patronato que lo<br>administra se ha vuelto mas una caja de cobros para<br>cualquier servicio, lo mantienen en promedio limpio, me<br>gusta tomar las veredas y salirse un momento del ruido de la<br>ciudad."
          ],
          [
           "Cuidado con los niños, si la visitas de noche. prepárate<br>para los vendedores ambulantes.. aparte de su belleza<br>histórica y arquitectónica, en la noche se convierte en otra<br>cosa. es chocante ver la prostitución rampante y de<br>diferentes edades, (fue sin duda lo más que me chocó y que<br>nos advirtieron los taxistas y que según nos dijeron es<br>legal, siempre y cuando no sean menores de edad). los niños<br>no pueden entrar a los negocios aunque estén acompañados de<br>sus padres y sean turistas (por ley). los vendedores<br>ambulantes son una cosa seria. te hostigan, te persiguen; es<br>una cosa de locos. hay viajes en carreta por un costo, pero<br>con los caballos viene la peste a caca. en general cartagena<br>no me gustó y la salubridad y limpieza es seriamente<br>cuestionables."
          ],
          [
           "Mejores restaurantes en el complejo. fusión asiática en<br>méxico? claro que sí! como llegar en vancouver (y nos dan<br>gran asiática en casa). el brócoli stir fry, el dim sum, y<br>no te marches sin el banana gong postre! sake está<br>disponible y sabroso y asequible (no podría haber dejado<br>ninguna para vosotros ;) un ambiente agradable especialmente<br>después de la puesta del sol, justo en el campo de golf.<br>como con todo en el complejo servicio era impecable. no,<br>pero mi en leyes juro por el pato pekín."
          ],
          [
           "Excelente opción fuera del centro de mérida. llegué en plan<br>de negocios a mérida y decidí hospedarme aquí por la<br>cercanía con el centro de convenciones siglo xxi. muy<br>cómodo, limpio, tranquilo, moderno, bien equipado. wifi<br>gratis y funcional. vista panorámica y muy buen menú de<br>cable. servicio eficiente, amable y discreto. buena relación<br>costo-servicio. volvería a hospedarme."
          ],
          [
           "Excelente comida, servicio y ambiente. este restaurante es<br>que no se debe perder cuando en la habana. estaba allí para<br>el almuerzo y el carpaccio de pulpo y ceviche entrantes eran<br>absolutamente el mejor de todos. campo principal era la<br>cocina tradicional cubana de ropa plato viejo. todo el<br>restaurante...estaba bastante limpia y era cómoda. el<br>servicio fue eficiente y muy hospitalario. mi experiencia<br>fue agradable y volveremos el próximo viaje a la habana!más"
          ],
          [
           "Nada mejor para capear el calor. un lugar agradable , buena<br>atención , buena musica y excelente cerveza, esta muy bien<br>ubicada se puede llegar dese cualquier lugar de hecho todos<br>los dias que estuve fue mi lugar de reunion en la noche"
          ],
          [
           "Un bello espacio para el disfrute del buen arte. disfruté<br>mucho la visite que hice al museo botero en bogotá. la<br>colección y la variedad de las obras del maestro fernando<br>botero es exquisita. las piezas de los artistas<br>internacionales que el maestro donó al museo son<br>impresionantes. el montaje propiamente de la exposición es<br>fenomenal. y la arquitectura de la casa le da un marco<br>ambiental único, muy grato. pasé un poco más de 2 horas y el<br>tiempo pasó volando. me impactaron de manera especial las<br>esculturas en bronce, por su belleza y acabado impecable."
          ],
          [
           "Vacaciones 2022. ecxelente servicio, instalaciones super<br>limpias, germán rhenals, luis arrieta, levis, jorge el<br>barman cada uno de ustedes hacen un super equipo de trabajo<br>que se transmite al visitante, super recomendado, desde que<br>ingresas hasta que se termina la estadía todos están<br>pendientes de que la estés pasando como te lo esperabas,<br>superaron mis espectativas! me encantó conocerlos"
          ],
          [
           "Un sistema digno de mostrar. un sistema de transporte<br>público que integró efectivamente a la población de la<br>ciudad. muy bien cuidado, querido por lo paisas y muy<br>limpio. digno de conocer y mostrar a visitantes y turistas,<br>sobretodo el de santo domingo y hacer transbordo para ir<br>hasta el parque arvi."
          ],
          [
           "Uno de nuestros favoritos. hemos comido en la laguna por lo<br>menos una vez al año durante nuestra visita al complejo<br>maya. el es un corto viaje en taxi desde el complejo maya y<br>siempre una noche de diversión con un personal muy atento en<br>un restaurante limpio con buena comida y bebidas. nunca me<br>han decepcionado, ni tener nuestros clientes. cuando pedimos<br>familiares y/o amigos donde les gustaría comer, este lugar<br>siempre está en la lista. nos gustó especialmente el camarón<br>envuelto en tocino y por supuesto sus margies son lo mejor.<br>y sí, volveremos en nuestra próxima visita a méxico."
          ],
          [
           "Excellent room & excellent service. todo en orden con una<br>sonrisita. moderno y limpio. todos los empleos nos<br>atendieron con entusiasmo y alegría. el sky bar estuvo super<br>divertido con una vista impresionante de la ciudad.<br>regresaremos sin duda."
          ],
          [
           "Excelente cocina tradicional yucateca. es una maravilla<br>poder degustar platillos regionales preparados con esmero.<br>las diferentes especialidades conservan sus mas exactos<br>sabores y texturas. optima presentacion y el servicio es<br>impecable. un placer cada vez."
          ],
          [
           "Que grande es la cantina la 15. me pareció excelente el<br>servicio, muy amable el personal, deliciosa la comida, buen<br>servicio en general, todo muy limpio, las mesas limpias,<br>música muy variada"
          ],
          [
           "Muy recomendable. es un lugar muy limpio y agradable en<br>cuanto a relación precio se refiere, ademas de añadir que el<br>trato del personal es muy accesible y amable recomiendo<br>ampliamente este lugar para hospedarse ......"
          ],
          [
           "Giornatta. servicio por parte de gonzalo impecable,<br>recomendado por el ambiente y el servicio, postres con<br>presentación impecable pero sabor un poco corto"
          ],
          [
           "Un lugar para no perdérselo. es un lugar muy imponente, me<br>llamó la atención como en todo cuba, la limpieza, el orden y<br>la tranquilidad que experimenté caminando por sus calles.<br>lamentablemente no pudimos ingresar al museo de la<br>revolución ya que lo estaban acondicionando. destaco<br>nuevamente la guía turística que nos tocó, una eximia<br>profesora de historia, con una gran cultura general y amor<br>por su profesión, sin dejar de lado la objetividad de los<br>hechos."
          ],
          [
           "Paseo familiar. una excelente opcion para disfrutar un<br>agradable paseo en familia.... el lugar muy limpio, muy<br>cuidado y con mucha seguridad. vale la pena un poco de fila<br>para el paseo en lancha. muy bonito lugar!"
          ],
          [
           "Una ventana indiscreta para ver a medellín. los metrocables<br>de medellín, tanto el que viaja al parque arví como el que<br>se dirige al corregimiento de san cristobal, son los medios<br>por excelencia para apreciar la medellín de las comunas, esa<br>medellín de callejuelas intrincadas, de barrios pegados a<br>las laderas de las montañas donde la vida fluye a un ritmo<br>distinto a mitad de camino entre el de los pequeños pueblos<br>y la ciudad cosmopolita. desde el aire, la gente se deja ver<br>en sus cotidianidades sin apenas percibir el paso del<br>metrocable que cruza por su cielo, una ventana indiscreta<br>para ver a medellín. el servicio por lo demás, es barato,<br>seguro, ordenado, limpio y vigilado."
          ],
          [
           "Como comer en casa. buenísima la comida, con sazón casero.<br>comimos tacos de asada, mole poblano y molote de tinga con<br>quesillo, el agua de limón de llano excelente. andrés nos<br>atendió súper bien y el lugar muy limpio. seguro regreso."
          ],
          [
           "Confortable. muy limpio y buen servicio, esta bien ubicado y<br>descanse muy bien, se me presento la oportunidad de<br>conseguir muy buen precios, en general disfrute mi estancias<br>y tienes varias opciones para cenar a la mano."
          ],
          [
           "Curso. excelente lugar para ir a un curso, salas amplias con<br>limpieza y buen servicio, una excelente vista a la playa,<br>cualquiera de los baños son amplios y pueden ser usados por<br>gente con discapacidad con facilidad."
          ],
          [
           "Bueno bonito y barato. comida: buen sabor y buena cantidad<br>bebida: mojito frappé muy bueno lugar: acogedor y limpio<br>precios muy buenos recomendación: hacer una reserva cuidado:<br>algunas personas que estan por alli te mienten y te dicen<br>que justo ese dia esta cerrado que yo sepa este<br>restaurante...más"
          ],
          [
           "Un viaje para los que disfrutan del camino tanto como de la<br>meta.. la ciudad perdida ha sido una experiencia increíble.<br>fui de improvisado habiendo decidido ir un día antes. fueron<br>cuatro días de ruta, con fuertes subidas y bajadas, un calor<br>tremendo y una tarde con una gran tormenta. aun así disfrute<br>en todo momento del viaje. unos paisajes espectaculares y al<br>final la ciudad perdida, situada en un lugar precioso. esta<br>no se trata de una visita a un monumento o unas ruinas para<br>pasar el rato, es una experiencia de inmersión en la sierra<br>nevada en la que a traves de cuatro dias de camino, paisajes<br>espectaculares, unos compañeros de todas partes y el<br>conjunto de guias e indigenas espectaculares que dirigen la<br>ruta pasa a ser una experiencia totalmente diferente."
          ],
          [
           "Extraordinario!!!!. simplemente lo mejor, personal<br>capacitado, instalaciones en perfecto estado!! comida súper<br>rica, área de playa muy cómoda y muy limpia, nos toco ver<br>algunas rayas jugando entre las olas, la diferencia de<br>edades entre mis hijas es mucha y todas la pasaron<br>increíble, simplemente las mejores vacaciones en familia"
          ],
          [
           "Muy interesante. es una parada obligatoria si estas en<br>guanajuato !! el museo es muy limpio & muy barato el acceso<br>, solo falta un poco de amabilidad por parte del personal<br>pero en general todo esta super bien & forma parte de la<br>cultura de la ciudad !!"
          ],
          [
           "Siempre es la elección perfecta. una tarde maravillosa en<br>familia con la vista espectacular del malecón habanero<br>durante el atardecer, el trato impecable y los platos<br>espectaculares. muy agradecidos por hacer que nuestra tarde<br>fuese perfecta"
          ],
          [
           "Muy bueno. muy buen restaurante con especialidad en mariscos<br>, buena atención y limpieza , precios de gamma media a alta<br>, la recomendación son los langostinos a la pigua con<br>mantequilla y queso parmesano , la ensalada de pulpo, el<br>pulpo a las brasas , filete...más"
          ],
          [
           "No se puede dejar de conocer. la cuidad amurallada es un<br>lugar emblemático de cartagena , no sé puenden visitar<br>cartagena sin conocer las murallas. un lugar pintoresco con<br>bellísimos balcones,bares y restaurantes. a mí criterio no<br>la mantienen limpia, es una lástima, y la mayor contra sobre<br>todos en las primeras cuadras es él acoso de vendedores<br>ambulantes, peronista la ciudad no pierde su encanto."
          ],
          [
           "Visita obligada. desde la entrada única para el bar de la<br>azotea al impecable servicio en las distintas salas del<br>restaurante, este sería un establecimiento de primera<br>categoría de cualquier ciudad del mundo. asegúrate de que tu<br>reserva está en temprano, así que no te mss."
          ],
          [
           "Delicioso!. pescado zarandeado, camarones empanizados con<br>coco, camarones a la cucaracha... todo delicioso y con un<br>servicio muy bueno. además tiene la visa a la laguna con sus<br>habitantes las tortugas y el cocodrilo que se acercan para<br>saludar."
          ],
          [
           "Excelente experiencia. es un excelente lugar para compartir<br>con familia, pareja o amigos. la atención es impecable y la<br>comida de calidad. recomendado 100%"
          ],
          [
           "Qué noche.... bien, ¡simplemente perfecto! el espectáculo de<br>luz, sonido capturado nuestra imaginación tan limpio,<br>innovador. comida deliciosa, un servicio excelente! fuimos<br>tres veces y disfrutamos de la cena! tempura de camarones. .<br>este es un éxito, cocinado un poco marrón. comer, pero<br>sentir traviesos podía haber tenido tres porciones y cada<br>vez que he visitado tengo este plato. la lubina es<br>excepcional, tanto de nosotros tuvimos este tres veces. el<br>sabor realza el pescado perfectamente. nuestro postre<br>favorito, luz, citrusy después de una comida abundante. . .<br>yuzu. . un mousse de lima con. leche gotas. . una sorpresa..<br>disfrutamos de nuestras fechas."
          ],
          [
           "Almuerzo cumpleaños. decidimos probar \"la experiencia\" de<br>tierra, la cual consta de 3 entradas 1 plato fuerte para<br>compartir. la selección de platos y recomendaciones de los<br>cocktails nos dejaron felices y con ganas de volver, la<br>atención por parte de ariel fue impecable. recomedadisimo<br>para compartir...más"
          ],
          [
           "Excelente hospitalidad. el equipo te hace sentir en casa,<br>cerca de los centros de negocios importantes en la ciudad.<br>tienda de autoservicio a 2 minutos caminando. gran nivel de<br>confort y limpieza. mejorable el horario de la alberca y el<br>servicio de facturación de alimentos y bebidas"
          ],
          [
           "Hermosa. imperdible el paseo por la ciudad amurallada, si<br>van de dia que sean paseos cortos por el calor, en la noche<br>las luces le dan un ambiente especial, muy activa, muy bien<br>conservados los detalles arquitectonicos"
          ],
          [
           "Hermoso recinto. es un edificio hermoso, la vista desde<br>arriba es bonita, solo ojalá la gente que lo visita lo<br>mantuviera mas limpio."
          ],
          [
           "Vacaciones. todo el servicio, desde el personal de la caseta<br>de entrada, servicio de seguridad,limpieza, restaurante,<br>animadores fue excelente. la comida muy rica. y sobre todo<br>en estos tiempos las medidas de higiene fueron las<br>adecuadas. muchas gracias"
          ],
          [
           "Muy moderno.!!!!. medellin es una ciudad muy bella, pujante<br>con mucha tecnología a disposición de su gente y de los<br>visitantes. no es casual que esté catalogada cómo la ciudad<br>más innovadora. su metrocable es parte de esa innovación que<br>sirve para el rápido traslado de las personas. limpio y con<br>gran puntualidad."
          ],
          [
           "Monumental. es ideal recorrerlo con un guia, para poder<br>aprovechar la informacion historica. se puede llegar a<br>traves de distintos medios. el calor no es una dificultad y<br>la altura, tampoco"
          ],
          [
           "Viaje familiar. excelente relación precio-calidad, mi viaje<br>fue familiar y la pasamos de maravilla, en esta ocasión no<br>fui al restaurante, en mi anterior viaje la comida estuvo<br>muy rica. limpieza, atención y la alberca muy buenas"
          ]
         ],
         "hovertemplate": "Topic=3<br>Label=Positive<br>Dim 1=%{x}<br>Dim 2=%{y}<br>Importancia=%{marker.size}<br>Comentario original=%{customdata[0]}<extra></extra>",
         "legendgroup": "3, Positive",
         "marker": {
          "color": "#ab63fa",
          "size": [
           74.37234947168574,
           121.78617708549288,
           71.71887745639822,
           201.9936041926889,
           76.90566556758787,
           61.365166075839475,
           62.36419196785294,
           71.61966368590085,
           64.89858147481925,
           116.31459527046353,
           89.1911559505047,
           317.1239620401374,
           738.7858617932482,
           233.8934510797524,
           107.56075021279663,
           314.82713847831275,
           183.49478592414076,
           110.99406526316702,
           695.7705661634886,
           985.0652272811731,
           79.8374969332371,
           425.6733439484717,
           75.31311035273112,
           62.045897462620474,
           76.47841053366156,
           1010.2881571610818,
           114.84692256400051,
           562.116904896292,
           61.136940591478464,
           134.65550638961466,
           74.09081903138171,
           215.20790655025107,
           155.47368502771917,
           102.49108856116626,
           66.79522164374536,
           132.45695882115882,
           443.57867405719924,
           92.3896888828858,
           73.63573788042945,
           79.0094953719782
          ],
          "sizemode": "area",
          "sizeref": 4.052536690623278,
          "symbol": "diamond"
         },
         "mode": "markers",
         "name": "3, Positive",
         "opacity": 0.8,
         "orientation": "v",
         "showlegend": true,
         "textposition": "top center",
         "type": "scatter",
         "x": [
          -0.16706421772005228,
          -0.12410994289385467,
          -0.035963130161085384,
          -0.04928457696201932,
          -0.07573001611931646,
          -0.26849356907332994,
          -0.26372475417013586,
          -0.32255359276850054,
          -0.1697868422074946,
          0.07413436994684362,
          -0.27528658550150725,
          -0.20668147526154648,
          -0.2392591140156267,
          -0.46910419823448724,
          -0.18655273653181687,
          -0.279666724673077,
          -0.4721234731998245,
          -0.17583988672662648,
          -0.13215366214189375,
          -0.43978885468920054,
          -0.44193924839887877,
          -0.12028982362016499,
          -0.19616145484401754,
          -0.31268619493605365,
          -0.22196989449242016,
          -0.451683745293653,
          -0.12160529596013514,
          -0.14008221626288417,
          0.006037310743651314,
          -0.08387489813458725,
          -0.29972369473115734,
          -0.21373058478448576,
          -0.22701253185646517,
          -0.1888763786551148,
          -0.1576797134031977,
          -0.29990622778090004,
          -0.19855007561948942,
          -0.18645814824757018,
          -0.20528384690341686,
          -0.08566473579458826
         ],
         "xaxis": "x",
         "y": [
          -0.07310953017222993,
          -0.06557974135395522,
          -0.2835878900570078,
          0.07328630409438837,
          0.018271316558407524,
          -0.16535356367245857,
          -0.3999129744336061,
          0.17762716564218686,
          -0.033373916510350043,
          -0.18717332573257997,
          0.03246376655470077,
          -0.20004102272955507,
          0.069716721858666,
          0.23728427574453925,
          0.13372355405597586,
          -0.14586842362031494,
          0.1343482457814409,
          -0.25509128955807925,
          -0.026114032658626937,
          0.31943114672297573,
          0.2249319771459068,
          -0.03079752184372686,
          -0.36235724466253993,
          0.039607733864157064,
          -0.06981847860464777,
          -0.33570845438130503,
          -0.04026563930705052,
          -0.1757391347318319,
          -0.04328382576507377,
          -0.15955849443101264,
          0.019425115533725983,
          -0.18580414029360362,
          -0.29818975933383585,
          0.27352307953257404,
          -0.27387997317663054,
          -0.06646449377477798,
          0.2701737821922145,
          -0.10236091200480588,
          -0.36483465007170335,
          -0.09913974803240219
         ],
         "yaxis": "y"
        },
        {
         "customdata": [
          [
           "Familiar. de dia en fin de demana muy colorido, muy limpio y<br>lleno de vida. muchos lugares coloniales maravillosos. la<br>catedral imponente, restaurantes buenos y con mucha vida.<br>hay para todos los presupuestos y gustos. obviamente lo<br>mejor es la comida poblana. desde churros con chocolate<br>hasta tequila con mole o chalupas. bared, restaurantes<br>familiares, entretenimiento para niños. gran lugar para<br>visitar. su historia no envidia a ninguna gran ciudad del<br>mundo."
          ],
          [
           "El mejor hogar. este zoológico es increíble, tiene de casi<br>todas las especies y el concepto que ofrece referente a la<br>vida animal es real, de todos los que he visitado puedo<br>decir que es garantía esta visita, la interacción con las<br>especies es cercana, conocer sobre la especie se vuelve un<br>buen conjunto aprendizaje - diversión ya que también cuenta<br>con idversas actividades, restaurante dentro del parque y<br>muchísimas tiendas para souvenirs y \"botanear\", la limpieza<br>y calidad de las especies me parece adecuada.recomiendo el<br>recorrido en carro propio por comodidad en cuanto a tiempo y<br>espacio."
          ],
          [
           "Más hermosos. los edificios están muy limpias y bien<br>restaurados. simplemente no les gusta las trabajadoras, que<br>tratan de venderte restaurantes, puros, etc."
          ],
          [
           "Todo muy bueno .. restaurante muy limpio y con aire<br>acondicionado. todo estaba muy rico, y viene acompañado de<br>frijoles con caldo, y arroz. pedimos cebiche, bolitas de<br>malanga, boniatos fritos ,cerdo y ropa vieja ,que es la<br>mejor que hemos probado. el precio normal."
          ],
          [
           "Excelente. muy bonito, limpio, agradable y muchas opciones,<br>opciones para todos los gustos. la comida variada y muy<br>rica, para el parque solo pagas estacionamiento."
          ],
          [
           "Plan natural, deportivo, gastronomico, social y espiritual..<br>un excelente plan para cualquier día de la semana que te<br>permite desconectarte del bullicio de la ciudad. en medio de<br>un entorno natural respiras vida y te recargas de energía,<br>un te de coca o un \"carajillo (cafe con aguardiente)\" te dan<br>calor si el frío te golpea. en familia, en pareja, o solo es<br>un excelente plan para grandes y chicos. vista hermosa de la<br>capital colombiana."
          ]
         ],
         "hovertemplate": "Topic=4<br>Label=Positive<br>Dim 1=%{x}<br>Dim 2=%{y}<br>Importancia=%{marker.size}<br>Comentario original=%{customdata[0]}<extra></extra>",
         "legendgroup": "4, Positive",
         "marker": {
          "color": "#FFA15A",
          "size": [
           94.52951080806298,
           169.46517978945167,
           69.58654023376782,
           935.82652926019,
           243.35050126646237,
           121.90569223037345
          ],
          "sizemode": "area",
          "sizeref": 4.052536690623278,
          "symbol": "diamond"
         },
         "mode": "markers",
         "name": "4, Positive",
         "opacity": 0.8,
         "orientation": "v",
         "showlegend": true,
         "textposition": "top center",
         "type": "scatter",
         "x": [
          -0.14320531685124438,
          -0.21509224630910362,
          -0.13109761859906285,
          -0.07100905119752521,
          -0.4274709942656292,
          -0.12789690355343308
         ],
         "xaxis": "x",
         "y": [
          -0.22778034774024272,
          -0.17210109741178437,
          0.10460708298262338,
          -0.04808469136511851,
          0.15151870259946815,
          -0.27791323209675
         ],
         "yaxis": "y"
        },
        {
         "customdata": [
          [
           "Si vas a mèxico...tenès que ir a chichèn itza.. es un lugar<br>que es una de las maravillas del mundo, si o si tenes que<br>ir. es un laugar màs histórico...te cuentan qué pasò<br>ahí...lo único es que tenès que ir con mucha agua, porque<br>por lo general hace bastante calor y terminas<br>exhausto.también llevà bastante cucs...pirque cuando veas<br>las artesanìas que hay ahí, te vas a querer comprar todo.<br>los artesanos, te hacen precio!!!"
          ]
         ],
         "hovertemplate": "Topic=5<br>Label=Positive<br>Dim 1=%{x}<br>Dim 2=%{y}<br>Importancia=%{marker.size}<br>Comentario original=%{customdata[0]}<extra></extra>",
         "legendgroup": "5, Positive",
         "marker": {
          "color": "#19d3f3",
          "size": [
           72.72002583336605
          ],
          "sizemode": "area",
          "sizeref": 4.052536690623278,
          "symbol": "diamond"
         },
         "mode": "markers",
         "name": "5, Positive",
         "opacity": 0.8,
         "orientation": "v",
         "showlegend": true,
         "textposition": "top center",
         "type": "scatter",
         "x": [
          -0.27583273369237576
         ],
         "xaxis": "x",
         "y": [
          -0.30786358925961566
         ],
         "yaxis": "y"
        }
       ],
       "layout": {
        "font": {
         "family": "Arial",
         "size": 12
        },
        "hovermode": "closest",
        "legend": {
         "itemsizing": "constant",
         "title": {
          "text": "Topic, Label"
         },
         "tracegroupgap": 0
        },
        "margin": {
         "t": 60
        },
        "template": {
         "data": {
          "bar": [
           {
            "error_x": {
             "color": "#f2f5fa"
            },
            "error_y": {
             "color": "#f2f5fa"
            },
            "marker": {
             "line": {
              "color": "rgb(17,17,17)",
              "width": 0.5
             },
             "pattern": {
              "fillmode": "overlay",
              "size": 10,
              "solidity": 0.2
             }
            },
            "type": "bar"
           }
          ],
          "barpolar": [
           {
            "marker": {
             "line": {
              "color": "rgb(17,17,17)",
              "width": 0.5
             },
             "pattern": {
              "fillmode": "overlay",
              "size": 10,
              "solidity": 0.2
             }
            },
            "type": "barpolar"
           }
          ],
          "carpet": [
           {
            "aaxis": {
             "endlinecolor": "#A2B1C6",
             "gridcolor": "#506784",
             "linecolor": "#506784",
             "minorgridcolor": "#506784",
             "startlinecolor": "#A2B1C6"
            },
            "baxis": {
             "endlinecolor": "#A2B1C6",
             "gridcolor": "#506784",
             "linecolor": "#506784",
             "minorgridcolor": "#506784",
             "startlinecolor": "#A2B1C6"
            },
            "type": "carpet"
           }
          ],
          "choropleth": [
           {
            "colorbar": {
             "outlinewidth": 0,
             "ticks": ""
            },
            "type": "choropleth"
           }
          ],
          "contour": [
           {
            "colorbar": {
             "outlinewidth": 0,
             "ticks": ""
            },
            "colorscale": [
             [
              0,
              "#0d0887"
             ],
             [
              0.1111111111111111,
              "#46039f"
             ],
             [
              0.2222222222222222,
              "#7201a8"
             ],
             [
              0.3333333333333333,
              "#9c179e"
             ],
             [
              0.4444444444444444,
              "#bd3786"
             ],
             [
              0.5555555555555556,
              "#d8576b"
             ],
             [
              0.6666666666666666,
              "#ed7953"
             ],
             [
              0.7777777777777778,
              "#fb9f3a"
             ],
             [
              0.8888888888888888,
              "#fdca26"
             ],
             [
              1,
              "#f0f921"
             ]
            ],
            "type": "contour"
           }
          ],
          "contourcarpet": [
           {
            "colorbar": {
             "outlinewidth": 0,
             "ticks": ""
            },
            "type": "contourcarpet"
           }
          ],
          "heatmap": [
           {
            "colorbar": {
             "outlinewidth": 0,
             "ticks": ""
            },
            "colorscale": [
             [
              0,
              "#0d0887"
             ],
             [
              0.1111111111111111,
              "#46039f"
             ],
             [
              0.2222222222222222,
              "#7201a8"
             ],
             [
              0.3333333333333333,
              "#9c179e"
             ],
             [
              0.4444444444444444,
              "#bd3786"
             ],
             [
              0.5555555555555556,
              "#d8576b"
             ],
             [
              0.6666666666666666,
              "#ed7953"
             ],
             [
              0.7777777777777778,
              "#fb9f3a"
             ],
             [
              0.8888888888888888,
              "#fdca26"
             ],
             [
              1,
              "#f0f921"
             ]
            ],
            "type": "heatmap"
           }
          ],
          "heatmapgl": [
           {
            "colorbar": {
             "outlinewidth": 0,
             "ticks": ""
            },
            "colorscale": [
             [
              0,
              "#0d0887"
             ],
             [
              0.1111111111111111,
              "#46039f"
             ],
             [
              0.2222222222222222,
              "#7201a8"
             ],
             [
              0.3333333333333333,
              "#9c179e"
             ],
             [
              0.4444444444444444,
              "#bd3786"
             ],
             [
              0.5555555555555556,
              "#d8576b"
             ],
             [
              0.6666666666666666,
              "#ed7953"
             ],
             [
              0.7777777777777778,
              "#fb9f3a"
             ],
             [
              0.8888888888888888,
              "#fdca26"
             ],
             [
              1,
              "#f0f921"
             ]
            ],
            "type": "heatmapgl"
           }
          ],
          "histogram": [
           {
            "marker": {
             "pattern": {
              "fillmode": "overlay",
              "size": 10,
              "solidity": 0.2
             }
            },
            "type": "histogram"
           }
          ],
          "histogram2d": [
           {
            "colorbar": {
             "outlinewidth": 0,
             "ticks": ""
            },
            "colorscale": [
             [
              0,
              "#0d0887"
             ],
             [
              0.1111111111111111,
              "#46039f"
             ],
             [
              0.2222222222222222,
              "#7201a8"
             ],
             [
              0.3333333333333333,
              "#9c179e"
             ],
             [
              0.4444444444444444,
              "#bd3786"
             ],
             [
              0.5555555555555556,
              "#d8576b"
             ],
             [
              0.6666666666666666,
              "#ed7953"
             ],
             [
              0.7777777777777778,
              "#fb9f3a"
             ],
             [
              0.8888888888888888,
              "#fdca26"
             ],
             [
              1,
              "#f0f921"
             ]
            ],
            "type": "histogram2d"
           }
          ],
          "histogram2dcontour": [
           {
            "colorbar": {
             "outlinewidth": 0,
             "ticks": ""
            },
            "colorscale": [
             [
              0,
              "#0d0887"
             ],
             [
              0.1111111111111111,
              "#46039f"
             ],
             [
              0.2222222222222222,
              "#7201a8"
             ],
             [
              0.3333333333333333,
              "#9c179e"
             ],
             [
              0.4444444444444444,
              "#bd3786"
             ],
             [
              0.5555555555555556,
              "#d8576b"
             ],
             [
              0.6666666666666666,
              "#ed7953"
             ],
             [
              0.7777777777777778,
              "#fb9f3a"
             ],
             [
              0.8888888888888888,
              "#fdca26"
             ],
             [
              1,
              "#f0f921"
             ]
            ],
            "type": "histogram2dcontour"
           }
          ],
          "mesh3d": [
           {
            "colorbar": {
             "outlinewidth": 0,
             "ticks": ""
            },
            "type": "mesh3d"
           }
          ],
          "parcoords": [
           {
            "line": {
             "colorbar": {
              "outlinewidth": 0,
              "ticks": ""
             }
            },
            "type": "parcoords"
           }
          ],
          "pie": [
           {
            "automargin": true,
            "type": "pie"
           }
          ],
          "scatter": [
           {
            "marker": {
             "line": {
              "color": "#283442"
             }
            },
            "type": "scatter"
           }
          ],
          "scatter3d": [
           {
            "line": {
             "colorbar": {
              "outlinewidth": 0,
              "ticks": ""
             }
            },
            "marker": {
             "colorbar": {
              "outlinewidth": 0,
              "ticks": ""
             }
            },
            "type": "scatter3d"
           }
          ],
          "scattercarpet": [
           {
            "marker": {
             "colorbar": {
              "outlinewidth": 0,
              "ticks": ""
             }
            },
            "type": "scattercarpet"
           }
          ],
          "scattergeo": [
           {
            "marker": {
             "colorbar": {
              "outlinewidth": 0,
              "ticks": ""
             }
            },
            "type": "scattergeo"
           }
          ],
          "scattergl": [
           {
            "marker": {
             "line": {
              "color": "#283442"
             }
            },
            "type": "scattergl"
           }
          ],
          "scattermapbox": [
           {
            "marker": {
             "colorbar": {
              "outlinewidth": 0,
              "ticks": ""
             }
            },
            "type": "scattermapbox"
           }
          ],
          "scatterpolar": [
           {
            "marker": {
             "colorbar": {
              "outlinewidth": 0,
              "ticks": ""
             }
            },
            "type": "scatterpolar"
           }
          ],
          "scatterpolargl": [
           {
            "marker": {
             "colorbar": {
              "outlinewidth": 0,
              "ticks": ""
             }
            },
            "type": "scatterpolargl"
           }
          ],
          "scatterternary": [
           {
            "marker": {
             "colorbar": {
              "outlinewidth": 0,
              "ticks": ""
             }
            },
            "type": "scatterternary"
           }
          ],
          "surface": [
           {
            "colorbar": {
             "outlinewidth": 0,
             "ticks": ""
            },
            "colorscale": [
             [
              0,
              "#0d0887"
             ],
             [
              0.1111111111111111,
              "#46039f"
             ],
             [
              0.2222222222222222,
              "#7201a8"
             ],
             [
              0.3333333333333333,
              "#9c179e"
             ],
             [
              0.4444444444444444,
              "#bd3786"
             ],
             [
              0.5555555555555556,
              "#d8576b"
             ],
             [
              0.6666666666666666,
              "#ed7953"
             ],
             [
              0.7777777777777778,
              "#fb9f3a"
             ],
             [
              0.8888888888888888,
              "#fdca26"
             ],
             [
              1,
              "#f0f921"
             ]
            ],
            "type": "surface"
           }
          ],
          "table": [
           {
            "cells": {
             "fill": {
              "color": "#506784"
             },
             "line": {
              "color": "rgb(17,17,17)"
             }
            },
            "header": {
             "fill": {
              "color": "#2a3f5f"
             },
             "line": {
              "color": "rgb(17,17,17)"
             }
            },
            "type": "table"
           }
          ]
         },
         "layout": {
          "annotationdefaults": {
           "arrowcolor": "#f2f5fa",
           "arrowhead": 0,
           "arrowwidth": 1
          },
          "autotypenumbers": "strict",
          "coloraxis": {
           "colorbar": {
            "outlinewidth": 0,
            "ticks": ""
           }
          },
          "colorscale": {
           "diverging": [
            [
             0,
             "#8e0152"
            ],
            [
             0.1,
             "#c51b7d"
            ],
            [
             0.2,
             "#de77ae"
            ],
            [
             0.3,
             "#f1b6da"
            ],
            [
             0.4,
             "#fde0ef"
            ],
            [
             0.5,
             "#f7f7f7"
            ],
            [
             0.6,
             "#e6f5d0"
            ],
            [
             0.7,
             "#b8e186"
            ],
            [
             0.8,
             "#7fbc41"
            ],
            [
             0.9,
             "#4d9221"
            ],
            [
             1,
             "#276419"
            ]
           ],
           "sequential": [
            [
             0,
             "#0d0887"
            ],
            [
             0.1111111111111111,
             "#46039f"
            ],
            [
             0.2222222222222222,
             "#7201a8"
            ],
            [
             0.3333333333333333,
             "#9c179e"
            ],
            [
             0.4444444444444444,
             "#bd3786"
            ],
            [
             0.5555555555555556,
             "#d8576b"
            ],
            [
             0.6666666666666666,
             "#ed7953"
            ],
            [
             0.7777777777777778,
             "#fb9f3a"
            ],
            [
             0.8888888888888888,
             "#fdca26"
            ],
            [
             1,
             "#f0f921"
            ]
           ],
           "sequentialminus": [
            [
             0,
             "#0d0887"
            ],
            [
             0.1111111111111111,
             "#46039f"
            ],
            [
             0.2222222222222222,
             "#7201a8"
            ],
            [
             0.3333333333333333,
             "#9c179e"
            ],
            [
             0.4444444444444444,
             "#bd3786"
            ],
            [
             0.5555555555555556,
             "#d8576b"
            ],
            [
             0.6666666666666666,
             "#ed7953"
            ],
            [
             0.7777777777777778,
             "#fb9f3a"
            ],
            [
             0.8888888888888888,
             "#fdca26"
            ],
            [
             1,
             "#f0f921"
            ]
           ]
          },
          "colorway": [
           "#636efa",
           "#EF553B",
           "#00cc96",
           "#ab63fa",
           "#FFA15A",
           "#19d3f3",
           "#FF6692",
           "#B6E880",
           "#FF97FF",
           "#FECB52"
          ],
          "font": {
           "color": "#f2f5fa"
          },
          "geo": {
           "bgcolor": "rgb(17,17,17)",
           "lakecolor": "rgb(17,17,17)",
           "landcolor": "rgb(17,17,17)",
           "showlakes": true,
           "showland": true,
           "subunitcolor": "#506784"
          },
          "hoverlabel": {
           "align": "left"
          },
          "hovermode": "closest",
          "mapbox": {
           "style": "dark"
          },
          "paper_bgcolor": "rgb(17,17,17)",
          "plot_bgcolor": "rgb(17,17,17)",
          "polar": {
           "angularaxis": {
            "gridcolor": "#506784",
            "linecolor": "#506784",
            "ticks": ""
           },
           "bgcolor": "rgb(17,17,17)",
           "radialaxis": {
            "gridcolor": "#506784",
            "linecolor": "#506784",
            "ticks": ""
           }
          },
          "scene": {
           "xaxis": {
            "backgroundcolor": "rgb(17,17,17)",
            "gridcolor": "#506784",
            "gridwidth": 2,
            "linecolor": "#506784",
            "showbackground": true,
            "ticks": "",
            "zerolinecolor": "#C8D4E3"
           },
           "yaxis": {
            "backgroundcolor": "rgb(17,17,17)",
            "gridcolor": "#506784",
            "gridwidth": 2,
            "linecolor": "#506784",
            "showbackground": true,
            "ticks": "",
            "zerolinecolor": "#C8D4E3"
           },
           "zaxis": {
            "backgroundcolor": "rgb(17,17,17)",
            "gridcolor": "#506784",
            "gridwidth": 2,
            "linecolor": "#506784",
            "showbackground": true,
            "ticks": "",
            "zerolinecolor": "#C8D4E3"
           }
          },
          "shapedefaults": {
           "line": {
            "color": "#f2f5fa"
           }
          },
          "sliderdefaults": {
           "bgcolor": "#C8D4E3",
           "bordercolor": "rgb(17,17,17)",
           "borderwidth": 1,
           "tickwidth": 0
          },
          "ternary": {
           "aaxis": {
            "gridcolor": "#506784",
            "linecolor": "#506784",
            "ticks": ""
           },
           "baxis": {
            "gridcolor": "#506784",
            "linecolor": "#506784",
            "ticks": ""
           },
           "bgcolor": "rgb(17,17,17)",
           "caxis": {
            "gridcolor": "#506784",
            "linecolor": "#506784",
            "ticks": ""
           }
          },
          "title": {
           "x": 0.05
          },
          "updatemenudefaults": {
           "bgcolor": "#506784",
           "borderwidth": 0
          },
          "xaxis": {
           "automargin": true,
           "gridcolor": "#283442",
           "linecolor": "#506784",
           "ticks": "",
           "title": {
            "standoff": 15
           },
           "zerolinecolor": "#283442",
           "zerolinewidth": 2
          },
          "yaxis": {
           "automargin": true,
           "gridcolor": "#283442",
           "linecolor": "#506784",
           "ticks": "",
           "title": {
            "standoff": 15
           },
           "zerolinecolor": "#283442",
           "zerolinewidth": 2
          }
         }
        },
        "title": {
         "text": "Cloud <br><sup> Embeddings Visualization and Simple Topic Clustering </sup>",
         "x": 0.5
        },
        "xaxis": {
         "anchor": "y",
         "domain": [
          0,
          1
         ],
         "linecolor": "gray",
         "linewidth": 2,
         "showline": false,
         "showticklabels": false,
         "tickformat": ".2f",
         "ticks": "",
         "title": {
          "text": " "
         }
        },
        "yaxis": {
         "anchor": "x",
         "domain": [
          0,
          1
         ],
         "linecolor": "gray",
         "linewidth": 2,
         "showline": false,
         "showticklabels": false,
         "tickformat": ".2f",
         "ticks": "",
         "title": {
          "text": " "
         }
        }
       }
      }
     },
     "metadata": {},
     "output_type": "display_data"
    }
   ],
   "source": [
    "plot_embeddings(fm, title='Embeddings Visualization and Simple Topic Clustering', save=True)"
   ]
  },
  {
   "cell_type": "code",
   "execution_count": 28,
   "id": "3b498129",
   "metadata": {},
   "outputs": [
    {
     "name": "stdout",
     "output_type": "stream",
     "text": [
      "ok_\n"
     ]
    }
   ],
   "source": [
    "print('ok_')"
   ]
  }
 ],
 "metadata": {
  "kernelspec": {
   "display_name": "Python 3",
   "language": "python",
   "name": "python3"
  },
  "language_info": {
   "codemirror_mode": {
    "name": "ipython",
    "version": 3
   },
   "file_extension": ".py",
   "mimetype": "text/x-python",
   "name": "python",
   "nbconvert_exporter": "python",
   "pygments_lexer": "ipython3",
   "version": "3.12.1"
  }
 },
 "nbformat": 4,
 "nbformat_minor": 5
}
